{
 "cells": [
  {
   "cell_type": "code",
   "execution_count": 47,
   "metadata": {
    "collapsed": true,
    "pycharm": {
     "name": "#%%\n"
    }
   },
   "outputs": [
    {
     "data": {
      "text/plain": "<Figure size 432x288 with 1 Axes>",
      "image/png": "[encoded data removed]"
     },
     "metadata": {
      "needs_background": "light"
     },
     "output_type": "display_data"
    }
   ],
   "source": [
    "import cv2\n",
    "import numpy as np\n",
    "from scipy.spatial.distance import cdist\n",
    "import pandas as pd\n",
    "import matplotlib.pyplot as plt\n",
    "import fracture\n",
    "\n",
    "read = pd.read_excel('C:\\\\Users\\ghrms\\PycharmProjects\\project\\data\\distance_angle\\\\57_output_distance.xlsx')\n",
    "read2 = pd.read_csv('C:\\\\Users\\ghrms\\PycharmProjects\\project\\data\\distance_angle\\\\data.csv', encoding = 'ISO-8859-1')\n",
    "im =np.array(cv2.absdiff(cv2.imread('C:\\\\Users\\ghrms\\PycharmProjects\\project\\data\\distance_angle\\\\ff000001.jpg', cv2.IMREAD_GRAYSCALE ),\n",
    "                         cv2.imread('C:\\\\Users\\ghrms\\PycharmProjects\\project\\data\\distance_angle\\\\ff000057.jpg', cv2.IMREAD_GRAYSCALE )))/255\n",
    "\n",
    "\n",
    "\n",
    "crack_tip_loaction = np.array([[496,1473]])\n",
    "data = np.array(read)\n",
    "tension = np.array(read2)\n",
    "tension_ml = tension[:,6]\n",
    "tension_stress= tension[:,5]\n",
    "ratio = 2/255*0.001 #70픽셀당 2mm , mm to m\n",
    "\n",
    "\n",
    "distance=[]\n",
    "Ml_intencity=[]\n",
    "stress = []\n",
    "K= []\n",
    "\n",
    "for i in data:\n",
    "    theta=i[5]\n",
    "    calculater_location = np.array([[i[3],i[4]]])\n",
    "    distance_value = cdist(calculater_location, crack_tip_loaction)*ratio\n",
    "    distance = np.append(distance, distance_value)\n",
    "    value = np.average(im[int(i[3]):int(i[3]+2),int(i[4]):int(i[4])+2])\n",
    "    idx = (np.abs(tension_ml-value)).argmin()\n",
    "    stress_value = tension_stress[idx]\n",
    "    stress = np.append(stress,stress_value)\n",
    "    Ml_intencity = np.append(Ml_intencity, value)\n",
    "    k = fracture.K_deviator(stress_value, distance_value,theta*np.pi/180)\n",
    "    K= np.append(K,k)\n",
    "\n",
    "#graph part\n",
    "fig, ax1 = plt.subplots()\n",
    "line1 = ax1.plot(data[0:10,1],K[0:10], label=\"contour1\")\n",
    "line2 = ax1.plot(data[10:20,1],K[10:20], label=\"contour2\")\n",
    "line3 = ax1.plot(data[20:30,1],K[20:30], label=\"contour3\")\n",
    "line4 = ax1.plot(data[30:40,1],K[30:40], label=\"contour4\")\n",
    "line5 = ax1.plot(data[40:50,1],K[40:50], label=\"contour5\")\n",
    "lines = line1 + line2 + line3 + line4 + line5\n",
    "labels = [l.get_label() for l in lines]\n",
    "plt.grid()\n",
    "plt.legend(lines, labels, loc=0)\n",
    "plt.ylim(0,200)\n",
    "plt.xlabel('point')\n",
    "plt.ylabel('S.I.F.')\n",
    "plt.savefig('C:\\\\Users\\ghrms\\PycharmProjects\\project\\data\\distance_angle/k그래프.png')\n",
    "plt.show()\n",
    "\n",
    "data_union = {'Contour N.o.': data[:,1], 'point': data[:,2],\n",
    "              'location_y': data[:,3], 'location_x': data[:,4],\n",
    "              'theta': data[:,5], 'distance':distance,\n",
    "              'ml_intencity':Ml_intencity, 'Stress':stress, 'K':K}\n",
    "df = pd.DataFrame(data_union)\n",
    "df.to_excel('C:\\\\Users\\ghrms\\PycharmProjects\\project\\data\\distance_angle\\\\kkk.xlsx')\n"
   ]
  }
 ],
 "metadata": {
  "kernelspec": {
   "display_name": "Python 3",
   "language": "python",
   "name": "python3"
  },
  "language_info": {
   "codemirror_mode": {
    "name": "ipython",
    "version": 2
   },
   "file_extension": ".py",
   "mimetype": "text/x-python",
   "name": "python",
   "nbconvert_exporter": "python",
   "pygments_lexer": "ipython2",
   "version": "2.7.6"
  }
 },
 "nbformat": 4,
 "nbformat_minor": 0
}