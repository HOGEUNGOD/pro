{
 "cells": [
  {
   "cell_type": "code",
   "execution_count": 20,
   "metadata": {
    "collapsed": true,
    "pycharm": {
     "name": "#%%\n"
    }
   },
   "outputs": [
    {
     "data": {
      "text/plain": "<Figure size 432x288 with 1 Axes>",
      "image/png": "[encoded data removed]"
     },
     "metadata": {
      "needs_background": "light"
     },
     "output_type": "display_data"
    }
   ],
   "source": [
    "\"\"\"Plastic zone shape 2method\"\"\"\n",
    "\n",
    "import matplotlib.pyplot as plt\n",
    "import numpy as np\n",
    "\n",
    "\n",
    "theta = np.arange(0, 2*np.pi, .01)[1:]\n",
    "\n",
    "\"\"\"von mises criterion\"\"\"\n",
    "SIF_K1 = 1211\n",
    "yeild_strength = 503\n",
    "von_mises = (1+np.cos(theta)+1.5*np.sin(theta)**2)*(1/(4*np.pi)*(SIF_K1/yeild_strength)**2)\n",
    "tresca = SIF_K1**2/(2*np.pi*yeild_strength**2)*(np.cos(theta/2)*(1+np.sin(theta/2)))**2\n",
    "\n",
    "\n",
    "fig = plt.figure()\n",
    "ax = fig.add_subplot(projection = \"polar\")\n",
    "ax.axis('off')\n",
    "\n",
    "\n",
    "ax.plot(theta, tresca, color=\"tab:blue\", lw=3, label=\"tresca\" )\n",
    "ax.plot(theta, von_mises, color=\"tab:red\", ls=\"--\", lw=3, label=\"von mises\" )\n",
    "ax.tick_params(grid_color=\"white\")\n",
    "angle = np.deg2rad(67.5)\n",
    "ax.legend(loc=\"lower left\",\n",
    "           bbox_to_anchor=(.5 + np.cos(angle)/2, .5 + np.sin(angle)/2))\n",
    "\n",
    "\n",
    "theta_cal = 0\n",
    "von_mises_0 = (1+np.cos(theta_cal)+1.5*np.sin(theta_cal)**2)*(1/(4*np.pi)*(SIF_K1/yeild_strength)**2)\n",
    "tresca_0 = SIF_K1**2/(2*np.pi*yeild_strength**2)*(np.cos(theta_cal/2)*(1+np.sin(theta_cal/2)))**2\n",
    "plt.savefig('models/aa.png', transparent=True, dpi = 1000)\n",
    "plt.show()"
   ]
  },
  {
   "cell_type": "code",
   "execution_count": 15,
   "outputs": [
    {
     "data": {
      "text/plain": "(1211.2184435495858, 0.6866666666666668)"
     },
     "execution_count": 15,
     "metadata": {},
     "output_type": "execute_result"
    }
   ],
   "source": [
    "import fuction\n",
    "\n",
    "number2 = fuction.CTS(20.6,30,14415.34,10)\n",
    "number2.k1()"
   ],
   "metadata": {
    "collapsed": false,
    "pycharm": {
     "name": "#%%\n"
    }
   }
  }
 ],
 "metadata": {
  "kernelspec": {
   "name": "pycharm-5e589b29",
   "language": "python",
   "display_name": "PyCharm (untitled2)"
  },
  "language_info": {
   "codemirror_mode": {
    "name": "ipython",
    "version": 2
   },
   "file_extension": ".py",
   "mimetype": "text/x-python",
   "name": "python",
   "nbconvert_exporter": "python",
   "pygments_lexer": "ipython2",
   "version": "2.7.6"
  }
 },
 "nbformat": 4,
 "nbformat_minor": 0
}