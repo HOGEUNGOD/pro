{
 "cells": [
  {
   "cell_type": "code",
   "execution_count": 125,
   "outputs": [
    {
     "name": "stdout",
     "output_type": "stream",
     "text": [
      "113617.27024144215 1.0\n"
     ]
    },
    {
     "data": {
      "text/plain": "<Figure size 432x288 with 1 Axes>",
      "image/png": "[encoded data removed]"
     },
     "metadata": {
      "needs_background": "light"
     },
     "output_type": "display_data"
    }
   ],
   "source": [
    "import cv2\n",
    "import numpy as np\n",
    "from scipy.spatial.distance import cdist\n",
    "import pandas as pd\n",
    "import matplotlib.pyplot as plt\n",
    "import fracture\n",
    "\n",
    "read = pd.read_excel('data\\distance_angle\\input_distance.xlsx')\n",
    "read2 = pd.read_csv('data/distance_angle/data.csv', encoding = 'ISO-8859-1')\n",
    "im =np.array(cv2.imread('data/distance_angle/ff000057.jpg', cv2.IMREAD_GRAYSCALE ))/255\n",
    "crack_tip_loaction = np.array([[207,614]])\n",
    "data = np.array(read)\n",
    "tension = np.array(read2)\n",
    "tension_ml = tension[:,10]\n",
    "tension_stress= tension[:,11]\n",
    "ratio = 2/70*0.001 #70픽셀당 2mm , mm to m\n",
    "\n",
    "distance=[]\n",
    "Ml_intencity=[]\n",
    "stress = []\n",
    "K= []\n",
    "\n",
    "\n",
    "for i in data:\n",
    "    theta=i[4]\n",
    "    calculater_location = np.array([[i[2],i[3]]])\n",
    "    distance_value = cdist(calculater_location, crack_tip_loaction)*ratio\n",
    "    distance = np.append(distance, distance_value)\n",
    "    value = np.average(im[int(i[2]):int(i[2]+2),int(i[3]):int(i[3])+2])\n",
    "    idx = (np.abs(tension_ml-value)).argmin()\n",
    "    stress_value = tension_stress[idx]\n",
    "    stress = np.append(stress,stress_value)\n",
    "    Ml_intencity = np.append(Ml_intencity, value)\n",
    "    k = fracture.K_deviator(stress_value, distance_value,theta*np.pi/180)\n",
    "    K= np.append(K,k)\n",
    "\n",
    "#graph part\n",
    "fig, ax1 = plt.subplots()\n",
    "line1 = ax1.plot(data[0:10,1],K[0:10], label=\"contour1\")\n",
    "line2 = ax1.plot(data[10:20,1],K[10:20], label=\"contour2\")\n",
    "line3 = ax1.plot(data[20:30,1],K[20:30], label=\"contour3\")\n",
    "line4 = ax1.plot(data[30:40,1],K[30:40], label=\"contour4\")\n",
    "line5 = ax1.plot(data[40:50,1],K[40:50], label=\"contour5\")\n",
    "lines = line1 + line2 + line3 + line4 + line5\n",
    "labels = [l.get_label() for l in lines]\n",
    "plt.grid()\n",
    "plt.legend(lines, labels, loc=0)\n",
    "plt.ylim(0,200)\n",
    "plt.xlabel('point')\n",
    "plt.ylabel('S.I.F.')\n",
    "plt.savefig('data/distance_angle/k그래프.png')\n",
    "plt.show()\n",
    "\n",
    "data_union = {'Contour N.o.': data[:,0], 'point': data[:,1],\n",
    "              'location_y': data[:,2], 'location_x': data[:,3],\n",
    "              'theta': data[:,4], 'distance':distance,\n",
    "              'ml_intencity':Ml_intencity, 'Stress':stress, 'K':K}\n",
    "df = pd.DataFrame(data_union)\n",
    "df.to_excel('data\\distance_angle\\output_distance.xlsx')\n",
    "\n"
   ],
   "metadata": {
    "collapsed": false,
    "pycharm": {
     "name": "#%%\n"
    }
   }
  },
  {
   "cell_type": "code",
   "execution_count": 126,
   "outputs": [
    {
     "name": "stdout",
     "output_type": "stream",
     "text": [
      "145.20000000000002\n"
     ]
    }
   ],
   "source": [
    "#최소자승법\n",
    "import cv2\n",
    "import numpy as np\n",
    "\n",
    "\n",
    "a = np.linspace(0,2000,2001, dtype=int)*0.1\n",
    "l_s_m = []\n",
    "for i in a:\n",
    "    x = np.sum(np.power((K[40:50]-i),2))\n",
    "\n",
    "    l_s_m = np.append(l_s_m,x)\n",
    "\n",
    "l_s_m_index = l_s_m.argmin()\n",
    "print(a[l_s_m_index])"
   ],
   "metadata": {
    "collapsed": false,
    "pycharm": {
     "name": "#%%\n"
    }
   }
  },
  {
   "cell_type": "code",
   "execution_count": 127,
   "outputs": [
    {
     "name": "stdout",
     "output_type": "stream",
     "text": [
      "마우스 이벤트발생, x: 46 y 26\n"
     ]
    },
    {
     "ename": "KeyboardInterrupt",
     "evalue": "",
     "output_type": "error",
     "traceback": [
      "\u001B[1;31m---------------------------------------------------------------------------\u001B[0m",
      "\u001B[1;31mKeyboardInterrupt\u001B[0m                         Traceback (most recent call last)",
      "\u001B[1;32m<ipython-input-127-778e53c57056>\u001B[0m in \u001B[0;36m<module>\u001B[1;34m\u001B[0m\n\u001B[0;32m     25\u001B[0m     \u001B[0mcv2\u001B[0m\u001B[1;33m.\u001B[0m\u001B[0mimshow\u001B[0m\u001B[1;33m(\u001B[0m\u001B[1;34m'image'\u001B[0m\u001B[1;33m,\u001B[0m \u001B[0mimg\u001B[0m\u001B[1;33m)\u001B[0m\u001B[1;33m\u001B[0m\u001B[1;33m\u001B[0m\u001B[0m\n\u001B[0;32m     26\u001B[0m \u001B[1;33m\u001B[0m\u001B[0m\n\u001B[1;32m---> 27\u001B[1;33m     \u001B[0mk\u001B[0m\u001B[1;33m=\u001B[0m\u001B[0mcv2\u001B[0m\u001B[1;33m.\u001B[0m\u001B[0mwaitKey\u001B[0m\u001B[1;33m(\u001B[0m\u001B[1;36m1\u001B[0m\u001B[1;33m)\u001B[0m\u001B[1;33m&\u001B[0m\u001B[1;36m0xFF\u001B[0m\u001B[1;33m\u001B[0m\u001B[1;33m\u001B[0m\u001B[0m\n\u001B[0m\u001B[0;32m     28\u001B[0m     \u001B[1;32mif\u001B[0m \u001B[0mk\u001B[0m \u001B[1;33m==\u001B[0m \u001B[1;36m27\u001B[0m\u001B[1;33m:\u001B[0m\u001B[1;33m\u001B[0m\u001B[1;33m\u001B[0m\u001B[0m\n\u001B[0;32m     29\u001B[0m         \u001B[1;32mfor\u001B[0m \u001B[0mi\u001B[0m \u001B[1;32min\u001B[0m \u001B[0mpoints\u001B[0m\u001B[1;33m:\u001B[0m\u001B[1;33m\u001B[0m\u001B[1;33m\u001B[0m\u001B[0m\n",
      "\u001B[1;31mKeyboardInterrupt\u001B[0m: "
     ]
    }
   ],
   "source": [
    "import cv2\n",
    "import numpy as np\n",
    "import pandas as pd\n",
    "\n",
    "\n",
    "def mouse_callback(event, x, y, flags, param):\n",
    "    if event == cv2.EVENT_LBUTTONDOWN:\n",
    "        points.append([x,y])\n",
    "        print(\"마우스 이벤트발생, x:\", x, \"y\", y)\n",
    "\n",
    "\n",
    "img = np.zeros((100,50))+0.5\n",
    "\n",
    "cv2.namedWindow('image')\n",
    "cv2.setMouseCallback('image', mouse_callback)\n",
    "\n",
    "points = []\n",
    "x=[]\n",
    "y=[]\n",
    "number = []\n",
    "num=9\n",
    "\n",
    "while(True):\n",
    "\n",
    "    cv2.imshow('image', img)\n",
    "\n",
    "    k=cv2.waitKey(1)&0xFF\n",
    "    if k == 27:\n",
    "        for i in points:\n",
    "            num += 1\n",
    "            number = np.append(number, num)\n",
    "            x = np.append(x, i[0])\n",
    "            y = np.append(y, i[1])\n",
    "\n",
    "\n",
    "        break\n",
    "\n",
    "\n",
    "data_union = {'Contour N.o.': number, 'x': x, 'y' :y}\n",
    "df = pd.DataFrame(data_union)\n",
    "df.to_excel('연습용.xlsx')\n",
    "cv2.destroyAllWindows()"
   ],
   "metadata": {
    "collapsed": false,
    "pycharm": {
     "name": "#%%\n"
    }
   }
  },
  {
   "cell_type": "code",
   "execution_count": null,
   "outputs": [],
   "source": [
    "import matplotlib.pyplot as plt\n",
    "import numpy as np\n",
    "import pandas as pd\n",
    "\n",
    "df = pd.read_csv('C:/Users/ghrms/Desktop/실험영상/3점굽힘/Specimen_RawData_1.csv')\n",
    "a = np.array(df['(kgf)'])*-1\n",
    "df['(kgf)']= a\n",
    "\n",
    "b = np.array(df['(mm)'])*-1\n",
    "df['(mm)']= b\n",
    "df.plot('(mm)','(kgf)', legend=None, c = 'black')\n",
    "plt.ylabel('kgf')\n",
    "plt.xlabel('mm')\n",
    "plt.grid()\n",
    "plt.savefig('bending test.png', dpi = 300)"
   ],
   "metadata": {
    "collapsed": false,
    "pycharm": {
     "name": "#%%\n"
    }
   }
  },
  {
   "cell_type": "code",
   "execution_count": null,
   "outputs": [],
   "source": [],
   "metadata": {
    "collapsed": false,
    "pycharm": {
     "name": "#%%\n"
    }
   }
  },
  {
   "cell_type": "code",
   "execution_count": null,
   "outputs": [],
   "source": [
    "import numpy as  np\n",
    "import matplotlib.pyplot as plt\n",
    "import pandas as pd\n",
    "import cv2\n",
    "import os\n",
    "import sys\n",
    "import glob\n",
    "from scipy.spatial.distance import cdist\n",
    "\n",
    "\n",
    "path = './data/distance_angle/'\n",
    "img = glob.glob(path+'/ff*.jpg')\n",
    "if img is None:\n",
    "    print(\"Image read false!\")\n",
    "    sys.exit()\n",
    "print(img)\n",
    "src = cv2.imread(img[0], cv2.IMREAD_GRAYSCALE)/255\n",
    "src1 = cv2.imread(img[1], cv2.IMREAD_GRAYSCALE)/255\n",
    "\n",
    "\n",
    "dst = cv2.absdiff(src,src1)*255\n",
    "_, x = np.shape(dst)\n",
    "\n",
    "\n",
    "cv2.imshow('src', src)\n",
    "cv2.imshow('src1', src1)\n",
    "cv2.imshow('dst',dst)\n",
    "cv2.waitKey()\n",
    "cv2.destroyAllWindows()\n",
    "\n",
    "x = dst[600,:]\n",
    "y = dst[:,1000]\n",
    "plt.plot(np.arange(1920),x)\n",
    "plt.show()\n",
    "plt.plot(np.arange(np.shape(y)[0]),y)\n",
    "plt.show()\n",
    "\n",
    "gas = cv2.GaussianBlur(dst,(0,0), 20)\n",
    "np.max(gas)\n",
    "\n",
    "fig, ax = plt.subplots()\n",
    "ax.imshow(src1,cmap='gray')\n",
    "cs = ax.contour(gas, [k for k in range(2,15)],  colors='black', linewidths = 0.5)"
   ],
   "metadata": {
    "collapsed": false,
    "pycharm": {
     "name": "#%%\n"
    }
   }
  },
  {
   "cell_type": "code",
   "execution_count": null,
   "outputs": [],
   "source": [
    "dat = cs.allsegs\n",
    "dat"
   ],
   "metadata": {
    "collapsed": false,
    "pycharm": {
     "name": "#%%\n"
    }
   }
  },
  {
   "cell_type": "code",
   "execution_count": null,
   "outputs": [],
   "source": [
    "num_levels = len(cs.allsegs)\n",
    "num_element = len(cs.allsegs[0])  # in level 0\n",
    "num_vertices = len(cs.allsegs[0][0])  # of element 0, in level 0\n",
    "num_coord = len(cs.allsegs[0][0][0])\n",
    "\n",
    "print(num_levels, num_element, num_vertices, num_coord)\n",
    "\n",
    "contour= dat[0][0]\n",
    "\n",
    "scatter_X = cs.allsegs[1][0][:,0].flatten()\n",
    "scatter_y = cs.allsegs[1][0][:,1].flatten()\n",
    "#ax.scatter(scatter_X,scatter_y, linewidths=0.1)\n",
    "\n",
    "# distance = cdist(max_point, cs.allsegs[1][0][0])\n",
    "\n",
    "#plt.savefig('./contour.png', dpi=300)"
   ],
   "metadata": {
    "collapsed": false,
    "pycharm": {
     "name": "#%%\n"
    }
   }
  },
  {
   "cell_type": "code",
   "execution_count": null,
   "outputs": [],
   "source": [],
   "metadata": {
    "collapsed": false,
    "pycharm": {
     "name": "#%%\n"
    }
   }
  },
  {
   "cell_type": "code",
   "execution_count": null,
   "outputs": [],
   "source": [
    "import numpy as  np\n",
    "import matplotlib.pyplot as plt\n",
    "import pandas as pd\n",
    "import cv2\n",
    "import os\n",
    "import sys\n",
    "import glob\n",
    "from scipy.spatial.distance import cdist\n",
    "\n",
    "path = 'G:\\experiment data/film/20200916\\img2'\n",
    "img = glob.glob(path+'/ff*.jpg')\n",
    "if not img:\n",
    "    print(\"Image read false!\")\n",
    "    sys.exit()\n",
    "\n",
    "src = cv2.imread(img[0], cv2.IMREAD_GRAYSCALE)/255\n",
    "src1 = cv2.imread(img[601], cv2.IMREAD_GRAYSCALE)/255\n",
    "dst = cv2.absdiff(src,src1)*255\n",
    "\n",
    "\n",
    "\n",
    "fig, ax = plt.subplots(3,3, figsize=(15,10))\n",
    "for i in range(0,3):\n",
    "    for j in range(0,3):\n",
    "        gas_sigma = i*30+j*10+1\n",
    "        gas = cv2.GaussianBlur(dst,(0,0), gas_sigma)\n",
    "        ax[i][j].imshow(src1,cmap='gray')\n",
    "        cs = ax[i][j].contour(gas, [k for k in range(2,int(np.max(gas)))],  colors='black', linewidths = 0.5)\n",
    "        ax[i][j].set_title(str(gas_sigma)+'gas sigma, level max'+str(int(np.max(gas))))\n",
    "# num_levels = len(cs.allsegs)\n",
    "# num_element = len(cs.allsegs[0])  # in level 0\n",
    "# num_vertices = len(cs.allsegs[0][0])  # of element 0, in level 0\n",
    "# num_coord = len(cs.allsegs[0][0][0])\n",
    "#\n",
    "# print(num_levels, num_element, num_vertices, num_coord)\n",
    "#\n",
    "# contour= cs.allsegs[0][0] #맨앞이 레벨별 엘리먼트는 0주고 컨투어빼기\n",
    "#\n",
    "# scatter_X = cs.allsegs[1][0][:,0].flatten()\n",
    "# scatter_y = cs.allsegs[1][0][:,1].flatten()\n",
    "# #ax.scatter(scatter_X,scatter_y, linewidths=0.1)\n",
    "\n",
    "# distance = cdist(max_point, cs.allsegs[1][0][0])\n",
    "\n",
    "plt.savefig('./contour.png')"
   ],
   "metadata": {
    "collapsed": false,
    "pycharm": {
     "name": "#%%\n"
    }
   }
  },
  {
   "cell_type": "code",
   "execution_count": null,
   "outputs": [],
   "source": [
    "import matplotlib.pyplot as plt\n",
    "import pandas as pd\n",
    "import os\n",
    "from scipy.signal import find_peaks\n",
    "import glob\n",
    "\n",
    "path = 'G:\\experiment data/a/'\n",
    "save_path = 'G:\\experiment data/a/'\n",
    "\n",
    "file_list = os.listdir(path)\n",
    "\n",
    "for file_name in file_list:\n",
    "    print(file_name, \"시작!\")\n",
    "    df = pd.read_csv(os.path.join(path, file_name), sep='\\t', header=None)  # encoding='CP949', sep= ''\n",
    "    data = np.array(df)\n",
    "\n",
    "    y = ['y0', 'y1', 'y2', 'y3', 'y4', 'y5', 'y6', 'y7']#, 'y8', 'y9', 'y10', 'y11', 'y12', 'y13', 'y14', 'y15'] #라인 갯수\n",
    "\n",
    "    load = data[:, 8:9]\n",
    "    dis = data[:, 9:10]\n",
    "\n",
    "    for i in range(0,8):\n",
    "        y[i] = data[:, i:i+1]\n",
    "\n",
    "    num = np.shape(data)[0]\n",
    "    x = np.arange(num)\n",
    "\n",
    "    fig, ax1 = plt.subplots()\n",
    "    ax2 = ax1.twinx()\n",
    "\n",
    "    for i in range(0, 8):\n",
    "        ax1.plot(x, y[i], label=i + 1, linewidth=0.1)\n",
    "\n",
    "    # block = dis.flatten() * -1   #displacement 로 피크 잡을시 dis변수사용  load사용하고 싶을시 load변수변경\n",
    "    # peaks, _ = find_peaks(block, distance=60000)\n",
    "    #\n",
    "    # for i in peaks[0:len(peaks) - 1]:\n",
    "    #     print(i)\n",
    "    #     plt.axvspan(i - 15000, i + 15000, alpha=0.1, color='gray')\n",
    "    #\n",
    "    ax2.plot(x, load)\n",
    "    ax2.plot(x, dis)\n",
    "    ax1.set_ylabel('Sample Voltage')\n",
    "    ax2.set_ylabel('Load - Displacement')\n",
    "    ax1.set_xlabel('Time')\n",
    "    ax1.set_ylim(4, 6)\n",
    "    ax2.set_ylim(-10, 0)\n",
    "    ax1.set_ylim()\n",
    "    # ax1.set_xlim(-100000,1400000)\n",
    "\n",
    "    plt.savefig(save_path + '/' + file_name + '.png', dpi=300)\n",
    "    print(file_name, \"완료!\")\n",
    "    plt.close(fig)\n",
    "\n",
    "print('최종 끝')"
   ],
   "metadata": {
    "collapsed": false,
    "pycharm": {
     "name": "#%%import numpy as np\n"
    }
   }
  },
  {
   "cell_type": "code",
   "execution_count": null,
   "outputs": [],
   "source": [
    "import numpy as np\n",
    "import matplotlib.pyplot as plt\n",
    "import pandas as pd\n",
    "import os\n",
    "from scipy.signal import find_peaks\n",
    "import sys\n",
    "\n",
    "##################################################\n",
    "path = 'G:\\experiment data/a/'\n",
    "save_path = 'G:\\experiment data/b/'\n",
    "rate = 500 #받는속도\n",
    "range_front =  100 # 피크 앞뒤로 짜를 갯수\n",
    "range_back = 100#\n",
    "term = 10 #중간에 몇초쉬었는지\n",
    "##################################################\n",
    "\n",
    "file_list = os.listdir(path)\n",
    "count = 1\n",
    "if not file_list:\n",
    "    print('경로확인')\n",
    "    sys.exit()\n",
    "\n",
    "for file_name in file_list:\n",
    "\n",
    "    print(file_name, \"시작!\")\n",
    "    df = pd.read_csv(os.path.join(path, file_name), sep='\\t', header=None)  # encoding='CP949', sep= ''\n",
    "    data = np.array(df)\n",
    "\n",
    "    load = data[:, 8:9]\n",
    "    dis = data[:, 9:10]\n",
    "    x = np.arange(np.shape(load)[0])\n",
    "    block = dis.flatten() * -1   #displacement 로 피크 잡을시 dis변수사용  load사용하고 싶을시 load변수변경\n",
    "    peaks, _ = find_peaks(block, distance= term*rate) #peak 받아냄\n",
    "    peaks = np.delete(peaks,-1) #거리로하다보면 마지막 요소 생기는데 이거 삭제\n",
    "\n",
    "    for i in peaks[0:len(peaks)]: # 첫번째 그래프빼고싶으면 1:len~~\n",
    "        plt.axvspan(i - range_front, i + range_back, alpha=0.1, color='green')\n",
    "        result = data[i-range_front:i+range_back+1 ,:]\n",
    "        np.savetxt(save_path+file_name.split('.')[0]+'_'+str(count)+'.'+file_name.split('.')[1], result, delimiter='\\t', fmt='%4e')\n",
    "        count += 1\n",
    "    plt.plot(block*-1,c = 'black', linewidth=0.5)\n",
    "    plt.plot(peaks, block[peaks]*-1, \"x\", c='red')\n",
    "    plt.savefig(save_path+file_name.split('.')[0]+'check.png', dpi=300)\n",
    "print('끄으으으으으으으읕')"
   ],
   "metadata": {
    "collapsed": false,
    "pycharm": {
     "name": "#%%\n"
    }
   }
  },
  {
   "cell_type": "code",
   "execution_count": 130,
   "outputs": [
    {
     "ename": "TypeError",
     "evalue": "'int' object is not callable",
     "output_type": "error",
     "traceback": [
      "\u001B[1;31m---------------------------------------------------------------------------\u001B[0m",
      "\u001B[1;31mTypeError\u001B[0m                                 Traceback (most recent call last)",
      "\u001B[1;32m<ipython-input-130-2bef6d8cd211>\u001B[0m in \u001B[0;36m<module>\u001B[1;34m\u001B[0m\n\u001B[0;32m      1\u001B[0m \u001B[0mrainbow\u001B[0m\u001B[1;33m=\u001B[0m\u001B[1;33m[\u001B[0m\u001B[1;34m\"빨\"\u001B[0m\u001B[1;33m,\u001B[0m\u001B[1;34m\"주\"\u001B[0m\u001B[1;33m,\u001B[0m\u001B[1;34m\"노\"\u001B[0m\u001B[1;33m,\u001B[0m\u001B[1;34m\"초\"\u001B[0m\u001B[1;33m,\u001B[0m\u001B[1;34m\"파\"\u001B[0m\u001B[1;33m,\u001B[0m\u001B[1;34m\"남\"\u001B[0m\u001B[1;33m,\u001B[0m\u001B[1;34m\"보\"\u001B[0m\u001B[1;33m]\u001B[0m\u001B[1;33m\u001B[0m\u001B[1;33m\u001B[0m\u001B[0m\n\u001B[1;32m----> 2\u001B[1;33m \u001B[1;32mfor\u001B[0m \u001B[0mi\u001B[0m \u001B[1;32min\u001B[0m \u001B[0mrange\u001B[0m\u001B[1;33m(\u001B[0m\u001B[0mlen\u001B[0m\u001B[1;33m(\u001B[0m\u001B[0mrainbow\u001B[0m\u001B[1;33m)\u001B[0m\u001B[1;33m)\u001B[0m\u001B[1;33m:\u001B[0m\u001B[1;33m\u001B[0m\u001B[1;33m\u001B[0m\u001B[0m\n\u001B[0m\u001B[0;32m      3\u001B[0m         \u001B[0mcolor\u001B[0m \u001B[1;33m=\u001B[0m \u001B[0mrainbow\u001B[0m\u001B[1;33m[\u001B[0m\u001B[0mi\u001B[0m\u001B[1;33m]\u001B[0m\u001B[1;33m\u001B[0m\u001B[1;33m\u001B[0m\u001B[0m\n\u001B[0;32m      4\u001B[0m         \u001B[0mprint\u001B[0m\u001B[1;33m(\u001B[0m\u001B[1;34m'{}번째 색은 {}'\u001B[0m\u001B[1;33m.\u001B[0m\u001B[0mformat\u001B[0m\u001B[1;33m(\u001B[0m\u001B[0mi\u001B[0m\u001B[1;33m+\u001B[0m\u001B[1;36m1\u001B[0m\u001B[1;33m,\u001B[0m\u001B[0mcolor\u001B[0m\u001B[1;33m)\u001B[0m\u001B[1;33m)\u001B[0m\u001B[1;33m\u001B[0m\u001B[1;33m\u001B[0m\u001B[0m\n",
      "\u001B[1;31mTypeError\u001B[0m: 'int' object is not callable"
     ]
    }
   ],
   "source": [
    "rainbow=[\"빨\",\"주\",\"노\",\"초\",\"파\",\"남\",\"보\"]\n",
    "for i in range(len(rainbow)):\n",
    "\tcolor = rainbow[i]\n",
    "\tprint('{}번째 색은 {}'.format(i+1,color))"
   ],
   "metadata": {
    "collapsed": false,
    "pycharm": {
     "name": "#%%\n"
    }
   }
  },
  {
   "cell_type": "code",
   "execution_count": 1,
   "outputs": [
    {
     "name": "stdout",
     "output_type": "stream",
     "text": [
      "113617.27024144215 1.0\n"
     ]
    },
    {
     "data": {
      "text/plain": "123.35634679668178"
     },
     "execution_count": 1,
     "metadata": {},
     "output_type": "execute_result"
    }
   ],
   "source": [
    "import fracture\n",
    "\n",
    "A1 = fracture.CTS(1.9708, 3,15.348, 0.3)\n",
    "A1.k1()"
   ],
   "metadata": {
    "collapsed": false,
    "pycharm": {
     "name": "#%%\n"
    }
   }
  },
  {
   "cell_type": "code",
   "execution_count": null,
   "outputs": [],
   "source": [],
   "metadata": {
    "collapsed": false,
    "pycharm": {
     "name": "#%%\n"
    }
   }
  }
 ],
 "metadata": {
  "kernelspec": {
   "name": "python3",
   "language": "python",
   "display_name": "Python 3"
  },
  "language_info": {
   "codemirror_mode": {
    "name": "ipython",
    "version": 2
   },
   "file_extension": ".py",
   "mimetype": "text/x-python",
   "name": "python",
   "nbconvert_exporter": "python",
   "pygments_lexer": "ipython2",
   "version": "2.7.6"
  }
 },
 "nbformat": 4,
 "nbformat_minor": 0
}