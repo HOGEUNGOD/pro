{
 "cells": [
  {
   "cell_type": "code",
   "execution_count": 1,
   "outputs": [
    {
     "data": {
      "text/plain": "<Figure size 432x288 with 1 Axes>",
      "image/png": "[encoded data removed]"
     },
     "metadata": {
      "needs_background": "light"
     },
     "output_type": "display_data"
    }
   ],
   "source": [
    "import cv2\n",
    "import numpy as np\n",
    "from scipy.spatial.distance import cdist\n",
    "import pandas as pd\n",
    "import matplotlib.pyplot as plt\n",
    "import fuction\n",
    "\n",
    "read = pd.read_excel('data\\distance_angle\\input_distance.xlsx')\n",
    "read2 = pd.read_csv('data/distance_angle/data.csv', encoding = 'ISO-8859-1')\n",
    "im =np.array(cv2.imread('data/distance_angle/ff000057.jpg', cv2.IMREAD_GRAYSCALE ))/255\n",
    "crack_tip_loaction = np.array([[207,614]])\n",
    "data = np.array(read)\n",
    "tension = np.array(read2)\n",
    "tension_ml = tension[:,10]\n",
    "tension_stress= tension[:,11]\n",
    "ratio = 2/70*0.001 #70픽셀당 2mm , mm to m\n",
    "\n",
    "distance=[]\n",
    "Ml_intencity=[]\n",
    "stress = []\n",
    "K= []\n",
    "\n",
    "\n",
    "for i in data:\n",
    "    theta=i[4]\n",
    "    calculater_location = np.array([[i[2],i[3]]])\n",
    "    distance_value = cdist(calculater_location, crack_tip_loaction)*ratio\n",
    "    distance = np.append(distance, distance_value)\n",
    "    value = np.average(im[int(i[2]):int(i[2]+2),int(i[3]):int(i[3])+2])\n",
    "    idx = (np.abs(tension_ml-value)).argmin()\n",
    "    stress_value = tension_stress[idx]\n",
    "    stress = np.append(stress,stress_value)\n",
    "    Ml_intencity = np.append(Ml_intencity, value)\n",
    "    k = fuction.K_deviator(stress_value, distance_value,theta*np.pi/180)\n",
    "    K= np.append(K,k)\n",
    "\n",
    "#graph part\n",
    "fig, ax1 = plt.subplots()\n",
    "line1 = ax1.plot(data[0:10,1],K[0:10], label=\"contour1\")\n",
    "line2 = ax1.plot(data[10:20,1],K[10:20], label=\"contour2\")\n",
    "line3 = ax1.plot(data[20:30,1],K[20:30], label=\"contour3\")\n",
    "line4 = ax1.plot(data[30:40,1],K[30:40], label=\"contour4\")\n",
    "line5 = ax1.plot(data[40:50,1],K[40:50], label=\"contour5\")\n",
    "lines = line1 + line2 + line3 + line4 + line5\n",
    "labels = [l.get_label() for l in lines]\n",
    "plt.grid()\n",
    "plt.legend(lines, labels, loc=0)\n",
    "plt.ylim(0,200)\n",
    "plt.xlabel('point')\n",
    "plt.ylabel('S.I.F.')\n",
    "plt.savefig('data/distance_angle/k그래프.png')\n",
    "plt.show()\n",
    "\n",
    "data_union = {'Contour N.o.': data[:,0], 'point': data[:,1],\n",
    "              'location_y': data[:,2], 'location_x': data[:,3],\n",
    "              'theta': data[:,4], 'distance':distance,\n",
    "              'ml_intencity':Ml_intencity, 'Stress':stress, 'K':K}\n",
    "df = pd.DataFrame(data_union)\n",
    "df.to_excel('data\\distance_angle\\output_distance.xlsx')\n",
    "\n"
   ],
   "metadata": {
    "collapsed": false,
    "pycharm": {
     "name": "#%%\n"
    }
   }
  },
  {
   "cell_type": "code",
   "execution_count": 1,
   "outputs": [
    {
     "ename": "NameError",
     "evalue": "name 'K' is not defined",
     "output_type": "error",
     "traceback": [
      "\u001B[1;31m---------------------------------------------------------------------------\u001B[0m",
      "\u001B[1;31mNameError\u001B[0m                                 Traceback (most recent call last)",
      "\u001B[1;32m<ipython-input-1-fe6aa92ea39d>\u001B[0m in \u001B[0;36m<module>\u001B[1;34m\u001B[0m\n\u001B[0;32m      7\u001B[0m \u001B[0ml_s_m\u001B[0m \u001B[1;33m=\u001B[0m \u001B[1;33m[\u001B[0m\u001B[1;33m]\u001B[0m\u001B[1;33m\u001B[0m\u001B[1;33m\u001B[0m\u001B[0m\n\u001B[0;32m      8\u001B[0m \u001B[1;32mfor\u001B[0m \u001B[0mi\u001B[0m \u001B[1;32min\u001B[0m \u001B[0ma\u001B[0m\u001B[1;33m:\u001B[0m\u001B[1;33m\u001B[0m\u001B[1;33m\u001B[0m\u001B[0m\n\u001B[1;32m----> 9\u001B[1;33m     \u001B[0mx\u001B[0m \u001B[1;33m=\u001B[0m \u001B[0mnp\u001B[0m\u001B[1;33m.\u001B[0m\u001B[0msum\u001B[0m\u001B[1;33m(\u001B[0m\u001B[0mnp\u001B[0m\u001B[1;33m.\u001B[0m\u001B[0mpower\u001B[0m\u001B[1;33m(\u001B[0m\u001B[1;33m(\u001B[0m\u001B[0mK\u001B[0m\u001B[1;33m[\u001B[0m\u001B[1;36m40\u001B[0m\u001B[1;33m:\u001B[0m\u001B[1;36m50\u001B[0m\u001B[1;33m]\u001B[0m\u001B[1;33m-\u001B[0m\u001B[0mi\u001B[0m\u001B[1;33m)\u001B[0m\u001B[1;33m,\u001B[0m\u001B[1;36m2\u001B[0m\u001B[1;33m)\u001B[0m\u001B[1;33m)\u001B[0m\u001B[1;33m\u001B[0m\u001B[1;33m\u001B[0m\u001B[0m\n\u001B[0m\u001B[0;32m     10\u001B[0m \u001B[1;33m\u001B[0m\u001B[0m\n\u001B[0;32m     11\u001B[0m     \u001B[0ml_s_m\u001B[0m \u001B[1;33m=\u001B[0m \u001B[0mnp\u001B[0m\u001B[1;33m.\u001B[0m\u001B[0mappend\u001B[0m\u001B[1;33m(\u001B[0m\u001B[0ml_s_m\u001B[0m\u001B[1;33m,\u001B[0m\u001B[0mx\u001B[0m\u001B[1;33m)\u001B[0m\u001B[1;33m\u001B[0m\u001B[1;33m\u001B[0m\u001B[0m\n",
      "\u001B[1;31mNameError\u001B[0m: name 'K' is not defined"
     ]
    }
   ],
   "source": [
    "#최소자승법\n",
    "import cv2\n",
    "import numpy as np\n",
    "\n",
    "\n",
    "a = np.linspace(0,2000,2001, dtype=int)*0.1\n",
    "l_s_m = []\n",
    "for i in a:\n",
    "    x = np.sum(np.power((K[40:50]-i),2))\n",
    "\n",
    "    l_s_m = np.append(l_s_m,x)\n",
    "\n",
    "l_s_m_index = l_s_m.argmin()\n",
    "print(a[l_s_m_index])"
   ],
   "metadata": {
    "collapsed": false,
    "pycharm": {
     "name": "#%%\n"
    }
   }
  },
  {
   "cell_type": "code",
   "execution_count": 8,
   "outputs": [],
   "source": [
    "import cv2\n",
    "import numpy as np\n",
    "import pandas as pd\n",
    "\n",
    "\n",
    "def mouse_callback(event, x, y, flags, param):\n",
    "    if event == cv2.EVENT_LBUTTONDOWN:\n",
    "        points.append([x,y])\n",
    "        print(\"마우스 이벤트발생, x:\", x, \"y\", y)\n",
    "\n",
    "\n",
    "img = np.zeros((100,50))+0.5\n",
    "\n",
    "cv2.namedWindow('image')\n",
    "cv2.setMouseCallback('image', mouse_callback)\n",
    "\n",
    "points = []\n",
    "x=[]\n",
    "y=[]\n",
    "number = []\n",
    "num=9\n",
    "\n",
    "while(True):\n",
    "\n",
    "    cv2.imshow('image', img)\n",
    "\n",
    "    k=cv2.waitKey(1)&0xFF\n",
    "    if k == 27:\n",
    "        for i in points:\n",
    "            num += 1\n",
    "            number = np.append(number, num)\n",
    "            x = np.append(x, i[0])\n",
    "            y = np.append(y, i[1])\n",
    "\n",
    "\n",
    "        break\n",
    "\n",
    "\n",
    "data_union = {'Contour N.o.': number, 'x': x, 'y' :y}\n",
    "df = pd.DataFrame(data_union)\n",
    "df.to_excel('연습용.xlsx')\n",
    "cv2.destroyAllWindows()"
   ],
   "metadata": {
    "collapsed": false,
    "pycharm": {
     "name": "#%%\n"
    }
   }
  }
 ],
 "metadata": {
  "kernelspec": {
   "name": "pycharm-5e589b29",
   "language": "python",
   "display_name": "PyCharm (untitled2)"
  },
  "language_info": {
   "codemirror_mode": {
    "name": "ipython",
    "version": 2
   },
   "file_extension": ".py",
   "mimetype": "text/x-python",
   "name": "python",
   "nbconvert_exporter": "python",
   "pygments_lexer": "ipython2",
   "version": "2.7.6"
  }
 },
 "nbformat": 4,
 "nbformat_minor": 0
}