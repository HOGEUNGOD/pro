{
 "cells": [
  {
   "cell_type": "code",
   "execution_count": 2,
   "outputs": [],
   "source": [
    "import numpy as np\n",
    "from numpy import linalg\n",
    "\n",
    "youngs = 300*10**6\n",
    "poisson= 0.3\n",
    "traction= 1000000\n",
    "density= 1200\n",
    "thickness =  0.002\n",
    "x1,x2,x3,x4 =-1,1,1,-1\n",
    "y1,y2,y3,y4 = -1.5,-1.5,1.5,1.5\n",
    "n, e= 0,0"
   ],
   "metadata": {
    "collapsed": false,
    "pycharm": {
     "name": "#%%\n"
    }
   }
  },
  {
   "cell_type": "code",
   "execution_count": 3,
   "outputs": [],
   "source": [
    "J11 = 0.25*(-(1-n)*x1 + (1-n) * x2 + (1+n) * x3 - (1+n) * x4)\n",
    "J12 = 0.25*(-(1-n)*y1 + (1-n) * y2 + (1+n) * y3 - (1+n) * y4)\n",
    "J21 = 0.25*(-(1-e)*x1 - (1+e) * x2 + (1+e) * x3 + (1-e) * x4)\n",
    "J22 = 0.25*(-(1-e)*y1 + (1+e) * y2 + (1+e) * y3 + (1-e) * y4)"
   ],
   "metadata": {
    "collapsed": false,
    "pycharm": {
     "name": "#%%\n"
    }
   }
  },
  {
   "cell_type": "code",
   "execution_count": 4,
   "outputs": [],
   "source": [
    "J = np.array([[J11, J12],[J21, J22]])\n",
    "detJ = np.linalg.det(J)\n",
    "A = (1/detJ)* np.array([[J22, -J12, 0,0],\n",
    "                        [0,0,-J21,J11],\n",
    "                        [-J21, J11,J22,J12]])\n",
    "G= 0.25 * np.array(d]\\]]])\n"
   ],
   "metadata": {
    "collapsed": false,
    "pycharm": {
     "name": "#%%\n"
    }
   }
  }
 ],
 "metadata": {
  "kernelspec": {
   "display_name": "Python 3",
   "language": "python",
   "name": "python3"
  },
  "language_info": {
   "codemirror_mode": {
    "name": "ipython",
    "version": 2
   },
   "file_extension": ".py",
   "mimetype": "text/x-python",
   "name": "python",
   "nbconvert_exporter": "python",
   "pygments_lexer": "ipython2",
   "version": "2.7.6"
  }
 },
 "nbformat": 4,
 "nbformat_minor": 0
}