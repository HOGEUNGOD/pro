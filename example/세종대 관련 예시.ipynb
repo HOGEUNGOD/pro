{
 "cells": [
  {
   "cell_type": "code",
   "execution_count": null,
   "outputs": [],
   "source": [
    "import numpy as np\n",
    "import matplotlib.pyplot as plt\n",
    "import pandas as pd\n",
    "import os\n",
    "import sys\n",
    "from scipy.signal import savgol_filter\n",
    "\n",
    "################path:엑셀파일 저장된 경로 , save_path: 그래프저장할경로, 그래프로 표시할 라인갯수#################################\n",
    "path = 'E:/'\n",
    "save_path = 'E:/'\n",
    "line_num = 16\n",
    "########################################################################################################################\n",
    "\n",
    "\n",
    "y = ['y0', 'y1', 'y2', 'y3', 'y4', 'y5', 'y6', 'y7', 'y8', 'y9', 'y10', 'y11', 'y12', 'y13', 'y14', 'y15'][0:line_num]\n",
    "file_list = os.listdir(path)\n",
    "if not file_list:\n",
    "    print('경로확인, 경로 지정안되었습니다.')\n",
    "    sys.exit()\n",
    "for file_name in file_list:\n",
    "    if file_name.endswith(\".csv\"):\n",
    "        df = pd.read_csv(os.path.join(path, file_name), sep='\\t', header=None)  # encoding='CP949', sep= ''\n",
    "        data = np.array(df)\n",
    "\n",
    "        if line_num+2 == data.shape[1]:\n",
    "            pass\n",
    "        else:\n",
    "            print('line 갯수를 확인해야합니다.\\n 시스템을 종료합니다')\n",
    "            sys.exit()\n",
    "\n",
    "        load = data[:, len(y):len(y)+1]\n",
    "        dis = data[:, len(y)+1:len(y)+2]\n",
    "\n",
    "        num = np.shape(data)[0]\n",
    "        x = np.arange(num)\n",
    "        if num%2==0:\n",
    "            win_length = num-1\n",
    "        else:\n",
    "            win_length = len(y[i])\n",
    "\n",
    "        fig, ax1 = plt.subplots()\n",
    "        ax2 = ax1.twinx()\n",
    "        for i in range(0, len(y)):\n",
    "            y[i] = data[:, i:i + 1]\n",
    "            # y[i] = savgol_filter(y[i].flatten(),win_length,1)\n",
    "            y[i] = savgol_filter(y[i].flatten(),201,1)\n",
    "\n",
    "            ax1.plot(x, y[i], label=i + 1, linewidth=0.1)\n",
    "        ax2.plot(x, load)\n",
    "        ax2.plot(x, dis)\n",
    "\n",
    "        ##그래프 설정 파트 #################################################\n",
    "        ax1.set_ylabel('Sample Voltage') #y1축 이름\n",
    "        ax2.set_ylabel('Load - Displacement') #y2축 이름\n",
    "        ax1.set_xlabel('Time')    # x 축 이름\n",
    "        ax1.set_ylim(6.8, 6.975)        #y축 스케일조절\n",
    "        ax2.set_ylim(-10, 0)      #y2축 스케일조절\n",
    "        # ax1.set_xlim(0,400)  # x축 스케일 조절\n",
    "\n",
    "        plt.savefig(save_path + '/' + file_name + '.png', dpi=300)\n",
    "        print(file_name, \"완료!\")\n",
    "        plt.close(fig)\n",
    "print('최종 끝')\n",
    "#######"
   ],
   "metadata": {
    "collapsed": false,
    "pycharm": {
     "name": "#%% 필터링하기\n"
    }
   }
  },
  {
   "cell_type": "code",
   "execution_count": null,
   "outputs": [],
   "source": [
    "\"\"\" macro 좌표 입력 \"\"\"\n",
    "\n",
    "import pyautogui\n",
    "import time\n",
    "start = time.time()\n",
    "\n",
    "print(pyautogui.size())\n",
    "print(pyautogui.position())\n",
    "\n",
    "time.time()-start"
   ],
   "metadata": {
    "collapsed": false,
    "pycharm": {
     "name": "#%% 해당 마우스지점 좌표구하기\n"
    }
   }
  },
  {
   "cell_type": "code",
   "execution_count": null,
   "outputs": [],
   "source": [
    "import pyautogui\n",
    "import time\n",
    "\n",
    "f = time.time()\n",
    "for i in range(5):\n",
    "    start = time.time()\n",
    "    pyautogui.click(x=547, y=228) ##창 클릭 후 마우스 커서 위치\n",
    "    pyautogui.press(['backspace']*(i+4))\n",
    "\n",
    "    pyautogui.write(str(i+1)+'.csv') ##파일이름 입력\n",
    "    pyautogui.click(x=61, y=55) ##시작 좌표\n",
    "\n",
    "    time.sleep(2)\n",
    "\n",
    "    pyautogui.click(x=619,y=321,clicks=2, interval=2)\n",
    "    time.sleep(5.3)\n",
    "\n",
    "    print(time.time()-start)\n",
    "\n",
    "print(time.time()-f)"
   ],
   "metadata": {
    "collapsed": false,
    "pycharm": {
     "name": "#%% 마우스매크로\n"
    }
   }
  },
  {
   "cell_type": "code",
   "execution_count": 20,
   "outputs": [
    {
     "name": "stdout",
     "text": [
      "1_1.csv 시작!\n",
      "1check.png 시작!\n"
     ],
     "output_type": "stream"
    },
    {
     "traceback": [
      "\u001b[1;31m---------------------------------------------------------------------------\u001b[0m",
      "\u001b[1;31mParserError\u001b[0m                               Traceback (most recent call last)",
      "\u001b[1;32m<ipython-input-20-f3aa41b77f08>\u001b[0m in \u001b[0;36m<module>\u001b[1;34m\u001b[0m\n\u001b[0;32m     26\u001b[0m \u001b[1;33m\u001b[0m\u001b[0m\n\u001b[0;32m     27\u001b[0m     \u001b[0mprint\u001b[0m\u001b[1;33m(\u001b[0m\u001b[0mfile_name\u001b[0m\u001b[1;33m,\u001b[0m \u001b[1;34m\"시작!\"\u001b[0m\u001b[1;33m)\u001b[0m\u001b[1;33m\u001b[0m\u001b[1;33m\u001b[0m\u001b[0m\n\u001b[1;32m---> 28\u001b[1;33m     \u001b[0mdf\u001b[0m \u001b[1;33m=\u001b[0m \u001b[0mpd\u001b[0m\u001b[1;33m.\u001b[0m\u001b[0mread_csv\u001b[0m\u001b[1;33m(\u001b[0m\u001b[0mos\u001b[0m\u001b[1;33m.\u001b[0m\u001b[0mpath\u001b[0m\u001b[1;33m.\u001b[0m\u001b[0mjoin\u001b[0m\u001b[1;33m(\u001b[0m\u001b[0mpath\u001b[0m\u001b[1;33m,\u001b[0m \u001b[0mfile_name\u001b[0m\u001b[1;33m)\u001b[0m\u001b[1;33m,\u001b[0m \u001b[0msep\u001b[0m\u001b[1;33m=\u001b[0m\u001b[1;34m'\\t'\u001b[0m\u001b[1;33m,\u001b[0m \u001b[0mheader\u001b[0m\u001b[1;33m=\u001b[0m\u001b[1;32mNone\u001b[0m\u001b[1;33m)\u001b[0m  \u001b[1;31m# encoding='CP949', sep= ''\u001b[0m\u001b[1;33m\u001b[0m\u001b[1;33m\u001b[0m\u001b[0m\n\u001b[0m\u001b[0;32m     29\u001b[0m     \u001b[0mdata\u001b[0m \u001b[1;33m=\u001b[0m \u001b[0mnp\u001b[0m\u001b[1;33m.\u001b[0m\u001b[0marray\u001b[0m\u001b[1;33m(\u001b[0m\u001b[0mdf\u001b[0m\u001b[1;33m)\u001b[0m\u001b[1;33m\u001b[0m\u001b[1;33m\u001b[0m\u001b[0m\n\u001b[0;32m     30\u001b[0m \u001b[1;33m\u001b[0m\u001b[0m\n",
      "\u001b[1;32m~\\Anaconda3\\envs\\deep-learning-from-scratch\\lib\\site-packages\\pandas\\io\\parsers.py\u001b[0m in \u001b[0;36mread_csv\u001b[1;34m(filepath_or_buffer, sep, delimiter, header, names, index_col, usecols, squeeze, prefix, mangle_dupe_cols, dtype, engine, converters, true_values, false_values, skipinitialspace, skiprows, skipfooter, nrows, na_values, keep_default_na, na_filter, verbose, skip_blank_lines, parse_dates, infer_datetime_format, keep_date_col, date_parser, dayfirst, cache_dates, iterator, chunksize, compression, thousands, decimal, lineterminator, quotechar, quoting, doublequote, escapechar, comment, encoding, dialect, error_bad_lines, warn_bad_lines, delim_whitespace, low_memory, memory_map, float_precision)\u001b[0m\n\u001b[0;32m    686\u001b[0m     )\n\u001b[0;32m    687\u001b[0m \u001b[1;33m\u001b[0m\u001b[0m\n\u001b[1;32m--> 688\u001b[1;33m     \u001b[1;32mreturn\u001b[0m \u001b[0m_read\u001b[0m\u001b[1;33m(\u001b[0m\u001b[0mfilepath_or_buffer\u001b[0m\u001b[1;33m,\u001b[0m \u001b[0mkwds\u001b[0m\u001b[1;33m)\u001b[0m\u001b[1;33m\u001b[0m\u001b[1;33m\u001b[0m\u001b[0m\n\u001b[0m\u001b[0;32m    689\u001b[0m \u001b[1;33m\u001b[0m\u001b[0m\n\u001b[0;32m    690\u001b[0m \u001b[1;33m\u001b[0m\u001b[0m\n",
      "\u001b[1;32m~\\Anaconda3\\envs\\deep-learning-from-scratch\\lib\\site-packages\\pandas\\io\\parsers.py\u001b[0m in \u001b[0;36m_read\u001b[1;34m(filepath_or_buffer, kwds)\u001b[0m\n\u001b[0;32m    458\u001b[0m \u001b[1;33m\u001b[0m\u001b[0m\n\u001b[0;32m    459\u001b[0m     \u001b[1;32mtry\u001b[0m\u001b[1;33m:\u001b[0m\u001b[1;33m\u001b[0m\u001b[1;33m\u001b[0m\u001b[0m\n\u001b[1;32m--> 460\u001b[1;33m         \u001b[0mdata\u001b[0m \u001b[1;33m=\u001b[0m \u001b[0mparser\u001b[0m\u001b[1;33m.\u001b[0m\u001b[0mread\u001b[0m\u001b[1;33m(\u001b[0m\u001b[0mnrows\u001b[0m\u001b[1;33m)\u001b[0m\u001b[1;33m\u001b[0m\u001b[1;33m\u001b[0m\u001b[0m\n\u001b[0m\u001b[0;32m    461\u001b[0m     \u001b[1;32mfinally\u001b[0m\u001b[1;33m:\u001b[0m\u001b[1;33m\u001b[0m\u001b[1;33m\u001b[0m\u001b[0m\n\u001b[0;32m    462\u001b[0m         \u001b[0mparser\u001b[0m\u001b[1;33m.\u001b[0m\u001b[0mclose\u001b[0m\u001b[1;33m(\u001b[0m\u001b[1;33m)\u001b[0m\u001b[1;33m\u001b[0m\u001b[1;33m\u001b[0m\u001b[0m\n",
      "\u001b[1;32m~\\Anaconda3\\envs\\deep-learning-from-scratch\\lib\\site-packages\\pandas\\io\\parsers.py\u001b[0m in \u001b[0;36mread\u001b[1;34m(self, nrows)\u001b[0m\n\u001b[0;32m   1196\u001b[0m     \u001b[1;32mdef\u001b[0m \u001b[0mread\u001b[0m\u001b[1;33m(\u001b[0m\u001b[0mself\u001b[0m\u001b[1;33m,\u001b[0m \u001b[0mnrows\u001b[0m\u001b[1;33m=\u001b[0m\u001b[1;32mNone\u001b[0m\u001b[1;33m)\u001b[0m\u001b[1;33m:\u001b[0m\u001b[1;33m\u001b[0m\u001b[1;33m\u001b[0m\u001b[0m\n\u001b[0;32m   1197\u001b[0m         \u001b[0mnrows\u001b[0m \u001b[1;33m=\u001b[0m \u001b[0m_validate_integer\u001b[0m\u001b[1;33m(\u001b[0m\u001b[1;34m\"nrows\"\u001b[0m\u001b[1;33m,\u001b[0m \u001b[0mnrows\u001b[0m\u001b[1;33m)\u001b[0m\u001b[1;33m\u001b[0m\u001b[1;33m\u001b[0m\u001b[0m\n\u001b[1;32m-> 1198\u001b[1;33m         \u001b[0mret\u001b[0m \u001b[1;33m=\u001b[0m \u001b[0mself\u001b[0m\u001b[1;33m.\u001b[0m\u001b[0m_engine\u001b[0m\u001b[1;33m.\u001b[0m\u001b[0mread\u001b[0m\u001b[1;33m(\u001b[0m\u001b[0mnrows\u001b[0m\u001b[1;33m)\u001b[0m\u001b[1;33m\u001b[0m\u001b[1;33m\u001b[0m\u001b[0m\n\u001b[0m\u001b[0;32m   1199\u001b[0m \u001b[1;33m\u001b[0m\u001b[0m\n\u001b[0;32m   1200\u001b[0m         \u001b[1;31m# May alter columns / col_dict\u001b[0m\u001b[1;33m\u001b[0m\u001b[1;33m\u001b[0m\u001b[1;33m\u001b[0m\u001b[0m\n",
      "\u001b[1;32m~\\Anaconda3\\envs\\deep-learning-from-scratch\\lib\\site-packages\\pandas\\io\\parsers.py\u001b[0m in \u001b[0;36mread\u001b[1;34m(self, nrows)\u001b[0m\n\u001b[0;32m   2155\u001b[0m     \u001b[1;32mdef\u001b[0m \u001b[0mread\u001b[0m\u001b[1;33m(\u001b[0m\u001b[0mself\u001b[0m\u001b[1;33m,\u001b[0m \u001b[0mnrows\u001b[0m\u001b[1;33m=\u001b[0m\u001b[1;32mNone\u001b[0m\u001b[1;33m)\u001b[0m\u001b[1;33m:\u001b[0m\u001b[1;33m\u001b[0m\u001b[1;33m\u001b[0m\u001b[0m\n\u001b[0;32m   2156\u001b[0m         \u001b[1;32mtry\u001b[0m\u001b[1;33m:\u001b[0m\u001b[1;33m\u001b[0m\u001b[1;33m\u001b[0m\u001b[0m\n\u001b[1;32m-> 2157\u001b[1;33m             \u001b[0mdata\u001b[0m \u001b[1;33m=\u001b[0m \u001b[0mself\u001b[0m\u001b[1;33m.\u001b[0m\u001b[0m_reader\u001b[0m\u001b[1;33m.\u001b[0m\u001b[0mread\u001b[0m\u001b[1;33m(\u001b[0m\u001b[0mnrows\u001b[0m\u001b[1;33m)\u001b[0m\u001b[1;33m\u001b[0m\u001b[1;33m\u001b[0m\u001b[0m\n\u001b[0m\u001b[0;32m   2158\u001b[0m         \u001b[1;32mexcept\u001b[0m \u001b[0mStopIteration\u001b[0m\u001b[1;33m:\u001b[0m\u001b[1;33m\u001b[0m\u001b[1;33m\u001b[0m\u001b[0m\n\u001b[0;32m   2159\u001b[0m             \u001b[1;32mif\u001b[0m \u001b[0mself\u001b[0m\u001b[1;33m.\u001b[0m\u001b[0m_first_chunk\u001b[0m\u001b[1;33m:\u001b[0m\u001b[1;33m\u001b[0m\u001b[1;33m\u001b[0m\u001b[0m\n",
      "\u001b[1;32mpandas\\_libs\\parsers.pyx\u001b[0m in \u001b[0;36mpandas._libs.parsers.TextReader.read\u001b[1;34m()\u001b[0m\n",
      "\u001b[1;32mpandas\\_libs\\parsers.pyx\u001b[0m in \u001b[0;36mpandas._libs.parsers.TextReader._read_low_memory\u001b[1;34m()\u001b[0m\n",
      "\u001b[1;32mpandas\\_libs\\parsers.pyx\u001b[0m in \u001b[0;36mpandas._libs.parsers.TextReader._read_rows\u001b[1;34m()\u001b[0m\n",
      "\u001b[1;32mpandas\\_libs\\parsers.pyx\u001b[0m in \u001b[0;36mpandas._libs.parsers.TextReader._tokenize_rows\u001b[1;34m()\u001b[0m\n",
      "\u001b[1;32mpandas\\_libs\\parsers.pyx\u001b[0m in \u001b[0;36mpandas._libs.parsers.raise_parser_error\u001b[1;34m()\u001b[0m\n",
      "\u001b[1;31mParserError\u001b[0m: Error tokenizing data. C error: Expected 1 fields in line 4, saw 2\n"
     ],
     "ename": "ParserError",
     "evalue": "Error tokenizing data. C error: Expected 1 fields in line 4, saw 2\n",
     "output_type": "error"
    },
    {
     "data": {
      "text/plain": "<Figure size 432x288 with 1 Axes>",
      "image/png": "[encoded data removed]"
     },
     "metadata": {
      "needs_background": "light"
     },
     "output_type": "display_data"
    }
   ],
   "source": [
    "import numpy as np\n",
    "import matplotlib.pyplot as plt\n",
    "import pandas as pd\n",
    "import os\n",
    "from scipy.signal import find_peaks\n",
    "import sys\n",
    "import glob\n",
    "\n",
    "##################################################\n",
    "path = 'E:\\C/'\n",
    "save_path = 'E:\\F/'\n",
    "rate = 500 #받는속도\n",
    "range_front =  1000 # 피크 앞뒤로 짜를 갯수\n",
    "range_back = 1000#\n",
    "term = 10 #중간에 몇초쉬었는지\n",
    "##################################################\n",
    "\n",
    "\n",
    "file_list = os.listdir(path)\n",
    "count = 1\n",
    "if not file_list:\n",
    "    print('경로확인')\n",
    "    sys.exit()\n",
    "\n",
    "for file_name in file_list:\n",
    "\n",
    "    print(file_name, \"시작!\")\n",
    "    df = pd.read_csv(os.path.join(path, file_name), sep='\\t', header=None)  # encoding='CP949', sep= ''\n",
    "    data = np.array(df)\n",
    "\n",
    "    load = data[:, 16:17]\n",
    "    dis = data[:, 17:18]\n",
    "    x = np.arange(np.shape(load)[0])\n",
    "    block = dis.flatten() * -1   #displacement 로 피크 잡을시 dis변수사용  load사용하고 싶을시 load변수변경\n",
    "    peaks, _ = find_peaks(block, distance= term*rate) #peak 받아냄\n",
    "    peaks = np.delete(peaks,-1) #거리로하다보면 마지막 요소 생기는데 이거 삭제\n",
    "    \n",
    "    \"\"\"\"데이터 미리마다 짜르기\"\"\"\n",
    "    for i in range(5):\n",
    "        front_peaks_index, back_peaks_index = peaks[20*(i)], peaks[20*(i+1)-1]\n",
    "        if count == 1:\n",
    "            result = data[:back_peaks_index+term*rate, :]\n",
    "        else:\n",
    "            result = data[front_peaks_index-term*rate:back_peaks_index+term*rate, :]\n",
    "\n",
    "        np.savetxt(save_path+file_name.split('.')[0]+'_'+str(count)+'.'+file_name.split('.')[1], result, delimiter='\\t', fmt='%4e') #numpyarray 만드는 부분\n",
    "        print(front_peaks_index, back_peaks_index)\n",
    "        count += 1\n",
    "\n",
    "    \n",
    "    \"\"\" 피크마다자르기\"\"\"    \n",
    "    # for i in peaks[0:len(peaks)]: # 첫번째 그래프빼고싶으면 1:len~~\n",
    "    #     plt.axvspan(i - range_front, i + range_back, alpha=0.1, color='green')\n",
    "    #     result = data[i-range_front:i+range_back+1 ,:]\n",
    "    #     np.savetxt(save_path+file_name.split('.')[0]+'_'+str(count)+'.'+file_name.split('.')[1], result, delimiter='\\t', fmt='%4e') #numpyarray 만드는 부분\n",
    "    # \n",
    "    #     count += 1\n",
    "\n",
    "    plt.plot(block*-1,c = 'black', linewidth=0.5)\n",
    "    plt.plot(peaks, block[peaks]*-1, \".\", c='red')\n",
    "    plt.savefig(save_path+file_name.split('.')[0]+'check.png', dpi=300)\n",
    "print('끄으으으으으으으읕')"
   ],
   "metadata": {
    "collapsed": false,
    "pycharm": {
     "name": "#%% 피크사이 자르기\n",
     "is_executing": false
    }
   }
  },
  {
   "cell_type": "code",
   "execution_count": 15,
   "outputs": [
    {
     "name": "stdout",
     "text": [
      "[  3191   9529  15872  22275  28567  34906  41221  47540  53859  60216\n",
      "  66489  72828  79192  85525  91845  98150 104461 110842 117168 123468\n",
      " 129817 136145 142499 148852 155180 161542 167874 174182 180543 186847\n",
      " 193197 199540 205876 212208 218546 224903 231265 237603 243918 250300\n",
      " 256631 262977 269348 275687 282024 288321 294676 301063 307398 313749\n",
      " 320096 326412 332750 339059 345390 351733 358061 364434 370774 377127\n",
      " 383493 389806 396158 402536 408868 415183 421510 427845 434161 440480\n",
      " 446863 453191 459537 465838 472182 478517 484851 491199 497505 503862\n",
      " 510172 516505 522859 529183 535512 541849 548160 554490 560804 567088\n",
      " 573454 579789 586120 592436 598778 605098 611474 617813 624157 630511\n",
      " 640006 648474 653980]\n"
     ],
     "output_type": "stream"
    }
   ],
   "source": [
    "print(peaks)"
   ],
   "metadata": {
    "collapsed": false,
    "pycharm": {
     "name": "#%%\n",
     "is_executing": false
    }
   }
  }
 ],
 "metadata": {
  "kernelspec": {
   "name": "pycharm-f8984d95",
   "language": "python",
   "display_name": "PyCharm (deep-learning-from-scratch)"
  },
  "language_info": {
   "codemirror_mode": {
    "name": "ipython",
    "version": 2
   },
   "file_extension": ".py",
   "mimetype": "text/x-python",
   "name": "python",
   "nbconvert_exporter": "python",
   "pygments_lexer": "ipython2",
   "version": "2.7.6"
  },
  "pycharm": {
   "stem_cell": {
    "cell_type": "raw",
    "source": [],
    "metadata": {
     "collapsed": false
    }
   }
  }
 },
 "nbformat": 4,
 "nbformat_minor": 0
}