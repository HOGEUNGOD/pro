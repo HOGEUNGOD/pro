{
 "cells": [
  {
   "cell_type": "code",
   "execution_count": 13,
   "outputs": [
    {
     "name": "stdout",
     "output_type": "stream",
     "text": [
      "1_1.csv 완료!\n",
      "1_10.csv 완료!\n",
      "1_11.csv 완료!\n",
      "1_12.csv 완료!\n",
      "1_13.csv 완료!\n",
      "1_14.csv 완료!\n",
      "1_15.csv 완료!\n",
      "1_16.csv 완료!\n",
      "1_17.csv 완료!\n",
      "1_18.csv 완료!\n",
      "1_19.csv 완료!\n",
      "1_2.csv 완료!\n",
      "1_20.csv 완료!\n",
      "1_3.csv 완료!\n",
      "1_4.csv 완료!\n",
      "1_5.csv 완료!\n",
      "1_6.csv 완료!\n",
      "1_7.csv 완료!\n",
      "1_8.csv 완료!\n",
      "1_9.csv 완료!\n",
      "최종 끝\n"
     ]
    }
   ],
   "source": [
    "import numpy as np\n",
    "import matplotlib.pyplot as plt\n",
    "import pandas as pd\n",
    "import os\n",
    "import glob\n",
    "import sys\n",
    "\n",
    "path = 'G:\\experiment data/b/'\n",
    "save_path = 'G:\\experiment data/a/'\n",
    "\n",
    "file_list = os.listdir(path)\n",
    "\n",
    "if not file_list:\n",
    "    print('경로확인')\n",
    "    sys.exit()\n",
    "\n",
    "for file_name in file_list:\n",
    "\n",
    "    df = pd.read_csv(os.path.join(path, file_name), sep='\\t', header=None)  # encoding='CP949', sep= ''\n",
    "    data = np.array(df)\n",
    "\n",
    "    y = ['y0', 'y1', 'y2', 'y3', 'y4', 'y5', 'y6', 'y7']#, 'y8', 'y9', 'y10', 'y11', 'y12', 'y13', 'y14', 'y15'] #라인 갯수\n",
    "\n",
    "    load = data[:, 8:9]\n",
    "    dis = data[:, 9:10]\n",
    "\n",
    "    for i in range(0,8):\n",
    "        y[i] = data[:, i:i+1]\n",
    "\n",
    "    num = np.shape(data)[0]\n",
    "    x = np.arange(num)\n",
    "\n",
    "    fig, ax1 = plt.subplots()\n",
    "    ax2 = ax1.twinx()\n",
    "\n",
    "    for i in range(0, 8):\n",
    "        ax1.plot(x, y[i], label=i + 1, linewidth=0.1)\n",
    "\n",
    "\n",
    "    ax2.plot(x, load)\n",
    "    ax2.plot(x, dis)\n",
    "    ax1.set_ylabel('Sample Voltage')\n",
    "    ax2.set_ylabel('Load - Displacement')\n",
    "    ax1.set_xlabel('Time')\n",
    "    ax1.set_ylim(4, 6)\n",
    "    ax2.set_ylim(-10, 0)\n",
    "    ax1.set_ylim()\n",
    "    # ax1.set_xlim(-100000,1400000)\n",
    "\n",
    "    plt.savefig(save_path + '/' + file_name + '.png', dpi=300)\n",
    "    print(file_name, \"완료!\")\n",
    "    plt.close(fig)\n",
    "\n",
    "print('최종 끝')"
   ],
   "metadata": {
    "collapsed": false,
    "pycharm": {
     "name": "#%%\n"
    }
   }
  },
  {
   "cell_type": "code",
   "execution_count": 11,
   "outputs": [
    {
     "name": "stdout",
     "output_type": "stream",
     "text": [
      "1.csv 시작!\n",
      "끄으으으으으으으읕\n"
     ]
    },
    {
     "data": {
      "text/plain": "<Figure size 432x288 with 1 Axes>",
      "image/png": "[encoded data removed]"
     },
     "metadata": {
      "needs_background": "light"
     },
     "output_type": "display_data"
    }
   ],
   "source": [
    "import numpy as np\n",
    "import matplotlib.pyplot as plt\n",
    "import pandas as pd\n",
    "import os\n",
    "from scipy.signal import find_peaks\n",
    "import sys\n",
    "import glob\n",
    "\n",
    "##################################################\n",
    "path = 'G:\\experiment data/a/'\n",
    "save_path = 'G:\\experiment data/b/'\n",
    "rate = 500 #받는속도\n",
    "range_front =  500 # 피크 앞뒤로 짜를 갯수\n",
    "range_back = 500#\n",
    "term = 10 #중간에 몇초쉬었는지\n",
    "##################################################\n",
    "\n",
    "\n",
    "file_list = os.listdir(path)\n",
    "count = 1\n",
    "if not file_list:\n",
    "    print('경로확인')\n",
    "    sys.exit()\n",
    "\n",
    "for file_name in file_list:\n",
    "\n",
    "    print(file_name, \"시작!\")\n",
    "    df = pd.read_csv(os.path.join(path, file_name), sep='\\t', header=None)  # encoding='CP949', sep= ''\n",
    "    data = np.array(df)\n",
    "\n",
    "    load = data[:, 8:9]\n",
    "    dis = data[:, 9:10]\n",
    "    x = np.arange(np.shape(load)[0])\n",
    "    block = dis.flatten() * -1   #displacement 로 피크 잡을시 dis변수사용  load사용하고 싶을시 load변수변경\n",
    "    peaks, _ = find_peaks(block, distance= term*rate) #peak 받아냄\n",
    "    peaks = np.delete(peaks,-1) #거리로하다보면 마지막 요소 생기는데 이거 삭제\n",
    "\n",
    "    for i in peaks[0:len(peaks)]: # 첫번째 그래프빼고싶으면 1:len~~\n",
    "        plt.axvspan(i - range_front, i + range_back, alpha=0.1, color='green')\n",
    "        result = data[i-range_front:i+range_back+1 ,:]\n",
    "        np.savetxt(save_path+file_name.split('.')[0]+'_'+str(count)+'.'+file_name.split('.')[1], result, delimiter='\\t', fmt='%4e')\n",
    "        count += 1\n",
    "    plt.plot(block*-1,c = 'black', linewidth=0.5)\n",
    "    plt.plot(peaks, block[peaks]*-1, \"x\", c='red')\n",
    "    plt.savefig(save_path+file_name.split('.')[0]+'check.png', dpi=300)\n",
    "print('끄으으으으으으으읕')"
   ],
   "metadata": {
    "collapsed": false,
    "pycharm": {
     "name": "#%%\n"
    }
   }
  },
  {
   "cell_type": "code",
   "execution_count": 23,
   "outputs": [
    {
     "data": {
      "text/plain": "array([[1.66, 3.17, 3.54, 2.86, 0.66, 0.17, 1.  , 4.  , 9.  ],\n       [3.86, 5.37, 6.74, 8.94, 6.26, 3.09, 1.63, 2.51, 5.97]])"
     },
     "execution_count": 23,
     "metadata": {},
     "output_type": "execute_result"
    }
   ],
   "source": [
    "from scipy.signal import savgol_filter\n",
    "import numpy as np\n",
    "np.set_printoptions(precision=2)  # For compact display.\n",
    "x = np.array([[2, 2, 5, 2, 1, 0, 1, 4, 9],[4,5,7,8,9,0,3,4,5]])\n",
    "savgol_filter(x, 5, 2)"
   ],
   "metadata": {
    "collapsed": false,
    "pycharm": {
     "name": "#%%\n"
    }
   }
  },
  {
   "cell_type": "code",
   "execution_count": 19,
   "outputs": [
    {
     "data": {
      "text/plain": "<Figure size 432x288 with 1 Axes>",
      "image/png": "[encoded data removed]"
     },
     "metadata": {
      "needs_background": "light"
     },
     "output_type": "display_data"
    }
   ],
   "source": [
    "import scipy.signal\n",
    "import numpy as np\n",
    "import matplotlib.pyplot as plt\n",
    "np.random.seed(1)\n",
    "\n",
    "x = np.linspace(0,2*np.pi,100)\n",
    "y = np.sin(x) + np.random.random(100) * 0.2\n",
    "yhat = scipy.signal.savgol_filter(y, 51, 2) # window size 51, polynomial order 3\n",
    "\n",
    "plt.plot(x,y)\n",
    "plt.plot(x,yhat, color='red')\n",
    "plt.show()"
   ],
   "metadata": {
    "collapsed": false,
    "pycharm": {
     "name": "#%%\n"
    }
   }
  },
  {
   "cell_type": "code",
   "execution_count": null,
   "outputs": [],
   "source": [],
   "metadata": {
    "collapsed": false,
    "pycharm": {
     "name": "#%%\n"
    }
   }
  },
  {
   "cell_type": "code",
   "execution_count": 1,
   "outputs": [
    {
     "name": "stdout",
     "output_type": "stream",
     "text": [
      "(17,17)_9.csv 완료!\n",
      "최종 끝\n"
     ]
    }
   ],
   "source": [
    "import numpy as np\n",
    "import matplotlib.pyplot as plt\n",
    "import pandas as pd\n",
    "import os\n",
    "import sys\n",
    "from scipy.signal import savgol_filter\n",
    "\n",
    "################path:엑셀파일 저장된 경로 , save_path: 그래프저장할경로, 그래프로 표시할 라인갯수#################################\n",
    "path = 'E:/abcd/'\n",
    "save_path = 'E:/abcd/'\n",
    "line_num = 16\n",
    "filter_scale = 203\n",
    "order = 1\n",
    "########################################################################################################################\n",
    "\n",
    "\n",
    "y = ['y0', 'y1', 'y2', 'y3', 'y4', 'y5', 'y6', 'y7', 'y8', 'y9', 'y10', 'y11', 'y12', 'y13', 'y14', 'y15'][0:line_num]\n",
    "file_list = os.listdir(path)\n",
    "if not file_list:\n",
    "    print('경로확인, 경로 지정안되었습니다.')\n",
    "    sys.exit()\n",
    "for file_name in file_list:\n",
    "    if file_name.endswith(\".csv\"):\n",
    "        df = pd.read_csv(os.path.join(path, file_name), sep='\\t', header=None)  # encoding='CP949', sep= ''\n",
    "        data = np.array(df)\n",
    "\n",
    "        if line_num+2 == data.shape[1]:\n",
    "            pass\n",
    "        else:\n",
    "            print('line 갯수를 확인해야합니다.\\n 시스템을 종료합니다')\n",
    "            sys.exit()\n",
    "\n",
    "        save_data = []\n",
    "        load = data[:, len(y):len(y)+1]\n",
    "        dis = data[:, len(y)+1:len(y)+2]\n",
    "\n",
    "        num = np.shape(data)[0]\n",
    "        x = np.arange(num)\n",
    "        # if num%2==0:\n",
    "        #     win_length = num-1\n",
    "        # else:\n",
    "        #     win_length = len(y[i])\n",
    "\n",
    "        # fig, ax1 = plt.subplots()\n",
    "        # ax2 = ax1.twinx()\n",
    "        y[0] = savgol_filter(y[0].flatten(),filter_scale,order)\n",
    "        save_data=y[0]\n",
    "\n",
    "        for i in range(1, len(y)):\n",
    "            y[i] = data[:, i:i + 1]\n",
    "            # y[i] = savgol_filter(y[i].flatten(),win_length,1)\n",
    "            y[i] = savgol_filter(y[i].flatten(),101,1)\n",
    "            np.vstack((save_data, y[i]))\n",
    "        #     ax1.plot(x, y[i], label=i + 1, linewidth=0.1)\n",
    "        np.vstack((save_data,load))\n",
    "        np.vstack((save_data,dis))\n",
    "        np.savetxt(save_path + '/' + file_name + '.csv', save_data.T, delimiter='\\t')\n",
    "\n",
    "        # ax2.plot(x, load)\n",
    "        # ax2.plot(x, dis)\n",
    "\n",
    "        # ##그래프 설정 파트 #################################################\n",
    "        # ax1.set_ylabel('Sample Voltage') #y1축 이름\n",
    "        # ax2.set_ylabel('Load - Displacement') #y2축 이름\n",
    "        # ax1.set_xlabel('Time')    # x 축 이름\n",
    "        # ax1.set_ylim(6.8, 6.975)        #y축 스케일조절\n",
    "        # ax2.set_ylim(-10, 0)      #y2축 스케일조절\n",
    "        # # ax1.set_xlim(0,400)  # x축 스케일 조절\n",
    "        #\n",
    "        # plt.savefig(save_path + '/' + file_name + '.png', dpi=300)\n",
    "        # print(file_name, \"완료!\")\n",
    "        # plt.close(fig)\n",
    "\n",
    "\n",
    "print('최종 끝')"
   ],
   "metadata": {
    "collapsed": false,
    "pycharm": {
     "name": "#%%\n"
    }
   }
  },
  {
   "cell_type": "code",
   "execution_count": 13,
   "outputs": [
    {
     "name": "stdout",
     "output_type": "stream",
     "text": [
      "6000\n"
     ]
    },
    {
     "data": {
      "text/plain": "array([6.92 , 6.922, 6.921, ..., 6.924, 6.923, 6.923])"
     },
     "execution_count": 13,
     "metadata": {},
     "output_type": "execute_result"
    }
   ],
   "source": [
    "print(len(y[0]))\n",
    "y[0].flatten()"
   ],
   "metadata": {
    "collapsed": false,
    "pycharm": {
     "name": "#%%\n"
    }
   }
  },
  {
   "cell_type": "code",
   "execution_count": null,
   "outputs": [],
   "source": [
    "import numpy as np\n",
    "import matplotlib.pyplot as plt\n",
    "import pandas as pd\n",
    "import os\n",
    "import sys\n",
    "from scipy.signal import savgol_filter\n",
    "\n",
    "################path:엑셀파일 저장된 경로 , save_path: 그래프저장할경로, 그래프로 표시할 라인갯수#################################\n",
    "path = 'E:/abcd/'\n",
    "save_path = 'E:/abcd/'\n",
    "line_num = 16\n",
    "filter_scale = 203\n",
    "order = 1\n",
    "########################################################################################################################\n",
    "\n",
    "\n",
    "y = ['y0', 'y1', 'y2', 'y3', 'y4', 'y5', 'y6', 'y7', 'y8', 'y9', 'y10', 'y11', 'y12', 'y13', 'y14', 'y15'][0:line_num]\n",
    "file_list = os.listdir(path)\n",
    "if not file_list:\n",
    "    print('경로확인, 경로 지정안되었습니다.')\n",
    "    sys.exit()\n",
    "for file_name in file_list:\n",
    "    if file_name.endswith(\".csv\"):\n",
    "        df = pd.read_csv(os.path.join(path, file_name), sep='\\t', header=None)  # encoding='CP949', sep= ''\n",
    "        data = np.array(df)\n",
    "\n",
    "        if line_num+2 == data.shape[1]:\n",
    "            pass\n",
    "        else:\n",
    "            print('line 갯수를 확인해야합니다.\\n 시스템을 종료합니다')\n",
    "            sys.exit()\n",
    "\n",
    "        save_data = []\n",
    "        load = data[:, len(y):len(y)+1]\n",
    "        dis = data[:, len(y)+1:len(y)+2]\n",
    "\n",
    "        num = np.shape(data)[0]\n",
    "        x = np.arange(num)\n",
    "        # if num%2==0:\n",
    "        #     win_length = num-1\n",
    "        # else:\n",
    "        #     win_length = len(y[i])\n",
    "\n",
    "        # fig, ax1 = plt.subplots()\n",
    "        # ax2 = ax1.twinx()\n",
    "        y[0] = savgol_filter(y[0].flatten(),filter_scale,order)\n",
    "        save_data=y[0]\n",
    "\n",
    "        for i in range(1, len(y)):\n",
    "            y[i] = data[:, i:i + 1]\n",
    "            # y[i] = savgol_filter(y[i].flatten(),win_length,1)\n",
    "            y[i] = savgol_filter(y[i].flatten(),101,1)\n",
    "            np.vstack((save_data, y[i]))\n",
    "        #     ax1.plot(x, y[i], label=i + 1, linewidth=0.1)\n",
    "        np.vstack((save_data,load))\n",
    "        np.vstack((save_data,dis))\n",
    "        np.savetxt(save_path + '/' + file_name + '.csv', save_data.T, delimiter='\\t')\n",
    "\n",
    "        # ax2.plot(x, load)\n",
    "        # ax2.plot(x, dis)\n",
    "\n",
    "        # ##그래프 설정 파트 #################################################\n",
    "        # ax1.set_ylabel('Sample Voltage') #y1축 이름\n",
    "        # ax2.set_ylabel('Load - Displacement') #y2축 이름\n",
    "        # ax1.set_xlabel('Time')    # x 축 이름\n",
    "        # ax1.set_ylim(6.8, 6.975)        #y축 스케일조절\n",
    "        # ax2.set_ylim(-10, 0)      #y2축 스케일조절\n",
    "        # # ax1.set_xlim(0,400)  # x축 스케일 조절\n",
    "        #\n",
    "        # plt.savefig(save_path + '/' + file_name + '.png', dpi=300)\n",
    "        # print(file_name, \"완료!\")\n",
    "        # plt.close(fig)\n",
    "\n",
    "\n",
    "print('최종 끝')"
   ],
   "metadata": {
    "collapsed": false,
    "pycharm": {
     "name": "#%%\n"
    }
   }
  }
 ],
 "metadata": {
  "kernelspec": {
   "display_name": "Python 3",
   "language": "python",
   "name": "python3"
  },
  "language_info": {
   "codemirror_mode": {
    "name": "ipython",
    "version": 2
   },
   "file_extension": ".py",
   "mimetype": "text/x-python",
   "name": "python",
   "nbconvert_exporter": "python",
   "pygments_lexer": "ipython2",
   "version": "2.7.6"
  }
 },
 "nbformat": 4,
 "nbformat_minor": 0
}