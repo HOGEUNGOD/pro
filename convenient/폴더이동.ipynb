{
 "cells": [
  {
   "cell_type": "code",
   "execution_count": 1,
   "outputs": [
    {
     "data": {
      "text/plain": "['C:\\\\Users\\\\Mechano_2',\n 'C:\\\\Users\\\\Mechano_2\\\\anaconda3\\\\envs\\\\final\\\\python37.zip',\n 'C:\\\\Users\\\\Mechano_2\\\\anaconda3\\\\envs\\\\final\\\\DLLs',\n 'C:\\\\Users\\\\Mechano_2\\\\anaconda3\\\\envs\\\\final\\\\lib',\n 'C:\\\\Users\\\\Mechano_2\\\\anaconda3\\\\envs\\\\final',\n '',\n 'C:\\\\Users\\\\Mechano_2\\\\anaconda3\\\\envs\\\\final\\\\lib\\\\site-packages',\n 'C:\\\\Users\\\\Mechano_2\\\\anaconda3\\\\envs\\\\final\\\\lib\\\\site-packages\\\\win32',\n 'C:\\\\Users\\\\Mechano_2\\\\anaconda3\\\\envs\\\\final\\\\lib\\\\site-packages\\\\win32\\\\lib',\n 'C:\\\\Users\\\\Mechano_2\\\\anaconda3\\\\envs\\\\final\\\\lib\\\\site-packages\\\\Pythonwin',\n 'C:\\\\Users\\\\Mechano_2\\\\anaconda3\\\\envs\\\\final\\\\lib\\\\site-packages\\\\IPython\\\\extensions',\n 'C:\\\\Users\\\\Mechano_2\\\\.ipython',\n 'C:\\\\Users\\\\Mechano_2\\\\PycharmProjects\\\\pro']"
     },
     "execution_count": 1,
     "metadata": {},
     "output_type": "execute_result"
    }
   ],
   "source": [
    "import sys\n",
    "sys.path.append(r'C:\\Users\\Mechano_2\\PycharmProjects\\pro')\n",
    "sys.path"
   ],
   "metadata": {
    "collapsed": false,
    "pycharm": {
     "name": "#%%\n"
    }
   }
  },
  {
   "cell_type": "code",
   "execution_count": 1,
   "metadata": {
    "collapsed": true,
    "pycharm": {
     "name": "#%%\n"
    }
   },
   "outputs": [],
   "source": [
    "import shutil\n",
    "import glob\n",
    "\n",
    "list = glob.glob(r'E:\\experiment data\\aluminum\\2021-07-27_tension\\64tension_1_ver01\\img\\*.jpg')\n",
    "dic_path= r'E:\\experiment data\\aluminum\\2021-07-27_tension\\64tension_1_ver01\\DIC_img'\n",
    "for i in range(36):\n",
    "    shutil.copy(list[i*500], dic_path)"
   ]
  }
 ],
 "metadata": {
  "kernelspec": {
   "name": "python3",
   "language": "python",
   "display_name": "Python 3"
  },
  "language_info": {
   "codemirror_mode": {
    "name": "ipython",
    "version": 2
   },
   "file_extension": ".py",
   "mimetype": "text/x-python",
   "name": "python",
   "nbconvert_exporter": "python",
   "pygments_lexer": "ipython2",
   "version": "2.7.6"
  }
 },
 "nbformat": 4,
 "nbformat_minor": 0
}