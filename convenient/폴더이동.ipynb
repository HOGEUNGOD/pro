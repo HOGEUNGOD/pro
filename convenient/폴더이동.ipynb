{
 "cells": [
  {
   "cell_type": "code",
   "execution_count": 1,
   "outputs": [
    {
     "data": {
      "text/plain": "['C:\\\\Users\\\\Mechano_2',\n 'C:\\\\Users\\\\Mechano_2\\\\anaconda3\\\\envs\\\\final\\\\python37.zip',\n 'C:\\\\Users\\\\Mechano_2\\\\anaconda3\\\\envs\\\\final\\\\DLLs',\n 'C:\\\\Users\\\\Mechano_2\\\\anaconda3\\\\envs\\\\final\\\\lib',\n 'C:\\\\Users\\\\Mechano_2\\\\anaconda3\\\\envs\\\\final',\n '',\n 'C:\\\\Users\\\\Mechano_2\\\\anaconda3\\\\envs\\\\final\\\\lib\\\\site-packages',\n 'C:\\\\Users\\\\Mechano_2\\\\anaconda3\\\\envs\\\\final\\\\lib\\\\site-packages\\\\win32',\n 'C:\\\\Users\\\\Mechano_2\\\\anaconda3\\\\envs\\\\final\\\\lib\\\\site-packages\\\\win32\\\\lib',\n 'C:\\\\Users\\\\Mechano_2\\\\anaconda3\\\\envs\\\\final\\\\lib\\\\site-packages\\\\Pythonwin',\n 'C:\\\\Users\\\\Mechano_2\\\\anaconda3\\\\envs\\\\final\\\\lib\\\\site-packages\\\\IPython\\\\extensions',\n 'C:\\\\Users\\\\Mechano_2\\\\.ipython',\n 'C:\\\\Users\\\\Mechano_2\\\\PycharmProjects\\\\pro']"
     },
     "execution_count": 1,
     "metadata": {},
     "output_type": "execute_result"
    }
   ],
   "source": [
    "import sys\n",
    "sys.path.append(r'C:\\Users\\Mechano_2\\PycharmProjects\\pro')\n",
    "sys.path"
   ],
   "metadata": {
    "collapsed": false,
    "pycharm": {
     "name": "#%%\n"
    }
   }
  },
  {
   "cell_type": "code",
   "execution_count": 4,
   "metadata": {
    "collapsed": true,
    "pycharm": {
     "name": "#%%\n"
    }
   },
   "outputs": [
    {
     "ename": "IndexError",
     "evalue": "list index out of range",
     "output_type": "error",
     "traceback": [
      "\u001B[1;31m---------------------------------------------------------------------------\u001B[0m",
      "\u001B[1;31mIndexError\u001B[0m                                Traceback (most recent call last)",
      "\u001B[1;32m<ipython-input-4-4a622b5af17b>\u001B[0m in \u001B[0;36m<module>\u001B[1;34m\u001B[0m\n\u001B[0;32m      5\u001B[0m \u001B[0mdic_path\u001B[0m\u001B[1;33m=\u001B[0m \u001B[1;34mr'E:\\experiment data\\Epoxy_ml\\2021-06-04\\0.5mmsec_2\\DIC_img'\u001B[0m\u001B[1;33m\u001B[0m\u001B[1;33m\u001B[0m\u001B[0m\n\u001B[0;32m      6\u001B[0m \u001B[1;32mfor\u001B[0m \u001B[0mi\u001B[0m \u001B[1;32min\u001B[0m \u001B[0mrange\u001B[0m\u001B[1;33m(\u001B[0m\u001B[1;36m100\u001B[0m\u001B[1;33m)\u001B[0m\u001B[1;33m:\u001B[0m\u001B[1;33m\u001B[0m\u001B[1;33m\u001B[0m\u001B[0m\n\u001B[1;32m----> 7\u001B[1;33m     \u001B[0mshutil\u001B[0m\u001B[1;33m.\u001B[0m\u001B[0mcopy\u001B[0m\u001B[1;33m(\u001B[0m\u001B[0mlist\u001B[0m\u001B[1;33m[\u001B[0m\u001B[0mi\u001B[0m\u001B[1;33m*\u001B[0m\u001B[1;36m70\u001B[0m\u001B[1;33m]\u001B[0m\u001B[1;33m,\u001B[0m \u001B[0mdic_path\u001B[0m\u001B[1;33m)\u001B[0m\u001B[1;33m\u001B[0m\u001B[1;33m\u001B[0m\u001B[0m\n\u001B[0m",
      "\u001B[1;31mIndexError\u001B[0m: list index out of range"
     ]
    }
   ],
   "source": [
    "import shutil\n",
    "import glob\n",
    "\n",
    "list = glob.glob(r'E:\\experiment data\\Epoxy_ml\\2021-06-04\\0.5mmsec_2\\img\\*.jpg')\n",
    "dic_path= r'E:\\experiment data\\Epoxy_ml\\2021-06-04\\0.5mmsec_2\\DIC_img'\n",
    "for i in range(100):\n",
    "    shutil.copy(list[i*70], dic_path)"
   ]
  }
 ],
 "metadata": {
  "kernelspec": {
   "name": "python3",
   "language": "python",
   "display_name": "Python 3"
  },
  "language_info": {
   "codemirror_mode": {
    "name": "ipython",
    "version": 2
   },
   "file_extension": ".py",
   "mimetype": "text/x-python",
   "name": "python",
   "nbconvert_exporter": "python",
   "pygments_lexer": "ipython2",
   "version": "2.7.6"
  }
 },
 "nbformat": 4,
 "nbformat_minor": 0
}