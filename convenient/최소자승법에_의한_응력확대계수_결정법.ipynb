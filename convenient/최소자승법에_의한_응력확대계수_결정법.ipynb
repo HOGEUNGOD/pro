{
 "cells": [
  {
   "cell_type": "code",
   "execution_count": 213,
   "metadata": {
    "collapsed": true,
    "pycharm": {
     "name": "#%%\n"
    }
   },
   "outputs": [
    {
     "name": "stdout",
     "output_type": "stream",
     "text": [
      "[ 56.    -12.     -0.375]\n",
      "[ -9.       -22.5        1.015625]\n",
      "[0.9073469345448947, -1.4186784686260174]\n"
     ]
    },
    {
     "data": {
      "text/plain": "<Figure size 432x288 with 1 Axes>",
      "image/png": "[encoded data removed]"
     },
     "metadata": {
      "needs_background": "light"
     },
     "output_type": "display_data"
    }
   ],
   "source": [
    "import numpy as np\n",
    "import DIC.DIC as DIC\n",
    "import matplotlib.pyplot as plt\n",
    "\n",
    "class G():\n",
    "    def __init__(self, K1, K2, F_STRESS, r, theta):\n",
    "        K1 = K1\n",
    "        K2 = K2\n",
    "        F_STRESS = F_STRESS\n",
    "        r = r\n",
    "        theta = np.deg2rad(theta)\n",
    "\n",
    "    def g(self, effective_strain):\n",
    "        result = 1/(2*pi*r) * ((K1*sin(theta)+ 2*K2*cos(theta))**2 +(K2*sin(theta)**2)) \\\n",
    "                 + 2 * F_STRESS / (sqrt(2*pi*r))*(K1*sin(1+2*cos(theta)) + K2*(1+2*cos(theta)**2+cos(theta))) \\\n",
    "                 + F_STRESS**2 - effective_strain\n",
    "        return result\n",
    "\n",
    "    def delta_k1(self):\n",
    "        result = (K1*sin(theta)+2*K2*cos(theta)) / (pi * r) \\\n",
    "                 + (sqrt(2)*F_STRESS*(2*cos(theta)+1)*sin(theta/2)*sin(theta))/sqrt(pi*r)\n",
    "        return result\n",
    "\n",
    "    def delta_k2(self):\n",
    "        result = (2*K2*sin(theta)**2 + 4*(K1*sin(theta)+ 2*K2*cos(theta))*cos(theta))/(2*pi*r) \\\n",
    "                 + (sqrt(2)*F_STRESS*(2*cos(theta)**2 + cos(theta)+1)*sin(theta/2))/sqrt(pi*r)\n",
    "        return result\n",
    "\n",
    "    def delta_stress(self):\n",
    "        result = 2*F_STRESS + ( sqrt(2)* sin(theta/2)* (K1 * (2*cos(theta)+1)*sin(theta) + K2*(2*cos(theta)**2 +cos(theta) +1)))/sqrt(pi*r)\n",
    "        return result"
   ]
  },
  {
   "cell_type": "code",
   "execution_count": null,
   "outputs": [],
   "source": [
    "iteration = 10\n",
    "youngs_modulus = 71700\n",
    "poisson_ratio = 0.33\n",
    "\n",
    "K1, K2, F_STRESS= 100,100,100\n",
    "gk_list=[]\n",
    "\n",
    "for i in range(iteration):\n",
    "    A_matrix = [[0,0,0]]\n",
    "    G_matrix = [[0]]\n",
    "    for x, y, degree, rho in location:\n",
    "\n",
    "\n",
    "        gk = G(K1,K2,F_STRESS,rho, degree)\n",
    "        A_matrix = vstack((A_matrix,[gk.delta_k1(), gk.delta_k2(), gk.delta_stress()]))\n",
    "        G_matrix = vstack((G_matrix,[gk.g(sigma_effective)]))\n",
    "    A_matrix = -A_matrix[1:,]\n",
    "    G_matrix = G_matrix[1:,]\n",
    "    delta_matrix = dot(linalg.inv(dot(A_matrix.transpose(), A_matrix)),dot(A_matrix.transpose(),G_matrix)).flatten()\n",
    "    gk_list.append(average(G_matrix))\n",
    "    K1 = K1+delta_matrix[0]\n",
    "    K2 = K2+delta_matrix[1]\n",
    "    F_STRESS = F_STRESS + delta_matrix[2]\n",
    "\n",
    "print(K1,K2, F_STRESS)\n",
    "plt.plot(arange(iteration),gk_list)\n",
    "print(gk_list)\n"
   ],
   "metadata": {
    "collapsed": false,
    "pycharm": {
     "name": "#%%\n"
    }
   }
  }
 ],
 "metadata": {
  "kernelspec": {
   "display_name": "Python 3",
   "language": "python",
   "name": "python3"
  },
  "language_info": {
   "codemirror_mode": {
    "name": "ipython",
    "version": 2
   },
   "file_extension": ".py",
   "mimetype": "text/x-python",
   "name": "python",
   "nbconvert_exporter": "python",
   "pygments_lexer": "ipython2",
   "version": "2.7.6"
  }
 },
 "nbformat": 4,
 "nbformat_minor": 0
}