{
 "cells": [
  {
   "cell_type": "code",
   "execution_count": 9,
   "metadata": {
    "collapsed": true,
    "pycharm": {
     "name": "#%%\n"
    }
   },
   "outputs": [],
   "source": [
    "import numpy as np\n",
    "import DIC.DIC as dic\n",
    "import matplotlib.pyplot as plt\n",
    "from matplotlib.gridspec import GridSpec\n",
    "import cv2\n",
    "from scipy.signal import savgol_filter\n",
    "path = r'G:\\AL IMAGE\\CTS_UVoff_mobile'\n",
    "save_path = r'G:\\AL IMAGE'\n",
    "image = dic.load_file(path)\n",
    "\n",
    "y_point = 204\n",
    "x_point = 50\n",
    "\n",
    "\n",
    "# ml_avg = savgol_filter(ml_a[:9438],2001,1)\n",
    "\n",
    "for key in image:\n",
    "    value=image[key][300:700, 1100:1450]\n",
    "    fig = plt.figure(figsize=(10, 10))\n",
    "    gs = GridSpec(nrows=6, ncols=5)\n",
    "    # First axes\n",
    "    ax0 = fig.add_subplot(gs[0:4, 0:4])\n",
    "    ax0.imshow(value,cmap='gray')\n",
    "    ax0.vlines(x_point,0,np.shape(value)[0]-1, color='red')\n",
    "    ax0.hlines(y_point,0,np.shape(value)[1]-1, color='green')\n",
    "    # ax0.axis('off')\n",
    "    # v axes\n",
    "    ax1 = fig.add_subplot(gs[0:4, 4])\n",
    "    # ax1.plot(value[:,x_point],np.arange(len(value[:,x_point])),color='red')\n",
    "    ax1.plot(savgol_filter(value[:,x_point],51,3),np.arange(len(value[:,x_point])),color='red')\n",
    "    ax1.yaxis.set_label_position(\"right\")\n",
    "    ax1.yaxis.tick_right()\n",
    "    plt.gca().invert_yaxis()\n",
    "    # u axes\n",
    "    ax2 = fig.add_subplot(gs[4, 0:4])\n",
    "    ax2.plot(value[y_point,:], color='green')\n",
    "    # ax2.plot(savgol_filter(value[:,y_point],31,2), color='green')\n",
    "\n",
    "    plt.savefig(save_path+'/%sProfiles_filter_win51cor3.png'%key, dpi=300)\n",
    "    plt.close()\n",
    "\n"
   ]
  }
 ],
 "metadata": {
  "kernelspec": {
   "display_name": "Python 3",
   "language": "python",
   "name": "python3"
  },
  "language_info": {
   "codemirror_mode": {
    "name": "ipython",
    "version": 2
   },
   "file_extension": ".py",
   "mimetype": "text/x-python",
   "name": "python",
   "nbconvert_exporter": "python",
   "pygments_lexer": "ipython2",
   "version": "2.7.6"
  }
 },
 "nbformat": 4,
 "nbformat_minor": 0
}