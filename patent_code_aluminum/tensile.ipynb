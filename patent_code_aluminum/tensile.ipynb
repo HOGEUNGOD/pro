{
 "cells": [
  {
   "cell_type": "code",
   "execution_count": 1,
   "outputs": [
    {
     "name": "stdout",
     "output_type": "stream",
     "text": [
      "Run complete\n"
     ]
    }
   ],
   "source": [
    "\n",
    "\n",
    "import os\n",
    "import cv2\n",
    "from scipy import io\n",
    "import pandas as pd\n",
    "import numpy as np\n",
    "import matplotlib.pyplot as plt\n",
    "import mecha.fracture as fracture\n",
    "import mecha.DIC as dic\n",
    "from matplotlib.gridspec import GridSpec\n",
    "import matplotlib.patches as patches\n",
    "import pickle\n",
    "from tqdm import tqdm"
   ],
   "metadata": {
    "collapsed": false,
    "pycharm": {
     "name": "#%%\n"
    }
   }
  },
  {
   "cell_type": "code",
   "execution_count": 2,
   "outputs": [],
   "source": [
    "#csv파일 형식 바꾸기!\n",
    "\n",
    "\"\"\"setting values\"\"\"\n",
    "path = r'E:\\experiment data\\aluminum\\2021-07-27_tension\\64tension_1_ver01'"
   ],
   "metadata": {
    "collapsed": false,
    "pycharm": {
     "name": "#%%\n"
    }
   }
  },
  {
   "cell_type": "code",
   "execution_count": 8,
   "outputs": [
    {
     "name": "stdout",
     "output_type": "stream",
     "text": [
      "done\n",
      "1893\n"
     ]
    },
    {
     "data": {
      "text/plain": "<Figure size 360x360 with 1 Axes>",
      "image/png": "[encoded data removed]"
     },
     "metadata": {
      "needs_background": "light"
     },
     "output_type": "display_data"
    }
   ],
   "source": [
    "\"\"\"\n",
    "Matlab코드 여러 Dic데이터있는경우\n",
    "path = 'E:\\experiment data\\aluminum\\2021-07-27_tension\\64tension_1_ver01\\DIC_img\\data'\n",
    "\n",
    "for i=1:1:35\n",
    "uu=handles_ncorr.data_dic.displacements(i).plot_u_cur_formatted;\n",
    "vv=handles_ncorr.data_dic.displacements(i).plot_v_cur_formatted;\n",
    "exx=handles_ncorr.data_dic.strains(i).plot_exx_cur_formatted;\n",
    "eyy=handles_ncorr.data_dic.strains(i).plot_eyy_cur_formatted;\n",
    "exy=handles_ncorr.data_dic.strains(i).plot_exy_cur_formatted;\n",
    "\n",
    "save([path,'/', num2str(i), '_exx', '.mat'],'exx')\n",
    "save([path,'/', num2str(i), '_exy', '.mat'],'exy')\n",
    "save([path,'/', num2str(i), '_eyy', '.mat'],'eyy')\n",
    "save([path,'/', num2str(i), '_uu', '.mat'],'uu')\n",
    "save([path,'/', num2str(i), '_vv', '.mat'],'vv')\n",
    "\n",
    "end\n",
    "\n",
    "\"\"\"\n",
    "\n",
    "\"\"\"setting values\"\"\"\n",
    "\n",
    "\n",
    "image = dic.load_file(path+'/DIC_img')\n",
    "\n",
    "ref = image[list(image.keys())[0]]\n",
    "print('done')\n",
    "\n",
    "\n",
    "ratio = 1\n",
    "scale_factor=2\n",
    "\n",
    "df = pd.DataFrame(columns=['image_name',\n",
    "                       'using_DIC_mask_average','DIC_eyy'])\n",
    "\n",
    "slice_x1 = 135\n",
    "slice_x2 = 165\n",
    "slice_y1 = 555\n",
    "slice_y2 = 595\n",
    "\n",
    "for num in range(1,35+1):\n",
    "    file_num = str(num)\n",
    "\n",
    "    eyy = io.loadmat(path+'/DIC_img/data/'+file_num+'_eyy.mat')['eyy']\n",
    "    eyy_resize = cv2.resize(eyy,(0,0),fx=scale_factor, fy=scale_factor )\n",
    "\n",
    "    ml_image = image[list(image.keys())[num]][:,:,0].astype('float')\n",
    "\n",
    "    ml_image_gas = cv2.GaussianBlur(ml_image,(0,0),10)\n",
    "\n",
    "    ref_image = image[list(image.keys())[0]][:,:,0].astype('float')\n",
    "    ref_image_gas = cv2.GaussianBlur(ref_image,(0,0),10)\n",
    "\n",
    "\n",
    "    image_name = int(list(image.keys())[num].split('_')[1])\n",
    "    using_DIC_mask_average = np.average(cv2.subtract(\n",
    "        ml_image[slice_y1:slice_y2, slice_x1:slice_x2],\n",
    "        ref_image[slice_y1:slice_y2, slice_x1:slice_x2]))\n",
    "\n",
    "    DIC_eyy = np.average(dic.find_zone(eyy))\n",
    "    row = pd.Series([image_name,\n",
    "                     using_DIC_mask_average,DIC_eyy],\n",
    "                index=['image_name',\n",
    "                       'using_DIC_mask_average','DIC_eyy'])\n",
    "    df = df.append(row, ignore_index=True)\n",
    "\n",
    "\"\"\"최소자승법\"\"\"\n",
    "lms_list = []\n",
    "for k in range(0,5000):\n",
    "    i = k*0.1\n",
    "    lms = np.sum(((i * df.DIC_eyy) - df.using_DIC_mask_average)**2)\n",
    "    lms_list.append(lms)\n",
    "np.argmin(lms_list)\n",
    "\n",
    "plt.rcParams[\"figure.figsize\"] = (5,5)\n",
    "\n",
    "plt.scatter(df.DIC_eyy, df.using_DIC_mask_average, color='red',zorder=1, s=20, marker='o', facecolors='none')\n",
    "plt.xlabel('Effective Strain')\n",
    "plt.ylabel('ML Intensity(AU)')\n",
    "\n",
    "plt.tick_params(direction='in', pad=10,which='both')\n",
    "plt.minorticks_on()\n",
    "plt.xlim(0,)\n",
    "\n",
    "plt.rc('axes', labelsize=12)\n",
    "plt.rc('xtick', labelsize=10)\n",
    "plt.rc('ytick', labelsize=10)\n",
    "\n",
    "\n",
    "print(np.argmin(lms_list))"
   ],
   "metadata": {
    "collapsed": false,
    "pycharm": {
     "name": "#%%\n"
    }
   }
  },
  {
   "cell_type": "code",
   "execution_count": 5,
   "outputs": [],
   "source": [],
   "metadata": {
    "collapsed": false,
    "pycharm": {
     "name": "#%%\n"
    }
   }
  }
 ],
 "metadata": {
  "kernelspec": {
   "name": "python3",
   "language": "python",
   "display_name": "Python 3"
  },
  "language_info": {
   "codemirror_mode": {
    "name": "ipython",
    "version": 2
   },
   "file_extension": ".py",
   "mimetype": "text/x-python",
   "name": "python",
   "nbconvert_exporter": "python",
   "pygments_lexer": "ipython2",
   "version": "2.7.6"
  }
 },
 "nbformat": 4,
 "nbformat_minor": 0
}