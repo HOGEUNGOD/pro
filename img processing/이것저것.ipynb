{
 "cells": [
  {
   "cell_type": "code",
   "execution_count": 18,
   "metadata": {
    "collapsed": true,
    "pycharm": {
     "name": "#%%\n"
    }
   },
   "outputs": [],
   "source": [
    "\"\"\" 히스토그램 그리는 영역\"\"\"\n",
    "\n",
    "import sys\n",
    "import numpy as np\n",
    "import matplotlib.pyplot as plt\n",
    "import cv2\n",
    "\n",
    "def getGrayHistImage(hist):\n",
    "    imgHist = np.full((100, 256), 255, dtype=np.uint8)\n",
    "    histMax = np.max(hist)\n",
    "    for x in range(256):\n",
    "        pt1 = (x, 100)\n",
    "        pt2 = (x, 100 - int(hist[x, 0] * 100 / histMax))\n",
    "        cv2.line(imgHist, pt1, pt2, 0)\n",
    "    return imgHist\n",
    "\n",
    "path = 'E:\\experiment data/aluminum/2021-01-27/0.05mmsec_125f_epoxy_dic\\dic/C001H001S0001-00.cih08.jpg'\n",
    "src = cv2.imread(path, cv2.IMREAD_GRAYSCALE)\n",
    "\n",
    "if src is None:\n",
    "    print('Image load failed!')\n",
    "    sys.exit()\n",
    "\n",
    "hist = cv2.calcHist([src], [0], None, [256], [0, 256])\n",
    "histImg = getGrayHistImage(hist)\n",
    "\n",
    "cv2.imshow('src', src)\n",
    "cv2.imshow('histImg', histImg)\n",
    "cv2.waitKey()\n",
    "\n",
    "cv2.destroyAllWindows()\n"
   ]
  },
  {
   "cell_type": "code",
   "execution_count": 16,
   "outputs": [],
   "source": [
    "\"\"\"Threshold  이용하여 영역 확인\"\"\"\n",
    "\n",
    "import cv2\n",
    "src = cv2.imread(path, cv2.IMREAD_GRAYSCALE)\n",
    "\n",
    "def on_threshhold(pos):\n",
    "    _, dst = cv2.threshold(src, pos, 255, cv2.THRESH_BINARY)\n",
    "    cv2.imshow('dst', dst)\n",
    "\n",
    "cv2.imshow('src',src)\n",
    "cv2.namedWindow('dst')\n",
    "cv2.createTrackbar('Treshold', 'dst', 0, 255, on_threshhold)\n",
    "cv2.setTrackbarPos('Treshold', 'dst', 125)\n",
    "\n",
    "cv2.waitKey()\n",
    "cv2.destroyAllWindows()"
   ],
   "metadata": {
    "collapsed": false,
    "pycharm": {
     "name": "#%%\n"
    }
   }
  },
  {
   "cell_type": "code",
   "execution_count": 19,
   "outputs": [],
   "source": [
    "\"\"\" 배경 음영처리 \"\"\"\n",
    "import sys\n",
    "import numpy as np\n",
    "import cv2\n",
    "\n",
    "\n",
    "src = cv2.imread(path, cv2.IMREAD_GRAYSCALE)\n",
    "\n",
    "if src is None:\n",
    "    print('Image load failed!')\n",
    "    sys.exit()\n",
    "\n",
    "\n",
    "def on_trackbar(pos):\n",
    "    bsize = pos\n",
    "    if bsize % 2 == 0:\n",
    "        bsize = bsize - 1\n",
    "    if bsize < 3:\n",
    "        bsize = 3\n",
    "\n",
    "    dst = cv2.adaptiveThreshold(src, 255, cv2.ADAPTIVE_THRESH_GAUSSIAN_C,\n",
    "                                cv2.THRESH_BINARY, bsize, 5)\n",
    "\n",
    "    cv2.imshow('dst', dst)\n",
    "\n",
    "\n",
    "cv2.imshow('src', src)\n",
    "cv2.namedWindow('dst')\n",
    "cv2.createTrackbar('Block Size', 'dst', 0, 200, on_trackbar)\n",
    "cv2.setTrackbarPos('Block Size', 'dst', 11)\n",
    "\n",
    "cv2.waitKey()\n",
    "cv2.destroyAllWindows()\n"
   ],
   "metadata": {
    "collapsed": false,
    "pycharm": {
     "name": "#%%\n"
    }
   }
  },
  {
   "cell_type": "code",
   "execution_count": null,
   "outputs": [],
   "source": [],
   "metadata": {
    "collapsed": false,
    "pycharm": {
     "name": "#%%\n"
    }
   }
  }
 ],
 "metadata": {
  "kernelspec": {
   "display_name": "Python 3",
   "language": "python",
   "name": "python3"
  },
  "language_info": {
   "codemirror_mode": {
    "name": "ipython",
    "version": 2
   },
   "file_extension": ".py",
   "mimetype": "text/x-python",
   "name": "python",
   "nbconvert_exporter": "python",
   "pygments_lexer": "ipython2",
   "version": "2.7.6"
  }
 },
 "nbformat": 4,
 "nbformat_minor": 0
}