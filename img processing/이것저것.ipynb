{
 "cells": [
  {
   "cell_type": "code",
   "execution_count": 1,
   "metadata": {
    "collapsed": true
   },
   "outputs": [
    {
     "ename": "SyntaxError",
     "evalue": "unexpected EOF while parsing (<ipython-input-1-2b9ce873e867>, line 7)",
     "output_type": "error",
     "traceback": [
      "\u001B[1;36m  File \u001B[1;32m\"<ipython-input-1-2b9ce873e867>\"\u001B[1;36m, line \u001B[1;32m7\u001B[0m\n\u001B[1;33m    \u001B[0m\n\u001B[1;37m    ^\u001B[0m\n\u001B[1;31mSyntaxError\u001B[0m\u001B[1;31m:\u001B[0m unexpected EOF while parsing\n"
     ]
    }
   ],
   "source": [
    "import sys\n",
    "import numpy as np\n",
    "import matplotlib.pyplot as plt\n",
    "import cv2\n",
    "\n",
    "def getGrayHistImage(hist):\n",
    "    imgHist = np.full((100, 256), 255, dtype=np.uint8)\n",
    "    histMax = np.max(hist)\n",
    "    for x in range(256):\n",
    "        pt1 = (x, 100)\n",
    "        pt2 = (x, 100 - int(hist[x, 0] * 100 / histMax))\n",
    "        cv2.line(imgHist, pt1, pt2, 0)\n",
    "    return imgHist\n",
    "\n",
    "\n",
    "src = cv2.imread('lenna.bmp', cv2.IMREAD_GRAYSCALE)\n",
    "\n",
    "if src is None:\n",
    "    print('Image load failed!')\n",
    "    sys.exit()\n",
    "\n",
    "hist = cv2.calcHist([src], [0], None, [256], [0, 256])\n",
    "histImg = getGrayHistImage(hist)\n",
    "\n",
    "cv2.imshow('src', src)\n",
    "cv2.imshow('histImg', histImg)\n",
    "cv2.waitKey()\n",
    "\n",
    "cv2.destroyAllWindows()\n"
   ]
  },
  {
   "cell_type": "code",
   "execution_count": null,
   "outputs": [],
   "source": [
    "src = cv2.imread('cells.png', cv2.IMREAD_GRAYSCALE)\n",
    "\n",
    "def on_threshhold(pos):\n",
    "    _, dst = cv2.threshhold(src, pos, 255, cv2.THRESH_BINARY)\n",
    "    cv2.imshow('dst', dst)\n",
    "\n",
    "cv2.imshow('src',src)\n",
    "cv2.namedWindow('dst')\n",
    "cv2.createTrackbar('Treshold', 'dst', 0, 255, on_threshhold)\n",
    "cv2.setTrackbarPos('Treshold', 'dst', 125)\n",
    "\n",
    "cv2.waitKey()\n",
    "cv2.destroyWindow()\n",
    "\n"
   ],
   "metadata": {
    "collapsed": false,
    "pycharm": {
     "name": "#%%\n"
    }
   }
  }
 ],
 "metadata": {
  "kernelspec": {
   "display_name": "Python 3",
   "language": "python",
   "name": "python3"
  },
  "language_info": {
   "codemirror_mode": {
    "name": "ipython",
    "version": 2
   },
   "file_extension": ".py",
   "mimetype": "text/x-python",
   "name": "python",
   "nbconvert_exporter": "python",
   "pygments_lexer": "ipython2",
   "version": "2.7.6"
  }
 },
 "nbformat": 4,
 "nbformat_minor": 0
}