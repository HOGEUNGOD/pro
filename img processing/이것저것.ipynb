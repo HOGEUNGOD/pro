{
 "cells": [
  {
   "cell_type": "code",
   "execution_count": 1,
   "metadata": {
    "collapsed": true,
    "pycharm": {
     "name": "#%%\n"
    }
   },
   "outputs": [],
   "source": [
    "\"\"\" 히스토그램 그리는 영역\"\"\"\n",
    "\n",
    "import sys\n",
    "import numpy as np\n",
    "import matplotlib.pyplot as plt\n",
    "import cv2\n",
    "from scipy.signal import savgol_filter\n",
    "\n",
    "def getGrayHistImage(hist):\n",
    "    imgHist = np.full((100, 256), 255, dtype=np.uint8)\n",
    "    histMax = np.max(hist)\n",
    "    for x in range(256):\n",
    "        pt1 = (x, 100)\n",
    "        pt2 = (x, 100 - int(hist[x, 0] * 100 / histMax))\n",
    "        cv2.line(imgHist, pt1, pt2, 0)\n",
    "    return imgHist\n",
    "\n",
    "\n",
    "path = 'E:\\experiment data/aluminum/2021-01-27/0.05mmsec_125f_epoxy_dic\\dic/C001H001S0001-00.cih08.jpg'\n",
    "src = cv2.imread(path, cv2.IMREAD_GRAYSCALE)\n",
    "\n",
    "if src is None:\n",
    "    print('Image load failed!')\n",
    "    sys.exit()\n",
    "\n",
    "hist = cv2.calcHist([src], [0], None, [256], [0, 256])\n",
    "histImg = getGrayHistImage(hist)\n",
    "\n",
    "cv2.imshow('src', src)\n",
    "cv2.imshow('histImg', histImg)\n",
    "cv2.waitKey()\n",
    "\n",
    "cv2.destroyAllWindows()"
   ]
  },
  {
   "cell_type": "code",
   "execution_count": 2,
   "outputs": [
    {
     "data": {
      "text/plain": "<Figure size 432x288 with 1 Axes>",
      "image/png": "[encoded data removed]"
     },
     "metadata": {
      "needs_background": "light"
     },
     "output_type": "display_data"
    }
   ],
   "source": [
    "\"\"\" color 히스토그램 그리는 영역\"\"\"\n",
    "import sys\n",
    "import numpy as np\n",
    "import matplotlib.pyplot as plt\n",
    "import cv2\n",
    "\n",
    "\n",
    "# 컬러 영상의 히스토그램\n",
    "# path = r'C:\\Users\\ghrms\\Desktop\\ddd\\aaa.jpg'\n",
    "src = cv2.imread(path, cv2.IMREAD_COLOR)\n",
    "\n",
    "if src is None:\n",
    "    print('Image load failed!')\n",
    "    sys.exit()\n",
    "\n",
    "colors = ['b', 'g', 'r']\n",
    "bgr_planes = cv2.split(src)\n",
    "\n",
    "for (p, c) in zip(bgr_planes, colors):\n",
    "    hist = cv2.calcHist([p], [0], None, [256], [0, 256])\n",
    "    plt.plot(hist, color=c, alpha= 0.7)\n",
    "\n",
    "cv2.imshow('src', src)\n",
    "cv2.waitKey(1)\n",
    "\n",
    "plt.show()\n",
    "\n",
    "cv2.destroyAllWindows()"
   ],
   "metadata": {
    "collapsed": false,
    "pycharm": {
     "name": "#%%\n"
    }
   }
  },
  {
   "cell_type": "code",
   "execution_count": 3,
   "outputs": [],
   "source": [
    "b_plane, g_plane, r_plane = cv2.split(src)\n",
    "cv2.namedWindow('G_plane',cv2.WINDOW_NORMAL)\n",
    "cv2.imshow('G_plane',g_plane)\n",
    "cv2.waitKey()\n",
    "cv2.destroyAllWindows()"
   ],
   "metadata": {
    "collapsed": false,
    "pycharm": {
     "name": "#%%\n"
    }
   }
  },
  {
   "cell_type": "code",
   "execution_count": 5,
   "outputs": [],
   "source": [
    "\"\"\" 히스토그램트랙바 HSV 칼라\"\"\"\n",
    "\n",
    "import sys\n",
    "import numpy as np\n",
    "import cv2\n",
    "\n",
    "# path = r'C:\\Users\\ghrms\\Desktop\\ddd\\KakaoTalk_20210202_143220877.jpg'\n",
    "\n",
    "src = cv2.imread(path)\n",
    "\n",
    "if src is None:\n",
    "    print('Image load failed!')\n",
    "    sys.exit()\n",
    "\n",
    "src_hsv = cv2.cvtColor(src, cv2.COLOR_BGR2HSV)\n",
    "\n",
    "def on_trackbar(pos):\n",
    "    hmin = cv2.getTrackbarPos('H_min', 'dst')\n",
    "    hmax = cv2.getTrackbarPos('H_max', 'dst')\n",
    "    smin = cv2.getTrackbarPos('S_min', 'dst')\n",
    "    smax = cv2.getTrackbarPos('S_max', 'dst')\n",
    "    vmin = cv2.getTrackbarPos('V_min', 'dst')\n",
    "    vmax = cv2.getTrackbarPos('V_max', 'dst')\n",
    "\n",
    "    dst = cv2.inRange(src_hsv, (hmin, smin, vmin), (hmax, smax, vmax))\n",
    "    cv2.imshow('dst', dst)\n",
    "\n",
    "cv2.namedWindow('src', cv2.WINDOW_NORMAL)\n",
    "cv2.resizeWindow('src', 1920, 1080)\n",
    "cv2.imshow('src', src)\n",
    "cv2.namedWindow('dst', cv2.WINDOW_NORMAL)\n",
    "cv2.resizeWindow('dst', 1920, 1080)\n",
    "cv2.createTrackbar('H_min', 'dst', 50, 179, on_trackbar)\n",
    "cv2.createTrackbar('H_max', 'dst', 80, 179, on_trackbar)\n",
    "cv2.createTrackbar('S_min', 'dst', 150, 255, on_trackbar)\n",
    "cv2.createTrackbar('S_max', 'dst', 255, 255, on_trackbar)\n",
    "cv2.createTrackbar('V_min', 'dst', 0, 255, on_trackbar)\n",
    "cv2.createTrackbar('V_max', 'dst', 255, 255, on_trackbar)\n",
    "on_trackbar(0)\n",
    "\n",
    "cv2.waitKey()\n",
    "\n",
    "cv2.destroyAllWindows()"
   ],
   "metadata": {
    "collapsed": false,
    "pycharm": {
     "name": "#%%\n"
    }
   }
  },
  {
   "cell_type": "code",
   "execution_count": 6,
   "outputs": [],
   "source": [
    "\"\"\" 히스토그램트랙바 RGB 칼라\"\"\"\n",
    "\n",
    "import sys\n",
    "import numpy as np\n",
    "import cv2\n",
    "\n",
    "# path = r'C:\\Users\\ghrms\\Desktop\\ddd\\KakaoTalk_20210202_143220877.jpg'\n",
    "src = cv2.imread(path)\n",
    "\n",
    "\n",
    "if src is None:\n",
    "    print('Image load failed!')\n",
    "    sys.exit()\n",
    "\n",
    "def on_trackbar(pos):\n",
    "    rmin = cv2.getTrackbarPos('R_min', 'dst')\n",
    "    rmax = cv2.getTrackbarPos('R_max', 'dst')\n",
    "    gmin = cv2.getTrackbarPos('G_min', 'dst')\n",
    "    gmax = cv2.getTrackbarPos('G_max', 'dst')\n",
    "    bmin = cv2.getTrackbarPos('B_min', 'dst')\n",
    "    bmax = cv2.getTrackbarPos('B_max', 'dst')\n",
    "\n",
    "    dst = cv2.inRange(src, (rmin, gmin, bmin), (rmax, gmax, bmax))\n",
    "    cv2.imshow('dst', dst)\n",
    "\n",
    "cv2.namedWindow('src', cv2.WINDOW_NORMAL)\n",
    "cv2.resizeWindow('src', 1920, 1080)\n",
    "cv2.imshow('src', src)\n",
    "cv2.namedWindow('dst', cv2.WINDOW_NORMAL)\n",
    "cv2.resizeWindow('dst', 1920, 1080)\n",
    "cv2.createTrackbar('R_min', 'dst', 0, 100, on_trackbar)\n",
    "cv2.createTrackbar('R_max', 'dst', 100, 255, on_trackbar)\n",
    "cv2.createTrackbar('G_min', 'dst', 128, 255, on_trackbar)\n",
    "cv2.createTrackbar('G_max', 'dst', 255, 255, on_trackbar)\n",
    "cv2.createTrackbar('B_min', 'dst', 0, 255, on_trackbar)\n",
    "cv2.createTrackbar('B_max', 'dst', 100, 255, on_trackbar)\n",
    "on_trackbar(0)\n",
    "\n",
    "cv2.waitKey()\n",
    "\n",
    "cv2.destroyAllWindows()\n"
   ],
   "metadata": {
    "collapsed": false,
    "pycharm": {
     "name": "#%%\n"
    }
   }
  },
  {
   "cell_type": "code",
   "execution_count": 1,
   "outputs": [
    {
     "ename": "NameError",
     "evalue": "name 'path' is not defined",
     "output_type": "error",
     "traceback": [
      "\u001B[1;31m---------------------------------------------------------------------------\u001B[0m",
      "\u001B[1;31mNameError\u001B[0m                                 Traceback (most recent call last)",
      "\u001B[1;32m<ipython-input-1-a249a28ca2bc>\u001B[0m in \u001B[0;36m<module>\u001B[1;34m\u001B[0m\n\u001B[0;32m      2\u001B[0m \u001B[1;33m\u001B[0m\u001B[0m\n\u001B[0;32m      3\u001B[0m \u001B[1;32mimport\u001B[0m \u001B[0mcv2\u001B[0m\u001B[1;33m\u001B[0m\u001B[1;33m\u001B[0m\u001B[0m\n\u001B[1;32m----> 4\u001B[1;33m \u001B[0msrc\u001B[0m \u001B[1;33m=\u001B[0m \u001B[0mcv2\u001B[0m\u001B[1;33m.\u001B[0m\u001B[0mimread\u001B[0m\u001B[1;33m(\u001B[0m\u001B[0mpath\u001B[0m\u001B[1;33m,\u001B[0m \u001B[0mcv2\u001B[0m\u001B[1;33m.\u001B[0m\u001B[0mIMREAD_GRAYSCALE\u001B[0m\u001B[1;33m)\u001B[0m\u001B[1;33m\u001B[0m\u001B[1;33m\u001B[0m\u001B[0m\n\u001B[0m\u001B[0;32m      5\u001B[0m \u001B[1;33m\u001B[0m\u001B[0m\n\u001B[0;32m      6\u001B[0m \u001B[1;32mdef\u001B[0m \u001B[0mon_threshhold\u001B[0m\u001B[1;33m(\u001B[0m\u001B[0mpos\u001B[0m\u001B[1;33m)\u001B[0m\u001B[1;33m:\u001B[0m\u001B[1;33m\u001B[0m\u001B[1;33m\u001B[0m\u001B[0m\n",
      "\u001B[1;31mNameError\u001B[0m: name 'path' is not defined"
     ]
    }
   ],
   "source": [
    "\"\"\"Threshold  이용하여 영역 확인\"\"\"\n",
    "\n",
    "import cv2\n",
    "src = cv2.imread(path, cv2.IMREAD_GRAYSCALE)\n",
    "\n",
    "def on_threshhold(pos):\n",
    "    _, dst = cv2.threshold(src, pos, 255, cv2.THRESH_BINARY)\n",
    "    cv2.imshow('dst', dst)\n",
    "\n",
    "cv2.imshow('src',src)\n",
    "cv2.namedWindow('dst')\n",
    "cv2.createTrackbar('Treshold', 'dst', 0, 255, on_threshhold)\n",
    "cv2.setTrackbarPos('Treshold', 'dst', 125)\n",
    "\n",
    "cv2.waitKey()\n",
    "cv2.destroyAllWindows()"
   ],
   "metadata": {
    "collapsed": false,
    "pycharm": {
     "name": "#%%\n"
    }
   }
  },
  {
   "cell_type": "code",
   "execution_count": 11,
   "outputs": [],
   "source": [
    "\"\"\" 배경 음영처리 \"\"\"\n",
    "import sys\n",
    "import numpy as np\n",
    "import cv2\n",
    "\n",
    "\n",
    "src = cv2.imread(path, cv2.IMREAD_GRAYSCALE)\n",
    "# src= g_plane\n",
    "\n",
    "if src is None:\n",
    "    print('Image load failed!')\n",
    "    sys.exit()\n",
    "\n",
    "\n",
    "def on_trackbar(pos):\n",
    "    bsize = pos\n",
    "    if bsize % 2 == 0:\n",
    "        bsize = bsize - 1\n",
    "    if bsize < 3:\n",
    "        bsize = 3\n",
    "\n",
    "    dst = cv2.adaptiveThreshold(src, 255, cv2.ADAPTIVE_THRESH_GAUSSIAN_C,\n",
    "                                cv2.THRESH_BINARY, bsize, 5)\n",
    "\n",
    "    cv2.imshow('dst', dst)\n",
    "\n",
    "\n",
    "cv2.imshow('src', src)\n",
    "cv2.namedWindow('dst')\n",
    "cv2.createTrackbar('Block Size', 'dst', 0, 200, on_trackbar)\n",
    "cv2.setTrackbarPos('Block Size', 'dst', 11)\n",
    "\n",
    "cv2.waitKey()\n",
    "cv2.destroyAllWindows()\n"
   ],
   "metadata": {
    "collapsed": false,
    "pycharm": {
     "name": "#%%\n"
    }
   }
  },
  {
   "cell_type": "code",
   "execution_count": 15,
   "outputs": [],
   "source": [
    "import cv2\n",
    "import sys\n",
    "import numpy as np\n",
    "path = 'E:\\experiment data/aluminum/2021-01-27/0.05mmsec_125f_epoxy_dic\\dic/C001H001S0001-00.cih01.jpg'\n",
    "path_8 = 'E:\\experiment data/aluminum/2021-01-27/0.05mmsec_125f_epoxy_dic\\dic/C001H001S0001-00.cih08.jpg'\n",
    "src_0 = cv2.imread(path, cv2.IMREAD_GRAYSCALE)\n",
    "src_8 = cv2.imread(path_8, cv2.IMREAD_GRAYSCALE)\n",
    "\n",
    "if src_8 is None:\n",
    "    if src_0 is None:\n",
    "        print('Image load failed!')\n",
    "        sys.exit()\n",
    "\n",
    "cur_img = cv2.adaptiveThreshold(src_0, 255, cv2.ADAPTIVE_THRESH_GAUSSIAN_C, cv2.THRESH_BINARY, 13, 5)\n",
    "\n",
    "cv2.imshow('src_0', src_0)\n",
    "cv2.imshow('cur_img', cur_img)\n",
    "cv2.waitKey()\n",
    "cv2.destroyAllWindows()"
   ],
   "metadata": {
    "collapsed": false,
    "pycharm": {
     "name": "#%%\n"
    }
   }
  },
  {
   "cell_type": "code",
   "execution_count": 81,
   "outputs": [
    {
     "data": {
      "text/plain": "<Figure size 432x288 with 1 Axes>",
      "image/png": "[encoded data removed]"
     },
     "metadata": {
      "needs_background": "light"
     },
     "output_type": "display_data"
    }
   ],
   "source": [
    "import numpy as  np\n",
    "import matplotlib.pyplot as plt\n",
    "import pandas as pd\n",
    "import cv2\n",
    "import os\n",
    "import sys\n",
    "import glob\n",
    "\n",
    "aa_path = r'E:\\experiment data\\aluminum\\2021-03-25\\faruv\\ROI_ML_STRESS/'\n",
    "path = r'E:\\experiment data\\aluminum\\2021-03-25\\faruv\\img/ff002812.jpg'\n",
    "path_cur = r'E:\\experiment data\\aluminum\\2021-03-25\\faruv\\img/ff000573.jpg'\n",
    "# path_8 = r'E:\\experiment data\\aluminum\\2021-01-27\\0.05mmsec_125f_epoxy_dic\\img/ff3396.jpg'\n",
    "\n",
    "src = cv2.imread(path, cv2.IMREAD_GRAYSCALE)[166:506,336:705]\n",
    "src_2 = cv2.imread(path_cur, cv2.IMREAD_GRAYSCALE)[166:506,336:705]\n",
    "dst = cv2.absdiff(src,src_2)\n",
    "\n",
    "gas = cv2.GaussianBlur(dst,(0,0),3)\n",
    "plt.imshow(src_2, cmap='gray')\n",
    "# cs = plt.contour(gas, [k for k in range(2,int(np.max(gas)))],  colors='black', linewidths = 0.5)\n",
    "plt.axis('off')\n",
    "cs = plt.contourf(gas)\n",
    "plt.savefig(aa_path+'2812_573.png', dpi=500)\n",
    "# print(src)"
   ],
   "metadata": {
    "collapsed": false,
    "pycharm": {
     "name": "#%%\n"
    }
   }
  },
  {
   "cell_type": "code",
   "execution_count": 25,
   "outputs": [
    {
     "data": {
      "text/plain": "<matplotlib.collections.PathCollection at 0x2121a9d1190>"
     },
     "execution_count": 25,
     "metadata": {},
     "output_type": "execute_result"
    },
    {
     "data": {
      "text/plain": "<Figure size 432x288 with 1 Axes>",
      "image/png": "[encoded data removed]"
     },
     "metadata": {
      "needs_background": "light"
     },
     "output_type": "display_data"
    }
   ],
   "source": [
    "from fracture import Plastic_zone\n",
    "import cv2\n",
    "import sys\n",
    "import matplotlib.pyplot as plt\n",
    "\n",
    "PZ = Plastic_zone(79, 535)\n",
    "PZ.von_mises()[1]\n",
    "\n",
    "src = cv2.imread(r'G:\\analysis\\DIC/ff3301.jpg', cv2.IMREAD_GRAYSCALE)\n",
    "if src is None:\n",
    "    if src_0 is None:\n",
    "        print('Image load failed!')\n",
    "        sys.exit()\n",
    "\n",
    "cv2.flip(src,1,src)\n",
    "\n",
    "plt.imshow(src, cmap='gray')"
   ],
   "metadata": {
    "collapsed": false,
    "pycharm": {
     "name": "#%%\n"
    }
   }
  },
  {
   "cell_type": "code",
   "execution_count": null,
   "outputs": [],
   "source": [
    "import DIC.DIC as dic\n",
    "import cv2\n",
    "import numpy as np\n",
    "import matplotlib.pyplot as plt\n",
    "import pandas as pd\n",
    "def on_threshhold(pos):\n",
    "    _, dst = cv2.threshold(src, pos, 255, cv2.THRESH_BINARY)\n",
    "    cv2.imshow('dst', dst)\n",
    "\n",
    "path = r'E:\\experiment data\\aluminum\\2021-03-25\\faruv_tension_2\\gap1000'\n",
    "num = 1\n",
    "\n",
    "image = dic.load_file(path)\n",
    "cur = list(image.keys())[num]\n",
    "src = image[cur][:,:,1][293:754,71:149]\n",
    "\n",
    "\n",
    "cv2.imshow('src',src)\n",
    "cv2.namedWindow('dst')\n",
    "cv2.createTrackbar('Treshold', 'dst', 0, 255, on_threshhold)\n",
    "cv2.setTrackbarPos('Treshold', 'dst', 125)\n",
    "\n",
    "cv2.waitKey()\n",
    "cv2.destroyAllWindows()"
   ],
   "metadata": {
    "collapsed": false,
    "pycharm": {
     "name": "#%%\n",
     "is_executing": true
    }
   }
  },
  {
   "cell_type": "code",
   "execution_count": 8,
   "outputs": [
    {
     "data": {
      "text/plain": "['0_num',\n '1_num',\n '2_num',\n '3_num',\n '4_num',\n '5_num',\n '6_num',\n '7_num',\n '8_num',\n '9_num']"
     },
     "execution_count": 8,
     "metadata": {},
     "output_type": "execute_result"
    }
   ],
   "source": [
    "import pickle\n",
    "import pandas as pd\n",
    "\n",
    "i=1\n",
    "pd.read_pickle('../data/{}.pkl'.format(i))\n",
    "\n",
    "[str(v)+str('_num') for v in range(10)]"
   ],
   "metadata": {
    "collapsed": false,
    "pycharm": {
     "name": "#%%\n"
    }
   }
  }
 ],
 "metadata": {
  "kernelspec": {
   "display_name": "Python 3",
   "language": "python",
   "name": "python3"
  },
  "language_info": {
   "codemirror_mode": {
    "name": "ipython",
    "version": 2
   },
   "file_extension": ".py",
   "mimetype": "text/x-python",
   "name": "python",
   "nbconvert_exporter": "python",
   "pygments_lexer": "ipython2",
   "version": "2.7.6"
  }
 },
 "nbformat": 4,
 "nbformat_minor": 0
}