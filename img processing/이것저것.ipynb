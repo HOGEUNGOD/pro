{
 "cells": [
  {
   "cell_type": "code",
   "execution_count": 18,
   "metadata": {
    "collapsed": true,
    "pycharm": {
     "name": "#%%\n"
    }
   },
   "outputs": [],
   "source": [
    "\"\"\" 히스토그램 그리는 영역\"\"\"\n",
    "\n",
    "import sys\n",
    "import numpy as np\n",
    "import matplotlib.pyplot as plt\n",
    "import cv2\n",
    "\n",
    "def getGrayHistImage(hist):\n",
    "    imgHist = np.full((100, 256), 255, dtype=np.uint8)\n",
    "    histMax = np.max(hist)\n",
    "    for x in range(256):\n",
    "        pt1 = (x, 100)\n",
    "        pt2 = (x, 100 - int(hist[x, 0] * 100 / histMax))\n",
    "        cv2.line(imgHist, pt1, pt2, 0)\n",
    "    return imgHist\n",
    "\n",
    "\n",
    "path = 'E:\\experiment data/aluminum/2021-01-27/0.05mmsec_125f_epoxy_dic\\dic/C001H001S0001-00.cih08.jpg'\n",
    "src = cv2.imread(path, cv2.IMREAD_GRAYSCALE)\n",
    "\n",
    "if src is None:\n",
    "    print('Image load failed!')\n",
    "    sys.exit()\n",
    "\n",
    "hist = cv2.calcHist([src], [0], None, [256], [0, 256])\n",
    "histImg = getGrayHistImage(hist)\n",
    "\n",
    "cv2.imshow('src', src)\n",
    "cv2.imshow('histImg', histImg)\n",
    "cv2.waitKey()\n",
    "\n",
    "cv2.destroyAllWindows()"
   ]
  },
  {
   "cell_type": "code",
   "execution_count": 5,
   "outputs": [
    {
     "data": {
      "text/plain": "<Figure size 432x288 with 1 Axes>",
      "image/png": "[encoded data removed]"
     },
     "metadata": {
      "needs_background": "light"
     },
     "output_type": "display_data"
    }
   ],
   "source": [
    "\"\"\" color 히스토그램 그리는 영역\"\"\"\n",
    "import sys\n",
    "import numpy as np\n",
    "import matplotlib.pyplot as plt\n",
    "import cv2\n",
    "\n",
    "\n",
    "# 컬러 영상의 히스토그램\n",
    "path = r'C:\\Users\\ghrms\\Desktop\\d\\20210201_165036.jpg'\n",
    "src = cv2.imread(path)\n",
    "\n",
    "if src is None:\n",
    "    print('Image load failed!')\n",
    "    sys.exit()\n",
    "\n",
    "colors = ['b', 'g', 'r']\n",
    "bgr_planes = cv2.split(src)\n",
    "\n",
    "for (p, c) in zip(bgr_planes, colors):\n",
    "    hist = cv2.calcHist([p], [0], None, [256], [0, 256])\n",
    "    plt.plot(hist, color=c, alpha= 0.7)\n",
    "\n",
    "cv2.imshow('src', src)\n",
    "cv2.waitKey(1)\n",
    "\n",
    "plt.show()\n",
    "\n",
    "cv2.destroyAllWindows()"
   ],
   "metadata": {
    "collapsed": false,
    "pycharm": {
     "name": "#%%\n"
    }
   }
  },
  {
   "cell_type": "code",
   "execution_count": 15,
   "outputs": [],
   "source": [
    "\"\"\" 히스토그램트랙바 HSV 칼라\"\"\"\n",
    "\n",
    "import sys\n",
    "import numpy as np\n",
    "import cv2\n",
    "\n",
    "path = r'C:\\Users\\ghrms\\Desktop\\d\\20210201_165036.jpg'\n",
    "src = cv2.imread(path)\n",
    "\n",
    "if src is None:\n",
    "    print('Image load failed!')\n",
    "    sys.exit()\n",
    "\n",
    "src_hsv = cv2.cvtColor(src, cv2.COLOR_BGR2HSV)\n",
    "\n",
    "def on_trackbar(pos):\n",
    "    hmin = cv2.getTrackbarPos('H_min', 'dst')\n",
    "    hmax = cv2.getTrackbarPos('H_max', 'dst')\n",
    "    smin = cv2.getTrackbarPos('S_min', 'dst')\n",
    "    smax = cv2.getTrackbarPos('S_max', 'dst')\n",
    "    vmin = cv2.getTrackbarPos('V_min', 'dst')\n",
    "    vmax = cv2.getTrackbarPos('V_max', 'dst')\n",
    "\n",
    "    dst = cv2.inRange(src_hsv, (hmin, smin, vmin), (hmax, smax, vmax))\n",
    "    cv2.imshow('dst', dst)\n",
    "\n",
    "cv2.namedWindow('src', cv2.WINDOW_NORMAL)\n",
    "cv2.resizeWindow('src', 1920, 1080)\n",
    "cv2.imshow('src', src)\n",
    "cv2.namedWindow('dst', cv2.WINDOW_NORMAL)\n",
    "cv2.resizeWindow('dst', 1920, 1080)\n",
    "cv2.createTrackbar('H_min', 'dst', 0, 179, on_trackbar)\n",
    "cv2.createTrackbar('H_max', 'dst', 0, 179, on_trackbar)\n",
    "cv2.createTrackbar('S_min', 'dst', 0, 255, on_trackbar)\n",
    "cv2.createTrackbar('S_max', 'dst', 0, 255, on_trackbar)\n",
    "cv2.createTrackbar('V_min', 'dst', 0, 255, on_trackbar)\n",
    "cv2.createTrackbar('V_max', 'dst', 0, 255, on_trackbar)\n",
    "on_trackbar(0)\n",
    "\n",
    "cv2.waitKey()\n",
    "\n",
    "cv2.destroyAllWindows()"
   ],
   "metadata": {
    "collapsed": false,
    "pycharm": {
     "name": "#%%\n"
    }
   }
  },
  {
   "cell_type": "code",
   "execution_count": 16,
   "outputs": [],
   "source": [
    "\"\"\" 히스토그램트랙바 RGB 칼라\"\"\"\n",
    "\n",
    "import sys\n",
    "import numpy as np\n",
    "import cv2\n",
    "\n",
    "path = r'C:\\Users\\ghrms\\Desktop\\d\\20210201_165036.jpg'\n",
    "src = cv2.imread(path)\n",
    "\n",
    "if src is None:\n",
    "    print('Image load failed!')\n",
    "    sys.exit()\n",
    "\n",
    "def on_trackbar(pos):\n",
    "    rmin = cv2.getTrackbarPos('R_min', 'dst')\n",
    "    rmax = cv2.getTrackbarPos('R_max', 'dst')\n",
    "    gmin = cv2.getTrackbarPos('G_min', 'dst')\n",
    "    gmax = cv2.getTrackbarPos('G_max', 'dst')\n",
    "    bmin = cv2.getTrackbarPos('B_min', 'dst')\n",
    "    bmax = cv2.getTrackbarPos('B_max', 'dst')\n",
    "\n",
    "    dst = cv2.inRange(src, (rmin, gmin, bmin), (rmax, gmax, bmax))\n",
    "    cv2.imshow('dst', dst)\n",
    "\n",
    "cv2.namedWindow('src', cv2.WINDOW_NORMAL)\n",
    "cv2.resizeWindow('src', 1920, 1080)\n",
    "cv2.imshow('src', src)\n",
    "cv2.namedWindow('dst', cv2.WINDOW_NORMAL)\n",
    "cv2.resizeWindow('dst', 1920, 1080)\n",
    "cv2.createTrackbar('R_min', 'dst', 0, 255, on_trackbar)\n",
    "cv2.createTrackbar('R_max', 'dst', 0, 255, on_trackbar)\n",
    "cv2.createTrackbar('G_min', 'dst', 0, 255, on_trackbar)\n",
    "cv2.createTrackbar('G_max', 'dst', 0, 255, on_trackbar)\n",
    "cv2.createTrackbar('B_min', 'dst', 0, 255, on_trackbar)\n",
    "cv2.createTrackbar('B_max', 'dst', 0, 255, on_trackbar)\n",
    "on_trackbar(0)\n",
    "\n",
    "cv2.waitKey()\n",
    "\n",
    "cv2.destroyAllWindows()\n"
   ],
   "metadata": {
    "collapsed": false,
    "pycharm": {
     "name": "#%%\n"
    }
   }
  },
  {
   "cell_type": "code",
   "execution_count": 16,
   "outputs": [],
   "source": [
    "\"\"\"Threshold  이용하여 영역 확인\"\"\"\n",
    "\n",
    "import cv2\n",
    "src = cv2.imread(path, cv2.IMREAD_GRAYSCALE)\n",
    "\n",
    "def on_threshhold(pos):\n",
    "    _, dst = cv2.threshold(src, pos, 255, cv2.THRESH_BINARY)\n",
    "    cv2.imshow('dst', dst)\n",
    "\n",
    "cv2.imshow('src',src)\n",
    "cv2.namedWindow('dst')\n",
    "cv2.createTrackbar('Treshold', 'dst', 0, 255, on_threshhold)\n",
    "cv2.setTrackbarPos('Treshold', 'dst', 125)\n",
    "\n",
    "cv2.waitKey()\n",
    "cv2.destroyAllWindows()"
   ],
   "metadata": {
    "collapsed": false,
    "pycharm": {
     "name": "#%%\n"
    }
   }
  },
  {
   "cell_type": "code",
   "execution_count": 19,
   "outputs": [],
   "source": [
    "\"\"\" 배경 음영처리 \"\"\"\n",
    "import sys\n",
    "import numpy as np\n",
    "import cv2\n",
    "\n",
    "\n",
    "src = cv2.imread(path, cv2.IMREAD_GRAYSCALE)\n",
    "\n",
    "if src is None:\n",
    "    print('Image load failed!')\n",
    "    sys.exit()\n",
    "\n",
    "\n",
    "def on_trackbar(pos):\n",
    "    bsize = pos\n",
    "    if bsize % 2 == 0:\n",
    "        bsize = bsize - 1\n",
    "    if bsize < 3:\n",
    "        bsize = 3\n",
    "\n",
    "    dst = cv2.adaptiveThreshold(src, 255, cv2.ADAPTIVE_THRESH_GAUSSIAN_C,\n",
    "                                cv2.THRESH_BINARY, bsize, 5)\n",
    "\n",
    "    cv2.imshow('dst', dst)\n",
    "\n",
    "\n",
    "cv2.imshow('src', src)\n",
    "cv2.namedWindow('dst')\n",
    "cv2.createTrackbar('Block Size', 'dst', 0, 200, on_trackbar)\n",
    "cv2.setTrackbarPos('Block Size', 'dst', 11)\n",
    "\n",
    "cv2.waitKey()\n",
    "cv2.destroyAllWindows()\n"
   ],
   "metadata": {
    "collapsed": false,
    "pycharm": {
     "name": "#%%\n"
    }
   }
  },
  {
   "cell_type": "code",
   "execution_count": null,
   "outputs": [],
   "source": [],
   "metadata": {
    "collapsed": false,
    "pycharm": {
     "name": "#%%\n"
    }
   }
  }
 ],
 "metadata": {
  "kernelspec": {
   "display_name": "Python 3",
   "language": "python",
   "name": "python3"
  },
  "language_info": {
   "codemirror_mode": {
    "name": "ipython",
    "version": 2
   },
   "file_extension": ".py",
   "mimetype": "text/x-python",
   "name": "python",
   "nbconvert_exporter": "python",
   "pygments_lexer": "ipython2",
   "version": "2.7.6"
  }
 },
 "nbformat": 4,
 "nbformat_minor": 0
}