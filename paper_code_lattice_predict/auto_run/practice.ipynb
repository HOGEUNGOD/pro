{
 "cells": [
  {
   "cell_type": "code",
   "execution_count": 13,
   "metadata": {
    "collapsed": true,
    "pycharm": {
     "name": "#%%\n"
    }
   },
   "outputs": [
    {
     "data": {
      "text/plain": "['C:\\\\Users\\\\ghrms\\\\PycharmProjects\\\\project\\\\auto_run',\n 'C:\\\\Users\\\\ghrms\\\\PycharmProjects\\\\project',\n 'C:\\\\Users\\\\ghrms\\\\anaconda3\\\\envs\\\\project\\\\python38.zip',\n 'C:\\\\Users\\\\ghrms\\\\anaconda3\\\\envs\\\\project\\\\DLLs',\n 'C:\\\\Users\\\\ghrms\\\\anaconda3\\\\envs\\\\project\\\\lib',\n 'C:\\\\Users\\\\ghrms\\\\anaconda3\\\\envs\\\\project',\n '',\n 'C:\\\\Users\\\\ghrms\\\\anaconda3\\\\envs\\\\project\\\\lib\\\\site-packages',\n 'C:\\\\Users\\\\ghrms\\\\anaconda3\\\\envs\\\\project\\\\lib\\\\site-packages\\\\win32',\n 'C:\\\\Users\\\\ghrms\\\\anaconda3\\\\envs\\\\project\\\\lib\\\\site-packages\\\\win32\\\\lib',\n 'C:\\\\Users\\\\ghrms\\\\anaconda3\\\\envs\\\\project\\\\lib\\\\site-packages\\\\Pythonwin',\n 'C:\\\\Users\\\\ghrms\\\\anaconda3\\\\envs\\\\project\\\\lib\\\\site-packages\\\\IPython\\\\extensions',\n 'C:\\\\Users\\\\ghrms\\\\.ipython',\n 'C:\\\\Program Files\\\\JetBrains\\\\PyCharm 2020.1.1\\\\plugins\\\\python\\\\helpers\\\\pydev',\n 'C:\\\\Program Files\\\\JetBrains\\\\PyCharm 2020.1.1\\\\plugins\\\\python\\\\helpers-pro\\\\jupyter_debug']"
     },
     "execution_count": 13,
     "metadata": {},
     "output_type": "execute_result"
    }
   ],
   "source": [
    "import sys\n",
    "sys.path"
   ]
  },
  {
   "cell_type": "code",
   "execution_count": 19,
   "outputs": [
    {
     "data": {
      "text/plain": "array([[1, 2],\n       [1, 3],\n       [1, 5],\n       [1, 9],\n       [2, 1],\n       [2, 4],\n       [2, 6],\n       [2, 9],\n       [3, 1],\n       [3, 4],\n       [3, 7],\n       [3, 9],\n       [4, 2],\n       [4, 3],\n       [4, 8],\n       [4, 9],\n       [5, 1],\n       [5, 6],\n       [5, 7],\n       [5, 9],\n       [6, 2],\n       [6, 5],\n       [6, 8],\n       [6, 9],\n       [7, 3],\n       [7, 5],\n       [7, 8],\n       [7, 9],\n       [8, 4],\n       [8, 6],\n       [8, 7],\n       [8, 9],\n       [9, 1],\n       [9, 2],\n       [9, 3],\n       [9, 4],\n       [9, 5],\n       [9, 6],\n       [9, 7],\n       [9, 8]], dtype=int64)"
     },
     "execution_count": 19,
     "metadata": {},
     "output_type": "execute_result"
    }
   ],
   "source": [
    "from scipy.spatial import distance\n",
    "import numpy as np\n",
    "\n",
    "def make_line(coordinates_points):\n",
    "    result= np.where((distance.cdist(coordinates_points,coordinates_points)<=1) &(distance.cdist(coordinates_points,coordinates_points)>0))\n",
    "    return np.c_[result]+1\n",
    "\n",
    "coordinates_points = [(0,0,0),(0,1,0),(1,0,0),(1,1,0),(0,0,1),(0,1,1),(1,0,1),(1,1,1),(0.5,0.5,0.5)\n",
    "                      ]\n",
    "\n",
    "coordinates_lines = [[1,2],[1,3],[1,5],[2,4],[2,6],[3,4],[3,7],[4,8],[5,6],[5,7],[6,8],[7,8],[9,10],[9,11],[9,12],[9,13],[10,11],[10,13],[10,14],[11,12],[11,14],[12,13],[12,14],[13,14]\n",
    "                     ]\n",
    "make_line(coordinates_points)"
   ],
   "metadata": {
    "collapsed": false,
    "pycharm": {
     "name": "#%%\n"
    }
   }
  },
  {
   "cell_type": "code",
   "execution_count": 12,
   "outputs": [
    {
     "data": {
      "text/plain": "  structure                                 coordinates_points\n0       BCC  [(0, 0, 0), (0, 1, 0), (1, 0, 0), (1, 1, 0), (...\n1     batio  [(0, 0, 0), (0, 1, 0), (1, 0, 0), (1, 1, 0), (...",
      "text/html": "<div>\n<style scoped>\n    .dataframe tbody tr th:only-of-type {\n        vertical-align: middle;\n    }\n\n    .dataframe tbody tr th {\n        vertical-align: top;\n    }\n\n    .dataframe thead th {\n        text-align: right;\n    }\n</style>\n<table border=\"1\" class=\"dataframe\">\n  <thead>\n    <tr style=\"text-align: right;\">\n      <th></th>\n      <th>structure</th>\n      <th>coordinates_points</th>\n    </tr>\n  </thead>\n  <tbody>\n    <tr>\n      <th>0</th>\n      <td>BCC</td>\n      <td>[(0, 0, 0), (0, 1, 0), (1, 0, 0), (1, 1, 0), (...</td>\n    </tr>\n    <tr>\n      <th>1</th>\n      <td>batio</td>\n      <td>[(0, 0, 0), (0, 1, 0), (1, 0, 0), (1, 1, 0), (...</td>\n    </tr>\n  </tbody>\n</table>\n</div>"
     },
     "execution_count": 12,
     "metadata": {},
     "output_type": "execute_result"
    }
   ],
   "source": [
    "import pandas as pd\n",
    "\n",
    "df =  pd.DataFrame(columns=['structure', 'coordinates_points'])\n",
    "row = pd.Series(['BCC',[(0,0,0),(0,1,0),(1,0,0),(1,1,0),(0,0,1),(0,1,1),(1,0,1),(1,1,1),(0.5,0.5,0.5)]],\n",
    "            index=['structure', 'coordinates_points'])\n",
    "df = df.append(row, ignore_index=True)\n",
    "row = pd.Series(['batio',coordinates_points],\n",
    "            index=['structure', 'coordinates_points'])\n",
    "df = df.append(row, ignore_index=True)\n",
    "df"
   ],
   "metadata": {
    "collapsed": false,
    "pycharm": {
     "name": "#%%\n"
    }
   }
  },
  {
   "cell_type": "code",
   "execution_count": 13,
   "outputs": [],
   "source": [
    "df.to_csv('./data/coordinates_points_data.csv', index=False)"
   ],
   "metadata": {
    "collapsed": false,
    "pycharm": {
     "name": "#%%\n"
    }
   }
  },
  {
   "cell_type": "code",
   "execution_count": 35,
   "outputs": [
    {
     "data": {
      "text/plain": "[<matplotlib.lines.Line2D at 0x19ac8127dc0>]"
     },
     "execution_count": 35,
     "metadata": {},
     "output_type": "execute_result"
    },
    {
     "data": {
      "text/plain": "<Figure size 432x288 with 1 Axes>",
      "image/png": "[encoded data removed]"
     },
     "metadata": {
      "needs_background": "light"
     },
     "output_type": "display_data"
    }
   ],
   "source": [
    "import matplotlib.pyplot as plt\n",
    "import pandas as pd\n",
    "from scipy.stats import linregress\n",
    "\n",
    "df = pd.read_excel('../bcc.xlsx')\n",
    "\n",
    "\n",
    "plt.plot(df['strain'], df['stress'])"
   ],
   "metadata": {
    "collapsed": false,
    "pycharm": {
     "name": "#%%\n"
    }
   }
  },
  {
   "cell_type": "code",
   "execution_count": 36,
   "outputs": [
    {
     "data": {
      "text/plain": "[<matplotlib.lines.Line2D at 0x19ac80de5b0>,\n <matplotlib.lines.Line2D at 0x19ac80de670>]"
     },
     "execution_count": 36,
     "metadata": {},
     "output_type": "execute_result"
    },
    {
     "data": {
      "text/plain": "<Figure size 432x288 with 1 Axes>",
      "image/png": "[encoded data removed]"
     },
     "metadata": {
      "needs_background": "light"
     },
     "output_type": "display_data"
    }
   ],
   "source": [
    "elastic_min_stress = 2\n",
    "elastic_max_stress = 8\n",
    "\n",
    "\n",
    "e_stress = df.stress[df.stress.between(elastic_min_stress,elastic_max_stress)]\n",
    "e_strain = df.strain[df.stress.between(elastic_min_stress,elastic_max_stress)]\n",
    "res = linregress(e_strain, e_stress)\n",
    "youngs_modulus = res[0]\n",
    "stress_offset = youngs_modulus*(df.strain - 0.002)\n",
    "plt.plot(df.strain, df.stress, df.strain, stress_offset)"
   ],
   "metadata": {
    "collapsed": false,
    "pycharm": {
     "name": "#%%\n"
    }
   }
  },
  {
   "cell_type": "code",
   "execution_count": 37,
   "outputs": [
    {
     "name": "stdout",
     "output_type": "stream",
     "text": [
      "youngs modulus: 121.13005876305743 \n",
      " yield_point 8.930860663525548\n"
     ]
    }
   ],
   "source": [
    "for i in range(2, len(df.strain)):\n",
    "    #when the offset line is first goes above the stress strain curve...\n",
    "    if stress_offset[i] > df.stress[i]:\n",
    "        # pull out the points from the stress strain curve\n",
    "        sx1 = df.strain[i-1]\n",
    "        sy1 = df.stress[i-1]\n",
    "        sy2 = df.stress[i]\n",
    "        sx2 = df.strain[i]\n",
    "        # pull out the points from the 0.002 offset line\n",
    "        ox1 = df.strain[i-1]\n",
    "        oy1 = stress_offset[i-1]\n",
    "        ox2 = df.strain[i]\n",
    "        oy2 = stress_offset[i]\n",
    "        break\n",
    "x1 = ox1\n",
    "y1 = oy1\n",
    "x2 = ox2\n",
    "y2 = oy2\n",
    "x3 = sx1\n",
    "y3 = sy1\n",
    "x4 = sx2\n",
    "y4 = sy2\n",
    "\n",
    "YS = ( (x1*y2-y1*x2)*(y3-y4) - (y1-y2)*(x3*y4-y3*x4)  ) / ( ( (x1-x2) * (y3-y4) ) - ( (y1-y2)*(x3-x4) ))\n",
    "\n",
    "print('youngs modulus:', youngs_modulus,'\\n yield_point', YS)\n",
    " "
   ],
   "metadata": {
    "collapsed": false,
    "pycharm": {
     "name": "#%%\n"
    }
   }
  }
 ],
 "metadata": {
  "kernelspec": {
   "display_name": "Python 3",
   "language": "python",
   "name": "python3"
  },
  "language_info": {
   "codemirror_mode": {
    "name": "ipython",
    "version": 2
   },
   "file_extension": ".py",
   "mimetype": "text/x-python",
   "name": "python",
   "nbconvert_exporter": "python",
   "pygments_lexer": "ipython2",
   "version": "2.7.6"
  }
 },
 "nbformat": 4,
 "nbformat_minor": 0
}