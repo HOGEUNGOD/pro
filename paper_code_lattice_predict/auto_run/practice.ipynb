{
 "cells": [
  {
   "cell_type": "code",
   "execution_count": 13,
   "metadata": {
    "collapsed": true,
    "pycharm": {
     "name": "#%%\n"
    }
   },
   "outputs": [
    {
     "data": {
      "text/plain": "['C:\\\\Users\\\\ghrms\\\\PycharmProjects\\\\project\\\\auto_run',\n 'C:\\\\Users\\\\ghrms\\\\PycharmProjects\\\\project',\n 'C:\\\\Users\\\\ghrms\\\\anaconda3\\\\envs\\\\project\\\\python38.zip',\n 'C:\\\\Users\\\\ghrms\\\\anaconda3\\\\envs\\\\project\\\\DLLs',\n 'C:\\\\Users\\\\ghrms\\\\anaconda3\\\\envs\\\\project\\\\lib',\n 'C:\\\\Users\\\\ghrms\\\\anaconda3\\\\envs\\\\project',\n '',\n 'C:\\\\Users\\\\ghrms\\\\anaconda3\\\\envs\\\\project\\\\lib\\\\site-packages',\n 'C:\\\\Users\\\\ghrms\\\\anaconda3\\\\envs\\\\project\\\\lib\\\\site-packages\\\\win32',\n 'C:\\\\Users\\\\ghrms\\\\anaconda3\\\\envs\\\\project\\\\lib\\\\site-packages\\\\win32\\\\lib',\n 'C:\\\\Users\\\\ghrms\\\\anaconda3\\\\envs\\\\project\\\\lib\\\\site-packages\\\\Pythonwin',\n 'C:\\\\Users\\\\ghrms\\\\anaconda3\\\\envs\\\\project\\\\lib\\\\site-packages\\\\IPython\\\\extensions',\n 'C:\\\\Users\\\\ghrms\\\\.ipython',\n 'C:\\\\Program Files\\\\JetBrains\\\\PyCharm 2020.1.1\\\\plugins\\\\python\\\\helpers\\\\pydev',\n 'C:\\\\Program Files\\\\JetBrains\\\\PyCharm 2020.1.1\\\\plugins\\\\python\\\\helpers-pro\\\\jupyter_debug']"
     },
     "execution_count": 13,
     "metadata": {},
     "output_type": "execute_result"
    }
   ],
   "source": [
    "import sys\n",
    "sys.path"
   ]
  },
  {
   "cell_type": "code",
   "execution_count": 19,
   "outputs": [
    {
     "data": {
      "text/plain": "array([[1, 2],\n       [1, 3],\n       [1, 5],\n       [1, 9],\n       [2, 1],\n       [2, 4],\n       [2, 6],\n       [2, 9],\n       [3, 1],\n       [3, 4],\n       [3, 7],\n       [3, 9],\n       [4, 2],\n       [4, 3],\n       [4, 8],\n       [4, 9],\n       [5, 1],\n       [5, 6],\n       [5, 7],\n       [5, 9],\n       [6, 2],\n       [6, 5],\n       [6, 8],\n       [6, 9],\n       [7, 3],\n       [7, 5],\n       [7, 8],\n       [7, 9],\n       [8, 4],\n       [8, 6],\n       [8, 7],\n       [8, 9],\n       [9, 1],\n       [9, 2],\n       [9, 3],\n       [9, 4],\n       [9, 5],\n       [9, 6],\n       [9, 7],\n       [9, 8]], dtype=int64)"
     },
     "execution_count": 19,
     "metadata": {},
     "output_type": "execute_result"
    }
   ],
   "source": [
    "from scipy.spatial import distance\n",
    "import numpy as np\n",
    "\n",
    "def make_line(coordinates_points):\n",
    "    result= np.where((distance.cdist(coordinates_points,coordinates_points)<=1) &(distance.cdist(coordinates_points,coordinates_points)>0))\n",
    "    return np.c_[result]+1\n",
    "\n",
    "coordinates_points = [(0,0,0),(0,1,0),(1,0,0),(1,1,0),(0,0,1),(0,1,1),(1,0,1),(1,1,1),(0.5,0.5,0.5)\n",
    "                      ]\n",
    "\n",
    "coordinates_lines = [[1,2],[1,3],[1,5],[2,4],[2,6],[3,4],[3,7],[4,8],[5,6],[5,7],[6,8],[7,8],[9,10],[9,11],[9,12],[9,13],[10,11],[10,13],[10,14],[11,12],[11,14],[12,13],[12,14],[13,14]\n",
    "                     ]\n",
    "make_line(coordinates_points)"
   ],
   "metadata": {
    "collapsed": false,
    "pycharm": {
     "name": "#%%\n"
    }
   }
  },
  {
   "cell_type": "code",
   "execution_count": 12,
   "outputs": [
    {
     "data": {
      "text/plain": "  structure                                 coordinates_points\n0       BCC  [(0, 0, 0), (0, 1, 0), (1, 0, 0), (1, 1, 0), (...\n1     batio  [(0, 0, 0), (0, 1, 0), (1, 0, 0), (1, 1, 0), (...",
      "text/html": "<div>\n<style scoped>\n    .dataframe tbody tr th:only-of-type {\n        vertical-align: middle;\n    }\n\n    .dataframe tbody tr th {\n        vertical-align: top;\n    }\n\n    .dataframe thead th {\n        text-align: right;\n    }\n</style>\n<table border=\"1\" class=\"dataframe\">\n  <thead>\n    <tr style=\"text-align: right;\">\n      <th></th>\n      <th>structure</th>\n      <th>coordinates_points</th>\n    </tr>\n  </thead>\n  <tbody>\n    <tr>\n      <th>0</th>\n      <td>BCC</td>\n      <td>[(0, 0, 0), (0, 1, 0), (1, 0, 0), (1, 1, 0), (...</td>\n    </tr>\n    <tr>\n      <th>1</th>\n      <td>batio</td>\n      <td>[(0, 0, 0), (0, 1, 0), (1, 0, 0), (1, 1, 0), (...</td>\n    </tr>\n  </tbody>\n</table>\n</div>"
     },
     "execution_count": 12,
     "metadata": {},
     "output_type": "execute_result"
    }
   ],
   "source": [
    "import pandas as pd\n",
    "\n",
    "df =  pd.DataFrame(columns=['structure', 'coordinates_points'])\n",
    "row = pd.Series(['BCC',[(0,0,0),(0,1,0),(1,0,0),(1,1,0),(0,0,1),(0,1,1),(1,0,1),(1,1,1),(0.5,0.5,0.5)]],\n",
    "            index=['structure', 'coordinates_points'])\n",
    "df = df.append(row, ignore_index=True)\n",
    "row = pd.Series(['batio',coordinates_points],\n",
    "            index=['structure', 'coordinates_points'])\n",
    "df = df.append(row, ignore_index=True)\n",
    "df"
   ],
   "metadata": {
    "collapsed": false,
    "pycharm": {
     "name": "#%%\n"
    }
   }
  },
  {
   "cell_type": "code",
   "execution_count": 13,
   "outputs": [],
   "source": [
    "df.to_csv('./data/coordinates_points_data.csv', index=False)"
   ],
   "metadata": {
    "collapsed": false,
    "pycharm": {
     "name": "#%%\n"
    }
   }
  },
  {
   "cell_type": "code",
   "execution_count": 18,
   "outputs": [
    {
     "data": {
      "text/plain": "['[', '1', ',', '2', ',', '3', ']']"
     },
     "execution_count": 18,
     "metadata": {},
     "output_type": "execute_result"
    }
   ],
   "source": [
    "import pandas as pd\n",
    "df = pd.read_csv('./data/coordinates_points_data.csv')\n",
    "\n",
    "df\n",
    "\n"
   ],
   "metadata": {
    "collapsed": false,
    "pycharm": {
     "name": "#%%\n"
    }
   }
  }
 ],
 "metadata": {
  "kernelspec": {
   "display_name": "Python 3",
   "language": "python",
   "name": "python3"
  },
  "language_info": {
   "codemirror_mode": {
    "name": "ipython",
    "version": 2
   },
   "file_extension": ".py",
   "mimetype": "text/x-python",
   "name": "python",
   "nbconvert_exporter": "python",
   "pygments_lexer": "ipython2",
   "version": "2.7.6"
  }
 },
 "nbformat": 4,
 "nbformat_minor": 0
}