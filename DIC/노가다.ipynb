{
 "cells": [
  {
   "cell_type": "code",
   "execution_count": null,
   "metadata": {
    "collapsed": true
   },
   "outputs": [],
   "source": [
    "\n",
    "\n",
    "from scipy import io\n",
    "import matplotlib.pyplot as plt\n",
    "\"\"\"\n",
    "\n",
    "#mat save code\n",
    "exx = handles_ncorr.data_dic.strains.plot_exx_cur_formatted\n",
    "eyy = handles_ncorr.data_dic.strains.plot_eyy_cur_formatted\n",
    "roi_cur = handles_ncorr.data_dic.strains.roi_cur_formatted\n",
    "\"\"\"\n",
    "\n",
    "\n",
    "mat_path = 'E:\\experiment data/aluminum/2021-01-27/0.05mmsec_125f_epoxy_dic/dic_mat/'\n",
    "exx = io.loadmat(mat_path+'num8_exx.mat')['exx'][145:268, 20:133]\n",
    "eyy = io.loadmat(mat_path+'num8_eyy.mat')['eyy'][145:268, 20:133]\n",
    "crack= (79,59) # x, y\n",
    "print(crack)\n",
    "num = []\n",
    "for _ in range(20):\n",
    "    i = np.random.randint(0,60) #x\n",
    "    j = np.random.randint(0,123) #y\n",
    "    num.append([i,j])\n",
    "\n",
    "plt.imshow(eyy, cmap='gray')\n",
    "plt.scatter(81,61, cmap='red' )\n",
    "plt.show()\n",
    "\n",
    "from scipy.spatial import distance\n",
    "\n",
    "length = []\n",
    "for a in num:\n",
    "    lengthg = distance.cdist([crack], [a]) * 0.0303030303\n",
    "    length.append(lengthg)\n",
    "\n",
    "\n",
    "mir = num.copy()\n",
    "\n",
    "mir_ = []\n",
    "for i in range(20):\n",
    "    y_ = mir[i][1]-crack[1]\n",
    "    x_ = (mir[i][0]-crack[0])*-1\n",
    "    mir_.append([x_,y_])\n",
    "\n",
    "mir_\n",
    "def cart2pol(x, y):\n",
    "    rho = np.sqrt(x**2 + y**2)\n",
    "    phi = np.arctan2(y, x)\n",
    "    degree = math.degrees(phi)\n",
    "    return(rho, degree)\n",
    "theta = []\n",
    "r  = []\n",
    "for i in range(20):\n",
    "    theta.append(cart2pol(mir_[i][0], mir_[i][1])[1])\n",
    "    r.append(cart2pol(mir_[i][0], mir_[i][1])[0]*0.030303030)\n",
    "\n",
    "theta\n",
    "r\n",
    "\n",
    "wil = []\n",
    "for a, b in zip(r, theta):\n",
    "    wil.append(Williams_sigmayy(a*0.001, b))\n",
    "wil\n",
    "\n",
    "num #x, y_\n",
    "exxxx = []\n",
    "eyyyy = []\n",
    "\n",
    "for c,d in num:\n",
    "    exxxx.append(exx[d, c])\n",
    "    eyyyy.append(eyy[d, c])\n",
    "\n",
    "tot = []\n",
    "for e,f in zip(exxxx,eyyyy,):\n",
    "    tot.append(hookes_law_sigmayy(71700,0.33,e,f))\n",
    "tot\n",
    "\n",
    "tott = np.reshape(tot,[-1,1])\n",
    "KKKK = np.dot(np.linalg.inv(np.dot(np.transpose(wil),wil)),np.dot(np.transpose(wil),tott))\n",
    "KKKK"
   ]
  },
  {
   "cell_type": "code",
   "execution_count": null,
   "outputs": [],
   "source": [
    "def ASTM_E399(Pq,a,B,W):\n",
    "    \"\"\"B is thickness, W is width, Pq is stress, A is crack length\"\"\"\n",
    "\n",
    "    f_in = a/W\n",
    "    f=((2+f_in)*(0.886+4.64*f_in-13.32*(f_in**2)+14.72*(f_in**3)-5.6*(f_in**4)))/((1-f_in)**1.5)\n",
    "    kq=(Pq*f)/(B*(W**0.5))\n",
    "    return kq\n",
    "ASTM_E399(0.275269*3000,0.00938601+0.015, 0.003,0.04)\n",
    "#0.275269 *3000  ,0.9386010+1.5,3,4)"
   ],
   "metadata": {
    "collapsed": false,
    "pycharm": {
     "name": "#%%\n"
    }
   }
  }
 ],
 "metadata": {
  "kernelspec": {
   "display_name": "Python 3",
   "language": "python",
   "name": "python3"
  },
  "language_info": {
   "codemirror_mode": {
    "name": "ipython",
    "version": 2
   },
   "file_extension": ".py",
   "mimetype": "text/x-python",
   "name": "python",
   "nbconvert_exporter": "python",
   "pygments_lexer": "ipython2",
   "version": "2.7.6"
  }
 },
 "nbformat": 4,
 "nbformat_minor": 0
}