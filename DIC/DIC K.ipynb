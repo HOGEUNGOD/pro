{
 "cells": [
  {
   "cell_type": "code",
   "execution_count": 9,
   "metadata": {
    "collapsed": true,
    "pycharm": {
     "name": "#%%\n"
    }
   },
   "outputs": [],
   "source": [
    "import matplotlib.pyplot as plt\n",
    "import os\n",
    "import cv2\n",
    "import sys\n",
    "from scipy import io\n",
    "import pandas as pd\n",
    "from scipy.spatial import distance\n",
    "import numpy as np\n",
    "import math\n",
    "\n",
    "\n",
    "def ASTM_E399(Pq,a,B,W):\n",
    "    \"\"\"B is thickness(cm), W is width(cm), Pq is stress(kN), A is crack length(cm)\"\"\"\n",
    "    f_in = a/W\n",
    "    f=((2+f_in)*(0.886+4.64*f_in-13.32*(f_in**2)+14.72*(f_in**3)-5.6*(f_in**4)))/((1-f_in)**1.5)\n",
    "    kq=(Pq*f)/(B*(W**0.5))\n",
    "    return kq\n",
    "\n",
    "def hookes_law_sigmayy(YoungsModulus, Poisson, strain_xx, strain_yy):\n",
    "    sigma_yy = YoungsModulus*(strain_xx*Poisson + strain_yy)/(1-Poisson**2)\n",
    "    return sigma_yy\n",
    "\n",
    "def Williams_sigmayy(r, theta):\n",
    "    theta = math.radians(theta)\n",
    "    K1_coefficient = np.cos(theta/2) * (1 + np.sin(theta/2) * np.sin(3 * theta / 2)) / (2 * np.pi * r) ** 0.5\n",
    "    K2_coefficient = np.sin(theta/2) * np.cos(theta/2) * np.cos(3*theta/2) / (2 * np.pi * r) ** 0.5\n",
    "    return [K1_coefficient, K2_coefficient]\n",
    "\n",
    "def cart2pol(x, y):\n",
    "    rho = np.sqrt(x**2 + y**2)\n",
    "    phi = np.arctan2(y, x)\n",
    "    degree = math.degrees(phi)\n",
    "    return(rho, degree)\n",
    "\n",
    "def pol2cart(rho, phi):\n",
    "    x = rho * np.cos(phi)\n",
    "    y = rho * np.sin(phi)\n",
    "    return(x, y)\n",
    "\n",
    "def make_mask(path, num):\n",
    "    class PolygonDrawer(object):\n",
    "        def __init__(self, window_name):\n",
    "            self.window_name = window_name # Name for our window\n",
    "            self.done = False # Flag signalling we're done\n",
    "            self.current = (0, 0) # Current position, so we can draw the line-in-progress\n",
    "            self.points = [] # List of points defining our polygon\n",
    "\n",
    "        def on_mouse(self, event, x, y, buttons, user_param):\n",
    "            # Mouse callback that gets called for every mouse event (i.e. moving, clicking, etc.)\n",
    "            if self.done: # Nothing more to do\n",
    "                return\n",
    "            if event == cv2.EVENT_MOUSEMOVE:\n",
    "                # We want to be able to draw the line-in-progress, so update current mouse position\n",
    "                self.current = (x, y)\n",
    "            elif event == cv2.EVENT_LBUTTONDOWN:\n",
    "                # Left click means adding a point at current position to the list of points\n",
    "                # print(\"Adding point #%d with position(%d,%d)\" % (len(self.points), x, y))\n",
    "                self.points.append((x, y))\n",
    "            elif event == cv2.EVENT_RBUTTONDOWN:\n",
    "                # Right click means we're done\n",
    "                print(\"Completing polygon with %d points.\" % len(self.points))\n",
    "                self.done = True\n",
    "\n",
    "\n",
    "        def run(self):\n",
    "            # Let's create our working window and set a mouse callback to handle events\n",
    "            cv2.namedWindow(self.window_name)\n",
    "            cv2.imshow(self.window_name, np.zeros(CANVAS_SIZE, np.uint8))\n",
    "            cv2.waitKey(1)\n",
    "            cv2.setMouseCallback(self.window_name, self.on_mouse)\n",
    "\n",
    "            while(not self.done):\n",
    "                # This is our drawing loop, we just continuously draw new images\n",
    "                # and show them in the named window\n",
    "                canvas = image\n",
    "                if (len(self.points) > 0):\n",
    "                    # Draw all the current polygon segments\n",
    "                    cv2.polylines(canvas, np.array([self.points]), False, (255, 255, 255), 1)\n",
    "                    # And  also show what the current segment would look like\n",
    "                    # cv2.line(canvas, self.points[-1], self.current, WORKING_LINE_COLOR)\n",
    "                # Update the window\n",
    "                cv2.imshow(self.window_name, canvas)\n",
    "                # And wait 50ms before next iteration (this will pump window messages meanwhile)\n",
    "                if cv2.waitKey(50) == 27: # ESC hit\n",
    "                    self.done = True\n",
    "\n",
    "            # User finised entering the polygon points, so let's make the final drawing\n",
    "            canvas = image\n",
    "            # of a filled polygon\n",
    "            if (len(self.points) > 0):\n",
    "                cv2.fillPoly(canvas, np.array([self.points]), (255, 255, 255))\n",
    "                # print(np.array([self.points]))\n",
    "\n",
    "            # And show it\n",
    "            cv2.imshow(self.window_name, canvas)\n",
    "            # Waiting for the user to press any key\n",
    "            cv2.waitKey()\n",
    "            cv2.destroyWindow(self.window_name)\n",
    "\n",
    "            return canvas, self.points\n",
    "\n",
    "    file_list = os.listdir(path)\n",
    "    img = [file for file in file_list if file.endswith(\".jpg\")]\n",
    "    image = cv2.imread(path+'/'+img[num], cv2.IMREAD_GRAYSCALE)\n",
    "\n",
    "    if image is None:\n",
    "        print('Image load failed!')\n",
    "        sys.exit()\n",
    "    x, y, w, h = cv2.selectROI(image)\n",
    "    cv2.destroyAllWindows()\n",
    "\n",
    "    cv2.rectangle(image, (x,y), (x+w,y+h),(0,0,0),2)\n",
    "    CANVAS_SIZE = np.shape(image)\n",
    "\n",
    "    poly = PolygonDrawer(\"Polygon\")\n",
    "    _, poly_points = poly.run()\n",
    "\n",
    "    ##mask part\n",
    "    mask = np.zeros(np.shape(image))\n",
    "    mask[y:y+h, x:x+w] = 255\n",
    "    cv2.fillPoly(mask, np.array([poly_points]), (0,0,0))\n",
    "    cv2.imshow('mask', mask)\n",
    "\n",
    "    #%% save part\n",
    "    cv2.imwrite(path+'/'+str(num)+'.png',mask)\n",
    "    cv2.waitKey()\n",
    "    cv2.destroyAllWindows()\n",
    "\n",
    "    return x, y ,w ,h\n",
    "\n",
    "\n",
    "\n",
    "class Crack_tip():\n",
    "    def __init__(self, ratio):\n",
    "        \"\"\" x, y 는 좌표, point 는 리스트로 x,y좌표 모아줌, count는 좌표 몇개, 길이, 1픽셀당 mm(mm/1픽셀)\"\"\"\n",
    "        self.x = 0\n",
    "        self.y =0\n",
    "        self.point = []\n",
    "        self.count= -1\n",
    "        self.length = 0\n",
    "        self.ratio = ratio\n",
    "        self.df = pd.DataFrame(index = range(0,3), columns=['index', 'length',  'length(add)', 'x', 'y'])\n",
    "        return\n",
    "\n",
    "    def inital(self, x, y):\n",
    "        self.x = x\n",
    "        self.y= y\n",
    "        self.point.append([[x,y]])\n",
    "        self.df.loc[0] = [self.count+1, 0 , 0 , x, y]\n",
    "        self.count +=1\n",
    "\n",
    "\n",
    "    def append(self, x, y):\n",
    "        self.x =x\n",
    "        self.y= y\n",
    "        self.point.append([[x,y]])\n",
    "        self.count +=1\n",
    "        self.length = distance.cdist(self.point[self.count-1], self.point[self.count]) * self.ratio\n",
    "        self.df.loc[self.count] = [self.count, self.length ,self.length + self.df[\"length(add)\"][self.count-1], x, y]\n",
    "\n",
    "\n",
    "    def position(self):\n",
    "        return self.point\n",
    "\n",
    "    def all_position(self):\n",
    "        return self.df\n",
    "    pass"
   ]
  },
  {
   "cell_type": "code",
   "execution_count": 8,
   "outputs": [
    {
     "name": "stdout",
     "output_type": "stream",
     "text": [
      "Enter initial position\n",
      "done\n"
     ]
    }
   ],
   "source": [
    "crack = Crack_tip(0.03)\n",
    "crack.inital(500,600)\n",
    "crack.all_position()"
   ],
   "metadata": {
    "collapsed": false,
    "pycharm": {
     "name": "#%%\n"
    }
   }
  },
  {
   "cell_type": "code",
   "execution_count": 11,
   "outputs": [],
   "source": [
    "\n",
    "\"\"\"\n",
    "step1. make mask reference, current\n",
    "\n",
    "\"\"\"\n",
    "\n",
    "\n",
    "path = r'C:\\Users\\ghrms\\Desktop\\DIC'\n",
    "ref_xywh = make_mask(path, 0)\n",
    "cur_xywh = make_mask(path, 1) #path, image number in folder"
   ],
   "metadata": {
    "collapsed": false,
    "pycharm": {
     "name": "#%%\n"
    }
   }
  },
  {
   "cell_type": "code",
   "execution_count": 311,
   "outputs": [
    {
     "name": "stdout",
     "output_type": "stream",
     "text": [
      "(79, 59)\n"
     ]
    },
    {
     "data": {
      "text/plain": "<Figure size 432x288 with 1 Axes>",
      "image/png": "[encoded data removed]"
     },
     "metadata": {
      "needs_background": "light"
     },
     "output_type": "display_data"
    },
    {
     "data": {
      "text/plain": "array([[ 88.72946865],\n       [-55.01518115]])"
     },
     "execution_count": 311,
     "metadata": {},
     "output_type": "execute_result"
    }
   ],
   "source": [
    "\n",
    "\"\"\"\n",
    "\n",
    "#mat save code\n",
    "exx = handles_ncorr.data_dic.strains.plot_exx_cur_formatted\n",
    "eyy = handles_ncorr.data_dic.strains.plot_eyy_cur_formatted\n",
    "roi_cur = handles_ncorr.data_dic.strains.roi_cur_formatted\n",
    "\"\"\"\n",
    "\n",
    "\n",
    "mat_path = 'E:\\experiment data/aluminum/2021-01-27/0.05mmsec_125f_epoxy_dic/dic_mat/'\n",
    "exx = io.loadmat(mat_path+'num8_exx.mat')['exx']\n",
    "eyy = io.loadmat(mat_path+'num8_eyy.mat')['eyy']"
   ],
   "metadata": {
    "collapsed": false,
    "pycharm": {
     "name": "#%%\n"
    }
   }
  },
  {
   "cell_type": "code",
   "execution_count": 75,
   "outputs": [
    {
     "name": "stdout",
     "output_type": "stream",
     "text": [
      "[[-10.  -0.]\n",
      " [-10.  -2.]\n",
      " [ -9.  -3.]\n",
      " [ -9.  -5.]\n",
      " [ -8.  -6.]\n",
      " [ -6.  -8.]\n",
      " [ -5.  -9.]\n",
      " [ -3.  -9.]\n",
      " [ -2. -10.]\n",
      " [  0. -10.]\n",
      " [  2. -10.]\n",
      " [  3.  -9.]\n",
      " [  5.  -9.]\n",
      " [  6.  -8.]\n",
      " [  8.  -6.]\n",
      " [  9.  -5.]\n",
      " [  9.  -3.]\n",
      " [ 10.  -2.]\n",
      " [ 10.   0.]\n",
      " [ 10.   2.]\n",
      " [  9.   3.]\n",
      " [  9.   5.]\n",
      " [  8.   6.]\n",
      " [  6.   8.]\n",
      " [  5.   9.]\n",
      " [  3.   9.]\n",
      " [  2.  10.]\n",
      " [  0.  10.]\n",
      " [ -2.  10.]\n",
      " [ -3.   9.]\n",
      " [ -5.   9.]\n",
      " [ -6.   8.]\n",
      " [ -8.   6.]\n",
      " [ -9.   5.]\n",
      " [ -9.   3.]\n",
      " [-10.   2.]\n",
      " [-10.   0.]]\n"
     ]
    },
    {
     "data": {
      "text/plain": "<matplotlib.collections.PathCollection at 0x204de6d66d0>"
     },
     "execution_count": 75,
     "metadata": {},
     "output_type": "execute_result"
    },
    {
     "data": {
      "text/plain": "<Figure size 432x288 with 1 Axes>",
      "image/png": "[encoded data removed]"
     },
     "metadata": {
      "needs_background": "light"
     },
     "output_type": "display_data"
    }
   ],
   "source": [
    "import numpy as np\n",
    "import matplotlib.pyplot as plt\n",
    "\n",
    "def cart2pol(x, y):\n",
    "    \"\"\"out put : dgree, rho\"\"\"\n",
    "    rho = np.sqrt(x**2 + y**2)\n",
    "    phi = np.arctan2(y, x)\n",
    "    degree = np.rad2deg(phi).reshape([-1,1])\n",
    "    out = np. hstack((rho,degree))\n",
    "    return out\n",
    "\n",
    "def pol2cart(rho, degree):\n",
    "    \"\"\"in put : degree, rho\"\"\"\n",
    "    phi = np.deg2rad(degree).reshape([-1,1])\n",
    "    x = rho * np.cos(phi)\n",
    "    y = rho * np.sin(phi)\n",
    "    out = np.hstack((x, y))\n",
    "    return out\n",
    "\n",
    "radius = 10\n",
    "degree = np.arange(-180, 180+10 ,10)\n",
    "degree.reshape([-1,1])\n",
    "rho = np.ones([degree.shape[0],1]) * radius\n",
    "\n",
    "print(pol2cart(rho, degree).round())\n",
    "x = pol2cart(rho, degree).round()[:,0]\n",
    "y = pol2cart(rho, degree).round()[:,1]\n",
    "\n",
    "plt.scatter(x, y)\n"
   ],
   "metadata": {
    "collapsed": false,
    "pycharm": {
     "name": "#%%\n"
    }
   }
  }
 ],
 "metadata": {
  "kernelspec": {
   "display_name": "Python 3",
   "language": "python",
   "name": "python3"
  },
  "language_info": {
   "codemirror_mode": {
    "name": "ipython",
    "version": 2
   },
   "file_extension": ".py",
   "mimetype": "text/x-python",
   "name": "python",
   "nbconvert_exporter": "python",
   "pygments_lexer": "ipython2",
   "version": "2.7.6"
  }
 },
 "nbformat": 4,
 "nbformat_minor": 0
}