{
 "cells": [
  {
   "cell_type": "code",
   "execution_count": 23,
   "metadata": {
    "collapsed": true,
    "pycharm": {
     "name": "#%%\n"
    }
   },
   "outputs": [],
   "source": [
    "import DIC as dic\n",
    "import cv2\n",
    "import numpy as np\n",
    "import matplotlib.pyplot as plt\n",
    "import pandas as pd\n",
    "\n",
    "def getGrayHistImage(hist):\n",
    "    imgHist = np.full((100,256),255, dtype=np.uint8)\n",
    "\n",
    "    histMax = np.max(hist)\n",
    "    for x in range(256):\n",
    "        pt1 = (x,100)\n",
    "        pt2 = (x, 100 - int(hist[x,0]*100 /histMax))\n",
    "        cv2.line(imgHist, pt1,pt2,0)\n",
    "\n",
    "    return imgHist\n",
    "\n",
    "def on_threshhold(pos):\n",
    "    _, dst = cv2.threshold(src, pos, 255, cv2.THRESH_BINARY)\n",
    "    cv2.imshow('dst', dst)\n",
    "\n",
    "path = r'E:\\experiment data\\aluminum\\2021-03-30\\AL IMAGE\\CTS_UVon_HSC'\n",
    "num = 4\n",
    "\n",
    "image = dic.load_file(path)\n",
    "img = image[list(image.keys())[num]][:,:,1]\n",
    "\n",
    "# img = np.where(img<75, 75, img)\n",
    "# img = np.where(img>100, 100, img)\n",
    "cur=img[331:447,214:309]\n",
    "# cur = cv2.normalize(img,None, 0 ,255, cv2.NORM_MINMAX)\n",
    "# cur = cv2.equalizeHist(img)\n",
    "# alpha = 1.5\n",
    "# cur = np.clip((1+alpha)*img - 128*alpha, 0, 255).astype(np.uint8)\n",
    "\n",
    "\n",
    "src = cur.astype('uint8')\n",
    "hist = cv2.calcHist([src],[0],None, [256],[0,256])\n",
    "histImg = getGrayHistImage(hist)\n",
    "\n",
    "\n",
    "cv2.imshow('src',src)\n",
    "cv2.imshow('histImg', histImg)\n",
    "# cv2.namedWindow('dst')\n",
    "# cv2.createTrackbar('Treshold', 'dst', 0, 255, on_threshhold)\n",
    "# cv2.setTrackbarPos('Treshold', 'dst', 125)\n",
    "\n",
    "cv2.waitKey()\n",
    "# cv2.imwrite(path+'/haaag%s.png'%list(image.keys())[num],src)\n",
    "# cv2.imwrite(path+'/histogram%s.png'%list(image.keys())[num],histImg)\n",
    "cv2.destroyAllWindows()\n"
   ]
  },
  {
   "cell_type": "code",
   "execution_count": 26,
   "outputs": [
    {
     "data": {
      "text/plain": "(array([[239.,   2.,   2.,   2.,   1.,   1.,   2.,   2.,   1.,   3.],\n        [256.,   0.,   0.,   0.,   0.,   0.,   0.,   0.,   0.,   0.]]),\n array([   0. ,  119.7,  239.4,  359.1,  478.8,  598.5,  718.2,  837.9,\n         957.6, 1077.3, 1197. ]),\n <a list of 2 BarContainer objects>)"
     },
     "execution_count": 26,
     "metadata": {},
     "output_type": "execute_result"
    },
    {
     "data": {
      "text/plain": "<Figure size 432x288 with 1 Axes>",
      "image/png": "[encoded data removed]"
     },
     "metadata": {
      "needs_background": "light"
     },
     "output_type": "display_data"
    }
   ],
   "source": [
    "plt.hist(np.histogram(src, bins=255), )"
   ],
   "metadata": {
    "collapsed": false,
    "pycharm": {
     "name": "#%%\n"
    }
   }
  }
 ],
 "metadata": {
  "kernelspec": {
   "display_name": "Python 3",
   "language": "python",
   "name": "python3"
  },
  "language_info": {
   "codemirror_mode": {
    "name": "ipython",
    "version": 2
   },
   "file_extension": ".py",
   "mimetype": "text/x-python",
   "name": "python",
   "nbconvert_exporter": "python",
   "pygments_lexer": "ipython2",
   "version": "2.7.6"
  }
 },
 "nbformat": 4,
 "nbformat_minor": 0
}