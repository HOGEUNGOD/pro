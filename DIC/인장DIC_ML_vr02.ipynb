{
 "cells": [
  {
   "cell_type": "code",
   "execution_count": 127,
   "outputs": [
    {
     "name": "stdout",
     "output_type": "stream",
     "text": [
      "Finish\n"
     ]
    }
   ],
   "source": [
    "import os\n",
    "import cv2\n",
    "from scipy import io\n",
    "import pandas as pd\n",
    "import numpy as np\n",
    "import matplotlib.pyplot as plt\n",
    "import fracture\n",
    "import DIC as dic\n",
    "\n",
    "#csv파일 형식 바꾸기!\n",
    "\n",
    "\"\"\"setting values\"\"\"\n",
    "path = r'E:\\experiment data\\aluminum\\2021-03-25\\faruv_tension_2'\n",
    "path_save= r'E:\\experiment data\\aluminum\\2021-03-25\\faruv_tension_2'\n",
    "\n",
    "slice_x1 = 71\n",
    "slice_x2 = 142\n",
    "slice_y1 = 414\n",
    "slice_y2 = 661\n",
    "\n",
    "file_list = os.listdir(path+'/img')\n",
    "\n",
    "result = []\n",
    "for file in file_list:\n",
    "    if file.endswith(\".jpg\"):\n",
    "        im = cv2.imread(os.path.join(path,'img', file), cv2.IMREAD_GRAYSCALE)\n",
    "        im_calculate = np.array(im)\n",
    "        img_box = im_calculate[slice_y1:slice_y2, slice_x1:slice_x2]\n",
    "\n",
    "        ave = np.average(img_box)\n",
    "        result = np.append(result, [ave])\n",
    "\n",
    "result= result - result[0]\n",
    "print('Finish')"
   ],
   "metadata": {
    "collapsed": false,
    "pycharm": {
     "name": "#%%\n"
    }
   }
  },
  {
   "cell_type": "code",
   "execution_count": 135,
   "outputs": [
    {
     "data": {
      "text/plain": "<Figure size 432x288 with 2 Axes>",
      "image/png": "[encoded data removed]"
     },
     "metadata": {
      "needs_background": "light"
     },
     "output_type": "display_data"
    }
   ],
   "source": [
    "ml_avg = np.copy(result)\n",
    "from scipy.signal import savgol_filter\n",
    "\n",
    "max_range = 16741\n",
    "tension_data = np.array(pd.read_csv(path+'/tension.csv', encoding='CP949'))\n",
    "\n",
    "time, strain, stress = tension_data[:, 0], tension_data[:, 4]*10/25, tension_data[:, 3]*3000/18\n",
    "ml_avg[3545:] = ml_avg[3545:] +1.4\n",
    "stress = savgol_filter(stress[0:max_range],201,1)\n",
    "strain = savgol_filter(strain[0:max_range],201,1)\n",
    "ml_avg = savgol_filter(ml_avg[0:max_range],501,1)\n",
    "ml_avg =  ml_avg[0:max_range]\n",
    "time = time[0:max_range]\n",
    "\n",
    "\n",
    "\n",
    "title = 'strain stress'\n",
    "fig, ax = plt.subplots()\n",
    "ax1 = ax.twinx()\n",
    "fig.suptitle('Ml')\n",
    "ax.set_xlabel('strain')\n",
    "ax.set_ylabel('ml')\n",
    "ax1.set_ylabel('stress')\n",
    "ax.plot(strain, ml_avg-ml_avg[0], color='b', label=\"Average Ml(Same mask)\")\n",
    "ax1.plot(strain, stress, color='r', label=\" stress\")\n",
    "ax.grid()\n",
    "plt.savefig(path_save+'/%s.png'%title, dpi=300, bbox_inches='tight',  pad_inches=0)"
   ],
   "metadata": {
    "collapsed": false,
    "pycharm": {
     "name": "#%%\n"
    }
   }
  },
  {
   "cell_type": "code",
   "execution_count": 136,
   "outputs": [
    {
     "data": {
      "text/plain": "    image_name  voltage_strain  using_DIC_mask_strain  voltage_stress  \\\n0        548.0       -0.001461               0.003942       30.726590   \n1       1491.0        0.014368               0.004478      227.977444   \n2       2061.0        0.022853               0.005391      367.122663   \n3       2901.0        0.036573               0.008778      517.912911   \n4       3441.0        0.045828               0.011461      550.132740   \n5       3561.0        0.047442               0.012632      552.994960   \n6       5881.0        0.084284               0.034035      576.842448   \n7       6511.0        0.094339               0.040539      580.743692   \n8       8821.0        0.131544               0.060327      592.838376   \n9       9041.0        0.135159               0.062249      593.666344   \n10     10680.0        0.161055               0.076234      598.804734   \n11     11360.0        0.171383               0.082289      599.954074   \n12     12830.0        0.195473               0.096352      601.214764   \n13     13930.0        0.213011               0.108410      601.458444   \n14     13950.0        0.213159               0.108520      601.529552   \n15     14430.0        0.220728               0.114456      600.730934   \n16     14990.0        0.230013               0.122191      598.558016   \n17     15060.0        0.231130               0.123061      598.437563   \n18     15770.0        0.242356               0.135067      589.291147   \n19     15930.0        0.245429               0.137387      587.547130   \n20     16240.0        0.250056               0.142753      579.989104   \n21     16740.0        0.258359               0.152227      562.039856   \n\n    using_DIC_mask_average  local_ml  local_ee   DIC_exx   DIC_eyy   DIC_exy  \\\n0                 0.104879    0.1225  0.001296  0.000329  0.000215  0.000007   \n1                 0.417805    0.4950  0.003929 -0.001659  0.002232  0.000462   \n2                 0.457038    0.5925  0.005431 -0.001575  0.004253  0.000366   \n3                 0.622782    0.6800  0.007886 -0.001476  0.007182  0.000251   \n4                 0.800843    0.8850  0.011974 -0.002452  0.010375 -0.000279   \n5                 0.085184    0.2250  0.012174 -0.003212  0.011275 -0.000256   \n6                 1.078647    1.1100  0.033810 -0.012586  0.033138  0.000074   \n7                 1.560494    1.3900  0.040062 -0.014228  0.039737 -0.000408   \n8                 3.736867    2.9475  0.062809 -0.023585  0.059268 -0.000459   \n9                 4.154000    3.0825  0.062308 -0.024050  0.060898 -0.000553   \n10                5.703244    4.2275  0.079863 -0.029988  0.073209 -0.001268   \n11                6.381174    5.1600  0.086052 -0.033753  0.079219 -0.000612   \n12                8.323697    7.2725  0.100826 -0.040613  0.092563 -0.001475   \n13               10.070104    9.1950  0.116066 -0.046990  0.103679 -0.001683   \n14               10.407538    9.6950  0.116996 -0.046609  0.104008 -0.001308   \n15               11.485204   11.2600  0.125972 -0.050552  0.109475 -0.002013   \n16               12.618631   13.4400  0.141626 -0.054421  0.116844 -0.001855   \n17               11.473422   12.6025  0.143248 -0.055397  0.117873 -0.001966   \n18               12.848848   17.4875  0.175873 -0.063292  0.128399 -0.002148   \n19               12.953072   18.8775  0.182911 -0.062607  0.129468 -0.001429   \n20               13.735268   21.5300  0.200320 -0.067679  0.135473 -0.001540   \n21               14.555041   25.6975  0.233071 -0.073749  0.142994 -0.001776   \n\n    ml_average  \n0    -0.094007  \n1    -0.037923  \n2     0.083868  \n3     0.249240  \n4     0.512965  \n5     0.600836  \n6     1.705456  \n7     2.094252  \n8     4.083570  \n9     4.250578  \n10    5.618737  \n11    6.298680  \n12    8.267824  \n13   10.293552  \n14   10.362037  \n15   11.837551  \n16   12.938345  \n17   12.992106  \n18   15.169762  \n19   15.866585  \n20   17.163166  \n21   19.234840  ",
      "text/html": "<div>\n<style scoped>\n    .dataframe tbody tr th:only-of-type {\n        vertical-align: middle;\n    }\n\n    .dataframe tbody tr th {\n        vertical-align: top;\n    }\n\n    .dataframe thead th {\n        text-align: right;\n    }\n</style>\n<table border=\"1\" class=\"dataframe\">\n  <thead>\n    <tr style=\"text-align: right;\">\n      <th></th>\n      <th>image_name</th>\n      <th>voltage_strain</th>\n      <th>using_DIC_mask_strain</th>\n      <th>voltage_stress</th>\n      <th>using_DIC_mask_average</th>\n      <th>local_ml</th>\n      <th>local_ee</th>\n      <th>DIC_exx</th>\n      <th>DIC_eyy</th>\n      <th>DIC_exy</th>\n      <th>ml_average</th>\n    </tr>\n  </thead>\n  <tbody>\n    <tr>\n      <th>0</th>\n      <td>548.0</td>\n      <td>-0.001461</td>\n      <td>0.003942</td>\n      <td>30.726590</td>\n      <td>0.104879</td>\n      <td>0.1225</td>\n      <td>0.001296</td>\n      <td>0.000329</td>\n      <td>0.000215</td>\n      <td>0.000007</td>\n      <td>-0.094007</td>\n    </tr>\n    <tr>\n      <th>1</th>\n      <td>1491.0</td>\n      <td>0.014368</td>\n      <td>0.004478</td>\n      <td>227.977444</td>\n      <td>0.417805</td>\n      <td>0.4950</td>\n      <td>0.003929</td>\n      <td>-0.001659</td>\n      <td>0.002232</td>\n      <td>0.000462</td>\n      <td>-0.037923</td>\n    </tr>\n    <tr>\n      <th>2</th>\n      <td>2061.0</td>\n      <td>0.022853</td>\n      <td>0.005391</td>\n      <td>367.122663</td>\n      <td>0.457038</td>\n      <td>0.5925</td>\n      <td>0.005431</td>\n      <td>-0.001575</td>\n      <td>0.004253</td>\n      <td>0.000366</td>\n      <td>0.083868</td>\n    </tr>\n    <tr>\n      <th>3</th>\n      <td>2901.0</td>\n      <td>0.036573</td>\n      <td>0.008778</td>\n      <td>517.912911</td>\n      <td>0.622782</td>\n      <td>0.6800</td>\n      <td>0.007886</td>\n      <td>-0.001476</td>\n      <td>0.007182</td>\n      <td>0.000251</td>\n      <td>0.249240</td>\n    </tr>\n    <tr>\n      <th>4</th>\n      <td>3441.0</td>\n      <td>0.045828</td>\n      <td>0.011461</td>\n      <td>550.132740</td>\n      <td>0.800843</td>\n      <td>0.8850</td>\n      <td>0.011974</td>\n      <td>-0.002452</td>\n      <td>0.010375</td>\n      <td>-0.000279</td>\n      <td>0.512965</td>\n    </tr>\n    <tr>\n      <th>5</th>\n      <td>3561.0</td>\n      <td>0.047442</td>\n      <td>0.012632</td>\n      <td>552.994960</td>\n      <td>0.085184</td>\n      <td>0.2250</td>\n      <td>0.012174</td>\n      <td>-0.003212</td>\n      <td>0.011275</td>\n      <td>-0.000256</td>\n      <td>0.600836</td>\n    </tr>\n    <tr>\n      <th>6</th>\n      <td>5881.0</td>\n      <td>0.084284</td>\n      <td>0.034035</td>\n      <td>576.842448</td>\n      <td>1.078647</td>\n      <td>1.1100</td>\n      <td>0.033810</td>\n      <td>-0.012586</td>\n      <td>0.033138</td>\n      <td>0.000074</td>\n      <td>1.705456</td>\n    </tr>\n    <tr>\n      <th>7</th>\n      <td>6511.0</td>\n      <td>0.094339</td>\n      <td>0.040539</td>\n      <td>580.743692</td>\n      <td>1.560494</td>\n      <td>1.3900</td>\n      <td>0.040062</td>\n      <td>-0.014228</td>\n      <td>0.039737</td>\n      <td>-0.000408</td>\n      <td>2.094252</td>\n    </tr>\n    <tr>\n      <th>8</th>\n      <td>8821.0</td>\n      <td>0.131544</td>\n      <td>0.060327</td>\n      <td>592.838376</td>\n      <td>3.736867</td>\n      <td>2.9475</td>\n      <td>0.062809</td>\n      <td>-0.023585</td>\n      <td>0.059268</td>\n      <td>-0.000459</td>\n      <td>4.083570</td>\n    </tr>\n    <tr>\n      <th>9</th>\n      <td>9041.0</td>\n      <td>0.135159</td>\n      <td>0.062249</td>\n      <td>593.666344</td>\n      <td>4.154000</td>\n      <td>3.0825</td>\n      <td>0.062308</td>\n      <td>-0.024050</td>\n      <td>0.060898</td>\n      <td>-0.000553</td>\n      <td>4.250578</td>\n    </tr>\n    <tr>\n      <th>10</th>\n      <td>10680.0</td>\n      <td>0.161055</td>\n      <td>0.076234</td>\n      <td>598.804734</td>\n      <td>5.703244</td>\n      <td>4.2275</td>\n      <td>0.079863</td>\n      <td>-0.029988</td>\n      <td>0.073209</td>\n      <td>-0.001268</td>\n      <td>5.618737</td>\n    </tr>\n    <tr>\n      <th>11</th>\n      <td>11360.0</td>\n      <td>0.171383</td>\n      <td>0.082289</td>\n      <td>599.954074</td>\n      <td>6.381174</td>\n      <td>5.1600</td>\n      <td>0.086052</td>\n      <td>-0.033753</td>\n      <td>0.079219</td>\n      <td>-0.000612</td>\n      <td>6.298680</td>\n    </tr>\n    <tr>\n      <th>12</th>\n      <td>12830.0</td>\n      <td>0.195473</td>\n      <td>0.096352</td>\n      <td>601.214764</td>\n      <td>8.323697</td>\n      <td>7.2725</td>\n      <td>0.100826</td>\n      <td>-0.040613</td>\n      <td>0.092563</td>\n      <td>-0.001475</td>\n      <td>8.267824</td>\n    </tr>\n    <tr>\n      <th>13</th>\n      <td>13930.0</td>\n      <td>0.213011</td>\n      <td>0.108410</td>\n      <td>601.458444</td>\n      <td>10.070104</td>\n      <td>9.1950</td>\n      <td>0.116066</td>\n      <td>-0.046990</td>\n      <td>0.103679</td>\n      <td>-0.001683</td>\n      <td>10.293552</td>\n    </tr>\n    <tr>\n      <th>14</th>\n      <td>13950.0</td>\n      <td>0.213159</td>\n      <td>0.108520</td>\n      <td>601.529552</td>\n      <td>10.407538</td>\n      <td>9.6950</td>\n      <td>0.116996</td>\n      <td>-0.046609</td>\n      <td>0.104008</td>\n      <td>-0.001308</td>\n      <td>10.362037</td>\n    </tr>\n    <tr>\n      <th>15</th>\n      <td>14430.0</td>\n      <td>0.220728</td>\n      <td>0.114456</td>\n      <td>600.730934</td>\n      <td>11.485204</td>\n      <td>11.2600</td>\n      <td>0.125972</td>\n      <td>-0.050552</td>\n      <td>0.109475</td>\n      <td>-0.002013</td>\n      <td>11.837551</td>\n    </tr>\n    <tr>\n      <th>16</th>\n      <td>14990.0</td>\n      <td>0.230013</td>\n      <td>0.122191</td>\n      <td>598.558016</td>\n      <td>12.618631</td>\n      <td>13.4400</td>\n      <td>0.141626</td>\n      <td>-0.054421</td>\n      <td>0.116844</td>\n      <td>-0.001855</td>\n      <td>12.938345</td>\n    </tr>\n    <tr>\n      <th>17</th>\n      <td>15060.0</td>\n      <td>0.231130</td>\n      <td>0.123061</td>\n      <td>598.437563</td>\n      <td>11.473422</td>\n      <td>12.6025</td>\n      <td>0.143248</td>\n      <td>-0.055397</td>\n      <td>0.117873</td>\n      <td>-0.001966</td>\n      <td>12.992106</td>\n    </tr>\n    <tr>\n      <th>18</th>\n      <td>15770.0</td>\n      <td>0.242356</td>\n      <td>0.135067</td>\n      <td>589.291147</td>\n      <td>12.848848</td>\n      <td>17.4875</td>\n      <td>0.175873</td>\n      <td>-0.063292</td>\n      <td>0.128399</td>\n      <td>-0.002148</td>\n      <td>15.169762</td>\n    </tr>\n    <tr>\n      <th>19</th>\n      <td>15930.0</td>\n      <td>0.245429</td>\n      <td>0.137387</td>\n      <td>587.547130</td>\n      <td>12.953072</td>\n      <td>18.8775</td>\n      <td>0.182911</td>\n      <td>-0.062607</td>\n      <td>0.129468</td>\n      <td>-0.001429</td>\n      <td>15.866585</td>\n    </tr>\n    <tr>\n      <th>20</th>\n      <td>16240.0</td>\n      <td>0.250056</td>\n      <td>0.142753</td>\n      <td>579.989104</td>\n      <td>13.735268</td>\n      <td>21.5300</td>\n      <td>0.200320</td>\n      <td>-0.067679</td>\n      <td>0.135473</td>\n      <td>-0.001540</td>\n      <td>17.163166</td>\n    </tr>\n    <tr>\n      <th>21</th>\n      <td>16740.0</td>\n      <td>0.258359</td>\n      <td>0.152227</td>\n      <td>562.039856</td>\n      <td>14.555041</td>\n      <td>25.6975</td>\n      <td>0.233071</td>\n      <td>-0.073749</td>\n      <td>0.142994</td>\n      <td>-0.001776</td>\n      <td>19.234840</td>\n    </tr>\n  </tbody>\n</table>\n</div>"
     },
     "execution_count": 136,
     "metadata": {},
     "output_type": "execute_result"
    },
    {
     "data": {
      "text/plain": "<Figure size 432x288 with 1 Axes>",
      "image/png": "[encoded data removed]"
     },
     "metadata": {
      "needs_background": "light"
     },
     "output_type": "display_data"
    }
   ],
   "source": [
    "\"\"\"\n",
    "Matlab코드 여러 Dic데이터있는경우\n",
    "path = 'E:\\experiment data\\aluminum\\2021-03-04\\DIC_img\\data'\n",
    "\n",
    "for i=1:1:22\n",
    "uu=handles_ncorr.data_dic.displacements(i).plot_u_cur_formatted;\n",
    "vv=handles_ncorr.data_dic.displacements(i).plot_v_cur_formatted;\n",
    "exx=handles_ncorr.data_dic.strains(i).plot_exx_cur_formatted;\n",
    "eyy=handles_ncorr.data_dic.strains(i).plot_eyy_cur_formatted;\n",
    "exy=handles_ncorr.data_dic.strains(i).plot_exy_cur_formatted;\n",
    "\n",
    "save([path,'/', num2str(i), '_exx', '.mat'],'exx')\n",
    "save([path,'/', num2str(i), '_exy', '.mat'],'exy')\n",
    "save([path,'/', num2str(i), '_eyy', '.mat'],'eyy')\n",
    "save([path,'/', num2str(i), '_uu', '.mat'],'uu')\n",
    "save([path,'/', num2str(i), '_vv', '.mat'],'vv')\n",
    "\n",
    "end\n",
    "\n",
    "\"\"\"\n",
    "\n",
    "\"\"\"setting values\"\"\"\n",
    "\n",
    "image = dic.load_file(path+'/DIC_img')\n",
    "\n",
    "ref = image[list(image.keys())[0]]\n",
    "ref_x, ref_y = 100, 580\n",
    "\n",
    "ratio = 0.04\n",
    "\n",
    "df = pd.DataFrame(columns=['image_name', 'voltage_strain','using_DIC_mask_strain','voltage_stress',\n",
    "                           'using_DIC_mask_average', 'local_ml', 'local_ee','DIC_exx', 'DIC_eyy', 'DIC_exy','ml_average'])\n",
    "\n",
    "\n",
    "for num in range(1,22+1):\n",
    "    file_num = str(num)\n",
    "    uu = io.loadmat(path+'/DIC_img/data/'+file_num+'_uu.mat')['uu']\n",
    "    vv = io.loadmat(path+'/DIC_img/data/'+file_num+'_vv.mat')['vv']\n",
    "    uu_resize = cv2.resize(uu,(0,0),fx=2, fy=2 )\n",
    "    vv_resize = cv2.resize(vv,(0,0),fx=2, fy=2 )\n",
    "\n",
    "    exx = io.loadmat(path+'/DIC_img/data/'+file_num+'_exx.mat')['exx']\n",
    "    eyy = io.loadmat(path+'/DIC_img/data/'+file_num+'_eyy.mat')['eyy']\n",
    "    exy = io.loadmat(path+'/DIC_img/data/'+file_num+'_exy.mat')['exy']\n",
    "    ee = fracture.effective_strain(exx, eyy, exy)\n",
    "    exx_resize = cv2.resize(exx,(0,0),fx=2, fy=2 )\n",
    "    eyy_resize = cv2.resize(eyy,(0,0),fx=2, fy=2 )\n",
    "    exy_resize = cv2.resize(exy,(0,0),fx=2, fy=2 )\n",
    "    ee_resize = cv2.resize(ee,(0,0),fx=2, fy=2 )\n",
    "\n",
    "    ee_mask = np.where(ee_resize>0, 255, ee_resize*0).astype('uint8')\n",
    "    ml_image = image[list(image.keys())[num]]\n",
    "    mask_ml = dic.find_zone(cv2.copyTo(ml_image, ee_mask))[10:-10,10:-10]\n",
    "    if num == 1:\n",
    "        ref_image = cv2.copyTo(image[list(image.keys())[0]], cv2.imread(path+'/DIC_img/mask.png'))\n",
    "        ref = dic.find_zone(ref_image)[10:-10,10:-10]\n",
    "        gas_ref = cv2.GaussianBlur(ref,(0,0),5)\n",
    "\n",
    "    gas = cv2.GaussianBlur(mask_ml[:,:,1],(0,0),5)\n",
    "\n",
    "    cur_y = np.round(ref_y+vv_resize[ref_y,ref_x]/ratio,1).astype('int')\n",
    "    cur_x = np.round(ref_x+uu_resize[ref_y,ref_x]/ratio,1).astype('int')\n",
    "\n",
    "    local_ee = np.average(ee_resize[cur_y-10 : cur_y+10 , cur_x-10: cur_x+10])\n",
    "    local_ml = np.average(ml_image[cur_y-10 : cur_y+10 , cur_x-10: cur_x+10]) - np.average(image[list(image.keys())[0]][ref_y-10 : ref_y+10 , ref_x-10 : ref_x+10])\n",
    "\n",
    "    # if num > 6:\n",
    "    #     local_ml = local_ml + 1.4\n",
    "\n",
    "    image_name = int(list(image.keys())[num].split('_')[1])\n",
    "    voltage_strain = strain[int(list(image.keys())[num].split('_')[1])]\n",
    "    voltage_stress = stress[int(list(image.keys())[num].split('_')[1])]\n",
    "    using_DIC_mask_strain = np.average(dic.find_zone(ee_resize)[10:-10,10:-10])\n",
    "    using_DIC_mask_average = np.average(mask_ml[:,:,1])-np.average(ref)\n",
    "    local_ml = local_ml\n",
    "    local_ee = local_ee\n",
    "    DIC_eyy = np.average(dic.find_zone(eyy))\n",
    "    DIC_exx = np.average(dic.find_zone(exx))\n",
    "    DIC_exy = np.average(dic.find_zone(exy))\n",
    "    ml_average = ml_avg[int(list(image.keys())[num].split('_')[1])]\n",
    "    row = pd.Series([image_name, voltage_strain,voltage_stress,using_DIC_mask_strain,\n",
    "                     using_DIC_mask_average, local_ml, local_ee,DIC_exx, DIC_eyy, DIC_exy,ml_average],\n",
    "                index=['image_name', 'voltage_strain','voltage_stress','using_DIC_mask_strain',\n",
    "                       'using_DIC_mask_average', 'local_ml', 'local_ee','DIC_exx', 'DIC_eyy', 'DIC_exy','ml_average'])\n",
    "    df = df.append(row, ignore_index=True)\n",
    "\n",
    "    # fig, ax = plt.subplots(1, 3 , constrained_layout=True)\n",
    "    # fig.suptitle(list(image.keys())[num] + 'strain : ' + str(np.round(strain[int(list(image.keys())[num].split('_')[1])],3)))\n",
    "    #\n",
    "    # ax0 = ax[0].imshow(cv2.addWeighted(ml_image[:,:,2],1, ee_mask,0.06,-40),cmap='gray')\n",
    "    # ax[0].set_title('ML ROI')\n",
    "    # ax[0].scatter(cur_x, cur_y,color='red', marker='s', s=10)\n",
    "    #\n",
    "    # ax1 = ax[1].imshow(ee_resize, cmap='jet', vmin=0, vmax=0.25)\n",
    "    # ax[1].set_title('Effective\\n strain')\n",
    "    # ax[1].scatter(cur_x, cur_y,color='white', marker='s', s=10)\n",
    "    # plt.colorbar(ax1,ax=ax[1])\n",
    "    #\n",
    "    # gas = cv2.flip(gas,0)\n",
    "    # ax[2].imshow(gas)\n",
    "    # ax2 = ax[2].contourf(gas,cmap='jet', vmin=75, vmax=116)\n",
    "    # ax3 = ax[2].contour(gas,colors='black',linewidths=1)\n",
    "    # ax[2].invert_yaxis()\n",
    "    # plt.colorbar(ax2, ax=ax[2])\n",
    "    # # ax[2].axis('off')\n",
    "    # ax[2].set_title('ML')\n",
    "    # # plt.savefig(path+'/'+list(image.keys())[num]+'.png', dpi=300)\n",
    "    #\n",
    "    #\n",
    "    # plt.show()\n",
    "    # plt.close()\n",
    "\n",
    "\n",
    "plt.imshow(ee_resize, cmap='PuBu', vmin=0, vmax=0.25) ##네킹부분 국부\n",
    "plt.scatter(cur_x, cur_y, marker='s', s=10  ,label='x:'+str(ref_x) + ' y:'+str(ref_y), edgecolors='black')\n",
    "plt.legend()\n",
    "plt.legend(loc='center right', bbox_to_anchor=(2.9, 0.5), fancybox=True, shadow=True)\n",
    "# plt.savefig(path+'/국부 점으로찍은위치6.png', dpi=300)\n",
    "\n",
    "df"
   ],
   "metadata": {
    "collapsed": false,
    "pycharm": {
     "name": "#%%\n"
    }
   }
  },
  {
   "cell_type": "code",
   "execution_count": 138,
   "outputs": [
    {
     "data": {
      "text/plain": "<Figure size 432x288 with 1 Axes>",
      "image/png": "[encoded data removed]"
     },
     "metadata": {
      "needs_background": "light"
     },
     "output_type": "display_data"
    }
   ],
   "source": [
    "plt.scatter(df.using_DIC_mask_strain, df.ml_average, color='black')\n",
    "plt.plot(df.using_DIC_mask_strain, df.ml_average, color='black')\n",
    "plt.xlabel('effective strain')\n",
    "plt.ylabel('Ml')\n",
    "plt.grid()\n",
    "plt.xlim(0,0.15)\n",
    "plt.savefig(path+'/ee_ml.png', dpi=300, bbox_inches='tight',  pad_inches=0)"
   ],
   "metadata": {
    "collapsed": false,
    "pycharm": {
     "name": "#%%\n"
    }
   }
  },
  {
   "cell_type": "code",
   "execution_count": null,
   "outputs": [],
   "source": [
    "lms_list = []\n",
    "for k in range(800,1100):\n",
    "    i = k*0.1\n",
    "    lms = np.sum(((i * df.local_ee) - df.local_ml)**2)\n",
    "    lms_list.append(lms)\n",
    "np.argmin(lms_list)\n",
    "107"
   ],
   "metadata": {
    "collapsed": false,
    "pycharm": {
     "name": "#%%\n"
    }
   }
  },
  {
   "cell_type": "code",
   "execution_count": null,
   "outputs": [],
   "source": [
    "plt.scatter(df.local_ee, df.local_ml, color='green')\n",
    "plt.plot(df.local_ee, df.local_ml, color='black')\n",
    "plt.xlabel('effective strain')\n",
    "plt.ylabel('Ml')\n",
    "plt.grid()"
   ],
   "metadata": {
    "collapsed": false,
    "pycharm": {
     "name": "#%%\n"
    }
   }
  },
  {
   "cell_type": "code",
   "execution_count": null,
   "outputs": [],
   "source": [
    "plt.scatter(df.using_DIC_mask_strain, df.using_DIC_mask_average, color='black')\n",
    "plt.plot(df.using_DIC_mask_strain, df.using_DIC_mask_average, color='black')\n",
    "plt.xlabel('effective strain')\n",
    "plt.ylabel('Ml')\n",
    "plt.grid()"
   ],
   "metadata": {
    "collapsed": false,
    "pycharm": {
     "name": "#%%\n"
    }
   }
  },
  {
   "cell_type": "code",
   "execution_count": null,
   "outputs": [],
   "source": [
    "title = 'Effective strain vs Stress'\n",
    "plt.plot(df.local_ee, df.voltage_stress, color='black')\n",
    "plt.xlabel('Effective strain')\n",
    "plt.ylabel('Stress')\n",
    "plt.grid()\n",
    "plt.savefig(path_save+'/%s.png'%title, dpi=300, bbox_inches='tight',  pad_inches=0)\n",
    "plt.show()"
   ],
   "metadata": {
    "collapsed": false,
    "pycharm": {
     "name": "#%%\n"
    }
   }
  },
  {
   "cell_type": "code",
   "execution_count": null,
   "outputs": [],
   "source": [
    "fig, ax = plt.subplots()\n",
    "ax1 = ax.twinx()\n",
    "title = 'Effective strain vs Strain'\n",
    "ax1.plot(strain, stress, color='black')\n",
    "ax.plot(df.voltage_strain, df.DIC_exx, label='exx')\n",
    "ax.plot(df.voltage_strain, df.DIC_eyy,label='eyy')\n",
    "ax.plot(df.voltage_strain, df.DIC_exy, label='exy')\n",
    "ax.scatter(df.voltage_strain, df.using_DIC_mask_strain, label='ee')\n",
    "ax.set_xlabel('Effective strain')\n",
    "ax1.set_ylabel('Stress')\n",
    "ax1.set_ylim(-350,)\n",
    "ax.legend()\n",
    "ax.grid()\n",
    "plt.savefig(path_save+'/%s.png'%title, dpi=300, bbox_inches='tight',  pad_inches=0)\n",
    "plt.show()\n"
   ],
   "metadata": {
    "collapsed": false,
    "pycharm": {
     "name": "#%%\n"
    }
   }
  },
  {
   "cell_type": "code",
   "execution_count": null,
   "outputs": [],
   "source": [
    "df.to_pickle('only_ml.pkl')"
   ],
   "metadata": {
    "collapsed": false,
    "pycharm": {
     "name": "#%%\n"
    }
   }
  }
 ],
 "metadata": {
  "kernelspec": {
   "display_name": "Python 3",
   "language": "python",
   "name": "python3"
  },
  "language_info": {
   "codemirror_mode": {
    "name": "ipython",
    "version": 2
   },
   "file_extension": ".py",
   "mimetype": "text/x-python",
   "name": "python",
   "nbconvert_exporter": "python",
   "pygments_lexer": "ipython2",
   "version": "2.7.6"
  }
 },
 "nbformat": 4,
 "nbformat_minor": 0
}