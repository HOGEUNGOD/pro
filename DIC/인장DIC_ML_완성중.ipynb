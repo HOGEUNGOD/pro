{
 "cells": [
  {
   "cell_type": "code",
   "execution_count": 15,
   "outputs": [
    {
     "name": "stdout",
     "output_type": "stream",
     "text": [
      "(17395,)\n",
      "Done\n"
     ]
    }
   ],
   "source": [
    "import os\n",
    "import cv2\n",
    "from scipy import io\n",
    "import pandas as pd\n",
    "import numpy as np\n",
    "import matplotlib.pyplot as plt\n",
    "import fracture\n",
    "import DIC as dic\n",
    "\n",
    "#csv파일 형식 바꾸기!\n",
    "\n",
    "\"\"\"setting values\"\"\"\n",
    "path = r'E:\\experiment data\\aluminum\\2021-03-25\\faruv_tension_2'\n",
    "path_save= r'E:\\experiment data\\aluminum\\2021-03-25\\faruv_tension_2'\n",
    "\n",
    "slice_x1 = 71\n",
    "slice_x2 = 142\n",
    "slice_y1 = 414\n",
    "slice_y2 = 661\n",
    "\n",
    "file_list = os.listdir(path+'/img')\n",
    "\n",
    "result = []\n",
    "for file in file_list:\n",
    "    if file.endswith(\".jpg\"):\n",
    "        im = cv2.imread(os.path.join(path,'img', file), cv2.IMREAD_GRAYSCALE)\n",
    "        im_calculate = np.array(im)\n",
    "        img_box = im_calculate[slice_y1:slice_y2, slice_x1:slice_x2]\n",
    "\n",
    "        ave = np.average(img_box)\n",
    "        result = np.append(result, [ave])\n",
    "\n",
    "ml_avg = np.copy(result)\n",
    "print('Finish')"
   ],
   "metadata": {
    "collapsed": false,
    "pycharm": {
     "name": "#%%\n"
    }
   }
  },
  {
   "cell_type": "code",
   "execution_count": 17,
   "outputs": [
    {
     "data": {
      "text/plain": "[<matplotlib.lines.Line2D at 0x1528f7db7c0>]"
     },
     "execution_count": 17,
     "metadata": {},
     "output_type": "execute_result"
    },
    {
     "data": {
      "text/plain": "<Figure size 432x288 with 2 Axes>",
      "image/png": "[encoded data removed]"
     },
     "metadata": {
      "needs_background": "light"
     },
     "output_type": "display_data"
    }
   ],
   "source": [
    "from scipy.signal import savgol_filter\n",
    "\n",
    "max_range = 16741\n",
    "tension_data = np.array(pd.read_csv(path+'/tension.csv', encoding='CP949'))\n",
    "\n",
    "time, strain, stress = tension_data[:, 0], tension_data[:, 4]*10/25, tension_data[:, 3]*3000/18\n",
    "\n",
    "stress = savgol_filter(stress[0:max_range],201,1)\n",
    "strain = savgol_filter(strain[0:max_range],201,1)\n",
    "# ml_avg = savgol_filter(ml_avg[0:max_range],6001,1)\n",
    "ml_avg =  ml_avg[0:max_range]\n",
    "time = time[0:max_range]\n",
    "\n",
    "ml_avg[3545:] = ml_avg[3545:] + 1.4\n",
    "\n",
    "fig, ax = plt.subplots()\n",
    "ax1 = ax.twinx()\n",
    "fig.suptitle('Ml')\n",
    "ax.set_xlabel('strain')\n",
    "ax.set_ylabel('ml')\n",
    "ax1.set_ylabel('stress')\n",
    "ax.plot(strain, ml_avg-ml_avg[0], color='b', label=\"Average Ml(Same mask)\")\n",
    "ax1.plot(strain, stress, color='r', label=\" stress\")"
   ],
   "metadata": {
    "collapsed": false,
    "pycharm": {
     "name": "#%%\n"
    }
   }
  },
  {
   "cell_type": "code",
   "execution_count": 106,
   "outputs": [
    {
     "data": {
      "text/plain": "   image_name  voltage_strain  DIC_strain_average  using_DIC_mask_average  \\\n0           0               1                   2                       3   \n1           0               1                   2                       3   \n2           1               1                   2                       3   \n\n   local_ml  local_ee  DIC_exx  DIC_eyy  DIC_exy  \n0         4         5        6        7        8  \n1         4         5        6        7        8  \n2         4         5        6        7        8  ",
      "text/html": "<div>\n<style scoped>\n    .dataframe tbody tr th:only-of-type {\n        vertical-align: middle;\n    }\n\n    .dataframe tbody tr th {\n        vertical-align: top;\n    }\n\n    .dataframe thead th {\n        text-align: right;\n    }\n</style>\n<table border=\"1\" class=\"dataframe\">\n  <thead>\n    <tr style=\"text-align: right;\">\n      <th></th>\n      <th>image_name</th>\n      <th>voltage_strain</th>\n      <th>DIC_strain_average</th>\n      <th>using_DIC_mask_average</th>\n      <th>local_ml</th>\n      <th>local_ee</th>\n      <th>DIC_exx</th>\n      <th>DIC_eyy</th>\n      <th>DIC_exy</th>\n    </tr>\n  </thead>\n  <tbody>\n    <tr>\n      <th>0</th>\n      <td>0</td>\n      <td>1</td>\n      <td>2</td>\n      <td>3</td>\n      <td>4</td>\n      <td>5</td>\n      <td>6</td>\n      <td>7</td>\n      <td>8</td>\n    </tr>\n    <tr>\n      <th>1</th>\n      <td>0</td>\n      <td>1</td>\n      <td>2</td>\n      <td>3</td>\n      <td>4</td>\n      <td>5</td>\n      <td>6</td>\n      <td>7</td>\n      <td>8</td>\n    </tr>\n    <tr>\n      <th>2</th>\n      <td>1</td>\n      <td>1</td>\n      <td>2</td>\n      <td>3</td>\n      <td>4</td>\n      <td>5</td>\n      <td>6</td>\n      <td>7</td>\n      <td>8</td>\n    </tr>\n  </tbody>\n</table>\n</div>"
     },
     "execution_count": 106,
     "metadata": {},
     "output_type": "execute_result"
    }
   ],
   "source": [
    "\n",
    "\"\"\"\n",
    "Matlab코드 여러 Dic데이터있는경우\n",
    "path = r'E:\\experiment data/aluminum\\Current/tension/data'\n",
    "\n",
    "for i=1:1:22\n",
    "uu=handles_ncorr.data_dic.displacements(i).plot_u_cur_formatted;\n",
    "vv=handles_ncorr.data_dic.displacements(i).plot_v_cur_formatted;\n",
    "exx=handles_ncorr.data_dic.strains(i).plot_exx_cur_formatted;\n",
    "eyy=handles_ncorr.data_dic.strains(i).plot_eyy_cur_formatted;\n",
    "exy=handles_ncorr.data_dic.strains(i).plot_exy_cur_formatted;\n",
    "\n",
    "save([path,'/', num2str(i), '_exx', '.mat'],'exx')\n",
    "save([path,'/', num2str(i), '_exy', '.mat'],'exy')\n",
    "save([path,'/', num2str(i), '_eyy', '.mat'],'eyy')\n",
    "save([path,'/', num2str(i), '_uu', '.mat'],'uu')\n",
    "save([path,'/', num2str(i), '_vv', '.mat'],'vv')\n",
    "\n",
    "end\n",
    "\n",
    "\"\"\"\n",
    "\n",
    "\"\"\"setting values\"\"\"\n",
    "\n",
    "image = dic.load_file(path+'/DIC_img')\n",
    "\n",
    "ref = image[list(image.keys())[0]]\n",
    "ref_x, ref_y = 105, 580\n",
    "\n",
    "ratio = 0.04\n",
    "dataframe = pd.DataFrame([[0,1,2,3,4,5,6,7,8]],columns=['image_name', 'voltage_strain','DIC_strain_average', 'using_DIC_mask_average', 'local_ml', 'local_ee','DIC_exx', 'DIC_eyy', 'DIC_exy'])\n",
    "\n",
    "row = pd.Series(['image_name', 'voltage_strain','DIC_strain_average', 'using_DIC_mask_average', 'local_ml', 'local_ee','DIC_exx', 'DIC_eyy', DIC_exy],\n",
    "                index=['image_name', 'voltage_strain','DIC_strain_average', 'using_DIC_mask_average', 'local_ml', 'local_ee','DIC_exx', 'DIC_eyy', 'DIC_exy'])\n"
   ],
   "metadata": {
    "collapsed": false,
    "pycharm": {
     "name": "#%%\n"
    }
   }
  },
  {
   "cell_type": "code",
   "execution_count": null,
   "outputs": [],
   "source": [
    "for num in range(1,2+1):\n",
    "    file_num = str(num)\n",
    "    uu = io.loadmat(path+'/DIC_img/data/'+file_num+'_uu.mat')['uu']\n",
    "    vv = io.loadmat(path+'/DIC_img/data/'+file_num+'_vv.mat')['vv']\n",
    "    uu_resize = cv2.resize(uu,(0,0),fx=2, fy=2 )\n",
    "    vv_resize = cv2.resize(vv,(0,0),fx=2, fy=2 )\n",
    "\n",
    "    exx = io.loadmat(path+'/DIC_img/data/'+file_num+'_exx.mat')['exx']\n",
    "    eyy = io.loadmat(path+'/DIC_img/data/'+file_num+'_eyy.mat')['eyy']\n",
    "    exy = io.loadmat(path+'/DIC_img/data/'+file_num+'_exy.mat')['exy']\n",
    "    ee = fracture.effective_strain(exx, eyy, exy)\n",
    "    exx_resize = cv2.resize(exx,(0,0),fx=2, fy=2 )\n",
    "    eyy_resize = cv2.resize(eyy,(0,0),fx=2, fy=2 )\n",
    "    exy_resize = cv2.resize(exy,(0,0),fx=2, fy=2 )\n",
    "    ee_resize = cv2.resize(ee,(0,0),fx=2, fy=2 )\n",
    "\n",
    "    ee_mask = np.where(ee_resize>0, 255, ee_resize*0).astype('uint8')\n",
    "    ml_image = image[list(image.keys())[num]]\n",
    "    mask_ml = dic.find_zone(cv2.copyTo(ml_image, ee_mask))[10:-10,10:-10]\n",
    "    if num == 1:\n",
    "        ref_image = cv2.copyTo(image[list(image.keys())[0]], cv2.imread(path+'/DIC_img/mask.png'))\n",
    "        ref = dic.find_zone(ref_image)[10:-10,10:-10]\n",
    "        gas_ref = cv2.GaussianBlur(ref,(0,0),5)\n",
    "\n",
    "    gas = cv2.GaussianBlur(mask_ml[:,:,1],(0,0),5)\n",
    "\n",
    "    cur_y = np.round(ref_y+vv_resize[ref_y,ref_x]/ratio,1).astype('int')\n",
    "    cur_x = np.round(ref_x+uu_resize[ref_y,ref_x]/ratio,1).astype('int')\n",
    "\n",
    "    local_ee = np.average(ee_resize[cur_y-10 : cur_y+10 , cur_x-10: cur_x+10])\n",
    "    local_ml = np.average(ml_image[cur_y-10 : cur_y+10 , cur_x-10: cur_x+10]) - np.average(image[list(image.keys())[0]][ref_y-10 : ref_y+10 , ref_x-10 : ref_x+10])\n",
    "\n",
    "    if num > 6:\n",
    "        local_ml = local_ml + 1.4\n",
    "\n",
    "\n",
    "    fig, ax = plt.subplots(1, 3 , constrained_layout=True)\n",
    "    fig.suptitle(list(image.keys())[num] + 'strain : ' + str(np.round(strain[int(list(image.keys())[num].split('_')[1])],3)))\n",
    "\n",
    "    ax0 = ax[0].imshow(cv2.addWeighted(ml_image[:,:,2],1, ee_mask,0.06,-40),cmap='gray')\n",
    "    ax[0].set_title('ML ROI')\n",
    "    ax[0].scatter(cur_x, cur_y,color='red', marker='s', s=10)\n",
    "\n",
    "    ax1 = ax[1].imshow(ee_resize, cmap='jet', vmin=0, vmax=0.25)\n",
    "    ax[1].set_title('Effective\\n strain')\n",
    "    ax[1].scatter(cur_x, cur_y,color='white', marker='s', s=10)\n",
    "    plt.colorbar(ax1,ax=ax[1])\n",
    "\n",
    "    gas = cv2.flip(gas,0)\n",
    "    ax[2].imshow(gas)\n",
    "    ax2 = ax[2].contourf(gas,cmap='jet', vmin=75, vmax=116)\n",
    "    ax3 = ax[2].contour(gas,colors='black',linewidths=1)\n",
    "    ax[2].invert_yaxis()\n",
    "    plt.colorbar(ax2, ax=ax[2])\n",
    "    # ax[2].axis('off')\n",
    "    ax[2].set_title('ML')\n",
    "\n",
    "    image_name = int(list(image.keys())[num].split('_')[1])\n",
    "    voltage_strain = strain[int(list(image.keys())[num].split('_')[1])]\n",
    "    DIC_strain_average = np.average(dic.find_zone(ee_resize)[10:-10,10:-10])\n",
    "    using_DIC_mask_average = np.average(mask_ml[:,:,1])-np.average(ref)\n",
    "    local_ml = local_ml\n",
    "    local_ee = local_ee\n",
    "    DIC_eyy = np.average(dic.find_zone(eyy))\n",
    "    DIC_exx = np.average(dic.find_zone(exy))\n",
    "    DIC_exy = np.average(dic.find_zone(exy))\n",
    "\n",
    "    # plt.savefig(path_save+'/'+list(image.keys())[num]+'.png', dpi=300)\n",
    "    plt.show()\n",
    "    plt.close()\n",
    "\n",
    "\n",
    "plt.imshow(ee_resize, cmap='PuBu', vmin=0, vmax=0.25) ##네킹부분 국부\n",
    "plt.scatter(cur_x, cur_y, marker='s', s=10  ,label='x:'+str(ref_x) + ' y:'+str(ref_y), edgecolors='black')\n",
    "plt.legend()\n",
    "plt.legend(loc='center right', bbox_to_anchor=(2.9, 0.5), fancybox=True, shadow=True)\n",
    "# plt.savefig(path_save+'/국부 점으로찍은위치6.png', dpi=300)\n"
   ],
   "metadata": {
    "collapsed": false,
    "pycharm": {
     "name": "#%%\n"
    }
   }
  },
  {
   "cell_type": "code",
   "execution_count": null,
   "outputs": [],
   "source": [
    "fig, ax1 = plt.subplots()\n",
    "fig.subplots_adjust()\n",
    "\n",
    "\n",
    "for _ in local_list_all:\n",
    "    ax1.scatter(np.array(local_list_all)[:,0], np.array(local_list_all)[:,1], label='x:'+str(ref_x) + ' y:'+str(ref_y), marker='X')\n",
    "\n",
    "    # ax1.legend(loc='center right', bbox_to_anchor=(1.2, 0.4), fancybox=True, shadow=True)\n",
    "cost_list = []\n",
    "\n",
    "fp1 = np.polyfit(np.array(local_list_all_2d)[:,0], np.array(local_list_all_2d)[:,1], 1)\n",
    "f1 =np.poly1d(fp1)\n",
    "x_fit = np.arange(0,0.25,0.0005)\n",
    "ax1.plot(x_fit, f1(x_fit), color='black')\n",
    "ax1.set_ylabel('ml')\n",
    "ax1.set_xlabel('effective_strain')\n",
    "ax1.grid()\n",
    "ax1.set_title('Local effective strain vs Local ML intensity_degree:1')\n",
    "ax1.plot(x_fit, x_fit*109.1)\n",
    "\n",
    "plt.plot(np.array(ee_list)[:,1],np.array(ee_list)[:,2], color='red')\n",
    "plt.axvspan(0, 0.0285, facecolor='gray', alpha=0.5)\n",
    "\n",
    "plt.savefig(path_save+'/1.3더한거커브.png', dpi=300, bbox_inches='tight',  pad_inches=0)"
   ],
   "metadata": {
    "collapsed": false,
    "pycharm": {
     "name": "#%%\n"
    }
   }
  },
  {
   "cell_type": "code",
   "execution_count": null,
   "outputs": [],
   "source": [
    "b = np.vstack((x_fit, 109.1*x_fit)).transpose()\n",
    "\n",
    "np.savetxt(path_save+'/effective_strain_ml_1.3더한거.csv',b)"
   ],
   "metadata": {
    "collapsed": false,
    "pycharm": {
     "name": "#%%\n"
    }
   }
  },
  {
   "cell_type": "code",
   "execution_count": null,
   "outputs": [],
   "source": [
    "\"\"\"평균\"\"\"\n",
    "\n",
    "fig, ax = plt.subplots()\n",
    "ax1 = ax.twinx()\n",
    "fig.suptitle('Ml')\n",
    "ax.set_xlabel('strain')\n",
    "ax.set_ylabel('ml')\n",
    "ax1.set_ylabel('stress')\n",
    "line1 = ax.plot(strain, ml_avg-ml_avg[0], color='b', label=\"Same mask vs Average Ml\")\n",
    "line3 = ax1.plot(strain, stress, color='r', label=\" stress\")\n",
    "# scatter1 = ax.plot(np.array(ee_list)[:,0].astype('float'), np.array(ee_list)[:,2].astype('float'), color = 'green', label='different mask')\n",
    "# line2 = ax.plot(np.array(ee_list)[:,0].astype('float'), np.array(ee_list)[:,4].astype('float'), label='Necking average')\n",
    "# ax.plot(x_fit, f1(x_fit), color='green', linewidth=2, label = 'fitting(Effective strain vs Ml)')\n",
    "\n",
    "ax.plot()\n",
    "\n",
    "lines = line1\n",
    "labels = [l.get_label() for l in lines]\n",
    "ax.legend(loc = 4)\n",
    "\n",
    "ax1.legend(loc = 2)\n",
    "ax.grid()\n",
    "\n",
    "fig.savefig(path_save+'/평균ml_평균1.3ejgksrjdicgraph1.png', dpi = 300)\n",
    "plt.show()\n",
    "plt.close()"
   ],
   "metadata": {
    "collapsed": false,
    "pycharm": {
     "name": "#%%\n"
    }
   }
  },
  {
   "cell_type": "code",
   "execution_count": null,
   "outputs": [],
   "source": [
    "plt.plot(time,strain, label='Stress-strain')\n",
    "plt.scatter(np.array(ee_list)[:,3].astype('uint'), np.array(ee_list)[:,1].astype('float'), label='Effective strain', color='red')\n",
    "plt.xlabel('time')\n",
    "plt.ylabel('strain')\n",
    "plt.legend()\n",
    "\n",
    "# plt.savefig(path_save+'/평균ml_평균dicgraph1.png', dpi = 300)\n",
    "plt.show()"
   ],
   "metadata": {
    "collapsed": false,
    "pycharm": {
     "name": "#%%\n"
    }
   }
  },
  {
   "cell_type": "code",
   "execution_count": null,
   "outputs": [],
   "source": [
    "plt.scatter(np.array(ee_list)[:,0].astype('float'),np.array(ee_list)[:,1].astype('float'),label='effective strain')\n",
    "plt.legend()\n",
    "plt.xlabel('Eyy')\n",
    "plt.ylabel('Ee')\n",
    "plt.show()"
   ],
   "metadata": {
    "collapsed": false,
    "pycharm": {
     "name": "#%%\n"
    }
   }
  },
  {
   "cell_type": "code",
   "execution_count": null,
   "outputs": [],
   "source": [
    "plt.scatter(np.array(ee_list)[:,1].astype('float'),np.array(ee_list)[:,0].astype('float'),label='Eyy')\n",
    "plt.legend()\n",
    "plt.xlabel('Ee')\n",
    "plt.ylabel('Eyy')"
   ],
   "metadata": {
    "collapsed": false,
    "pycharm": {
     "name": "#%%\n"
    }
   }
  },
  {
   "cell_type": "code",
   "execution_count": null,
   "outputs": [],
   "source": [
    "fig, ax = plt.subplots()\n",
    "ax1 = ax.twinx()\n",
    "\n",
    "ax1.plot(np.array(ee_list)[:,0], np.array(ee_list)[:,5], label='eyy')\n",
    "ax1.plot(np.array(ee_list)[:,0], np.array(ee_list)[:,6], label='exx')\n",
    "ax1.plot(np.array(ee_list)[:,0], np.array(ee_list)[:,7], label='exy')\n",
    "ax1.scatter(np.array(ee_list)[:,0], np.array(ee_list)[:,1], label='effective strain', color='purple')\n",
    "ax1.plot(np.array(ee_list)[:,0], np.array(ee_list)[:,0], label='cross head strain')\n",
    "ax.plot(strain, stress, color='black', label=\" stress\")\n",
    "\n",
    "ax1.set_ylabel('strain')\n",
    "ax.set_ylabel('stress')\n",
    "ax.set_xlabel('Crosshead strain')\n",
    "ax.set_ylim(-200,)\n",
    "\n",
    "ax.grid()\n",
    "ax1.legend()\n",
    "plt.savefig(path_save+'/비교.png', dpi = 300)"
   ],
   "metadata": {
    "collapsed": false,
    "pycharm": {
     "name": "#%%\n"
    }
   }
  },
  {
   "cell_type": "code",
   "execution_count": null,
   "outputs": [],
   "source": [
    "plt.plot(np.array(ee_list)[:,5], np.array(ee_list)[:,4], label='eyy')\n",
    "plt.xlabel('dic strain eyy')"
   ],
   "metadata": {
    "collapsed": false,
    "pycharm": {
     "name": "#%%\n"
    }
   }
  },
  {
   "cell_type": "code",
   "execution_count": null,
   "outputs": [],
   "source": [
    "plt.plot(np.array(ee_list)[:,0], np.array(ee_list)[:,4], label='eyy')\n",
    "plt.xlabel('Crosshead strain')"
   ],
   "metadata": {
    "collapsed": false,
    "pycharm": {
     "name": "#%%\n"
    }
   }
  },
  {
   "cell_type": "code",
   "execution_count": null,
   "outputs": [],
   "source": [
    "true_stress,true_strain = fracture.true_ss(stress, strain)\n",
    "plt.plot(true_strain, true_stress)\n",
    "plt.plot(strain,stress)\n"
   ],
   "metadata": {
    "collapsed": false,
    "pycharm": {
     "name": "#%%\n"
    }
   }
  }
 ],
 "metadata": {
  "kernelspec": {
   "display_name": "Python 3",
   "language": "python",
   "name": "python3"
  },
  "language_info": {
   "codemirror_mode": {
    "name": "ipython",
    "version": 2
   },
   "file_extension": ".py",
   "mimetype": "text/x-python",
   "name": "python",
   "nbconvert_exporter": "python",
   "pygments_lexer": "ipython2",
   "version": "2.7.6"
  }
 },
 "nbformat": 4,
 "nbformat_minor": 0
}