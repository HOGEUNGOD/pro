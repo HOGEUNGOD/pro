{
 "cells": [
  {
   "cell_type": "code",
   "execution_count": 13,
   "metadata": {
    "collapsed": true,
    "pycharm": {
     "name": "#%%\n"
    }
   },
   "outputs": [
    {
     "data": {
      "text/plain": "[<matplotlib.lines.Line2D at 0x258328576d0>]"
     },
     "execution_count": 13,
     "metadata": {},
     "output_type": "execute_result"
    },
    {
     "data": {
      "text/plain": "<Figure size 432x288 with 1 Axes>",
      "image/png": "[encoded data removed]"
     },
     "metadata": {
      "needs_background": "light"
     },
     "output_type": "display_data"
    }
   ],
   "source": [
    "import os\n",
    "import cv2\n",
    "import sys\n",
    "from scipy import io\n",
    "import pandas as pd\n",
    "from scipy.spatial import distance\n",
    "import numpy as np\n",
    "import math\n",
    "import matplotlib.pyplot as plt\n",
    "import glob\n",
    "import fracture\n",
    "import DIC as dic\n",
    "\n",
    "\"\"\"\n",
    "#mat save code\n",
    "exx = handles_ncorr.data_dic.strains.plot_exx_cur_formatted\n",
    "eyy = handles_ncorr.data_dic.strains.plot_eyy_cur_formatted\n",
    "exy = handles_ncorr.data_dic.strains.plot_exy_cur_formatted\n",
    "uu = handles_ncorr.data_dic.displacements.plot_u_cur_formatted\n",
    "vv = handles_ncorr.data_dic.displacements.plot_v_cur_formatted\n",
    "\n",
    "save t_exx.mat exx\n",
    "save t_exy.mat exy\n",
    "save t_eyy.mat eyy\n",
    "save t_uu.mat uu\n",
    "save t_vv.mat vv\n",
    "\n",
    "\"\"\"\n",
    "path = r'E:\\experiment data\\aluminum\\2021-03-19\\2_1resoltech\\analysis\\DIC'\n",
    "file_num = '4048'\n",
    "\n",
    "# Material property\n",
    "n_hardening=17\n",
    "yield_strength=535.435\n",
    "poisson_ratio=0.33\n",
    "alpha=0.585\n",
    "In=2.78\n",
    "youngs_modulus=71.7*1000\n",
    "fracture_strength = 800\n",
    "\n",
    "# Img parameter\n",
    "set_angle = 60\n",
    "down_level, up_level = 10,13\n",
    "ratio = 2/60\n",
    "left, right, up_down = 50,250,150\n",
    "\n",
    "strength_list = np.arange(0,fracture_strength+0.1,0.1)\n",
    "effective_strain_list = strength_list / youngs_modulus + alpha*(strength_list/yield_strength)**n_hardening\n",
    "\n",
    "plt.plot(effective_strain_list,strength_list)\n"
   ]
  },
  {
   "cell_type": "code",
   "execution_count": null,
   "outputs": [],
   "source": [
    "uu = io.loadmat(path+'/'+file_num+'/t_uu.mat')['uu']\n",
    "vv = io.loadmat(path+'/'+file_num+'/t_vv.mat')['vv']\n",
    "exx = io.loadmat(path+'/'+file_num+'/t_exx.mat')['exx']\n",
    "eyy = io.loadmat(path+'/'+file_num+'/t_eyy.mat')['eyy']\n",
    "exy = io.loadmat(path+'/'+file_num+'/t_exy.mat')['exy']\n",
    "ee = fracture.effective_strain(exx, eyy, exy)\n",
    "ee = dic.find_zone(ee)\n",
    "\n",
    "crack_tip = [18,106] #xy\n",
    "left, right, hight,crack_gap =5, 50 , 50,15\n",
    "tau1 = ee[crack_tip[1]+crack_gap:crack_tip[1]+hight,crack_tip[0]-left]\n",
    "tau2 = ee[crack_tip[1]+hight, crack_tip[0]-left:crack_tip[0]+right]\n",
    "tau3 = ee[crack_tip[1]-hight:crack_tip[1]+hight, crack_tip[0]+right]\n",
    "tau4 = ee[crack_tip[1]-hight, crack_tip[0]-left:crack_tip[0]+right]\n",
    "tau5 = ee[crack_tip[1]-hight:crack_tip[1]-crack_gap,crack_tip[0]-left]\n",
    "\n",
    "ee[crack_tip[1]-hight:crack_tip[1]-crack_gap,crack_tip[0]-left] = 0\n",
    "ee[crack_tip[1]+crack_gap:crack_tip[1]+hight,crack_tip[0]-left] = 0\n",
    "ee[crack_tip[1]-hight, crack_tip[0]-left:crack_tip[0]+right] = 0\n",
    "ee[crack_tip[1]-hight:crack_tip[1]+hight, crack_tip[0]+right] = 0\n",
    "ee[crack_tip[1]+hight, crack_tip[0]-left:crack_tip[0]+right] = 0\n",
    "\n",
    "plt.imshow(ee)\n",
    "plt.scatter(crack_tip[0],crack_tip[1], color='red')\n",
    "plt.show()"
   ],
   "metadata": {
    "collapsed": false,
    "pycharm": {
     "name": "#%%\n"
    }
   }
  },
  {
   "cell_type": "code",
   "execution_count": null,
   "outputs": [],
   "source": [
    "\n"
   ],
   "metadata": {
    "collapsed": false,
    "pycharm": {
     "name": "#%%\n"
    }
   }
  }
 ],
 "metadata": {
  "kernelspec": {
   "display_name": "Python 3",
   "language": "python",
   "name": "python3"
  },
  "language_info": {
   "codemirror_mode": {
    "name": "ipython",
    "version": 2
   },
   "file_extension": ".py",
   "mimetype": "text/x-python",
   "name": "python",
   "nbconvert_exporter": "python",
   "pygments_lexer": "ipython2",
   "version": "2.7.6"
  }
 },
 "nbformat": 4,
 "nbformat_minor": 0
}