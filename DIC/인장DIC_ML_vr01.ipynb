{
 "cells": [
  {
   "cell_type": "code",
   "execution_count": 1,
   "outputs": [
    {
     "name": "stdout",
     "output_type": "stream",
     "text": [
      "Run complete\n"
     ]
    }
   ],
   "source": [
    "import os\n",
    "import cv2\n",
    "from scipy import io\n",
    "import pandas as pd\n",
    "import numpy as np\n",
    "import matplotlib.pyplot as plt\n",
    "import fracture\n",
    "import DIC as dic\n",
    "\n",
    "#csv파일 형식 바꾸기!\n",
    "\n",
    "\"\"\"setting values\"\"\"\n",
    "path = r'E:\\experiment data\\aluminum\\2021-03-25\\faruv_tension_2\\img'\n",
    "path_save= r'E:\\experiment data\\aluminum\\2021-03-25\\faruv_tension_2'\n",
    "\n",
    "slice_x1 = 71\n",
    "slice_x2 = 142\n",
    "slice_y1 = 414\n",
    "slice_y2 = 661\n",
    "\n",
    "file_list = os.listdir(path)\n",
    "count = 0\n",
    "result = []\n",
    "\n",
    "for file in file_list:\n",
    "    if file.endswith(\".jpg\"):\n",
    "        im = cv2.imread(os.path.join(path, file), cv2.IMREAD_GRAYSCALE)\n",
    "        im_calculate = np.array(im)\n",
    "        img_box = im_calculate[slice_y1:slice_y2, slice_x1:slice_x2]\n",
    "\n",
    "        ave = np.average(img_box)\n",
    "        result = np.append(result, [ave])\n",
    "        count += 1"
   ],
   "metadata": {
    "collapsed": false,
    "pycharm": {
     "name": "#%%\n"
    }
   }
  },
  {
   "cell_type": "code",
   "execution_count": 2,
   "outputs": [
    {
     "ename": "FileNotFoundError",
     "evalue": "[Errno 2] No such file or directory: 'E:\\\\experiment data\\\\aluminum\\\\2021-03-25\\\\faruv_tension_2\\\\img/tension.csv'",
     "output_type": "error",
     "traceback": [
      "\u001B[1;31m---------------------------------------------------------------------------\u001B[0m",
      "\u001B[1;31mFileNotFoundError\u001B[0m                         Traceback (most recent call last)",
      "\u001B[1;32m<ipython-input-2-b905faa5ab92>\u001B[0m in \u001B[0;36m<module>\u001B[1;34m\u001B[0m\n\u001B[0;32m      2\u001B[0m \u001B[1;33m\u001B[0m\u001B[0m\n\u001B[0;32m      3\u001B[0m \u001B[1;32mfrom\u001B[0m \u001B[0mscipy\u001B[0m\u001B[1;33m.\u001B[0m\u001B[0msignal\u001B[0m \u001B[1;32mimport\u001B[0m \u001B[0msavgol_filter\u001B[0m\u001B[1;33m\u001B[0m\u001B[1;33m\u001B[0m\u001B[0m\n\u001B[1;32m----> 4\u001B[1;33m \u001B[0mtension_data\u001B[0m \u001B[1;33m=\u001B[0m \u001B[0mnp\u001B[0m\u001B[1;33m.\u001B[0m\u001B[0marray\u001B[0m\u001B[1;33m(\u001B[0m\u001B[0mpd\u001B[0m\u001B[1;33m.\u001B[0m\u001B[0mread_csv\u001B[0m\u001B[1;33m(\u001B[0m\u001B[0mpath\u001B[0m\u001B[1;33m+\u001B[0m\u001B[1;34m'/tension.csv'\u001B[0m\u001B[1;33m,\u001B[0m \u001B[0mencoding\u001B[0m\u001B[1;33m=\u001B[0m\u001B[1;34m'CP949'\u001B[0m\u001B[1;33m)\u001B[0m\u001B[1;33m)\u001B[0m\u001B[1;33m\u001B[0m\u001B[1;33m\u001B[0m\u001B[0m\n\u001B[0m\u001B[0;32m      5\u001B[0m \u001B[1;33m\u001B[0m\u001B[0m\n\u001B[0;32m      6\u001B[0m \u001B[0mtime\u001B[0m\u001B[1;33m,\u001B[0m \u001B[0mstrain\u001B[0m\u001B[1;33m,\u001B[0m \u001B[0mstress\u001B[0m \u001B[1;33m=\u001B[0m \u001B[0mtension_data\u001B[0m\u001B[1;33m[\u001B[0m\u001B[1;33m:\u001B[0m\u001B[1;33m,\u001B[0m \u001B[1;36m0\u001B[0m\u001B[1;33m]\u001B[0m\u001B[1;33m,\u001B[0m \u001B[0mtension_data\u001B[0m\u001B[1;33m[\u001B[0m\u001B[1;33m:\u001B[0m\u001B[1;33m,\u001B[0m \u001B[1;36m4\u001B[0m\u001B[1;33m]\u001B[0m\u001B[1;33m*\u001B[0m\u001B[1;36m10\u001B[0m\u001B[1;33m/\u001B[0m\u001B[1;36m25\u001B[0m\u001B[1;33m,\u001B[0m \u001B[0mtension_data\u001B[0m\u001B[1;33m[\u001B[0m\u001B[1;33m:\u001B[0m\u001B[1;33m,\u001B[0m \u001B[1;36m3\u001B[0m\u001B[1;33m]\u001B[0m\u001B[1;33m*\u001B[0m\u001B[1;36m3000\u001B[0m\u001B[1;33m/\u001B[0m\u001B[1;36m18\u001B[0m\u001B[1;33m\u001B[0m\u001B[1;33m\u001B[0m\u001B[0m\n",
      "\u001B[1;32m~\\Anaconda3\\envs\\pro\\lib\\site-packages\\pandas\\io\\parsers.py\u001B[0m in \u001B[0;36mread_csv\u001B[1;34m(filepath_or_buffer, sep, delimiter, header, names, index_col, usecols, squeeze, prefix, mangle_dupe_cols, dtype, engine, converters, true_values, false_values, skipinitialspace, skiprows, skipfooter, nrows, na_values, keep_default_na, na_filter, verbose, skip_blank_lines, parse_dates, infer_datetime_format, keep_date_col, date_parser, dayfirst, cache_dates, iterator, chunksize, compression, thousands, decimal, lineterminator, quotechar, quoting, doublequote, escapechar, comment, encoding, dialect, error_bad_lines, warn_bad_lines, delim_whitespace, low_memory, memory_map, float_precision, storage_options)\u001B[0m\n\u001B[0;32m    608\u001B[0m     \u001B[0mkwds\u001B[0m\u001B[1;33m.\u001B[0m\u001B[0mupdate\u001B[0m\u001B[1;33m(\u001B[0m\u001B[0mkwds_defaults\u001B[0m\u001B[1;33m)\u001B[0m\u001B[1;33m\u001B[0m\u001B[1;33m\u001B[0m\u001B[0m\n\u001B[0;32m    609\u001B[0m \u001B[1;33m\u001B[0m\u001B[0m\n\u001B[1;32m--> 610\u001B[1;33m     \u001B[1;32mreturn\u001B[0m \u001B[0m_read\u001B[0m\u001B[1;33m(\u001B[0m\u001B[0mfilepath_or_buffer\u001B[0m\u001B[1;33m,\u001B[0m \u001B[0mkwds\u001B[0m\u001B[1;33m)\u001B[0m\u001B[1;33m\u001B[0m\u001B[1;33m\u001B[0m\u001B[0m\n\u001B[0m\u001B[0;32m    611\u001B[0m \u001B[1;33m\u001B[0m\u001B[0m\n\u001B[0;32m    612\u001B[0m \u001B[1;33m\u001B[0m\u001B[0m\n",
      "\u001B[1;32m~\\Anaconda3\\envs\\pro\\lib\\site-packages\\pandas\\io\\parsers.py\u001B[0m in \u001B[0;36m_read\u001B[1;34m(filepath_or_buffer, kwds)\u001B[0m\n\u001B[0;32m    460\u001B[0m \u001B[1;33m\u001B[0m\u001B[0m\n\u001B[0;32m    461\u001B[0m     \u001B[1;31m# Create the parser.\u001B[0m\u001B[1;33m\u001B[0m\u001B[1;33m\u001B[0m\u001B[1;33m\u001B[0m\u001B[0m\n\u001B[1;32m--> 462\u001B[1;33m     \u001B[0mparser\u001B[0m \u001B[1;33m=\u001B[0m \u001B[0mTextFileReader\u001B[0m\u001B[1;33m(\u001B[0m\u001B[0mfilepath_or_buffer\u001B[0m\u001B[1;33m,\u001B[0m \u001B[1;33m**\u001B[0m\u001B[0mkwds\u001B[0m\u001B[1;33m)\u001B[0m\u001B[1;33m\u001B[0m\u001B[1;33m\u001B[0m\u001B[0m\n\u001B[0m\u001B[0;32m    463\u001B[0m \u001B[1;33m\u001B[0m\u001B[0m\n\u001B[0;32m    464\u001B[0m     \u001B[1;32mif\u001B[0m \u001B[0mchunksize\u001B[0m \u001B[1;32mor\u001B[0m \u001B[0miterator\u001B[0m\u001B[1;33m:\u001B[0m\u001B[1;33m\u001B[0m\u001B[1;33m\u001B[0m\u001B[0m\n",
      "\u001B[1;32m~\\Anaconda3\\envs\\pro\\lib\\site-packages\\pandas\\io\\parsers.py\u001B[0m in \u001B[0;36m__init__\u001B[1;34m(self, f, engine, **kwds)\u001B[0m\n\u001B[0;32m    817\u001B[0m             \u001B[0mself\u001B[0m\u001B[1;33m.\u001B[0m\u001B[0moptions\u001B[0m\u001B[1;33m[\u001B[0m\u001B[1;34m\"has_index_names\"\u001B[0m\u001B[1;33m]\u001B[0m \u001B[1;33m=\u001B[0m \u001B[0mkwds\u001B[0m\u001B[1;33m[\u001B[0m\u001B[1;34m\"has_index_names\"\u001B[0m\u001B[1;33m]\u001B[0m\u001B[1;33m\u001B[0m\u001B[1;33m\u001B[0m\u001B[0m\n\u001B[0;32m    818\u001B[0m \u001B[1;33m\u001B[0m\u001B[0m\n\u001B[1;32m--> 819\u001B[1;33m         \u001B[0mself\u001B[0m\u001B[1;33m.\u001B[0m\u001B[0m_engine\u001B[0m \u001B[1;33m=\u001B[0m \u001B[0mself\u001B[0m\u001B[1;33m.\u001B[0m\u001B[0m_make_engine\u001B[0m\u001B[1;33m(\u001B[0m\u001B[0mself\u001B[0m\u001B[1;33m.\u001B[0m\u001B[0mengine\u001B[0m\u001B[1;33m)\u001B[0m\u001B[1;33m\u001B[0m\u001B[1;33m\u001B[0m\u001B[0m\n\u001B[0m\u001B[0;32m    820\u001B[0m \u001B[1;33m\u001B[0m\u001B[0m\n\u001B[0;32m    821\u001B[0m     \u001B[1;32mdef\u001B[0m \u001B[0mclose\u001B[0m\u001B[1;33m(\u001B[0m\u001B[0mself\u001B[0m\u001B[1;33m)\u001B[0m\u001B[1;33m:\u001B[0m\u001B[1;33m\u001B[0m\u001B[1;33m\u001B[0m\u001B[0m\n",
      "\u001B[1;32m~\\Anaconda3\\envs\\pro\\lib\\site-packages\\pandas\\io\\parsers.py\u001B[0m in \u001B[0;36m_make_engine\u001B[1;34m(self, engine)\u001B[0m\n\u001B[0;32m   1048\u001B[0m             )\n\u001B[0;32m   1049\u001B[0m         \u001B[1;31m# error: Too many arguments for \"ParserBase\"\u001B[0m\u001B[1;33m\u001B[0m\u001B[1;33m\u001B[0m\u001B[1;33m\u001B[0m\u001B[0m\n\u001B[1;32m-> 1050\u001B[1;33m         \u001B[1;32mreturn\u001B[0m \u001B[0mmapping\u001B[0m\u001B[1;33m[\u001B[0m\u001B[0mengine\u001B[0m\u001B[1;33m]\u001B[0m\u001B[1;33m(\u001B[0m\u001B[0mself\u001B[0m\u001B[1;33m.\u001B[0m\u001B[0mf\u001B[0m\u001B[1;33m,\u001B[0m \u001B[1;33m**\u001B[0m\u001B[0mself\u001B[0m\u001B[1;33m.\u001B[0m\u001B[0moptions\u001B[0m\u001B[1;33m)\u001B[0m  \u001B[1;31m# type: ignore[call-arg]\u001B[0m\u001B[1;33m\u001B[0m\u001B[1;33m\u001B[0m\u001B[0m\n\u001B[0m\u001B[0;32m   1051\u001B[0m \u001B[1;33m\u001B[0m\u001B[0m\n\u001B[0;32m   1052\u001B[0m     \u001B[1;32mdef\u001B[0m \u001B[0m_failover_to_python\u001B[0m\u001B[1;33m(\u001B[0m\u001B[0mself\u001B[0m\u001B[1;33m)\u001B[0m\u001B[1;33m:\u001B[0m\u001B[1;33m\u001B[0m\u001B[1;33m\u001B[0m\u001B[0m\n",
      "\u001B[1;32m~\\Anaconda3\\envs\\pro\\lib\\site-packages\\pandas\\io\\parsers.py\u001B[0m in \u001B[0;36m__init__\u001B[1;34m(self, src, **kwds)\u001B[0m\n\u001B[0;32m   1865\u001B[0m \u001B[1;33m\u001B[0m\u001B[0m\n\u001B[0;32m   1866\u001B[0m         \u001B[1;31m# open handles\u001B[0m\u001B[1;33m\u001B[0m\u001B[1;33m\u001B[0m\u001B[1;33m\u001B[0m\u001B[0m\n\u001B[1;32m-> 1867\u001B[1;33m         \u001B[0mself\u001B[0m\u001B[1;33m.\u001B[0m\u001B[0m_open_handles\u001B[0m\u001B[1;33m(\u001B[0m\u001B[0msrc\u001B[0m\u001B[1;33m,\u001B[0m \u001B[0mkwds\u001B[0m\u001B[1;33m)\u001B[0m\u001B[1;33m\u001B[0m\u001B[1;33m\u001B[0m\u001B[0m\n\u001B[0m\u001B[0;32m   1868\u001B[0m         \u001B[1;32massert\u001B[0m \u001B[0mself\u001B[0m\u001B[1;33m.\u001B[0m\u001B[0mhandles\u001B[0m \u001B[1;32mis\u001B[0m \u001B[1;32mnot\u001B[0m \u001B[1;32mNone\u001B[0m\u001B[1;33m\u001B[0m\u001B[1;33m\u001B[0m\u001B[0m\n\u001B[0;32m   1869\u001B[0m         \u001B[1;32mfor\u001B[0m \u001B[0mkey\u001B[0m \u001B[1;32min\u001B[0m \u001B[1;33m(\u001B[0m\u001B[1;34m\"storage_options\"\u001B[0m\u001B[1;33m,\u001B[0m \u001B[1;34m\"encoding\"\u001B[0m\u001B[1;33m,\u001B[0m \u001B[1;34m\"memory_map\"\u001B[0m\u001B[1;33m,\u001B[0m \u001B[1;34m\"compression\"\u001B[0m\u001B[1;33m)\u001B[0m\u001B[1;33m:\u001B[0m\u001B[1;33m\u001B[0m\u001B[1;33m\u001B[0m\u001B[0m\n",
      "\u001B[1;32m~\\Anaconda3\\envs\\pro\\lib\\site-packages\\pandas\\io\\parsers.py\u001B[0m in \u001B[0;36m_open_handles\u001B[1;34m(self, src, kwds)\u001B[0m\n\u001B[0;32m   1360\u001B[0m         \u001B[0mLet\u001B[0m \u001B[0mthe\u001B[0m \u001B[0mreaders\u001B[0m \u001B[0mopen\u001B[0m \u001B[0mIOHanldes\u001B[0m \u001B[0mafter\u001B[0m \u001B[0mthey\u001B[0m \u001B[0mare\u001B[0m \u001B[0mdone\u001B[0m \u001B[1;32mwith\u001B[0m \u001B[0mtheir\u001B[0m \u001B[0mpotential\u001B[0m \u001B[0mraises\u001B[0m\u001B[1;33m.\u001B[0m\u001B[1;33m\u001B[0m\u001B[1;33m\u001B[0m\u001B[0m\n\u001B[0;32m   1361\u001B[0m         \"\"\"\n\u001B[1;32m-> 1362\u001B[1;33m         self.handles = get_handle(\n\u001B[0m\u001B[0;32m   1363\u001B[0m             \u001B[0msrc\u001B[0m\u001B[1;33m,\u001B[0m\u001B[1;33m\u001B[0m\u001B[1;33m\u001B[0m\u001B[0m\n\u001B[0;32m   1364\u001B[0m             \u001B[1;34m\"r\"\u001B[0m\u001B[1;33m,\u001B[0m\u001B[1;33m\u001B[0m\u001B[1;33m\u001B[0m\u001B[0m\n",
      "\u001B[1;32m~\\Anaconda3\\envs\\pro\\lib\\site-packages\\pandas\\io\\common.py\u001B[0m in \u001B[0;36mget_handle\u001B[1;34m(path_or_buf, mode, encoding, compression, memory_map, is_text, errors, storage_options)\u001B[0m\n\u001B[0;32m    640\u001B[0m                 \u001B[0merrors\u001B[0m \u001B[1;33m=\u001B[0m \u001B[1;34m\"replace\"\u001B[0m\u001B[1;33m\u001B[0m\u001B[1;33m\u001B[0m\u001B[0m\n\u001B[0;32m    641\u001B[0m             \u001B[1;31m# Encoding\u001B[0m\u001B[1;33m\u001B[0m\u001B[1;33m\u001B[0m\u001B[1;33m\u001B[0m\u001B[0m\n\u001B[1;32m--> 642\u001B[1;33m             handle = open(\n\u001B[0m\u001B[0;32m    643\u001B[0m                 \u001B[0mhandle\u001B[0m\u001B[1;33m,\u001B[0m\u001B[1;33m\u001B[0m\u001B[1;33m\u001B[0m\u001B[0m\n\u001B[0;32m    644\u001B[0m                 \u001B[0mioargs\u001B[0m\u001B[1;33m.\u001B[0m\u001B[0mmode\u001B[0m\u001B[1;33m,\u001B[0m\u001B[1;33m\u001B[0m\u001B[1;33m\u001B[0m\u001B[0m\n",
      "\u001B[1;31mFileNotFoundError\u001B[0m: [Errno 2] No such file or directory: 'E:\\\\experiment data\\\\aluminum\\\\2021-03-25\\\\faruv_tension_2\\\\img/tension.csv'"
     ]
    }
   ],
   "source": [
    "ml_avg = np.copy(result)\n",
    "\n",
    "from scipy.signal import savgol_filter\n",
    "tension_data = np.array(pd.read_csv(path+'/tension.csv', encoding='CP949'))\n",
    "\n",
    "time, strain, stress = tension_data[:, 0], tension_data[:, 4]*10/25, tension_data[:, 3]*3000/18\n",
    "max_range = 16741\n",
    "stress = savgol_filter(stress[0:max_range],201,1)\n",
    "strain = savgol_filter(strain[0:max_range],201,1)\n",
    "# ml_avg = savgol_filter(ml_avg[0:max_range],6001,1)\n",
    "ml_avg =  ml_avg[0:max_range]\n",
    "time = time[0:max_range]\n",
    "\n",
    "ml_avg[3545:] = ml_avg[3545:] + 1.4\n",
    "\n",
    "plt.plot(ml_avg)"
   ],
   "metadata": {
    "collapsed": false,
    "pycharm": {
     "name": "#%%\n"
    }
   }
  },
  {
   "cell_type": "code",
   "execution_count": 4,
   "outputs": [
    {
     "name": "stdout",
     "output_type": "stream",
     "text": [
      "Chck Phath\n"
     ]
    },
    {
     "ename": "SystemExit",
     "evalue": "",
     "output_type": "error",
     "traceback": [
      "An exception has occurred, use %tb to see the full traceback.\n",
      "\u001B[1;31mSystemExit\u001B[0m\n"
     ]
    },
    {
     "name": "stderr",
     "output_type": "stream",
     "text": [
      "C:\\Users\\ghrms\\Anaconda3\\envs\\pro\\lib\\site-packages\\IPython\\core\\interactiveshell.py:3435: UserWarning: To exit: use 'exit', 'quit', or Ctrl-D.\n",
      "  warn(\"To exit: use 'exit', 'quit', or Ctrl-D.\", stacklevel=1)\n"
     ]
    }
   ],
   "source": [
    "\n",
    "\"\"\"\n",
    "Matlab코드 여러 Dic데이터있는경우\n",
    "path = r'E:\\experiment data/aluminum\\Current/tension/data'\n",
    "\n",
    "for i=1:1:22\n",
    "uu=handles_ncorr.data_dic.displacements(i).plot_u_cur_formatted;\n",
    "vv=handles_ncorr.data_dic.displacements(i).plot_v_cur_formatted;\n",
    "exx=handles_ncorr.data_dic.strains(i).plot_exx_cur_formatted;\n",
    "eyy=handles_ncorr.data_dic.strains(i).plot_eyy_cur_formatted;\n",
    "exy=handles_ncorr.data_dic.strains(i).plot_exy_cur_formatted;\n",
    "\n",
    "save([path,'/', num2str(i), '_exx', '.mat'],'exx')\n",
    "save([path,'/', num2str(i), '_exy', '.mat'],'exy')\n",
    "save([path,'/', num2str(i), '_eyy', '.mat'],'eyy')\n",
    "save([path,'/', num2str(i), '_uu', '.mat'],'uu')\n",
    "save([path,'/', num2str(i), '_vv', '.mat'],'vv')\n",
    "\n",
    "end\n",
    "\n",
    "\"\"\"\n",
    "\n",
    "\"\"\"setting values\"\"\"\n",
    "path = r'E:\\experiment data\\aluminum\\Current\\tension'\n",
    "save_path =r'E:\\experiment data\\aluminum\\Current\\tension/output'\n",
    "image = dic.load_file(path)\n",
    "\n",
    "ref = image[list(image.keys())[0]]\n",
    "ref_x_list, ref_y_list = [105], [580]\n",
    "\n",
    "# ref_x_list, ref_y_list = [] , []\n",
    "# for x in range(95,125,10): #85\n",
    "#     for y in range(560, 660,20): #250\n",
    "#         ref_x_list.append(x)\n",
    "#         ref_y_list.append(y)\n",
    "\n",
    "# ref_x_list, ref_y_list = [116], [400]\n",
    "ratio = 0.04\n",
    "\n",
    "\n",
    "ee_list = []\n",
    "local_list_all=[]\n",
    "local_list_all_2d = []\n",
    "local_list=[]\n",
    "count = 0\n",
    "for ref_x, ref_y in zip(ref_x_list, ref_y_list):\n",
    "    for num in range(1,22+1):\n",
    "        file_num = str(num)\n",
    "        uu = io.loadmat(path+'/data/'+file_num+'_uu.mat')['uu']\n",
    "        vv = io.loadmat(path+'/data/'+file_num+'_vv.mat')['vv']\n",
    "        uu_resize = cv2.resize(uu,(0,0),fx=2, fy=2 )\n",
    "        vv_resize = cv2.resize(vv,(0,0),fx=2, fy=2 )\n",
    "\n",
    "        exx = io.loadmat(path+'/data/'+file_num+'_exx.mat')['exx']\n",
    "        eyy = io.loadmat(path+'/data/'+file_num+'_eyy.mat')['eyy']\n",
    "        exy = io.loadmat(path+'/data/'+file_num+'_exy.mat')['exy']\n",
    "        ee = fracture.effective_strain(exx, eyy, exy)\n",
    "        exx_resize = cv2.resize(exx,(0,0),fx=2, fy=2 )\n",
    "        eyy_resize = cv2.resize(eyy,(0,0),fx=2, fy=2 )\n",
    "        exy_resize = cv2.resize(exy,(0,0),fx=2, fy=2 )\n",
    "        ee_resize = cv2.resize(ee,(0,0),fx=2, fy=2 )\n",
    "\n",
    "        ee_mask = np.where(ee_resize>0, 255, ee_resize*0).astype('uint8')\n",
    "        ml_image = image[list(image.keys())[num]]\n",
    "        mask_ml = dic.find_zone(cv2.copyTo(ml_image, ee_mask))[20:-20,20:-20]\n",
    "        if num == 1:\n",
    "            ref_image = cv2.copyTo(image[list(image.keys())[0]], cv2.imread(r'E:\\experiment data\\aluminum\\Current\\tension/mask.png'))\n",
    "            ref = dic.find_zone(ref_image)[20:-20,20:-20]\n",
    "            gas_ref = cv2.GaussianBlur(ref,(0,0),5)\n",
    "\n",
    "\n",
    "        gas = cv2.GaussianBlur(mask_ml[:,:,1],(0,0),5)\n",
    "\n",
    "        cur_y = np.round(ref_y+vv_resize[ref_y,ref_x]/ratio,1).astype('int')\n",
    "        cur_x = np.round(ref_x+uu_resize[ref_y,ref_x]/ratio,1).astype('int')\n",
    "\n",
    "        local_ee = np.average(ee_resize[cur_y-15 : cur_y+15 , cur_x-15: cur_x+15])\n",
    "        local_ml = np.average(ml_image[cur_y-15 : cur_y+15 , cur_x-15: cur_x+15]) - np.average(ref_image[ref_y-15 : ref_y+15 , ref_x-15 : ref_x+15])\n",
    "        if num > 6:\n",
    "            local_ml = local_ml + 1.4\n",
    "\n",
    "        local_list.append([local_ee,local_ml])\n",
    "        local_list_all_2d.append([local_ee,local_ml])\n",
    "\n",
    "        #쓸려면 포인트 하나만\n",
    "        # fig, ax = plt.subplots(1, 3 , constrained_layout=True)\n",
    "        # # fig.suptitle(list(image.keys())[num] + 'strain : ' + str(np.round(strain[int(list(image.keys())[num].split('_')[1])],3)))\n",
    "        #\n",
    "        # ax0 = ax[0].imshow(cv2.addWeighted(ml_image[:,:,2],1, ee_mask,0.06,-40),cmap='gray')\n",
    "        # ax[0].set_title('ML ROI')\n",
    "        # ax[0].scatter(cur_x, cur_y,color='red', marker='s', s=10)\n",
    "        #\n",
    "        # ax1 = ax[1].imshow(ee_resize, cmap='jet', vmin=0, vmax=0.25)\n",
    "        # ax[1].set_title('Effective\\n strain')\n",
    "        # ax[1].scatter(cur_x, cur_y,color='white', marker='s', s=10)\n",
    "        # plt.colorbar(ax1,ax=ax[1])\n",
    "        #\n",
    "        # gas = cv2.flip(gas,0)\n",
    "        # ax[2].imshow(gas)\n",
    "        # ax2 = ax[2].contourf(gas,cmap='jet', vmin=75, vmax=116)\n",
    "        # ax3 = ax[2].contour(gas,colors='black',linewidths=1)\n",
    "        # ax[2].invert_yaxis()\n",
    "        # plt.colorbar(ax2, ax=ax[2])\n",
    "        # # ax[2].axis('off')\n",
    "        # ax[2].set_title('ML')\n",
    "\n",
    "\n",
    "        ee_list.append([strain[int(list(image.keys())[num].split('_')[1])], np.average(dic.find_zone(ee_resize)[10:-10,20:-20]), ## 전압 변형률, dic 평균 EE\n",
    "                        np.average(mask_ml[:,:,1])-np.average(ref),list(image.keys())[num].split('_')[1], local_ml, ##마스크 이용 ml 평균, 이미지, 국부 ml\n",
    "                        np.average(dic.find_zone(eyy)),np.average(dic.find_zone(exx)),np.average(dic.find_zone(exy)), ## 변형률, Effective strain 평균, Ml평균-레퍼런스 ml 평균\n",
    "                        strain[int(list(image.keys())[num].split('_')[1])]])\n",
    "\n",
    "        # plt.savefig(save_path+'/'+list(image.keys())[num]+'.png', dpi=300)\n",
    "        # plt.show()\n",
    "        # plt.close()\n",
    "\n",
    "\n",
    "    plt.imshow(ee_resize, cmap='PuBu', vmin=0, vmax=0.25) ##네킹부분 국부\n",
    "    plt.scatter(cur_x, cur_y, marker='s', s=10  ,label='x:'+str(ref_x_list[count]) + ' y:'+str(ref_y_list[count]), edgecolors='black')\n",
    "    plt.legend()\n",
    "    local_list_all.append(local_list)\n",
    "    local_list = []\n",
    "    count+=1\n",
    "plt.legend(loc='center right', bbox_to_anchor=(2.9, 0.5), fancybox=True, shadow=True)\n",
    "# plt.savefig(save_path+'/국부 점으로찍은위치6.png', dpi=300)\n",
    "ee_list = np.array(ee_list).astype('float')"
   ],
   "metadata": {
    "collapsed": false,
    "pycharm": {
     "name": "#%%\n"
    }
   }
  },
  {
   "cell_type": "code",
   "execution_count": 3,
   "outputs": [
    {
     "ename": "NameError",
     "evalue": "name 'df' is not defined",
     "output_type": "error",
     "traceback": [
      "\u001B[1;31m---------------------------------------------------------------------------\u001B[0m",
      "\u001B[1;31mNameError\u001B[0m                                 Traceback (most recent call last)",
      "\u001B[1;32m<ipython-input-3-29dddf0133a2>\u001B[0m in \u001B[0;36m<module>\u001B[1;34m\u001B[0m\n\u001B[1;32m----> 1\u001B[1;33m \u001B[0mplt\u001B[0m\u001B[1;33m.\u001B[0m\u001B[0mscatter\u001B[0m\u001B[1;33m(\u001B[0m\u001B[0mdf\u001B[0m\u001B[1;33m.\u001B[0m\u001B[0musing_DIC_mask_strain\u001B[0m\u001B[1;33m,\u001B[0m \u001B[0mdf\u001B[0m\u001B[1;33m.\u001B[0m\u001B[0mml_average\u001B[0m\u001B[1;33m,\u001B[0m \u001B[0mcolor\u001B[0m\u001B[1;33m=\u001B[0m\u001B[1;34m'black'\u001B[0m\u001B[1;33m)\u001B[0m\u001B[1;33m\u001B[0m\u001B[1;33m\u001B[0m\u001B[0m\n\u001B[0m\u001B[0;32m      2\u001B[0m \u001B[0mplt\u001B[0m\u001B[1;33m.\u001B[0m\u001B[0mplot\u001B[0m\u001B[1;33m(\u001B[0m\u001B[0mdf\u001B[0m\u001B[1;33m.\u001B[0m\u001B[0musing_DIC_mask_strain\u001B[0m\u001B[1;33m,\u001B[0m \u001B[0mdf\u001B[0m\u001B[1;33m.\u001B[0m\u001B[0mml_average\u001B[0m\u001B[1;33m,\u001B[0m \u001B[0mcolor\u001B[0m\u001B[1;33m=\u001B[0m\u001B[1;34m'black'\u001B[0m\u001B[1;33m)\u001B[0m\u001B[1;33m\u001B[0m\u001B[1;33m\u001B[0m\u001B[0m\n\u001B[0;32m      3\u001B[0m \u001B[0mplt\u001B[0m\u001B[1;33m.\u001B[0m\u001B[0mxlabel\u001B[0m\u001B[1;33m(\u001B[0m\u001B[1;34m'effective strain'\u001B[0m\u001B[1;33m)\u001B[0m\u001B[1;33m\u001B[0m\u001B[1;33m\u001B[0m\u001B[0m\n\u001B[0;32m      4\u001B[0m \u001B[0mplt\u001B[0m\u001B[1;33m.\u001B[0m\u001B[0mylabel\u001B[0m\u001B[1;33m(\u001B[0m\u001B[1;34m'Ml'\u001B[0m\u001B[1;33m)\u001B[0m\u001B[1;33m\u001B[0m\u001B[1;33m\u001B[0m\u001B[0m\n\u001B[0;32m      5\u001B[0m \u001B[0mplt\u001B[0m\u001B[1;33m.\u001B[0m\u001B[0mgrid\u001B[0m\u001B[1;33m(\u001B[0m\u001B[1;33m)\u001B[0m\u001B[1;33m\u001B[0m\u001B[1;33m\u001B[0m\u001B[0m\n",
      "\u001B[1;31mNameError\u001B[0m: name 'df' is not defined"
     ]
    }
   ],
   "source": [],
   "metadata": {
    "collapsed": false,
    "pycharm": {
     "name": "#%%\n"
    }
   }
  },
  {
   "cell_type": "code",
   "execution_count": null,
   "outputs": [],
   "source": [
    "fig, ax1 = plt.subplots()\n",
    "fig.subplots_adjust()\n",
    "count = 0\n",
    "\n",
    "for _ in local_list_all:\n",
    "    ax1.scatter(np.array(local_list_all)[count][:,0], np.array(local_list_all)[count][:,1], label='x:'+str(ref_x_list[count]) + ' y:'+str(ref_y_list[count]), marker='X')\n",
    "\n",
    "    count +=1\n",
    "    # ax1.legend(loc='center right', bbox_to_anchor=(1.2, 0.4), fancybox=True, shadow=True)\n",
    "cost_list = []\n",
    "\n",
    "fp1 = np.polyfit(np.array(local_list_all_2d)[:,0], np.array(local_list_all_2d)[:,1], 1)\n",
    "f1 =np.poly1d(fp1)\n",
    "x_fit = np.arange(0,0.25,0.0005)\n",
    "ax1.plot(x_fit, f1(x_fit), color='black')\n",
    "ax1.set_ylabel('ml')\n",
    "ax1.set_xlabel('effective_strain')\n",
    "ax1.grid()\n",
    "ax1.set_title('Local effective strain vs Local ML intensity_degree:1')\n",
    "ax1.plot(x_fit, x_fit*109.1)\n",
    "\n",
    "plt.plot(np.array(ee_list)[:,1],np.array(ee_list)[:,2], color='red')\n",
    "plt.axvspan(0, 0.0285, facecolor='gray', alpha=0.5)\n",
    "\n",
    "plt.savefig(save_path+'/1.3더한거커브.png', dpi=300, bbox_inches='tight',  pad_inches=0)"
   ],
   "metadata": {
    "collapsed": false,
    "pycharm": {
     "name": "#%%\n"
    }
   }
  },
  {
   "cell_type": "code",
   "execution_count": null,
   "outputs": [],
   "source": [
    "b = np.vstack((x_fit, 109.1*x_fit)).transpose()\n",
    "\n",
    "np.savetxt(save_path+'/effective_strain_ml_1.3더한거.csv',b)"
   ],
   "metadata": {
    "collapsed": false,
    "pycharm": {
     "name": "#%%\n"
    }
   }
  },
  {
   "cell_type": "code",
   "execution_count": null,
   "outputs": [],
   "source": [
    "\"\"\"평균\"\"\"\n",
    "\n",
    "fig, ax = plt.subplots()\n",
    "ax1 = ax.twinx()\n",
    "fig.suptitle('Ml')\n",
    "ax.set_xlabel('strain')\n",
    "ax.set_ylabel('ml')\n",
    "ax1.set_ylabel('stress')\n",
    "line1 = ax.plot(strain, ml_avg-ml_avg[0], color='b', label=\"Same mask vs Average Ml\")\n",
    "line3 = ax1.plot(strain, stress, color='r', label=\" stress\")\n",
    "# scatter1 = ax.plot(np.array(ee_list)[:,0].astype('float'), np.array(ee_list)[:,2].astype('float'), color = 'green', label='different mask')\n",
    "# line2 = ax.plot(np.array(ee_list)[:,0].astype('float'), np.array(ee_list)[:,4].astype('float'), label='Necking average')\n",
    "# ax.plot(x_fit, f1(x_fit), color='green', linewidth=2, label = 'fitting(Effective strain vs Ml)')\n",
    "\n",
    "ax.plot()\n",
    "\n",
    "lines = line1 + line2\n",
    "labels = [l.get_label() for l in lines]\n",
    "ax.legend(loc = 4)\n",
    "\n",
    "ax1.legend(loc = 2)\n",
    "ax.grid()\n",
    "\n",
    "fig.savefig(save_path+'/평균ml_평균1.3ejgksrjdicgraph1.png', dpi = 300)\n",
    "plt.show()\n",
    "plt.close()"
   ],
   "metadata": {
    "collapsed": false,
    "pycharm": {
     "name": "#%%\n"
    }
   }
  },
  {
   "cell_type": "code",
   "execution_count": null,
   "outputs": [],
   "source": [
    "plt.plot(time,strain, label='Stress-strain')\n",
    "plt.scatter(np.array(ee_list)[:,3].astype('uint'), np.array(ee_list)[:,1].astype('float'), label='Effective strain', color='red')\n",
    "plt.xlabel('time')\n",
    "plt.ylabel('strain')\n",
    "plt.legend()\n",
    "\n",
    "# plt.savefig(save_path+'/평균ml_평균dicgraph1.png', dpi = 300)\n",
    "plt.show()"
   ],
   "metadata": {
    "collapsed": false,
    "pycharm": {
     "name": "#%%\n"
    }
   }
  },
  {
   "cell_type": "code",
   "execution_count": null,
   "outputs": [],
   "source": [
    "plt.scatter(np.array(ee_list)[:,0].astype('float'),np.array(ee_list)[:,1].astype('float'),label='effective strain')\n",
    "plt.legend()\n",
    "plt.xlabel('Eyy')\n",
    "plt.ylabel('Ee')\n",
    "plt.show()"
   ],
   "metadata": {
    "collapsed": false,
    "pycharm": {
     "name": "#%%\n"
    }
   }
  },
  {
   "cell_type": "code",
   "execution_count": null,
   "outputs": [],
   "source": [
    "plt.scatter(np.array(ee_list)[:,1].astype('float'),np.array(ee_list)[:,0].astype('float'),label='Eyy')\n",
    "plt.legend()\n",
    "plt.xlabel('Ee')\n",
    "plt.ylabel('Eyy')"
   ],
   "metadata": {
    "collapsed": false,
    "pycharm": {
     "name": "#%%\n"
    }
   }
  },
  {
   "cell_type": "code",
   "execution_count": null,
   "outputs": [],
   "source": [
    "fig, ax = plt.subplots()\n",
    "ax1 = ax.twinx()\n",
    "\n",
    "ax1.plot(np.array(ee_list)[:,0], np.array(ee_list)[:,5], label='eyy')\n",
    "ax1.plot(np.array(ee_list)[:,0], np.array(ee_list)[:,6], label='exx')\n",
    "ax1.plot(np.array(ee_list)[:,0], np.array(ee_list)[:,7], label='exy')\n",
    "ax1.scatter(np.array(ee_list)[:,0], np.array(ee_list)[:,1], label='effective strain', color='purple')\n",
    "ax1.plot(np.array(ee_list)[:,0], np.array(ee_list)[:,0], label='cross head strain')\n",
    "ax.plot(strain, stress, color='black', label=\" stress\")\n",
    "\n",
    "ax1.set_ylabel('strain')\n",
    "ax.set_ylabel('stress')\n",
    "ax.set_xlabel('Crosshead strain')\n",
    "ax.set_ylim(-200,)\n",
    "\n",
    "ax.grid()\n",
    "ax1.legend()\n",
    "plt.savefig(save_path+'/비교.png', dpi = 300)"
   ],
   "metadata": {
    "collapsed": false,
    "pycharm": {
     "name": "#%%\n"
    }
   }
  },
  {
   "cell_type": "code",
   "execution_count": null,
   "outputs": [],
   "source": [
    "plt.plot(np.array(ee_list)[:,5], np.array(ee_list)[:,4], label='eyy')\n",
    "plt.xlabel('dic strain eyy')"
   ],
   "metadata": {
    "collapsed": false,
    "pycharm": {
     "name": "#%%\n"
    }
   }
  },
  {
   "cell_type": "code",
   "execution_count": null,
   "outputs": [],
   "source": [
    "plt.plot(np.array(ee_list)[:,0], np.array(ee_list)[:,4], label='eyy')\n",
    "plt.xlabel('Crosshead strain')"
   ],
   "metadata": {
    "collapsed": false,
    "pycharm": {
     "name": "#%%\n"
    }
   }
  },
  {
   "cell_type": "code",
   "execution_count": null,
   "outputs": [],
   "source": [
    "true_stress,true_strain = fracture.true_ss(stress, strain)\n",
    "plt.plot(true_strain, true_stress)\n",
    "plt.plot(strain,stress)"
   ],
   "metadata": {
    "collapsed": false,
    "pycharm": {
     "name": "#%%\n"
    }
   }
  }
 ],
 "metadata": {
  "kernelspec": {
   "display_name": "Python 3",
   "language": "python",
   "name": "python3"
  },
  "language_info": {
   "codemirror_mode": {
    "name": "ipython",
    "version": 2
   },
   "file_extension": ".py",
   "mimetype": "text/x-python",
   "name": "python",
   "nbconvert_exporter": "python",
   "pygments_lexer": "ipython2",
   "version": "2.7.6"
  }
 },
 "nbformat": 4,
 "nbformat_minor": 0
}