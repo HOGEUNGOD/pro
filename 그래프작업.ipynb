{
 "cells": [
  {
   "cell_type": "code",
   "execution_count": 35,
   "metadata": {
    "collapsed": true
   },
   "outputs": [],
   "source": [
    "import numpy as np\n",
    "import cv2\n",
    "import os\n",
    "import matplotlib.pylab as plt\n",
    "import pandas as pd\n",
    "import fracture\n",
    "\n",
    "#csv파일 형식 바꾸기!\n",
    "\n",
    "\"\"\"setting values\"\"\"\n",
    "path = 'E:\\experiment data\\concerete/0.1mmsec_UVoff_600N_phone'\n",
    "path_save= 'E:\\experiment data\\concerete/0.1mmsec_UVoff_600N_phone'\n",
    "tension_section = 18\n",
    "gauge_length = 20\n",
    "time_proportion = 6\n",
    "volt_startframe = 110\n",
    "\n",
    "#part2 , location must be x1<x2, y1<y2\n",
    "\n",
    "slice_x1 = 1133\n",
    "slice_x2 = 1327\n",
    "slice_y1 = 514\n",
    "slice_y2 = 732\n",
    "\n",
    "file_list = os.listdir(path)\n",
    "count = 0\n",
    "result = []\n",
    "\n",
    "for file in file_list:\n",
    "    if file.endswith(\".jpg\"):\n",
    "        im = cv2.imread(os.path.join(path, file), cv2.IMREAD_GRAYSCALE)/255\n",
    "        im_calculate = np.array(im)\n",
    "        img_box = im_calculate[slice_y1:slice_y2, slice_x1:slice_x2]\n",
    "        ave = np.average(img_box)\n",
    "        result = np.append(result, [ave])\n",
    "ml_avg = result\n",
    "# tension_data = np.array(pd.read_csv(path+'/tension.csv', encoding='CP949'))\n",
    "# time, strain, stress = tension_data[:, 0]/60, tension_data[:, 3], tension_data[:, 4]*3000\n",
    "\n",
    "# print(np.shape(ml_avg),np.shape(time))"
   ]
  },
  {
   "cell_type": "code",
   "execution_count": 47,
   "outputs": [
    {
     "data": {
      "text/plain": "<Figure size 432x288 with 1 Axes>",
      "image/png": "[encoded data removed]"
     },
     "metadata": {
      "needs_background": "light"
     },
     "output_type": "display_data"
    }
   ],
   "source": [
    "plt.plot(np.arange(0,np.shape(ml_avg)[0])/60, ml_avg, c='black')\n",
    "plt.xlim(6,10)\n",
    "plt.ylim(0.12,0.2)\n",
    "plt.grid()\n",
    "plt.title('check sound(start load) - time range')\n",
    "plt.savefig(path+'./abc.png', dpi=300)"
   ],
   "metadata": {
    "collapsed": false,
    "pycharm": {
     "name": "#%%\n"
    }
   }
  },
  {
   "cell_type": "code",
   "execution_count": null,
   "outputs": [],
   "source": [
    "#graph part\n",
    "#############qp\n",
    "fig, ax = plt.subplots()\n",
    "ax.set_title('0.1mmsec_UVoff_600N_phone')\n",
    "ax1 = ax.twinx()\n",
    "ax.set_xlabel('time')\n",
    "ax.set_ylabel('stress')\n",
    "ax1.set_ylabel('ml')\n",
    "ax.set_xlim(32,35.5)\n",
    "ax1.set_ylim(0.01, 0.016)\n",
    "# ax1.set_ylim(-0.01, 0.2)\n",
    "# ax.set_ylim(-100,900)\n",
    "line1 = ax.plot(time, stress, color='b', label=\"Stress\")\n",
    "line2 = ax1.plot(time, result, color='r', label=\"ML 0 to 1 \")\n",
    "lines = line1 + line2\n",
    "labels = [l.get_label() for l in lines]\n",
    "ax.legend(lines, labels)\n",
    "ax.grid()\n",
    "fig.savefig(path_save+'/0.1mmsec_UVoff_600N_phone.png', dpi = 300)"
   ],
   "metadata": {
    "collapsed": false,
    "pycharm": {
     "name": "#%%\n"
    }
   }
  }
 ],
 "metadata": {
  "kernelspec": {
   "display_name": "Python 3",
   "language": "python",
   "name": "python3"
  },
  "language_info": {
   "codemirror_mode": {
    "name": "ipython",
    "version": 2
   },
   "file_extension": ".py",
   "mimetype": "text/x-python",
   "name": "python",
   "nbconvert_exporter": "python",
   "pygments_lexer": "ipython2",
   "version": "2.7.6"
  }
 },
 "nbformat": 4,
 "nbformat_minor": 0
}