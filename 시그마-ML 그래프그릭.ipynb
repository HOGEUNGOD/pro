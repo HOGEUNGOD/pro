{
 "cells": [
  {
   "cell_type": "code",
   "execution_count": 6,
   "metadata": {
    "collapsed": true
   },
   "outputs": [
    {
     "data": {
      "text/plain": "array([4616.09779352, 4205.33833775, 4018.50306115, 3971.06323784,\n       4104.35583047, 4459.30603111, 5370.32089687, 5998.95585848,\n       5921.0308017 , 3418.50872724, 3268.89188701, 3034.44429279,\n       2891.12131023, 3055.81374451, 3371.76487007, 3665.45428251,\n       3990.48855201, 4077.63527649, 2859.80077195, 2655.61004075,\n       2526.90030196, 2376.27940256, 2434.6671795 , 2727.85660973,\n       2885.13363322, 3067.31310425, 3231.76873536, 2558.99304175,\n       2409.08724291, 2214.35600659, 2060.70650682, 2138.60530462,\n       2375.00502112, 2549.1370395 , 2687.69823877, 2736.33658435,\n       2341.37817585, 2168.91789604, 1972.5533357 , 1828.96937591,\n       1905.07828719, 2093.55679993, 2220.81749404, 2293.84484445,\n       2361.49367643, 2183.01052135, 2021.30930337, 1804.06848039,\n       1662.54149549, 1746.40060694, 1897.51415224, 1985.65157492,\n       2014.8479692 , 2081.84269728, 1957.74646511, 1851.94538423,\n       1629.21421029, 1517.33674297, 1602.65766813, 1734.50450968,\n       1759.4362716 , 1766.76392007, 1850.50883858, 1858.78134929,\n       1711.68228787, 1523.19673702, 1429.9236197 , 1500.90108813,\n       1601.70024473, 1611.29285498, 1602.1102188 , 1675.83590337,\n       1727.21896685, 1557.69794045, 1410.75662784, 1343.41226035,\n       1406.61719095, 1489.83915656, 1473.5125515 , 1458.53862443,\n       1537.08324494, 1598.49329509, 1453.57006723, 1328.63512486,\n       1283.92394164, 1347.20873983, 1413.10474076, 1372.4687042 ,\n       1367.90756216, 1438.98756804, 1491.50794458, 1339.91476592,\n       1248.97554973, 1215.65962505, 1280.23952856, 1334.50855736,\n       1273.99393866, 1273.57253298, 1353.93240406, 1408.9741039 ,\n       1268.59916559, 1196.19475471, 1169.7962758 , 1222.27004929,\n       1274.51187468, 1215.27812622, 1206.1753135 , 1286.33995532,\n       1330.7082839 , 1208.94297905, 1140.56070358, 1123.62441979,\n       1177.15290489, 1223.43556304, 1159.99564997, 1152.14411487,\n       1228.13940618, 1270.22617213, 1158.31472034, 1085.93691271,\n       1078.97532118, 1136.64362967, 1177.63657069, 1116.31952888,\n       1111.33581529, 1185.95040572, 1208.99316897, 1110.21636699,\n       1032.63759945, 1033.50498949, 1092.55954922, 1123.04044653,\n       1067.82264509, 1069.59807361, 1137.31564157, 1158.23909434,\n       1069.59807361, 1001.44535199, 1000.45605296, 1064.00784954,\n       1084.79732796, 1030.82016574, 1040.33638083, 1103.56707976,\n       1107.20171453, 1029.60239135,  974.89351515,  972.84504701,\n       1027.57973363, 1051.21148377,  996.85421142, 1011.65570445,\n       1068.33046764, 1074.76717356,  997.7630109 ,  957.9665022 ,\n        952.88894559, 1001.43099827, 1024.35599174,  976.77933444,\n        992.23554331, 1038.46451132, 1046.31485833,  973.87396491,\n        943.05160109,  933.71206963,  972.97265865,  996.74201738,\n        955.64460046,  972.40413295, 1017.46417812, 1028.66018705,\n        956.50877357,  927.56614456,  919.18279221,  946.82588762,\n        971.99456215,  938.14148555,  955.81815643,  998.81758689])"
     },
     "execution_count": 6,
     "metadata": {},
     "output_type": "execute_result"
    }
   ],
   "source": [
    "\n",
    "import cv2\n",
    "import numpy as np\n",
    "from scipy.spatial.distance import cdist\n",
    "import pandas as pd\n",
    "import matplotlib.pyplot as plt\n",
    "import fracture\n",
    "import cv2 as cv\n",
    "\n",
    "read = pd.read_excel('data\\distance_angle/56_input_distance.xlsx')\n",
    "im_first =np.array(cv2.imread('data/distance_angle/ff000001.jpg', cv2.IMREAD_GRAYSCALE ))/255\n",
    "im_now =np.array(cv2.imread('data/distance_angle/ff000056.jpg', cv2.IMREAD_GRAYSCALE ))/255\n",
    "\n",
    "im = im_now-im_first\n",
    "\n",
    "\n",
    "\n",
    "crack_tip_loaction = np.array([[499,1580]])\n",
    "data = np.array(read)\n",
    "\n",
    "ratio = 2/278*0.001 # 2mm , mm to m\n",
    "K=123\n",
    "\n",
    "distance=[]\n",
    "Ml_intencity=[]\n",
    "stress = []\n",
    "\n",
    "\n",
    "\n",
    "for i in data:\n",
    "    theta=i[4]\n",
    "    calculater_location = np.array([[i[2],i[3]]])\n",
    "    distance_value = cdist(calculater_location, crack_tip_loaction)*ratio\n",
    "    distance = np.append(distance, distance_value)\n",
    "    value = np.average(im[int(i[2]):int(i[2]+2),int(i[3]):int(i[3])+2])\n",
    "    effective_sigma = fracture.K_sigma(K,distance, theta)\n",
    "\n",
    "    Ml_intencity = np.append(Ml_intencity, value)\n",
    "\n",
    "\n",
    "data_union = {'Contour N.o.': data[:,0], 'point': data[:,1],\n",
    "              'location_y': data[:,2], 'location_x': data[:,3],\n",
    "              'theta': data[:,4], 'distance':distance,\n",
    "              'ml_intencity':Ml_intencity, 'Stress':effective_sigma, 'K':K}\n",
    "\n",
    "df = pd.DataFrame(data_union)\n",
    "df.to_excel('data\\distance_angle/56_output_distance_vr02.xlsx')\n",
    "\n",
    "effective_sigma"
   ]
  },
  {
   "cell_type": "code",
   "execution_count": 3,
   "outputs": [
    {
     "name": "stdout",
     "output_type": "stream",
     "text": [
      "10000.0\n",
      "0.054400000000000004\n"
     ]
    }
   ],
   "source": [
    "import numpy as np\n",
    "\n",
    "\n",
    "stress_lsm = np.linspace(0,100000,100001, dtype=int)*0.1\n",
    "ml_lsm=np.linspace(0,1,10001)\n",
    "\n",
    "lsm_stress=[]\n",
    "lsm_ml=[]\n",
    "\n",
    "for i in stress_lsm:\n",
    "    x = np.sum(np.power((effective_sigma[0:9]-i),2))\n",
    "    lsm_stress = np.append(lsm_stress, x)\n",
    "\n",
    "for i in ml_lsm:\n",
    "    x = np.sum(np.power((Ml_intencity[0:9]-i),2))\n",
    "    lsm_ml = np.append(lsm_ml,x)\n",
    "\n",
    "stress_index = lsm_stress.argmin()\n",
    "ml_index = lsm_ml.argmin()\n",
    "print(stress_lsm[stress_index])\n",
    "print(ml_lsm[ml_index])"
   ],
   "metadata": {
    "collapsed": false,
    "pycharm": {
     "name": "#%%\n"
    }
   }
  }
 ],
 "metadata": {
  "kernelspec": {
   "name": "pycharm-5e589b29",
   "language": "python",
   "display_name": "PyCharm (untitled2)"
  },
  "language_info": {
   "codemirror_mode": {
    "name": "ipython",
    "version": 2
   },
   "file_extension": ".py",
   "mimetype": "text/x-python",
   "name": "python",
   "nbconvert_exporter": "python",
   "pygments_lexer": "ipython2",
   "version": "2.7.6"
  }
 },
 "nbformat": 4,
 "nbformat_minor": 0
}