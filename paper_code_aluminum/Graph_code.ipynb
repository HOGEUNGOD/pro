{
 "cells": [
  {
   "cell_type": "code",
   "execution_count": 2,
   "metadata": {
    "collapsed": true,
    "pycharm": {
     "name": "#%%\n"
    }
   },
   "outputs": [
    {
     "data": {
      "text/plain": "<Figure size 446.4x360 with 1 Axes>",
      "image/png": "[encoded data removed]"
     },
     "metadata": {
      "needs_background": "light"
     },
     "output_type": "display_data"
    }
   ],
   "source": [
    "import pandas as pd\n",
    "import matplotlib.pyplot as plt\n",
    "from scipy.signal import savgol_filter\n",
    "import numpy as np\n",
    "\n",
    "\n",
    "def find_nearest(array, value):\n",
    "    array = np.asarray(array)\n",
    "    idx = (np.abs(array - value)).argmin()\n",
    "    return idx\n",
    "\n",
    "path = r'E:\\experiment data\\aluminum\\2021-03-30\\20210330.is_tens_RawData'\n",
    "tension_df_orginal = pd.read_csv(path + '/normal.csv', encoding='CP949')\n",
    "tension_df = tension_df_orginal[:tension_df_orginal.하중.argmax()]\n",
    "\n",
    "fig, ax = plt.subplots(figsize=[6.2, 5]) # figsize=[5, 5]\n",
    "\n",
    "\n",
    "\n",
    "name = [r'$P_0$','$P_1$','$P_2$', '$P_3$','$P_4$']\n",
    "list = [0,2,4,5,6]\n",
    "count = 0\n",
    "for i in list:\n",
    "    ax.scatter(tension_df.연신[find_nearest(tension_df.하중,tension_df.하중.max()/6*i)], tension_df.하중.max()/6*i, color='red',alpha=1)\n",
    "\n",
    "plt.text(tension_df.연신[find_nearest(tension_df.하중,tension_df.하중.max()/6*0)]+0.02, tension_df.하중.max()/6*0+300, name[0], fontsize=9)\n",
    "plt.text(tension_df.연신[find_nearest(tension_df.하중,tension_df.하중.max()/6*2)]-0.07, tension_df.하중.max()/6*2+50, name[1], fontsize=9)\n",
    "plt.text(tension_df.연신[find_nearest(tension_df.하중,tension_df.하중.max()/6*4)]-0.07, tension_df.하중.max()/6*4+50,name[2], fontsize=9)\n",
    "plt.text(tension_df.연신[find_nearest(tension_df.하중,tension_df.하중.max()/6*5)]-0.07, tension_df.하중.max()/6*5+50, name[3], fontsize=9)\n",
    "plt.text(tension_df.연신[find_nearest(tension_df.하중,tension_df.하중.max()/6*6)]-0.08, tension_df.하중.max()/6*6+50, name[4], fontsize=9)\n",
    "ax.plot(tension_df_orginal.연신,tension_df_orginal.하중, color= 'black', zorder = 0)\n",
    "ax.tick_params(direction='in', pad=10,which='both')\n",
    "ax.set_ylabel('Force (N)')\n",
    "ax.set_xlabel('Displacement (mm)')\n",
    "ax.set_xlim(0,)\n",
    "ax.set_ylim(0,)\n",
    "ax.minorticks_on()\n",
    "\n",
    "textstr=' $P_0$ = 0% \\n $P_1$ = 33% $P_{max}$\\n $P_2$ = 67% $P_{max}$\\n $P_3$ = 83% $P_{max}$\\n $P_4$ = $P_{max}$'\n",
    "props = dict(facecolor='white')\n",
    "ax.text(0.055, 0.71, textstr, transform=ax.transAxes, fontsize=13,\n",
    "        horizontalalignment='left', bbox=props)\n",
    "\n",
    "\n",
    "\n",
    "plt.tight_layout()\n",
    "plt.savefig(r'C:\\Users\\ghrms\\OneDrive - 경북대학교(1)\\1_ML/graph.png',dpi=500,pad_inches=0)\n",
    "plt.show()"
   ]
  },
  {
   "cell_type": "code",
   "execution_count": 3,
   "outputs": [
    {
     "data": {
      "text/plain": "' 새로운 그래프'"
     },
     "execution_count": 3,
     "metadata": {},
     "output_type": "execute_result"
    }
   ],
   "source": [
    "\"\"\" 새로운 그래프\"\"\""
   ],
   "metadata": {
    "collapsed": false,
    "pycharm": {
     "name": "#%%\n"
    }
   }
  },
  {
   "cell_type": "code",
   "execution_count": 4,
   "outputs": [
    {
     "ename": "ModuleNotFoundError",
     "evalue": "No module named 'DIC.DIC'",
     "output_type": "error",
     "traceback": [
      "\u001B[1;31m---------------------------------------------------------------------------\u001B[0m",
      "\u001B[1;31mModuleNotFoundError\u001B[0m                       Traceback (most recent call last)",
      "\u001B[1;32m<ipython-input-4-521e2282c810>\u001B[0m in \u001B[0;36m<module>\u001B[1;34m\u001B[0m\n\u001B[0;32m      5\u001B[0m \u001B[1;32mfrom\u001B[0m \u001B[0mscipy\u001B[0m\u001B[1;33m.\u001B[0m\u001B[0msignal\u001B[0m \u001B[1;32mimport\u001B[0m \u001B[0msavgol_filter\u001B[0m\u001B[1;33m\u001B[0m\u001B[1;33m\u001B[0m\u001B[0m\n\u001B[0;32m      6\u001B[0m \u001B[1;32mimport\u001B[0m \u001B[0mnumpy\u001B[0m \u001B[1;32mas\u001B[0m \u001B[0mnp\u001B[0m\u001B[1;33m\u001B[0m\u001B[1;33m\u001B[0m\u001B[0m\n\u001B[1;32m----> 7\u001B[1;33m \u001B[1;32mimport\u001B[0m \u001B[0mDIC\u001B[0m\u001B[1;33m.\u001B[0m\u001B[0mDIC\u001B[0m \u001B[1;32mas\u001B[0m \u001B[0mdic\u001B[0m\u001B[1;33m\u001B[0m\u001B[1;33m\u001B[0m\u001B[0m\n\u001B[0m\u001B[0;32m      8\u001B[0m \u001B[1;32mfrom\u001B[0m \u001B[0mscipy\u001B[0m \u001B[1;32mimport\u001B[0m \u001B[0mio\u001B[0m\u001B[1;33m\u001B[0m\u001B[1;33m\u001B[0m\u001B[0m\n\u001B[0;32m      9\u001B[0m \u001B[0mpath\u001B[0m \u001B[1;33m=\u001B[0m \u001B[1;34mr'E:\\experiment data\\aluminum\\2021-03-25\\faruv_tension_2\\slectpic'\u001B[0m\u001B[1;33m\u001B[0m\u001B[1;33m\u001B[0m\u001B[0m\n",
      "\u001B[1;31mModuleNotFoundError\u001B[0m: No module named 'DIC.DIC'"
     ]
    }
   ],
   "source": [
    "from mpl_toolkits import mplot3d\n",
    "import matplotlib.patches as patches\n",
    "import pandas as pd\n",
    "import matplotlib.pyplot as plt\n",
    "from scipy.signal import savgol_filter\n",
    "import numpy as np\n",
    "import DIC.DIC as dic\n",
    "from scipy import io\n",
    "path = r'E:\\experiment data\\aluminum\\2021-03-25\\faruv_tension_2\\slectpic'\n",
    "img = dic.load_file(path)\n",
    "\n",
    "x = 53\n",
    "y = 320\n",
    "width = 100\n",
    "hight =150\n",
    "square = 20\n",
    "up,down=660,100\n",
    "\n",
    "ref = img['ff_00361']\n",
    "\n",
    "ref_img = img['ff_00361'][y:y+hight, x:x+width]\n",
    "cur_img = img['ff_05881'][y:y+hight, x:x+width]\n",
    "print((width-square)/2+x, (hight-square)/2+y)"
   ],
   "metadata": {
    "collapsed": false,
    "pycharm": {
     "name": "#%%\n"
    }
   }
  },
  {
   "cell_type": "code",
   "execution_count": null,
   "outputs": [],
   "source": [
    "fig, ax = plt.subplots()\n",
    "ax.imshow(ref[down:up,:])\n",
    "ax.add_patch(\n",
    "     patches.Rectangle(\n",
    "        (x, y-down),\n",
    "        width,\n",
    "        hight,\n",
    "        edgecolor = 'Red',\n",
    "        facecolor = 'black',\n",
    "        fill=False, lw=3, ls=':'\n",
    "     ) )\n",
    "ax.add_patch(\n",
    "     patches.Rectangle(\n",
    "        (95, 385-down),\n",
    "        20,\n",
    "        20,\n",
    "        edgecolor = 'yellow',\n",
    "        facecolor = 'black',\n",
    "        fill=False, lw=1, ls=':'\n",
    "     ) )\n",
    "ax.axis('off')\n",
    "plt.savefig(path+'/311d.png',dpi=300)\n",
    "plt.show()\n",
    "plt.close()"
   ],
   "metadata": {
    "collapsed": false,
    "pycharm": {
     "name": "#%%\n"
    }
   }
  },
  {
   "cell_type": "code",
   "execution_count": null,
   "outputs": [],
   "source": [
    "cc = io.loadmat(path+'/cc.mat')['C']\n",
    "y_po, x_po = np.where(cc==cc.max())[0][0],np.where(cc==cc.max())[1][0]\n",
    "print(y_po, x_po)"
   ],
   "metadata": {
    "collapsed": false,
    "pycharm": {
     "name": "#%%\n"
    }
   }
  },
  {
   "cell_type": "code",
   "execution_count": null,
   "outputs": [],
   "source": [
    "fig, ax = plt.subplots(2,1)\n",
    "ax[0].imshow(ref_img)\n",
    "ax[0].add_patch(\n",
    "     patches.Rectangle(\n",
    "        ((width-square)/2, (hight-square)/2),\n",
    "        square,\n",
    "        square,\n",
    "        edgecolor = 'y',\n",
    "        facecolor = 'black',\n",
    "        fill=False, lw=2, ls=':'\n",
    "     ) )\n",
    "# ax[0].axis('off')\n",
    "\n",
    "ax[1].imshow(cur_img)\n",
    "ax[1].add_patch(\n",
    "     patches.Rectangle(\n",
    "        (x_po-square, y_po-square),\n",
    "        square,\n",
    "        square,\n",
    "        edgecolor = 'y',\n",
    "        facecolor = 'black',\n",
    "        fill=False, lw=2, ls=':'\n",
    "     ) )\n",
    "# ax[1].axis('off')\n",
    "plt.savefig(path+'/3d1.png',dpi=300)"
   ],
   "metadata": {
    "collapsed": false,
    "pycharm": {
     "name": "#%%\n"
    }
   }
  },
  {
   "cell_type": "code",
   "execution_count": null,
   "outputs": [],
   "source": [
    "cc_re = cc[square+1:-square-1,square+1:-square-1].transpose()\n",
    "\n",
    "fig, ax = plt.subplots(subplot_kw={\"projection\": \"3d\"},figsize=(10,10))\n",
    "X = np.arange(0,np.shape(cc_re)[1])\n",
    "print(np.shape(X))\n",
    "Y = np.arange(np.shape(cc_re)[0],0,-1)\n",
    "print(np.shape(Y))\n",
    "X, Y = np.meshgrid(X, Y)\n",
    "Z = cc_re\n",
    "# ax.view_init(45,45)\n",
    "ax.set_xlabel('X(pixel)')\n",
    "ax.set_ylabel('Y(pixel)')\n",
    "ax.set_zlabel('Correlation coefficient')\n",
    "\n",
    "ax.plot_surface(X, Y, Z, cmap='jet', edgecolor=None)\n",
    "ax.set_zlim(-0.53, 0.765)\n",
    "plt.savefig(path+'/3d.png',dpi=300)\n",
    "\n"
   ],
   "metadata": {
    "collapsed": false,
    "pycharm": {
     "name": "#%%\n"
    }
   }
  },
  {
   "cell_type": "code",
   "execution_count": null,
   "outputs": [],
   "source": [
    "import sys\n",
    "sys.path.append(r'C:\\Users\\Mechano_2\\PycharmProjects\\pro')\n",
    "sys.path"
   ],
   "metadata": {
    "collapsed": false,
    "pycharm": {
     "name": "#%%\n"
    }
   }
  },
  {
   "cell_type": "code",
   "execution_count": 5,
   "outputs": [
    {
     "name": "stdout",
     "output_type": "stream",
     "text": [
      "Run complete\n"
     ]
    },
    {
     "ename": "FileNotFoundError",
     "evalue": "[Errno 2] No such file or directory: 'C:\\\\Users\\\\Mechano_2\\\\PycharmProjects\\\\pro\\\\paper_code_aluminum\\\\dic.pkl'",
     "output_type": "error",
     "traceback": [
      "\u001B[1;31m---------------------------------------------------------------------------\u001B[0m",
      "\u001B[1;31mFileNotFoundError\u001B[0m                         Traceback (most recent call last)",
      "\u001B[1;32m<ipython-input-5-7052bfcc4c2e>\u001B[0m in \u001B[0;36m<module>\u001B[1;34m\u001B[0m\n\u001B[0;32m     17\u001B[0m \u001B[0mstrain_bar\u001B[0m \u001B[1;33m=\u001B[0m \u001B[0mnp\u001B[0m\u001B[1;33m.\u001B[0m\u001B[0msqrt\u001B[0m\u001B[1;33m(\u001B[0m\u001B[1;36m4\u001B[0m\u001B[1;33m*\u001B[0m \u001B[1;33m(\u001B[0m\u001B[0mnp\u001B[0m\u001B[1;33m.\u001B[0m\u001B[0mpower\u001B[0m\u001B[1;33m(\u001B[0m\u001B[0meps_rr\u001B[0m\u001B[1;33m,\u001B[0m\u001B[1;36m2\u001B[0m\u001B[1;33m)\u001B[0m \u001B[1;33m+\u001B[0m \u001B[0mnp\u001B[0m\u001B[1;33m.\u001B[0m\u001B[0mpower\u001B[0m\u001B[1;33m(\u001B[0m\u001B[0meps_tt\u001B[0m\u001B[1;33m,\u001B[0m\u001B[1;36m2\u001B[0m\u001B[1;33m)\u001B[0m \u001B[1;33m-\u001B[0m \u001B[0meps_rr\u001B[0m\u001B[1;33m*\u001B[0m\u001B[0meps_tt\u001B[0m \u001B[1;33m+\u001B[0m \u001B[1;36m3\u001B[0m \u001B[1;33m*\u001B[0m \u001B[0mnp\u001B[0m\u001B[1;33m.\u001B[0m\u001B[0mpower\u001B[0m\u001B[1;33m(\u001B[0m\u001B[0meps_rt\u001B[0m\u001B[1;33m,\u001B[0m\u001B[1;36m2\u001B[0m\u001B[1;33m)\u001B[0m\u001B[1;33m)\u001B[0m \u001B[1;33m/\u001B[0m\u001B[1;36m9\u001B[0m\u001B[1;33m)\u001B[0m\u001B[1;33m\u001B[0m\u001B[1;33m\u001B[0m\u001B[0m\n\u001B[0;32m     18\u001B[0m \u001B[1;33m\u001B[0m\u001B[0m\n\u001B[1;32m---> 19\u001B[1;33m \u001B[1;32mwith\u001B[0m \u001B[0mopen\u001B[0m\u001B[1;33m(\u001B[0m\u001B[1;34mr'C:\\Users\\Mechano_2\\PycharmProjects\\pro\\paper_code_aluminum\\dic.pkl'\u001B[0m\u001B[1;33m,\u001B[0m\u001B[1;34m'rb'\u001B[0m\u001B[1;33m)\u001B[0m \u001B[1;32mas\u001B[0m \u001B[0mf\u001B[0m\u001B[1;33m:\u001B[0m\u001B[1;33m\u001B[0m\u001B[1;33m\u001B[0m\u001B[0m\n\u001B[0m\u001B[0;32m     20\u001B[0m     \u001B[0mdic\u001B[0m \u001B[1;33m=\u001B[0m \u001B[0mpickle\u001B[0m\u001B[1;33m.\u001B[0m\u001B[0mload\u001B[0m\u001B[1;33m(\u001B[0m\u001B[0mf\u001B[0m\u001B[1;33m)\u001B[0m\u001B[1;33m\u001B[0m\u001B[1;33m\u001B[0m\u001B[0m\n\u001B[0;32m     21\u001B[0m \u001B[1;32mwith\u001B[0m \u001B[0mopen\u001B[0m\u001B[1;33m(\u001B[0m\u001B[1;34mr'C:\\Users\\Mechano_2\\PycharmProjects\\pro\\paper_code_aluminum/ml.pkl'\u001B[0m\u001B[1;33m,\u001B[0m\u001B[1;34m'rb'\u001B[0m\u001B[1;33m)\u001B[0m \u001B[1;32mas\u001B[0m \u001B[0mf\u001B[0m\u001B[1;33m:\u001B[0m\u001B[1;33m\u001B[0m\u001B[1;33m\u001B[0m\u001B[0m\n",
      "\u001B[1;31mFileNotFoundError\u001B[0m: [Errno 2] No such file or directory: 'C:\\\\Users\\\\Mechano_2\\\\PycharmProjects\\\\pro\\\\paper_code_aluminum\\\\dic.pkl'"
     ]
    }
   ],
   "source": [
    "import cv2\n",
    "import numpy as np\n",
    "import matplotlib.pyplot as plt\n",
    "import pandas as pd\n",
    "import mecha.fracture\n",
    "import matplotlib.patches as patches\n",
    "import pickle\n",
    "\n",
    "n_hardening=17\n",
    "yield_strength=535.435\n",
    "poisson_ratio=0\n",
    "alpha=0.585\n",
    "In=2.78\n",
    "youngs_modulus=71.7*1000\n",
    "J_integral = 58/1000\n",
    "eps_rr, eps_tt, eps_rt = 0.02796964,  0.80683684 , -0.00000000\n",
    "strain_bar = np.sqrt(4* (np.power(eps_rr,2) + np.power(eps_tt,2) - eps_rr*eps_tt + 3 * np.power(eps_rt,2)) /9)\n",
    "\n",
    "with open(r'C:\\Users\\Mechano_2\\PycharmProjects\\pro\\paper_code_aluminum\\dic.pkl','rb') as f:\n",
    "    dic = pickle.load(f)\n",
    "with open(r'C:\\Users\\Mechano_2\\PycharmProjects\\pro\\paper_code_aluminum/ml.pkl','rb') as f:\n",
    "    ml = pickle.load(f)\n",
    "\n",
    "r = np.arange(0,0.0050 ,0.00005)\n",
    "plastic_k = np.power(J_integral * youngs_modulus / (alpha * yield_strength**2 * In),(1 /(n_hardening + 1 )))\n",
    "effective_strain = alpha * yield_strength/youngs_modulus * plastic_k ** n_hardening * r **(-n_hardening/(n_hardening+1)) * strain_bar\n",
    "\n",
    "\n",
    "# plt.ylim(0,0.2)"
   ],
   "metadata": {
    "collapsed": false,
    "pycharm": {
     "name": "#%%\n"
    }
   }
  },
  {
   "cell_type": "code",
   "execution_count": 6,
   "outputs": [
    {
     "ename": "SyntaxError",
     "evalue": "invalid syntax (<ipython-input-6-4a2d2a2c36da>, line 29)",
     "output_type": "error",
     "traceback": [
      "\u001B[1;36m  File \u001B[1;32m\"<ipython-input-6-4a2d2a2c36da>\"\u001B[1;36m, line \u001B[1;32m29\u001B[0m\n\u001B[1;33m    `\u001B[0m\n\u001B[1;37m    ^\u001B[0m\n\u001B[1;31mSyntaxError\u001B[0m\u001B[1;31m:\u001B[0m invalid syntax\n"
     ]
    }
   ],
   "source": [
    "import cv2\n",
    "import mecha.fracture as fracture\n",
    "\n",
    "von_criterion = fracture.Plastic_zone(65,yield_strength).von_mises()[-1]*1000\n",
    "gas = cv2.GaussianBlur(ml,(0,0),10)\n",
    "al = ml*40\n",
    "al = al.astype('uint8')\n",
    "\n",
    "medianBlur = cv2.medianBlur(al,11)/40\n",
    "fig, ax = plt.subplots()\n",
    "\n",
    "r = 30*1000*np.arange(0,0.0050 ,0.00005)\n",
    "ax.plot(50+np.linspace(0,len(gas[100,:])-1,len(gas[100,:])),gas[100,:]/93.7, color='blue', label='ML(Gaussian)', linestyle='--')\n",
    "# ax.plot(50+np.linspace(0,len(gas[100,:])-1,len(gas[100,:])),ml[100,:]/93.7, color='green', label='ML(raw)')\n",
    "ax.plot(50+np.linspace(0,len(gas[100,:])-1,len(gas[100,:])),medianBlur[100,:]/93.7, color='skyblue', label='ML(Gaussian)', linestyle='--')\n",
    "\n",
    "ax.plot(dic[100,:], color = 'red', label='DIC',linestyle='-.')\n",
    "\n",
    "\n",
    "ax.plot(r+50,effective_strain, color= 'orange', label='J-integral(Plastic K reverse)')\n",
    "ax.axvspan(50, von_criterion*30+50, facecolor='gray', alpha=0.3, label='von mises')\n",
    "\n",
    "ax.set_ylabel('strain')\n",
    "ax.set_ylim(-0.005,0.07)\n",
    "ax.set_xticks([i for i in range(0,200+20,20)])\n",
    "ax.set_xticklabels([np.round((i-50)/30,1) for i in range(0,200+20,20)])\n",
    "\n",
    "\n",
    "`\n",
    "plt.legend(loc='upper right')\n",
    "\n",
    "plt.savefig('a.png', dpi=500)"
   ],
   "metadata": {
    "collapsed": false,
    "pycharm": {
     "name": "#%%\n"
    }
   }
  },
  {
   "cell_type": "code",
   "execution_count": 7,
   "outputs": [
    {
     "ename": "SyntaxError",
     "evalue": "unexpected EOF while parsing (<ipython-input-7-b042af6b509d>, line 6)",
     "output_type": "error",
     "traceback": [
      "\u001B[1;36m  File \u001B[1;32m\"<ipython-input-7-b042af6b509d>\"\u001B[1;36m, line \u001B[1;32m6\u001B[0m\n\u001B[1;33m    \u001B[0m\n\u001B[1;37m    ^\u001B[0m\n\u001B[1;31mSyntaxError\u001B[0m\u001B[1;31m:\u001B[0m unexpected EOF while parsing\n"
     ]
    }
   ],
   "source": [
    "import mecha.fracture as fracture\n",
    "\n",
    "fracture.Plastic_zone(65,yield_strength).von_mises()[-1]*1000\n",
    "fracture.Plastic_zone(65,yield_strength).tresca()[-1]*1000\n",
    "np.linspace(0,len(gas[100,:]),len(gas[100,:])+1"
   ],
   "metadata": {
    "collapsed": false,
    "pycharm": {
     "name": "#%%\n"
    }
   }
  },
  {
   "cell_type": "code",
   "execution_count": null,
   "outputs": [],
   "source": [
    "import pandas as pd\n",
    "import numpy as np\n",
    "pd.read_csv('../data/')"
   ],
   "metadata": {
    "collapsed": false,
    "pycharm": {
     "name": "#%%\n"
    }
   }
  }
 ],
 "metadata": {
  "kernelspec": {
   "name": "python3",
   "language": "python",
   "display_name": "Python 3"
  },
  "language_info": {
   "codemirror_mode": {
    "name": "ipython",
    "version": 2
   },
   "file_extension": ".py",
   "mimetype": "text/x-python",
   "name": "python",
   "nbconvert_exporter": "python",
   "pygments_lexer": "ipython2",
   "version": "2.7.6"
  }
 },
 "nbformat": 4,
 "nbformat_minor": 0
}