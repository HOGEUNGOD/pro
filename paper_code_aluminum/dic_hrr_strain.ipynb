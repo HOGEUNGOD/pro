{
 "cells": [
  {
   "cell_type": "code",
   "execution_count": 2,
   "outputs": [],
   "source": [
    "# import sys\n",
    "# sys.path.append(r'C:\\Users\\Mechano_2\\PycharmProjects\\pro')\n",
    "# sys.path"
   ],
   "metadata": {
    "collapsed": false,
    "pycharm": {
     "name": "#%%\n"
    }
   }
  },
  {
   "cell_type": "code",
   "execution_count": 21,
   "metadata": {
    "collapsed": true,
    "pycharm": {
     "name": "#%%\n"
    }
   },
   "outputs": [
    {
     "data": {
      "text/plain": "array([[0., 0., 0., ..., 0., 0., 0.],\n       [0., 0., 0., ..., 0., 0., 0.],\n       [0., 0., 0., ..., 0., 0., 0.],\n       ...,\n       [0., 0., 0., ..., 0., 0., 0.],\n       [0., 0., 0., ..., 0., 0., 0.],\n       [0., 0., 0., ..., 0., 0., 0.]])"
     },
     "execution_count": 21,
     "metadata": {},
     "output_type": "execute_result"
    }
   ],
   "source": [
    "import mecha.DIC as dic\n",
    "import cv2\n",
    "import numpy as np\n",
    "import matplotlib.pyplot as plt\n",
    "import pandas as pd\n",
    "import mecha.fracture as fracture\n",
    "from scipy import io\n",
    "import matplotlib.patches as patches\n",
    "\n",
    "def find_nearest(array, value):\n",
    "    array = np.asarray(array)\n",
    "    idx = (np.abs(array - value)).argmin()\n",
    "    return idx\n",
    "\n",
    "num = 4\n",
    "# pick point\n",
    "radius_gap = 1.5\n",
    "gap_count = 12\n",
    "start_gap = 0.45\n",
    "\n",
    "path = r'E:\\experiment data\\aluminum\\2021-03-30\\AL IMAGE\\CTS_UVon_HSC'\n",
    "image = dic.load_file(path)\n",
    "file_num  = list(image.keys())[num][2:]\n",
    "\n",
    "uu = io.loadmat(path+'/DIC'+'/'+file_num+'/t_uu.mat')['uu']\n",
    "vv = io.loadmat(path+'/DIC'+'/'+file_num+'/t_vv.mat')['vv']\n",
    "uu_resize = cv2.resize(uu,(0,0),fx=2, fy=2 )\n",
    "vv_resize = cv2.resize(vv,(0,0),fx=2, fy=2 )\n",
    "\n",
    "exx = io.loadmat(path+'/DIC'+'/'+file_num+'/t_exx.mat')['exx']\n",
    "eyy = io.loadmat(path+'/DIC'+'/'+file_num+'/t_eyy.mat')['eyy']\n",
    "exy = io.loadmat(path+'/DIC'+'/'+file_num+'/t_exy.mat')['exy']\n",
    "ee = fracture.effective_strain(exx, eyy, exy)\n",
    "# np.savetxt(path+'/DIC'+'/'+file_num+'/ee.csv',ee)\n",
    "exx_resize = cv2.resize(exx,(0,0),fx=2, fy=2 )\n",
    "eyy_resize = cv2.resize(eyy,(0,0),fx=2, fy=2 )\n",
    "exy_resize = cv2.resize(eyy,(0,0),fx=2, fy=2 )\n",
    "ee_resize = cv2.resize(ee,(0,0),fx=2, fy=2 )\n",
    "# cv2.flip(ee_resize,1,ee_resize)\n",
    "# cv2.flip(uu_resize,1,uu_resize)\n",
    "# cv2.flip(vv_resize,1,vv_resize)\n",
    "\n",
    "\n",
    "\n",
    "# Material property\n",
    "n_hardening=17\n",
    "yield_strength=535.435\n",
    "poisson_ratio=0\n",
    "alpha=0.585\n",
    "In=2.78\n",
    "youngs_modulus=71.7*1000\n",
    "\n",
    "# Img parameter\n",
    "\n",
    "contour_level = 15\n",
    "ratio = 2/60\n",
    "left, right, up_down =50,150,100\n",
    "\n",
    "\n",
    "save_path =r'E:\\experiment data\\aluminum\\2021-03-30\\AL IMAGE\\CTS_UVon_HSC/Output'\n",
    "image = dic.load_file(path)\n",
    "strain_data = np.array(pd.read_csv(path+'/effective_strain_ml.csv', encoding='CP949', delimiter=' ',header=None))\n",
    "strain_hardening = np.array(pd.read_csv(path+'/HRR.csv', delim_whitespace=True))\n",
    "eps_rr, eps_tt, eps_rt = strain_hardening[:,1], strain_hardening[:,2] ,strain_hardening[:,3]\n",
    "strain_bar = np.sqrt(4* (np.power(eps_rr,2) + np.power(eps_tt,2) - eps_rr*eps_tt + 3 * np.power(eps_rt,2)) /9)\n",
    "strain_hardening = np.hstack((strain_hardening[:,0].reshape(-1,1),strain_bar.reshape(-1,1)))\n",
    "\n",
    "\n",
    "crack_tip = [[400,207],[397,210],[389,205],[387,202],[386,200]] # y, x\n",
    "\n",
    "dst = ee_resize[crack_tip[num][0]-up_down:crack_tip[num][0]+up_down,crack_tip[num][1]-left:crack_tip[num][1]+right]\n",
    "\n",
    "dst = dst.astype(float)\n",
    "dst = np.where(dst>10, dst*0, dst)\n",
    "gas = dst\n",
    "\n",
    "\n",
    "\n",
    "max_crack_tip = [left, up_down]\n",
    "\n",
    "# max_crack_tip = [np.argmax(gas)%(left+right), np.argmax(gas)//(left+right)]#x,y\n",
    "\n",
    "\n",
    "count = 0\n",
    "radius_g = 0\n",
    "location = []\n",
    "for _ in range(1, gap_count):\n",
    "    if count == 0:\n",
    "        location = dic.circle_location(start_gap/ratio, ratio,90,0)\n",
    "        radius_g += radius_gap\n",
    "        count += 1\n",
    "    else:\n",
    "        location = np.vstack((location, dic.circle_location(start_gap/ratio+radius_g, ratio,90,0)))\n",
    "        radius_g += radius_gap\n",
    "\n",
    "df = pd.DataFrame(location, columns=['x', 'y', 'angle', 'r'])\n",
    "df.x = df.x + max_crack_tip[0]\n",
    "df.y = df.y + max_crack_tip[1]\n",
    "df.r = df.r*0.001\n",
    "\n",
    "\n",
    "\n",
    "hardening_plus=np.vstack((strain_hardening[:,0],strain_hardening[:,1])).transpose()\n",
    "hardening_minus = np.flip(np.vstack((strain_hardening[:,0]*-1,strain_hardening[:,1])).transpose(), axis=0)\n",
    "hardening = np.vstack((hardening_minus, hardening_plus))\n",
    "\n",
    "ml=[]\n",
    "effective_strain=[]\n",
    "theta_list = []\n",
    "\n",
    "\n",
    "\n",
    "for y,x,theta in np.array(df[['y','x','angle']]):\n",
    "    effective_strain = gas[np.round(y).astype(int),np.round(x).astype(int)]\n",
    "    theta_list = np.append(theta_list, hardening[find_nearest(hardening[:,0],theta),1])\n",
    "\n",
    "\n",
    "df['effective_strain'] = effective_strain\n",
    "df['hardening_strain_bar'] = theta_list\n",
    "\n",
    "\n",
    "plastic_k = np.power(df.effective_strain * youngs_modulus\n",
    "                     / (df.hardening_strain_bar * alpha * yield_strength *\n",
    "                        np.power(df.r, (-1 * n_hardening/(n_hardening+1)))), 1/n_hardening)\n",
    "j_integral = (np.power(plastic_k.mean(),(n_hardening+1)) * alpha * yield_strength**2 * In)/ youngs_modulus\n",
    "\n",
    "\n",
    "elastic_k1 = np.sqrt((j_integral * youngs_modulus))\n",
    "\n",
    "\n",
    "fig, ax = plt.subplots(figsize=(10, 10))\n",
    "\n",
    "\n",
    "ax.add_patch(\n",
    "     patches.Rectangle(\n",
    "        (155, 184),\n",
    "        30,\n",
    "        2,\n",
    "        edgecolor = 'black',\n",
    "        facecolor = 'black',\n",
    "        fill=True\n",
    "     ) )\n",
    "\n",
    "\n",
    "\n",
    "ax.imshow(gas, cmap='gray')\n",
    "# plt.axis('off')\n",
    "csf = ax.contourf(gas, contour_level, cmap = 'jet')\n",
    "CS = ax.contour(gas, contour_level, colors='black', linewidths = 0.5)\n",
    "\n",
    "cbar= plt.colorbar(csf)\n",
    "cbar.ax.tick_params(labelsize=18)\n",
    "\n",
    "\n",
    "plt.scatter(max_crack_tip[0],max_crack_tip[1], color='blue', s=15,zorder=10)\n",
    "plt.scatter(50,100, color='purple', s=15,zorder=11)\n",
    "ax.text( 158,193, '1mm', fontsize=20, fontweight='bold')\n",
    "ax.axis('off')\n",
    "plt.savefig(r'E:\\사진/dic%d.png'%num,dpi=300,bbox_inches='tight')\n",
    "plt.scatter(df['x'],df['y'],color='black',s=5)\n",
    "plt.savefig(r'E:\\사진/dic_scatter%d.png'%num,dpi=300,bbox_inches='tight')\n",
    "print('j_integral(kj/m^2):', 1000*j_integral)"
   ]
  },
  {
   "cell_type": "code",
   "execution_count": 6,
   "outputs": [
    {
     "data": {
      "text/plain": "<Figure size 720x720 with 2 Axes>",
      "image/png": "[encoded data removed]"
     },
     "metadata": {
      "needs_background": "light"
     },
     "output_type": "display_data"
    },
    {
     "name": "stdout",
     "output_type": "stream",
     "text": [
      "Save Done\n"
     ]
    }
   ],
   "source": [
    "from matplotlib.gridspec import GridSpec\n",
    "import matplotlib.patches as patches\n",
    "import pickle\n",
    "\n",
    "ee_resize = dst\n",
    "fig = plt.figure(figsize=(10, 10))\n",
    "gs = GridSpec(nrows=6, ncols=5)\n",
    "# First axes\n",
    "ax0 = fig.add_subplot(gs[0:4, 0:4])\n",
    "# ax0.imshow(ee_resize,cmap='gray')\n",
    "plt.gca().invert_yaxis()\n",
    "plt.contourf(ee_resize, cmap= 'jet')\n",
    "ax0.text( 158,193, '1mm', fontsize=9, fontweight='bold')\n",
    "ax0.vlines(50,0,np.shape(ee_resize)[0]-1, color='black', linestyles='-.')\n",
    "ax0.hlines(100,0,np.shape(ee_resize)[1]-1, color='red')\n",
    "ax0.add_patch(\n",
    "     patches.Rectangle(\n",
    "        (150, 184),\n",
    "        30,\n",
    "        2,\n",
    "        edgecolor = 'black',\n",
    "        facecolor = 'black',\n",
    "        fill=True\n",
    "     ) )\n",
    "ax0.axis('off')\n",
    "# v axes\n",
    "# ax1 = fig.add_subplot(gs[0:4, 4])\n",
    "# ax1.plot(value[:,x_point],np.arange(len(value[:,x_point])),color='red')\n",
    "# ax1.yaxis.set_label_position(\"right\")\n",
    "# ax1.yaxis.tick_right()\n",
    "# plt.gca().invert_yaxis()\n",
    "# u axes\n",
    "ax2 = fig.add_subplot(gs[4, 0:4])\n",
    "ax2.plot(ee_resize[100,:], color='red')\n",
    "# ax2.plot(savgol_filter(value[:,y_point],31,2), color='green')\n",
    "ax2.set_ylim(0,0.035)\n",
    "ax2.set_xlim(0,150)\n",
    "ax2.vlines(50,0,0.035, color='black', linestyles='-.')\n",
    "plt.grid()\n",
    "plt.savefig(save_path+'/%sdicㅇㅇㅇ.png'%num, dpi=300)\n",
    "# plt.close()\n",
    "plt.show()\n",
    "plt.close()\n",
    "with open('./dic.pkl','wb') as f:\n",
    "    pickle.dump(ee_resize, f)\n",
    "print('Save Done')\n"
   ],
   "metadata": {
    "collapsed": false,
    "pycharm": {
     "name": "#%%\n"
    }
   }
  },
  {
   "cell_type": "code",
   "execution_count": 7,
   "outputs": [
    {
     "data": {
      "text/plain": "0.04373779637377964"
     },
     "execution_count": 7,
     "metadata": {},
     "output_type": "execute_result"
    }
   ],
   "source": [
    "\n",
    "import numpy as np\n",
    "np.average([8.14e4, 7.977e4,7.59e4,6.83e4])\n",
    "np.average([5.22e4, 5.31e4,4.787e4,4.212e4])\n",
    "np.average([2.035e4, 2.43e4,1.6386e4,1.19e4])\n",
    "np.average([1.995e3, 979,1.78e3,689])\n",
    "\n",
    "(1-poisson_ratio**2)/youngs_modulus * 56**2"
   ],
   "metadata": {
    "collapsed": false,
    "pycharm": {
     "name": "#%%\n"
    }
   }
  }
 ],
 "metadata": {
  "kernelspec": {
   "display_name": "Python 3",
   "language": "python",
   "name": "python3"
  },
  "language_info": {
   "codemirror_mode": {
    "name": "ipython",
    "version": 2
   },
   "file_extension": ".py",
   "mimetype": "text/x-python",
   "name": "python",
   "nbconvert_exporter": "python",
   "pygments_lexer": "ipython2",
   "version": "2.7.6"
  }
 },
 "nbformat": 4,
 "nbformat_minor": 0
}