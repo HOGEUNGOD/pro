{
 "cells": [
  {
   "cell_type": "code",
   "execution_count": 199,
   "outputs": [
    {
     "data": {
      "text/plain": "['C:\\\\Users\\\\Mechano_2',\n 'C:\\\\Users\\\\Mechano_2\\\\anaconda3\\\\envs\\\\final\\\\python37.zip',\n 'C:\\\\Users\\\\Mechano_2\\\\anaconda3\\\\envs\\\\final\\\\DLLs',\n 'C:\\\\Users\\\\Mechano_2\\\\anaconda3\\\\envs\\\\final\\\\lib',\n 'C:\\\\Users\\\\Mechano_2\\\\anaconda3\\\\envs\\\\final',\n '',\n 'C:\\\\Users\\\\Mechano_2\\\\anaconda3\\\\envs\\\\final\\\\lib\\\\site-packages',\n 'C:\\\\Users\\\\Mechano_2\\\\anaconda3\\\\envs\\\\final\\\\lib\\\\site-packages\\\\win32',\n 'C:\\\\Users\\\\Mechano_2\\\\anaconda3\\\\envs\\\\final\\\\lib\\\\site-packages\\\\win32\\\\lib',\n 'C:\\\\Users\\\\Mechano_2\\\\anaconda3\\\\envs\\\\final\\\\lib\\\\site-packages\\\\Pythonwin',\n 'C:\\\\Users\\\\Mechano_2\\\\anaconda3\\\\envs\\\\final\\\\lib\\\\site-packages\\\\IPython\\\\extensions',\n 'C:\\\\Users\\\\Mechano_2\\\\.ipython',\n 'C:\\\\Users\\\\Mechano_2\\\\PycharmProjects\\\\pro',\n 'C:\\\\Users\\\\Mechano_2\\\\PycharmProjects\\\\pro',\n 'C:\\\\Users\\\\Mechano_2\\\\PycharmProjects\\\\pro']"
     },
     "execution_count": 199,
     "metadata": {},
     "output_type": "execute_result"
    }
   ],
   "source": [
    "import sys\n",
    "sys.path.append(r'C:\\Users\\Mechano_2\\PycharmProjects\\pro')\n",
    "sys.path"
   ],
   "metadata": {
    "collapsed": false,
    "pycharm": {
     "name": "#%%\n"
    }
   }
  },
  {
   "cell_type": "code",
   "execution_count": 200,
   "outputs": [],
   "source": [
    "import os\n",
    "import cv2\n",
    "from scipy import io\n",
    "import pandas as pd\n",
    "import numpy as np\n",
    "import matplotlib.pyplot as plt\n",
    "import mecha.fracture as fracture\n",
    "import mecha.DIC as dic\n",
    "from matplotlib.gridspec import GridSpec\n",
    "import matplotlib.patches as patches"
   ],
   "metadata": {
    "collapsed": false,
    "pycharm": {
     "name": "#%%\n"
    }
   }
  },
  {
   "cell_type": "code",
   "execution_count": 34,
   "outputs": [],
   "source": [
    "#csv파일 형식 바꾸기!\n",
    "\n",
    "\"\"\"setting values\"\"\"\n",
    "path = r'E:\\experiment data\\aluminum\\2021-03-25\\faruv_tension_2/'"
   ],
   "metadata": {
    "collapsed": false,
    "pycharm": {
     "name": "#%%\n"
    }
   }
  },
  {
   "cell_type": "code",
   "execution_count": 35,
   "outputs": [
    {
     "name": "stdout",
     "output_type": "stream",
     "text": [
      "Finish\n"
     ]
    }
   ],
   "source": [
    "slice_x1 = 71\n",
    "slice_x2 = 142\n",
    "slice_y1 = 414\n",
    "slice_y2 = 661\n",
    "file_list = os.listdir(path+'/img')\n",
    "\n",
    "result = []\n",
    "for file in file_list:\n",
    "    if file.endswith(\".jpg\"):\n",
    "        im = cv2.imread(os.path.join(path,'img', file), cv2.IMREAD_GRAYSCALE)\n",
    "        im_calculate = np.array(im)\n",
    "        img_box = im_calculate[slice_y1:slice_y2, slice_x1:slice_x2]\n",
    "\n",
    "        ave = np.average(img_box)\n",
    "        result = np.append(result, [ave])\n",
    "\n",
    "result= result - result[0]\n",
    "print('Finish')\n"
   ],
   "metadata": {
    "collapsed": false,
    "pycharm": {
     "name": "#%%\n"
    }
   }
  },
  {
   "cell_type": "code",
   "execution_count": 36,
   "outputs": [
    {
     "data": {
      "text/plain": "<Figure size 360x360 with 2 Axes>",
      "image/png": "[encoded data removed]"
     },
     "metadata": {
      "needs_background": "light"
     },
     "output_type": "display_data"
    }
   ],
   "source": [
    "ml_avg = np.copy(result)\n",
    "from scipy.signal import savgol_filter\n",
    "\n",
    "max_range = 16741\n",
    "tension_data = np.array(pd.read_csv(path+'/tension.csv', encoding='CP949'))\n",
    "\n",
    "time, strain, stress = tension_data[:, 0], tension_data[:, 4]*10/25, tension_data[:, 3]*3000/18\n",
    "# ml_avg[3545:] = ml_avg[3545:] + 1.4\n",
    "stress = savgol_filter(stress[0:max_range],201,1)\n",
    "strain = savgol_filter(strain[0:max_range],201,1)\n",
    "# ml_avg = savgol_filter(ml_avg[0:max_range],2001,1)\n",
    "ml_avg =  ml_avg[0:max_range]\n",
    "time = time[0:max_range]\n",
    "\n",
    "vline = [600,1800, 3000,3100,7500,8700,9900,11000,12200,13100,15200,16100]\n",
    "title = 'ml'\n",
    "fig, ax = plt.subplots()\n",
    "ax1 = ax.twinx()\n",
    "ax1.vlines(vline, 0,600)\n",
    "fig.suptitle('Ml')\n",
    "ax.set_xlabel('strain')\n",
    "ax.set_ylabel('ml')\n",
    "ax1.set_ylabel('stress')\n",
    "ax.plot(time, ml_avg, color='b', label=\"Average Ml(Same mask)\")\n",
    "ax1.plot(time, stress, color='r', label=\" stress\")\n",
    "ax.grid()\n",
    "plt.savefig(path+'/%s.png'%title, dpi=300, bbox_inches='tight',  pad_inches=0)"
   ],
   "metadata": {
    "collapsed": false,
    "pycharm": {
     "name": "#%%\n"
    }
   }
  },
  {
   "cell_type": "code",
   "execution_count": 37,
   "outputs": [
    {
     "data": {
      "text/plain": "633"
     },
     "execution_count": 37,
     "metadata": {},
     "output_type": "execute_result"
    }
   ],
   "source": [
    "ml_avg[0:2600].argmin()"
   ],
   "metadata": {
    "collapsed": false,
    "pycharm": {
     "name": "#%%\n"
    }
   }
  },
  {
   "cell_type": "code",
   "execution_count": 47,
   "outputs": [],
   "source": [
    "\"\"\"\n",
    "Matlab코드 여러 Dic데이터있는경우\n",
    "path = 'E:\\experiment data\\aluminum\\Current\\tension\\data'\n",
    "\n",
    "for i=1:1:11\n",
    "uu=handles_ncorr.data_dic.displacements(i).plot_u_cur_formatted;\n",
    "vv=handles_ncorr.data_dic.displacements(i).plot_v_cur_formatted;\n",
    "exx=handles_ncorr.data_dic.strains(i).plot_exx_cur_formatted;\n",
    "eyy=handles_ncorr.data_dic.strains(i).plot_eyy_cur_formatted;\n",
    "exy=handles_ncorr.data_dic.strains(i).plot_exy_cur_formatted;\n",
    "\n",
    "save([path,'/', num2str(i), '_exx', '.mat'],'exx')\n",
    "save([path,'/', num2str(i), '_exy', '.mat'],'exy')\n",
    "save([path,'/', num2str(i), '_eyy', '.mat'],'eyy')\n",
    "save([path,'/', num2str(i), '_uu', '.mat'],'uu')\n",
    "save([path,'/', num2str(i), '_vv', '.mat'],'vv')\n",
    "\n",
    "end\n",
    "\n",
    "\"\"\"\n",
    "\n",
    "\"\"\"setting values\"\"\"\n",
    "path=r'E:\\experiment data\\aluminum\\Current\\tension'\n",
    "\n",
    "image = dic.load_file(path+'/DIC_img')\n",
    "\n",
    "ref = image[list(image.keys())[0]]"
   ],
   "metadata": {
    "collapsed": false,
    "pycharm": {
     "name": "#%%\n"
    }
   }
  },
  {
   "cell_type": "code",
   "execution_count": 348,
   "outputs": [
    {
     "data": {
      "text/plain": "<Figure size 360x360 with 1 Axes>",
      "image/png": "[encoded data removed]"
     },
     "metadata": {
      "needs_background": "light"
     },
     "output_type": "display_data"
    }
   ],
   "source": [
    "ref_xy_list = []\n",
    "# x_list=np.arange(108,115,2)\n",
    "# y_list=np.arange(490,580,20)\n",
    "for xx in x_list:\n",
    "    for yy in y_list:\n",
    "        ref_xy_list.append([xx,yy])\n",
    "ref_xy_list = [[110,500]]\n",
    "\n",
    "ratio = 0.4\n",
    "\n",
    "df = pd.DataFrame(columns=['image_name', 'voltage_strain','using_DIC_mask_strain','voltage_stress',\n",
    "                           'using_DIC_mask_average', 'local_ml', 'local_ee','DIC_exx', 'DIC_eyy', 'DIC_exy','ml_average'])\n",
    "\n",
    "for ref_x, ref_y in ref_xy_list:\n",
    "    # for num in [12,,8,9,10,13,14,15,16,17,18,19,20,21,22]:\n",
    "    for num in range(1,11+1):\n",
    "        file_num = str(num)\n",
    "        uu = io.loadmat(path+'/DIC_img/data/'+file_num+'_uu.mat')['uu']\n",
    "        vv = io.loadmat(path+'/DIC_img/data/'+file_num+'_vv.mat')['vv']\n",
    "        uu_resize = cv2.resize(uu,(0,0),fx=2, fy=2 )\n",
    "        vv_resize = cv2.resize(vv,(0,0),fx=2, fy=2 )\n",
    "        exx = io.loadmat(path+'/DIC_img/data/'+file_num+'_exx.mat')['exx']\n",
    "        eyy = io.loadmat(path+'/DIC_img/data/'+file_num+'_eyy.mat')['eyy']\n",
    "        exy = io.loadmat(path+'/DIC_img/data/'+file_num+'_exy.mat')['exy']\n",
    "        ee = fracture.effective_strain(exx, eyy, exy)\n",
    "        exx_resize = cv2.resize(exx,(0,0),fx=2, fy=2 )\n",
    "        eyy_resize = cv2.resize(eyy,(0,0),fx=2, fy=2 )\n",
    "        exy_resize = cv2.resize(exy,(0,0),fx=2, fy=2 )\n",
    "        ee_resize = cv2.resize(ee,(0,0),fx=2, fy=2 )\n",
    "\n",
    "        ee_mask = np.where(ee_resize>0, 255, ee_resize*0).astype('uint8')\n",
    "        ml_image = image[list(image.keys())[num]][:,:,0].astype('float')\n",
    "        ml_image = dic.pool2d(ml_image, kernel_size=5, stride=1, pool_mode='max').astype('float')\n",
    "        ml_image_gas = cv2.GaussianBlur(ml_image,(0,0),10)\n",
    "        mask_ml = dic.find_zone(cv2.copyTo(ml_image_gas, ee_mask))[10:-10,10:-10]\n",
    "        mask_ml = dic.pool2d(mask_ml, kernel_size=5, stride=1, pool_mode='max').astype('float')\n",
    "        if num==1:\n",
    "            zero_ee_mask = ee_mask\n",
    "        ref_image = image[list(image.keys())[0]][:,:,0].astype('float')\n",
    "        ref_image = dic.pool2d(ref_image, kernel_size=5, stride=1, pool_mode='max').astype('float')\n",
    "        ref_image_gas = cv2.GaussianBlur(ref_image,(0,0),10)\n",
    "        ref_image_mask = dic.find_zone(cv2.copyTo(ref_image_gas, zero_ee_mask))[10:-10,10:-10]\n",
    "        ref_image_mask = dic.pool2d(ref_image_mask, kernel_size=5, stride=1, pool_mode='max').astype('float')\n",
    "        cur_y = np.round(ref_y+vv_resize[ref_y,ref_x]/ratio,1).astype('int')\n",
    "        cur_x = np.round(ref_x+uu_resize[ref_y,ref_x]/ratio,1).astype('int')\n",
    "\n",
    "        local_ee = np.average(ee_resize[cur_y-70 : cur_y+70 , cur_x-40: cur_x+40])\n",
    "\n",
    "        dst = cv2.subtract(ml_image[cur_y-70 : cur_y+70 , cur_x-40: cur_x+40],ref_image[ref_y-70 : ref_y+70 , ref_x-40 : ref_x+40])\n",
    "        local_ml = np.average(cv2.GaussianBlur(dst,(0,0),10))\n",
    "\n",
    "        image_name = int(list(image.keys())[num].split('_')[1])\n",
    "        voltage_strain = strain[int(list(image.keys())[num].split('_')[1])]\n",
    "        voltage_stress = stress[int(list(image.keys())[num].split('_')[1])]\n",
    "        using_DIC_mask_strain = np.average(dic.find_zone(ee_resize)[10:-10,10:-10])\n",
    "        using_DIC_mask_average = np.average(mask_ml)-np.average(ref_image_mask)\n",
    "\n",
    "        DIC_eyy = np.average(dic.find_zone(eyy))\n",
    "        DIC_exx = np.average(dic.find_zone(exx))\n",
    "        DIC_exy = np.average(dic.find_zone(exy))\n",
    "        ml_average = ml_avg[int(list(image.keys())[num].split('_')[1])]\n",
    "        row = pd.Series([image_name, voltage_strain,voltage_stress,using_DIC_mask_strain,\n",
    "                         using_DIC_mask_average, local_ml, local_ee,DIC_exx, DIC_eyy, DIC_exy,ml_average],\n",
    "                    index=['image_name', 'voltage_strain','voltage_stress','using_DIC_mask_strain',\n",
    "                           'using_DIC_mask_average', 'local_ml', 'local_ee','DIC_exx', 'DIC_eyy', 'DIC_exy','ml_average'])\n",
    "        df = df.append(row, ignore_index=True)\n",
    "        #\n",
    "        # fig, ax = plt.subplots(1, 3 , constrained_layout=True)\n",
    "        # fig.suptitle(list(image.keys())[num] + 'strain : ' + str(np.round(strain[int(list(image.keys())[num].split('_')[1])],3)))\n",
    "        #\n",
    "        # ax0 = ax[0].imshow(cv2.addWeighted(ml_image,1, ee_mask.astype('float'),0.06,-10),cmap='gray')\n",
    "        #\n",
    "        # # ax0 = ax[0].imshow(cv2.addWeighted(ml_image[:,:,2],1, ee_mask,0.06,-10),cmap='gray')\n",
    "        # ax[0].set_title('ML ROI')\n",
    "        # # ax[0].scatter(cur_x, cur_y,color='red', marker='s', s=3)\n",
    "        #\n",
    "        # ax1 = ax[1].imshow(ee_resize, cmap='jet', vmin=0, vmax=0.25)\n",
    "        # ax[1].set_title('Effective\\n strain')\n",
    "        # # ax[1].scatter(cur_x, cur_y,color='white', marker='s', s=10)\n",
    "        # plt.colorbar(ax1,ax=ax[1])\n",
    "        #\n",
    "        # gas = cv2.flip(gas,0)\n",
    "        # ax[2].imshow(gas)\n",
    "        # ax2 = ax[2].contourf(gas,cmap='jet', vmin=100, vmax=120)\n",
    "        # ax3 = ax[2].contour(gas,colors='black',linewidths=1)\n",
    "        # ax[2].invert_yaxis()\n",
    "        # plt.colorbar(ax2, ax=ax[2])\n",
    "        # # ax[2].axis('off')\n",
    "        # ax[2].set_title('ML')\n",
    "        # # plt.savefig(path+'/'+list(image.keys())[num]+'.png', dpi=300)\n",
    "        # plt.show()\n",
    "        # plt.close()\n",
    "\n",
    "    plt.imshow(ee_resize, cmap='PuBu', vmin=0, vmax=0.25) ##네킹부분 국부\n",
    "    plt.scatter(cur_x, cur_y, marker='s', s=10  ,label='x:'+str(ref_x) + ' y:'+str(ref_y), edgecolors='black')\n",
    "    plt.legend()\n",
    "    plt.legend(loc='center right', bbox_to_anchor=(2.9, 0.5), fancybox=True, shadow=True)\n",
    "    # plt.savefig(path+'/국부 점으로찍은위치6.png', dpi=300)\n",
    "    plt.show()\n",
    "    plt.close()\n",
    "# df"
   ],
   "metadata": {
    "collapsed": false,
    "pycharm": {
     "name": "#%%\n"
    }
   }
  },
  {
   "cell_type": "code",
   "execution_count": 349,
   "outputs": [
    {
     "name": "stdout",
     "output_type": "stream",
     "text": [
      "803\n"
     ]
    },
    {
     "data": {
      "text/plain": "<Figure size 360x360 with 1 Axes>",
      "image/png": "[encoded data removed]"
     },
     "metadata": {
      "needs_background": "light"
     },
     "output_type": "display_data"
    }
   ],
   "source": [
    "\"\"\"최소자승법\"\"\"\n",
    "lms_list = []\n",
    "for k in range(0,5000):\n",
    "    i = k*0.1\n",
    "    lms = np.sum(((i * df['local_ee']) - df['local_ml'])**2)\n",
    "    lms_list.append(lms)\n",
    "np.argmin(lms_list)\n",
    "\n",
    "plt.rcParams[\"figure.figsize\"] = (5,5)\n",
    "\n",
    "plt.text(0.085,4.5,'$Ml\\,Intensity=%d \\,\\cdot\\, Effective\\,strain$'%np.argmin(lms_list), fontsize='10')\n",
    "plt.scatter(df['using_DIC_mask_strain'], df['using_DIC_mask_average'], color='red',zorder=1)\n",
    "plt.scatter(df['local_ee'], df['local_ml'], color='blue',zorder=1)\n",
    "plt.plot([0,0.24],[0,0.24*0.1*np.argmin(lms_list)], 'b--',zorder=2)\n",
    "# plt.plot(df.using_DIC_mask_strain, df.ml_average, color='black')\n",
    "plt.xlabel('Effective Strain')\n",
    "plt.ylabel('ML Intensity(AU)')\n",
    "# plt.grid()\n",
    "# plt.xlim(0,0.15)\n",
    "plt.tick_params(direction='in', pad=10,which='both')\n",
    "plt.minorticks_on()\n",
    "plt.xlim(0,)\n",
    "# plt.ylim(0,)\n",
    "plt.rc('axes', labelsize=12)\n",
    "plt.rc('xtick', labelsize=10)\n",
    "plt.rc('ytick', labelsize=10)\n",
    "\n",
    "plt.savefig(path+'/ee_ml.png', dpi=300, bbox_inches='tight',  pad_inches=0)\n",
    "\n",
    "b = np.vstack((np.arange(0,0.23,0.0005), np.arange(0,0.23,0.0005)*88.5)).transpose()\n",
    "print(np.argmin(lms_list))\n",
    "np.savetxt(path+'/effective_strain_ml_파이날.csv',b)\n"
   ],
   "metadata": {
    "collapsed": false,
    "pycharm": {
     "name": "#%%\n"
    }
   }
  },
  {
   "cell_type": "code",
   "execution_count": null,
   "outputs": [],
   "source": [
    "ref_x, ref_y, width, hight = 85,420,40,120\n",
    "cur_yy = np.round(ref_y+vv_resize[ref_y,ref_x]/ratio,1).astype('int')\n",
    "cur_xx = np.round(ref_x+uu_resize[ref_y,ref_x]/ratio,1).astype('int')\n",
    "\n",
    "fig = plt.figure(figsize=(10, 10))\n",
    "gs = GridSpec(nrows=2, ncols=3)\n",
    "# First axes\n",
    "ax0 = fig.add_subplot(gs[0:2, 0])\n",
    "ax0.imshow(image[list(image.keys())[0]],cmap='gray')\n",
    "# ax0.set_axis_off()\n",
    "ax0.scatter(ref_x+width/2 , ref_y+hight/2,marker='s', color='black')\n",
    "ax0.add_patch(\n",
    "     patches.Rectangle(\n",
    "        (ref_x, ref_y),\n",
    "        width,\n",
    "        hight,\n",
    "        edgecolor = 'red',\n",
    "        facecolor = 'black',\n",
    "        fill=False, lw=3, ls=':'\n",
    "     ) )\n",
    "ax3 = fig.add_subplot(gs[0:2, 1])\n",
    "ax3.imshow(image[list(image.keys())[num]],cmap='gray')\n",
    "# ax3.set_axis_off()\n",
    "ax3.scatter(cur_xx+width/2 , cur_yy+hight/2,marker='s', color='black')\n",
    "ax3.add_patch(\n",
    "     patches.Rectangle(\n",
    "        (cur_xx, cur_yy),\n",
    "        width,\n",
    "        hight,\n",
    "        edgecolor = 'red',\n",
    "        facecolor = 'black',\n",
    "        fill=False, lw=3, ls=':'\n",
    "     ) )\n",
    "\n",
    "ax1 = fig.add_subplot(gs[0,2])\n",
    "dic = ax1.imshow(ee_resize[cur_yy:cur_yy+hight,cur_xx:cur_xx+width], cmap='jet', vmin=0, vmax=0.25)\n",
    "# ax1.set_axis_off()\n",
    "fig.colorbar(dic,ax=ax1)\n",
    "ax1.scatter(width/2 , hight/2,marker='s', color='black')\n",
    "ax1.set_title('DIC')\n",
    "\n",
    "\n",
    "ax2 = fig.add_subplot(gs[1, 2])\n",
    "\n",
    "gas2 = ml_image[:,:,2][cur_yy:cur_yy+hight,cur_xx:cur_xx+width] - cv2.GaussianBlur(ref_image[:,:,2][ref_y:ref_y+hight,ref_x:ref_x+width],(0,0),15)\n",
    "# gas2 = cv2.GaussianBlur(ml_image[:,:,2][cur_yy:cur_yy+hight,cur_xx:cur_xx+width],(0,0),15)-90\n",
    "ax2.scatter(width/2 , hight/2,marker='s', color='black')\n",
    "ax2.set_title('ML')\n",
    "\n",
    "ml = ax2.imshow(gas2,cmap='jet',vmin=0,vmax=25)\n",
    "\n",
    "# ax2.set_axis_off()\n",
    "fig.colorbar(ml,ax=ax2)\n",
    "\n",
    "\n",
    "\n",
    "y_ = int(hight/2)\n",
    "x_ = int(width/2)\n",
    "\n",
    "print(\n",
    "    \"x,y\",ref_x,ref_x+width, ref_y, ref_y+hight,'\\n ml:',\n",
    "    gas2[y_,x_],'\\n strain:',\n",
    "    ee_resize[cur_yy:cur_yy+hight,cur_xx:cur_xx+width][y_,x_],\n",
    "    \"cur,xy\",cur_xx,cur_yy\n",
    ")\n",
    "plt.savefig(path+'/'+list(image.keys())[num]+'gogo.png', dpi=300,pad_inches=0)\n",
    "plt.show()\n",
    "plt.close()\n"
   ],
   "metadata": {
    "collapsed": false,
    "pycharm": {
     "name": "#%%\n"
    }
   }
  },
  {
   "cell_type": "code",
   "execution_count": null,
   "outputs": [],
   "source": [
    "# title = 'Effective strain vs Stress'\n",
    "plt.tick_params(direction='in', pad=10,which='both')\n",
    "plt.minorticks_on()\n",
    "stress, strain = fracture.true_ss(df.voltage_stress, df.local_ee)\n",
    "\n",
    "stress = np.insert(stress, 0, 0)\n",
    "strain = np.insert(strain, 0, 0)\n",
    "plt.plot(strain, stress, color='black')\n",
    "plt.xlabel('True Strain')\n",
    "plt.ylabel('True Stress(Mpa)')\n",
    "# plt.grid()\n",
    "plt.xlim(0,)\n",
    "plt.ylim(0,)\n",
    "plt.savefig(path+'/true_%s.png'%title, dpi=300, bbox_inches='tight',  pad_inches=0)\n",
    "np.savetxt('truess.csv',np.vstack((strain,stress)).transpose(), delimiter=' ')\n",
    "plt.show()"
   ],
   "metadata": {
    "collapsed": false,
    "pycharm": {
     "name": "#%%\n"
    }
   }
  },
  {
   "cell_type": "code",
   "execution_count": null,
   "outputs": [],
   "source": [
    "\"\"\"수정부분\"\"\"\n",
    "\n",
    "\n",
    "title = 'Effective strain vs Stress'\n",
    "plt.tick_params(direction='in', pad=10,which='both')\n",
    "plt.minorticks_on()\n",
    "true_stress, true_strain = fracture.true_ss(df.voltage_stress, df.local_ee)\n",
    "\n",
    "# true_stress = np.insert(true_stress, 0, 0)\n",
    "# true_strain = np.insert(true_strain, 0, 0)\n",
    "plt.scatter(true_strain, true_stress, color='black')\n",
    "\n",
    "plt.xlabel('True Strain')\n",
    "plt.ylabel('True Stress(Mpa)')\n",
    "# plt.grid()\n",
    "plt.xlim(0,)\n",
    "plt.ylim(0,)\n",
    "plt.savefig(path+'/true_%s.png'%title, dpi=300, bbox_inches='tight',  pad_inches=0)\n",
    "# np.savetxt('truess.csv',np.vstack((strain,stress)).transpose(), delimiter=' ')\n",
    "plt.show()"
   ],
   "metadata": {
    "collapsed": false,
    "pycharm": {
     "name": "#%%\n"
    }
   }
  },
  {
   "cell_type": "code",
   "execution_count": null,
   "outputs": [],
   "source": [
    "plt.plot(strain, stress)\n",
    "plt.plot(df.voltage_strain,df.voltage_stress)"
   ],
   "metadata": {
    "collapsed": false,
    "pycharm": {
     "name": "#%%\n"
    }
   }
  },
  {
   "cell_type": "code",
   "execution_count": null,
   "outputs": [],
   "source": [
    "ef = pd.read_pickle(r'C:\\Users\\Mechano_2\\PycharmProjects\\pro\\paper_code_epoxyml/df.pkl')\n",
    "etrue_stress, etrue_strain = fracture.true_ss(ef.voltage_stress, ef.local_ee)"
   ],
   "metadata": {
    "collapsed": false,
    "pycharm": {
     "name": "#%%\n"
    }
   }
  },
  {
   "cell_type": "code",
   "execution_count": null,
   "outputs": [],
   "source": [
    "fig, ax = plt.subplots()\n",
    "ax1 = ax.twinx()\n",
    "ax.scatter(df.local_ee, df.local_ml, color='red',zorder=1, s = 10)\n",
    "ax.scatter(ef.local_ee, ef.local_ml, color='orange',zorder=1, s = 10)\n",
    "ax1.scatter(df.local_ee, true_stress, s = 10, color='black')\n",
    "ax1.scatter(ef.local_ee, etrue_stress, s = 10, color='blue')\n",
    "ax.set_ylabel('ML')\n",
    "ax1.set_ylabel('True stress')\n",
    "ax.set_xlabel('effective strain')\n",
    "\n",
    "plt.axvspan(0.018,0.042, facecolor='red', edgecolor='gold',  alpha=0.1, hatch='///', label='CTS strain')\n",
    "plt.scatter([0],[0],color='red', s=10, label='Al_strain-ml')\n",
    "plt.scatter([0],[0],color='orange', s=10, label='Epoxy_strain-ml')\n",
    "plt.scatter([0],[0],color='black', s=10, label='Al_strain-stress')\n",
    "plt.scatter([0],[0],color='blue', s=10, label='Epoxy_strain-stress')\n",
    "plt.legend(loc=1)\n",
    "plt.title('{}'.format(path.split('\\\\')[-1]))\n",
    "plt.savefig(path+'/true{}.png'.format(path.split('\\\\')[-1]), dpi=300, bbox_inches='tight',  pad_inches=0)"
   ],
   "metadata": {
    "collapsed": false,
    "pycharm": {
     "name": "#%%\n"
    }
   }
  },
  {
   "cell_type": "code",
   "execution_count": null,
   "outputs": [],
   "source": [],
   "metadata": {
    "collapsed": false,
    "pycharm": {
     "name": "#%%\n"
    }
   }
  }
 ],
 "metadata": {
  "kernelspec": {
   "name": "final",
   "language": "python",
   "display_name": "final"
  },
  "language_info": {
   "codemirror_mode": {
    "name": "ipython",
    "version": 2
   },
   "file_extension": ".py",
   "mimetype": "text/x-python",
   "name": "python",
   "nbconvert_exporter": "python",
   "pygments_lexer": "ipython2",
   "version": "2.7.6"
  }
 },
 "nbformat": 4,
 "nbformat_minor": 0
}