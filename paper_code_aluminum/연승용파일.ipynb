{
 "cells": [
  {
   "cell_type": "code",
   "execution_count": null,
   "metadata": {
    "collapsed": true
   },
   "outputs": [],
   "source": [
    "# import sys\n",
    "# sys.path.append(r'C:\\Users\\Mechano_2\\PycharmProjects\\pro')\n",
    "# sys.path"
   ]
  },
  {
   "cell_type": "code",
   "execution_count": null,
   "outputs": [],
   "source": [
    "import mecha.DIC as dic\n",
    "import cv2\n",
    "import numpy as np\n",
    "import matplotlib.pyplot as plt\n",
    "import pandas as pd\n",
    "import mecha.fracture\n",
    "import matplotlib.patches as patches\n",
    "def find_nearest(array, value):\n",
    "    array = np.asarray(array)\n",
    "    idx = (np.abs(array - value)).argmin()\n",
    "    return idx\n",
    "\n",
    "# Material property\n",
    "n_hardening=17\n",
    "yield_strength=535.435\n",
    "poisson_ratio=0\n",
    "alpha=0.585\n",
    "In=2.78\n",
    "youngs_modulus=71.7*1000\n",
    "\n",
    "# Img parameter\n",
    "contour_level = 15\n",
    "ratio = 2/60\n",
    "left, right, up_down = 0,150,100\n",
    "\n",
    "# pick point\n",
    "radius_gap = 1.5\n",
    "gap_count = 12\n",
    "start_gap = 0.45\n",
    "\n",
    "path = r'E:\\experiment data\\aluminum\\2021-03-30\\AL IMAGE\\CTS_UVon_HSC'\n",
    "save_path =r'E:\\experiment data\\aluminum\\2021-03-30\\AL IMAGE\\CTS_UVon_HSC/Output'\n",
    "image = dic.load_file(path)\n",
    "strain_data = np.array(pd.read_csv(path+'/effective_strain_ml_1.3더한거.csv', encoding='CP949', delimiter=' ',header=None))\n",
    "strain_hardening = np.array(pd.read_csv(path+'/HRR.csv', delim_whitespace=True))\n",
    "eps_rr, eps_tt, eps_rt = strain_hardening[:,1], strain_hardening[:,2] ,strain_hardening[:,3]\n",
    "strain_bar = np.sqrt(4* (np.power(eps_rr,2) + np.power(eps_tt,2) - eps_rr*eps_tt + 3 * np.power(eps_rt,2)) /9)\n",
    "strain_hardening = np.hstack((strain_hardening[:,0].reshape(-1,1),strain_bar.reshape(-1,1)))\n",
    "\n",
    "crack_tip = [[400,207],[397,210],[389,205],[387,202],[386,200]] # y, x\n",
    "\n",
    "\n",
    "i = 0 ##ref\n",
    "j = 4##cur\n",
    "\n",
    "cur = list(image.keys())[j]\n",
    "\n",
    "src_reference = image['ff0870'][:,:,1][crack_tip[i][0]-up_down:crack_tip[i][0]+up_down,crack_tip[i][1]-left:crack_tip[i][1]+right]\n",
    "src_current = image[cur][:,:,1][crack_tip[j][0]-up_down:crack_tip[j][0]+up_down,crack_tip[j][1]-left:crack_tip[j][1]+right]\n",
    "\n",
    "dst = cv2.absdiff(src_current.astype('float64'),src_reference.astype('float64'))\n",
    "dst = dst.astype(float)\n",
    "dst = np.where(dst>10, dst*0, dst)\n",
    "gas = cv2.GaussianBlur(dst,(0,0),10)\n",
    "\n",
    "fig, ax = plt.subplots(figsize=(10, 10))\n",
    "ax.imshow(src_current, cmap='gray')\n",
    "# plt.axis('off')\n",
    "csf = ax.contourf(gas, contour_level, cmap = 'jet')\n",
    "CS = ax.contour(gas, contour_level, colors='black', linewidths = 0.5)\n",
    "\n",
    "cbar= plt.colorbar(csf)\n",
    "cbar.ax.tick_params(labelsize=18)\n",
    "plt.text( 158,193, '1mm', fontsize=15, fontweight='bold')\n",
    "\n",
    "# max_crack_tip = [left,up_down]\n",
    "max_crack_tip = [np.argmax(gas)%(left+right), up_down]\n",
    "# max_crack_tip = [np.argmax(gas)%(left+right), np.argmax(gas)//(left+right)]#x,y\n",
    "# plt.scatter(max_crack_tip[0],max_crack_tip[1], color= 'black', s=10)\n",
    "\n",
    "count = 0\n",
    "radius_g = 0\n",
    "location = []\n",
    "for _ in range(1, gap_count):\n",
    "    if count == 0:\n",
    "        location = dic.circle_location(start_gap/ratio, ratio,90,0)\n",
    "        radius_g += radius_gap\n",
    "        count += 1\n",
    "    else:\n",
    "        location = np.vstack((location, dic.circle_location(start_gap/ratio+radius_g, ratio,90,0)))\n",
    "        radius_g += radius_gap\n",
    "\n",
    "df = pd.DataFrame(location, columns=['x', 'y', 'angle', 'r'])\n",
    "df.x = df.x + max_crack_tip[0]\n",
    "df.y = df.y + max_crack_tip[1]\n",
    "df.r = df.r*0.001\n",
    "\n",
    "plt.scatter(max_crack_tip[0], up_down, s = 5,  c = 'red')\n",
    "plt.scatter(df.x, df.y, s = 5,  c='black')\n",
    "\n",
    "\n",
    "hardening_plus=np.vstack((strain_hardening[:,0],strain_hardening[:,1])).transpose()\n",
    "hardening_minus = np.flip(np.vstack((strain_hardening[:,0]*-1,strain_hardening[:,1])).transpose(), axis=0)\n",
    "hardening = np.vstack((hardening_minus, hardening_plus))\n",
    "\n",
    "ml=[]\n",
    "effective_strain=[]\n",
    "theta_list = []\n",
    "\n",
    "for y,x,theta in np.array(df[['y','x','angle']]):\n",
    "    current_ml = gas[np.round(y).astype(int),np.round(x).astype(int)]\n",
    "    ml = np.append(ml, current_ml)\n",
    "    effective_strain = np.append(effective_strain, strain_data[find_nearest(strain_data[:,1], current_ml),0])\n",
    "    theta_list = np.append(theta_list, hardening[find_nearest(hardening[:,0],theta),1])\n",
    "\n",
    "\n",
    "df['ml'] = ml\n",
    "df['effective_strain'] = effective_strain\n",
    "df['hardening_strain_bar'] = theta_list\n",
    "\n",
    "plastic_k = np.power(df.effective_strain * youngs_modulus\n",
    "                     / (df.hardening_strain_bar * alpha * yield_strength *\n",
    "                        np.power(df.r, (-1 * n_hardening/(n_hardening+1)))), 1/n_hardening)\n",
    "j_integral = (np.power(plastic_k.mean(),(n_hardening+1)) * alpha * yield_strength**2 * In)/ youngs_modulus\n",
    "elastic_k1 = np.sqrt((j_integral * youngs_modulus))\n",
    "\n",
    "print('j_integral(kj/m^2):', 1000*j_integral,'\\n elastic_k:',elastic_k1)"
   ],
   "metadata": {
    "collapsed": false,
    "pycharm": {
     "name": "#%%\n"
    }
   }
  },
  {
   "cell_type": "code",
   "execution_count": null,
   "outputs": [],
   "source": [
    "dd = dic.pool2d(dst, kernel_size=5, stride=1, pool_mode='max').astype('float')\n",
    "dd = cv2.GaussianBlur(dd,(0,0),10)\n",
    "plt.contourf(dd,cmap='jet')\n",
    "plt.colorbar()"
   ],
   "metadata": {
    "collapsed": false,
    "pycharm": {
     "name": "#%%\n"
    }
   }
  },
  {
   "cell_type": "code",
   "execution_count": null,
   "outputs": [],
   "source": [
    "plt.imshow(dst)"
   ],
   "metadata": {
    "collapsed": false,
    "pycharm": {
     "name": "#%%\n"
    }
   }
  },
  {
   "cell_type": "code",
   "execution_count": null,
   "outputs": [],
   "source": [
    "ax.add_patch(\n",
    "     patches.Rectangle(\n",
    "        (155, 184),\n",
    "        30,\n",
    "        2,\n",
    "        edgecolor = 'black',\n",
    "        facecolor = 'black',\n",
    "        fill=True\n",
    "     ) )\n",
    "\n",
    "# plt.scatter(df['x'],df['y'],color='black',s=0.8)\n",
    "# plt.title('Elastic k1: ' +  str(np.round(elastic_k1,3)) + '  | j : ' + str(np.round(j_integral,3)))\n",
    "# plt.savefig(save_path+'./%d.png'%j,dpi=300, bbox_inches='tight')\n",
    "plt.axis('off')\n",
    "plt.savefig(r'E:\\사진/컨투어%d.png'%j,dpi=300,bbox_inches='tight')\n",
    "print(elastic_k1,j_integral)\n",
    "\n",
    "gas_strain = gas.copy()\n",
    "for i_ in range(np.shape(gas_strain)[0]):\n",
    "    for j_ in range(np.shape(gas_strain)[1]):\n",
    "        value = strain_data[find_nearest(strain_data[:,1],gas_strain[i_][j_]), 0]\n",
    "        gas_strain[i_][j_] = value\n",
    "\n",
    "fig, ax = plt.subplots(figsize=(10, 10))\n",
    "\n",
    "\n",
    "\n",
    "ax.imshow(src_current, cmap='gray')\n",
    "# plt.axis('off')\n",
    "csf = ax.contourf(gas_strain, contour_level, cmap = 'jet')\n",
    "CS = ax.contour(gas_strain, contour_level, colors='black', linewidths = 0.5)\n",
    "\n",
    "\n",
    "cbar= plt.colorbar(csf)\n",
    "cbar.ax.tick_params(labelsize=18)\n",
    "\n",
    "plt.scatter(max_crack_tip[0],max_crack_tip[1], color='blue', s=15,zorder=10)\n",
    "plt.scatter(50,100, color='purple', s=15,zorder=11)\n",
    "ax.text( 158,193, '1mm', fontsize=9, fontweight='bold')\n",
    "ax.axis('off')\n",
    "plt.savefig(r'E:\\사진/effective%d.png'%j,dpi=300,bbox_inches='tight')"
   ],
   "metadata": {
    "collapsed": false,
    "pycharm": {
     "name": "#%%\n"
    }
   }
  },
  {
   "cell_type": "code",
   "execution_count": null,
   "outputs": [],
   "source": [
    "df[df['angle']==0]"
   ],
   "metadata": {
    "collapsed": false,
    "pycharm": {
     "name": "#%%\n"
    }
   }
  },
  {
   "cell_type": "code",
   "execution_count": null,
   "outputs": [],
   "source": [
    "plt.text( 158,193, '1mm', fontsize=9, fontweight='bold')\n",
    "cur = cv2.equalizeHist(src_current)\n",
    "plt.imshow(cur, cmap='gray')\n",
    "plt.axis('off')\n",
    "plt.show()\n",
    "# plt.savefig(r'E:\\사진/d%d.png'%j,dpi=300,bbox_inches='tight')\n",
    "plt.close()\n",
    "\n",
    "plt.text( 158,193, '1mm', fontsize=9, fontweight='bold')\n",
    "plt.imshow(src_current, cmap='gray')\n",
    "plt.axis('off')\n",
    "plt.show()\n",
    "# plt.savefig(r'E:\\사진/dd%d.png'%j,dpi=300,bbox_inches='tight')\n",
    "plt.close()\n"
   ],
   "metadata": {
    "collapsed": false,
    "pycharm": {
     "name": "#%%\n"
    }
   }
  },
  {
   "cell_type": "code",
   "execution_count": null,
   "outputs": [],
   "source": [
    "import pickle\n",
    "import cv2\n",
    "\n",
    "from matplotlib.gridspec import GridSpec\n",
    "\n",
    "ee_resize = gas\n",
    "fig = plt.figure(figsize=(10, 10))\n",
    "gs = GridSpec(nrows=6, ncols=5)\n",
    "# First axes\n",
    "ax0 = fig.add_subplot(gs[0:4, 0:4])\n",
    "# ax0.imshow(ee_resize,cmap='gray')\n",
    "plt.contourf(ee_resize, cmap= 'jet')\n",
    "ax0.vlines(50,0,np.shape(ee_resize)[0]-1, color='black', linestyles='-.')\n",
    "ax0.hlines(100,0,np.shape(ee_resize)[1]-1, color='red')\n",
    "plt.gca().invert_yaxis()\n",
    "ax0.text( 158,193, '1mm', fontsize=9, fontweight='bold')\n",
    "ax0.axis('off')\n",
    "ax0.add_patch(\n",
    "     patches.Rectangle(\n",
    "        (150, 184),\n",
    "        30,\n",
    "        2,\n",
    "        edgecolor = 'black',\n",
    "        facecolor = 'black',\n",
    "        fill=True\n",
    "     ) )\n",
    "\n",
    "# v axes\n",
    "# ax1 = fig.add_subplot(gs[0:4, 4])\n",
    "# ax1.plot(value[:,x_point],np.arange(len(value[:,x_point])),color='red')\n",
    "# ax1.yaxis.set_label_position(\"right\")\n",
    "# ax1.yaxis.tick_right()\n",
    "# plt.gca().invert_yaxis()\n",
    "# u axes\n",
    "profile_strain=gas[100,:]\n",
    "#\n",
    "# for i in range(np.shape(ee_resize[100,:])[0]):\n",
    "#     profile_strain = np.append(profile_strain, strain_data[find_nearest(strain_data[:,1], ee_resize[100,i]),0])\n",
    "#\n",
    "\n",
    "ax2 = fig.add_subplot(gs[4, 0:4])\n",
    "\n",
    "\n",
    "ax2.plot(profile_strain, color='red')\n",
    "# ax2.plot(ee_resize[100,:])\n",
    "# ax2.plot(savgol_filter(value[:,y_point],31,2), color='green')\n",
    "\n",
    "ax2.vlines(50,0,3.5, color='black', linestyles='-.')\n",
    "# ax2.set_ylim(0,3.5)\n",
    "ax2.set_xlim(0,200)\n",
    "plt.grid()\n",
    "plt.savefig(save_path+'/%dslop.3더한거.png'%j, dpi=300)\n",
    "# plt.close()\n",
    "\n",
    "plt.show()\n",
    "plt.close()\n",
    "with open('./ml.pkl','wb') as f:\n",
    "    pickle.dump(ee_resize, f)\n",
    "\n",
    "print('Save Done')"
   ],
   "metadata": {
    "collapsed": false,
    "pycharm": {
     "name": "#%%\n"
    }
   }
  },
  {
   "cell_type": "code",
   "execution_count": null,
   "outputs": [],
   "source": [
    "left_cut = 90\n",
    "rigt_cut = -300\n",
    "up_down_cut = 200\n",
    "fig,ax = plt.subplots(1,2)\n",
    "\n",
    "ax[0].imshow(image['ff0870'][up_down_cut:-up_down_cut,left_cut:rigt_cut])\n",
    "ax[0].scatter(crack_tip[0][1]-left_cut,crack_tip[0][0]-up_down_cut,c='red')\n",
    "ax[0].add_patch(\n",
    "     patches.Rectangle(\n",
    "        (crack_tip[0][1]-left-left_cut, crack_tip[0][1]+up_down-up_down_cut),\n",
    "        right+left,\n",
    "        up_down*2,\n",
    "        edgecolor = 'red',\n",
    "        facecolor = 'black',\n",
    "        fill=False, lw=3, ls=':'\n",
    "     ) )\n",
    "ax[0].axis('off')\n",
    "\n",
    "ax[1].imshow(image['ff3569'][up_down_cut:-up_down_cut,left_cut:rigt_cut])\n",
    "ax[1].scatter(crack_tip[-1][1]-left_cut,crack_tip[-1][0]-up_down_cut,c='red')\n",
    "ax[1].add_patch(\n",
    "     patches.Rectangle(\n",
    "        (crack_tip[-1][1]-left-left_cut, crack_tip[-1][1]+up_down-up_down_cut),\n",
    "        right+left,\n",
    "        up_down*2,\n",
    "        edgecolor = 'red',\n",
    "        facecolor = 'black',\n",
    "        fill=False, lw=3, ls=':'\n",
    "     ) )\n",
    "ax[1].axis('off')\n",
    "\n",
    "plt.savefig(r'E:\\사진/겹d치기%d.png'%j,dpi=300,bbox_inches='tight')\n",
    "\n"
   ],
   "metadata": {
    "collapsed": false,
    "pycharm": {
     "name": "#%%\n"
    }
   }
  }
 ],
 "metadata": {
  "kernelspec": {
   "display_name": "Python 3",
   "language": "python",
   "name": "python3"
  },
  "language_info": {
   "codemirror_mode": {
    "name": "ipython",
    "version": 2
   },
   "file_extension": ".py",
   "mimetype": "text/x-python",
   "name": "python",
   "nbconvert_exporter": "python",
   "pygments_lexer": "ipython2",
   "version": "2.7.6"
  }
 },
 "nbformat": 4,
 "nbformat_minor": 0
}