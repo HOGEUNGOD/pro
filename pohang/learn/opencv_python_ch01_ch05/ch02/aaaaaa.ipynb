{
 "cells": [
  {
   "cell_type": "code",
   "execution_count": 6,
   "outputs": [
    {
     "ename": "ImportError",
     "evalue": "DLL load failed: 지정된 모듈을 찾을 수 없습니다.",
     "output_type": "error",
     "traceback": [
      "\u001B[1;31m---------------------------------------------------------------------------\u001B[0m",
      "\u001B[1;31mImportError\u001B[0m                               Traceback (most recent call last)",
      "\u001B[1;32m<ipython-input-6-9e18c488b199>\u001B[0m in \u001B[0;36m<module>\u001B[1;34m\u001B[0m\n\u001B[1;32m----> 1\u001B[1;33m \u001B[1;32mimport\u001B[0m \u001B[0mcv2\u001B[0m\u001B[1;33m\u001B[0m\u001B[1;33m\u001B[0m\u001B[0m\n\u001B[0m\u001B[0;32m      2\u001B[0m \u001B[1;32mimport\u001B[0m \u001B[0mnumpy\u001B[0m \u001B[1;32mas\u001B[0m \u001B[0mnp\u001B[0m\u001B[1;33m\u001B[0m\u001B[1;33m\u001B[0m\u001B[0m\n\u001B[0;32m      3\u001B[0m \u001B[1;33m\u001B[0m\u001B[0m\n\u001B[0;32m      4\u001B[0m \u001B[0mimg1\u001B[0m \u001B[1;33m=\u001B[0m \u001B[0mcv2\u001B[0m\u001B[1;33m.\u001B[0m\u001B[0mimread\u001B[0m\u001B[1;33m(\u001B[0m\u001B[1;34m'HappyFish.jpg'\u001B[0m\u001B[1;33m)\u001B[0m\u001B[1;33m\u001B[0m\u001B[1;33m\u001B[0m\u001B[0m\n\u001B[0;32m      5\u001B[0m \u001B[0mimg2\u001B[0m \u001B[1;33m=\u001B[0m \u001B[0mimg1\u001B[0m\u001B[1;33m[\u001B[0m\u001B[1;36m40\u001B[0m\u001B[1;33m:\u001B[0m\u001B[1;36m120\u001B[0m\u001B[1;33m,\u001B[0m \u001B[1;36m30\u001B[0m\u001B[1;33m:\u001B[0m\u001B[1;36m150\u001B[0m\u001B[1;33m]\u001B[0m\u001B[1;33m\u001B[0m\u001B[1;33m\u001B[0m\u001B[0m\n",
      "\u001B[1;31mImportError\u001B[0m: DLL load failed: 지정된 모듈을 찾을 수 없습니다."
     ]
    }
   ],
   "source": [
    "import cv2\n",
    "import numpy as np\n",
    "\n",
    "img1 = cv2.imread('HappyFish.jpg')\n",
    "img2 = img1[40:120, 30:150]\n",
    "img2.fill(0)\n",
    "# cv2.circle(img2, (50,50),20, (0,0,255),2)\n",
    "\n",
    "cv2.imshow('image', img1)\n",
    "cv2.imshow('image2', img2)\n",
    "cv2.waitKey()\n",
    "\n",
    "cv2.destroyAllWindows()"
   ],
   "metadata": {
    "collapsed": false,
    "pycharm": {
     "name": "#%%\n"
    }
   }
  },
  {
   "cell_type": "code",
   "execution_count": 25,
   "outputs": [],
   "source": [
    "import cv2\n",
    "\n",
    "src  =cv2.imread('opencv-logo-white.png', cv2.IMREAD_UNCHANGED)\n",
    "mask = src[:,:,-1]\n",
    "src = src[:,:,0:3]\n",
    "dst=cv2.imread('field.bmp',cv2.IMREAD_COLOR)\n",
    "\n",
    "# cv2.copyTo(src,mask, dst)\n",
    "h, w = src.shape[:2]\n",
    "crop = dst[0:h, 0:w]\n",
    "\n",
    "cv2.copyTo(src,mask,crop)\n",
    "\n",
    "\n",
    "cv2.imshow('src',src)\n",
    "cv2.imshow('dst',dst)\n",
    "cv2.imshow('mask',mask)\n",
    "cv2.waitKey()\n",
    "\n",
    "cv2.destroyAllWindows()"
   ],
   "metadata": {
    "collapsed": false,
    "pycharm": {
     "name": "#%%\n"
    }
   }
  },
  {
   "cell_type": "code",
   "execution_count": 53,
   "outputs": [],
   "source": [
    "import cv2\n",
    "\n",
    "import numpy as np\n",
    "import cv2\n",
    "\n",
    "img = np.full((600, 400, 3), 255, np.uint8)\n",
    "\n",
    "cv2.line(img, (50, 50), (200, 50), (0, 0, 255), 5)\n",
    "cv2.line(img, (50, 60), (150, 160), (0, 0, 128))\n",
    "\n",
    "cv2.rectangle(img, (50, 200, 150, 100), (0, 255, 0), 2)\n",
    "cv2.rectangle(img, (70, 220), (180, 280), (0, 128, 0), -1)\n",
    "\n",
    "cv2.circle(img, (300, 100), 30, (255, 255, 0), -1, cv2.LINE_AA)\n",
    "cv2.circle(img, (300, 100), 60, (255, 0, 0), 3, cv2.LINE_AA)\n",
    "\n",
    "pts = np.array([[250, 200], [300, 200], [350, 300], [250, 300]])\n",
    "cv2.polylines(img, [pts], True, (255, 0, 255), 2, cv2.LINE_AA)\n",
    "\n",
    "text = 'Hello? OpenCV ' + cv2.__version__\n",
    "cv2.putText(img, text, (50, 350), cv2.FONT_HERSHEY_DUPLEX, 1,\n",
    "            (0, 0, 255), 1, cv2.LINE_AA)\n",
    "\n",
    "cv2.imshow(\"img\", img)\n",
    "cv2.waitKey()\n",
    "cv2.destroyAllWindows()"
   ],
   "metadata": {
    "collapsed": false,
    "pycharm": {
     "name": "#%%\n"
    }
   }
  },
  {
   "cell_type": "code",
   "execution_count": 79,
   "outputs": [],
   "source": [
    "import cv2\n",
    "import sys\n",
    "\n",
    "cap = cv2.VideoCapture(0)\n",
    "\n",
    "\n",
    "if not cap.isOpened():\n",
    "    print('camer open failed!')\n",
    "    sys.exit()\n",
    "\n",
    "\n",
    "while True:\n",
    "    ret, frame = cap.read()\n",
    "\n",
    "    if not ret:\n",
    "        break\n",
    "\n",
    "    edge = cv2.Canny(frame, 50, 150)\n",
    "    cv2.imshow('frame', frame)\n",
    "    cv2.imshow('edge', edge)\n",
    "    if cv2.waitKey(20) == 27:\n",
    "        break\n",
    "\n",
    "cap.release()\n",
    "cv2.destroyAllWindows()"
   ],
   "metadata": {
    "collapsed": false,
    "pycharm": {
     "name": "#%%\n"
    }
   }
  },
  {
   "cell_type": "code",
   "execution_count": 90,
   "outputs": [],
   "source": [
    "cap = cv2.VideoCapture('video2.mp4')\n",
    "\n",
    "if not cap.isOpened():\n",
    "    print('no')\n",
    "    sys.exit()\n",
    "\n",
    "while True:\n",
    "\n",
    "    ret, frame = cap.read()\n",
    "    if not ret:\n",
    "        break\n",
    "    edge = cv2.Canny(frame, 50, 150)\n",
    "    cv2.imshow('frame', frame)\n",
    "    cv2.imshow('edge', edge)\n",
    "    if cv2.waitKey(20) == 27:\n",
    "        break\n",
    "\n",
    "cap.release()\n",
    "cv2.destroyAllWindows()"
   ],
   "metadata": {
    "collapsed": false,
    "pycharm": {
     "name": "#%%\n"
    }
   }
  },
  {
   "cell_type": "code",
   "execution_count": 94,
   "outputs": [],
   "source": [
    "import cv2\n",
    "import sys\n",
    "\n",
    "cap = cv2.VideoCapture(0)\n",
    "if not cap.isOpened():\n",
    "    print(\"no\")\n",
    "    sys.exit()\n",
    "\n",
    "w = round(cap.get(cv2.CAP_PROP_FRAME_WIDTH))\n",
    "h = round(cap.get(cv2.CAP_PROP_FRAME_HEIGHT))\n",
    "fps = cap.get(cv2.CAP_PROP_FPS)\n",
    "\n",
    "fourcc = cv2.VideoWriter_fourcc(*'DIVX')\n",
    "delay = round(1000/fps)\n",
    "\n",
    "out = cv2.VideoWriter('output.avi', fourcc, fps, (w,h))\n",
    "\n",
    "if not out.isOpened():\n",
    "    print(\"faild\")\n",
    "    cap.releas()\n",
    "    sys.exit()\n",
    "\n",
    "while True:\n",
    "    ret, frame =cap.read()\n",
    "\n",
    "    if not ret:\n",
    "        break\n",
    "\n",
    "    edge = cv2.Canny(frame, 50,150)\n",
    "    edge_color = cv2.cvtColor(edge, cv2.COLOR_GRAY2BGR)\n",
    "    out.write(edge_color)\n",
    "    cv2.imshow('frame', edge)\n",
    "\n",
    "    if cv2.waitKey(delay) == 27:\n",
    "        break\n",
    "cap.release()\n",
    "out.release()\n",
    "cv2.destroyAllWindows()"
   ],
   "metadata": {
    "collapsed": false,
    "pycharm": {
     "name": "#%%\n"
    }
   }
  },
  {
   "cell_type": "code",
   "execution_count": 101,
   "outputs": [],
   "source": [
    "import cv2\n",
    "\n",
    "img = cv2.imread('cat.bmp', cv2.IMREAD_GRAYSCALE)\n",
    "\n",
    "if img is None:\n",
    "    sys.exit()\n",
    "\n",
    "cv2.imshow('image',img)\n",
    "\n",
    "while True:\n",
    "    key = cv2.waitKey()\n",
    "    if key ==27:\n",
    "        break\n",
    "    elif key ==ord('i'):\n",
    "        img=~img\n",
    "        cv2.imshow('image',img)\n",
    "cv2.destroyAllWindows()"
   ],
   "metadata": {
    "collapsed": false,
    "pycharm": {
     "name": "#%%\n"
    }
   }
  },
  {
   "cell_type": "code",
   "execution_count": 117,
   "outputs": [
    {
     "name": "stdout",
     "output_type": "stream",
     "text": [
      "down: 154, 178\n",
      "down: 369, 289\n",
      "down: 473, 245\n",
      "down: 431, 64\n",
      "down: 461, 87\n"
     ]
    }
   ],
   "source": [
    "import cv2\n",
    "import sys\n",
    "import numpy as np\n",
    "\n",
    "\n",
    "oldx = oldy = -1\n",
    "def on_mouse(event, x, y, flags, param):\n",
    "    global img, oldx, oldy\n",
    "\n",
    "    if event ==cv2.EVENT_LBUTTONDOWN:\n",
    "        oldx, oldy = x,y\n",
    "        print(\"down: {}, {}\".format(x, y))\n",
    "    elif event==cv2.EVENT_MOUSEMOVE:\n",
    "        if flags & cv2.EVENT_FLAG_LBUTTON:\n",
    "\n",
    "            cv2.line(img, (oldx,oldy), (x,y),(0,0,255),5, cv2.LINE_AA)\n",
    "            cv2.imshow('image',img)\n",
    "            oldx, oldy = x,y\n",
    "\n",
    "\n",
    "img = np.ones((480,640,3), dtype=np.uint8) *255\n",
    "\n",
    "cv2.namedWindow('image')\n",
    "cv2.imshow('image',img)\n",
    "cv2.setMouseCallback('image',on_mouse)\n",
    "\n",
    "\n",
    "while True:\n",
    "    if cv2.waitKey() == 27:\n",
    "        break\n",
    "\n",
    "cv2.destroyAllWindows()"
   ],
   "metadata": {
    "collapsed": false,
    "pycharm": {
     "name": "#%%\n"
    }
   }
  },
  {
   "cell_type": "code",
   "execution_count": 128,
   "outputs": [],
   "source": [
    "import cv2\n",
    "import numpy as np\n",
    "\n",
    "def on_trackbar(pos):\n",
    "    global img\n",
    "\n",
    "    level = pos*16\n",
    "\n",
    "    cv2.imshow('image',img)\n",
    "\n",
    "img =np.zeros((480,640), np.uint8)\n",
    "\n",
    "cv2.imshow('image',img)\n",
    "cv2.createTrackbar('level','image', 0,16, on_trackbar)\n",
    "\n",
    "\n",
    "cv2.waitKey()\n",
    "cv2.destroyAllWindows()"
   ],
   "metadata": {
    "collapsed": false,
    "pycharm": {
     "name": "#%%\n"
    }
   }
  },
  {
   "cell_type": "code",
   "execution_count": 131,
   "outputs": [
    {
     "name": "stdout",
     "output_type": "stream",
     "text": [
      "285.48839999999996\n"
     ]
    }
   ],
   "source": [
    "import cv2\n",
    "import colorsys\n",
    "import numpy as np\n",
    "import time\n",
    "\n",
    "img = cv2.imread('hongkong.jpg',cv2.IMREAD_COLOR)\n",
    "\n",
    "\n",
    "tm=cv2.TickMeter()\n",
    "tm.start()\n",
    "edge = cv2.Canny(img, 50, 150)\n",
    "tm.stop()\n",
    "print(tm.getTimeMilli())"
   ],
   "metadata": {
    "collapsed": false,
    "pycharm": {
     "name": "#%%\n"
    }
   }
  },
  {
   "cell_type": "code",
   "execution_count": 146,
   "outputs": [],
   "source": [
    "import cv2\n",
    "\n",
    "cap1 = cv2.VideoCapture('video1.mp4')\n",
    "cap2 = cv2.VideoCapture('video2.mp4')\n",
    "\n",
    "frame_cnt1 =round(cap1.get(cv2.CAP_PROP_FRAME_COUNT))\n",
    "frame_cnt2 =round(cap2.get(cv2.CAP_PROP_FRAME_COUNT))\n",
    "fps = cap1.get(cv2.CAP_PROP_FPS)\n",
    "effect_frames = int(fps*2)\n",
    "\n",
    "delay = int(1000/fps)\n",
    "\n",
    "w=round(cap1.get(cv2.CAP_PROP_FRAME_WIDTH))\n",
    "h=round(cap1.get(cv2.CAP_PROP_FRAME_HEIGHT))\n",
    "fourcc = cv2.VideoWriter_fourcc(*'DIVX')\n",
    "\n",
    "out = cv2.VideoWriter('output.avi', fourcc, fps, (w,h))\n",
    "\n",
    "for i in range(frame_cnt1 - effect_frames):\n",
    "    ret1, frame1 = cap1.read()\n",
    "\n",
    "    if not ret1:\n",
    "        break\n",
    "\n",
    "    out.write(frame1)\n",
    "    cv2.imshow('frame', frame1)\n",
    "    cv2.waitKey(delay)\n",
    "\n",
    "for i in range(effect_frames):\n",
    "    ret1, frame1 = cap1.read()\n",
    "    ret2, frame2 = cap2.read()\n",
    "\n",
    "    dx = int(w *i / effect_frames)\n",
    "\n",
    "    # frame =np.zeros((h,w,3),dtype=np.uint8)\n",
    "    # frame[:,0:dx] =frame2[:,0:dx]\n",
    "    # frame[:,dx:w] = frame1[:,dx:w]\n",
    "    alpha = 1.0 - i/effect_frames\n",
    "    frame = cv2.addWeighted(frame1, alpha, frame2, 1-alpha, 0)\n",
    "\n",
    "    out.write(frame)\n",
    "    cv2.imshow('frame',frame)\n",
    "    cv2.waitKey(delay)\n",
    "\n",
    "for i in range(effect_frames, frame_cnt2):\n",
    "    ret2, frame2 = cap2.read()\n",
    "\n",
    "    if not ret2:\n",
    "        break\n",
    "\n",
    "    out.write(frame2)\n",
    "    cv2.imshow('frame', frame2)\n",
    "    cv2.waitKey(delay)\n",
    "\n",
    "\n",
    "cap1.release()\n",
    "cap2.release()\n",
    "out.release()\n",
    "cv2.destroyAllWindows()\n"
   ],
   "metadata": {
    "collapsed": false,
    "pycharm": {
     "name": "#%%\n"
    }
   }
  }
 ],
 "metadata": {
  "kernelspec": {
   "name": "python3",
   "language": "python",
   "display_name": "Python 3"
  },
  "language_info": {
   "codemirror_mode": {
    "name": "ipython",
    "version": 2
   },
   "file_extension": ".py",
   "mimetype": "text/x-python",
   "name": "python",
   "nbconvert_exporter": "python",
   "pygments_lexer": "ipython2",
   "version": "2.7.6"
  }
 },
 "nbformat": 4,
 "nbformat_minor": 0
}