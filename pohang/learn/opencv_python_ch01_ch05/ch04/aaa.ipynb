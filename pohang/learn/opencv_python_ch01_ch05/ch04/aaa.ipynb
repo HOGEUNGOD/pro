{
 "cells": [
  {
   "cell_type": "code",
   "execution_count": 18,
   "metadata": {
    "collapsed": true
   },
   "outputs": [],
   "source": [
    "import cv2\n",
    "import matplotlib.pyplot as plt\n",
    "import numpy as np\n",
    "\n",
    "src = cv2.imread('rose.bmp', cv2.IMREAD_GRAYSCALE)\n",
    "\n",
    "kernal = np.ones([5,5], dtype=np.float64)/25.\n",
    "\n",
    "dst = cv2.blur(src, (3,3))\n",
    "\n",
    "cv2.imshow('src', src)\n",
    "cv2.imshow('dst', dst)\n",
    "cv2.waitKey()\n",
    "cv2.destroyAllWindows()"
   ]
  },
  {
   "cell_type": "code",
   "execution_count": 28,
   "outputs": [],
   "source": [
    "import cv2\n",
    "\n",
    "src = cv2.imread('rose.bmp', cv2.IMREAD_GRAYSCALE)\n",
    "\n",
    "dst=cv2.GaussianBlur(src,(0,0), 2)\n",
    "dst2=cv2.blur(src,(7,7), 1)\n",
    "\n",
    "cv2.imshow('src',src)\n",
    "cv2.imshow('dst',dst)\n",
    "cv2.imshow('dst2',dst2)\n",
    "cv2.waitKey()\n",
    "cv2.destroyAllWindows()"
   ],
   "metadata": {
    "collapsed": false,
    "pycharm": {
     "name": "#%%\n"
    }
   }
  },
  {
   "cell_type": "code",
   "execution_count": 46,
   "outputs": [
    {
     "name": "stdout",
     "output_type": "stream",
     "text": [
      "(320, 480)\n",
      "(320, 480, 3)\n"
     ]
    }
   ],
   "source": [
    "import cv2\n",
    "\n",
    "src = cv2.imread('rose.bmp')\n",
    "src_ycrcb = cv2.cvtColor(src, cv2.COLOR_BGR2YCrCb)\n",
    "\n",
    "src_f = src_ycrcb[:,:,0].astype(np.float32)\n",
    "blr = cv2.GaussianBlur(src_f, (0,0), 2.0)\n",
    "print(np.shape(src_f))\n",
    "print(np.shape(src))\n",
    "\n",
    "\n",
    "\n",
    "\n",
    "# cv2.imshow('dst',dst)\n",
    "# cv2.waitKey()\n",
    "# cv2.destroyAllWindows()"
   ],
   "metadata": {
    "collapsed": false,
    "pycharm": {
     "name": "#%%\n"
    }
   }
  },
  {
   "cell_type": "code",
   "execution_count": 68,
   "outputs": [],
   "source": [
    "import cv2\n",
    "import sys\n",
    "\n",
    "src = cv2.imread('lenna.bmp', cv2.IMREAD_GRAYSCALE)\n",
    "if src is None:\n",
    "    print('no')\n",
    "    sys.exit()\n",
    "\n",
    "\n",
    "dst = cv2.bilateralFilter(src, -1, 10 ,5)\n",
    "\n",
    "cv2.imshow('src', src)\n",
    "cv2.imshow('dst', dst)\n",
    "cv2.waitKey()\n",
    "cv2.destroyAllWindows()"
   ],
   "metadata": {
    "collapsed": false,
    "pycharm": {
     "name": "#%%\n"
    }
   }
  },
  {
   "cell_type": "code",
   "execution_count": 80,
   "outputs": [],
   "source": [
    "import cv2\n",
    "import sys\n",
    "import numpy as np\n",
    "\n",
    "def cartoon_filter(img):\n",
    "    h, w = img.shape[:2]\n",
    "    img = cv2.resize(img, (w//2, h//2))\n",
    "\n",
    "    blr = cv2.bilateralFilter(img, -1, 20, 7)\n",
    "    edge = 255 - cv2.Canny(img, 70, 110)\n",
    "    edge = cv2.cvtColor(edge, cv2.COLOR_GRAY2BGR)\n",
    "\n",
    "    dst = cv2.bitwise_and(blr, edge)\n",
    "    dst = cv2.resize(dst, (w,h), interpolation=cv2.INTER_NEAREST)\n",
    "    return dst\n",
    "\n",
    "def pencil_sketch(img):\n",
    "    img = cv2.cvtColor(img, cv2.COLOR_BGR2GRAY)\n",
    "    blr = cv2.GaussianBlur(img, (0,0), 3)\n",
    "    dst = cv2.divide(img, blr, scale=255)\n",
    "\n",
    "    dst = cv2.cvtColor(dst, cv2.COLOR_GRAY2BGR)\n",
    "    return dst\n",
    "\n",
    "cap = cv2.VideoCapture(0)\n",
    "\n",
    "if not cap.isOpened():\n",
    "    print('video failed!')\n",
    "    sys.exit()\n",
    "\n",
    "cam_mode = 0\n",
    "\n",
    "\n",
    "while True:\n",
    "    ret, frame = cap.read()\n",
    "    if not ret:\n",
    "        break\n",
    "\n",
    "    if cam_mode == 1 :\n",
    "        frame = cartoon_filter(frame)\n",
    "    elif cam_mode == 2:\n",
    "        frame = pencil_sketch(frame)\n",
    "\n",
    "    cv2.imshow('frame', frame)\n",
    "    key = cv2.waitKey(1)\n",
    "\n",
    "    if key == 27:\n",
    "        break\n",
    "    elif key ==ord(' '):\n",
    "        cam_mode +=1\n",
    "        if cam_mode ==3:\n",
    "            cam_mode = 0\n",
    "\n",
    "cap.release()\n",
    "cv2.destroyAllWindows()"
   ],
   "metadata": {
    "collapsed": false,
    "pycharm": {
     "name": "#%%\n"
    }
   }
  },
  {
   "cell_type": "code",
   "execution_count": null,
   "outputs": [],
   "source": [
    "import sys\n",
    "import numpy as np\n",
    "import cv2\n",
    "\n",
    "\n",
    "src = cv2.imread('namecard.jpg')\n",
    "\n",
    "if src is None:\n",
    "    print('Image load failed!')\n",
    "    sys.exit()\n",
    "\n",
    "w, h = 720, 400\n",
    "srcQuad = np.array([[325, 307], [760, 369], [718, 611], [231, 515]], np.float32)\n",
    "dstQuad = np.array([[0, 0], [w-1, 0], [w-1, h-1], [0, h-1]], np.float32)\n",
    "\n",
    "pers = cv2.getPerspectiveTransform(srcQuad, dstQuad)\n",
    "dst = cv2.warpPerspective(src, pers, (w, h))\n",
    "\n",
    "cv2.imshow('src', src)\n",
    "cv2.imshow('dst', dst)\n",
    "cv2.waitKey()\n",
    "cv2.destroyAllWindows()\n"
   ],
   "metadata": {
    "collapsed": false,
    "pycharm": {
     "name": "#%%\n"
    }
   }
  }
 ],
 "metadata": {
  "kernelspec": {
   "display_name": "Python 3",
   "language": "python",
   "name": "python3"
  },
  "language_info": {
   "codemirror_mode": {
    "name": "ipython",
    "version": 2
   },
   "file_extension": ".py",
   "mimetype": "text/x-python",
   "name": "python",
   "nbconvert_exporter": "python",
   "pygments_lexer": "ipython2",
   "version": "2.7.6"
  }
 },
 "nbformat": 4,
 "nbformat_minor": 0
}