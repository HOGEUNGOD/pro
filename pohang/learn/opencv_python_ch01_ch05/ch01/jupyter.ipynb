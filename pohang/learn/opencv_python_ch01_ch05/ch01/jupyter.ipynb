{
 "cells": [
  {
   "cell_type": "code",
   "execution_count": 67,
   "metadata": {
    "pycharm": {
     "name": "#%%\n"
    }
   },
   "outputs": [],
   "source": [
    "import cv2\n",
    "import numpy as np\n",
    "import os\n",
    "import glob\n",
    "\n",
    "img_files = glob.glob('./images/*.jpg')\n",
    "if not img_files:\n",
    "    print(\"snono\")\n",
    "    sys.exit()\n",
    "\n",
    "cv2.namedWindow('image', cv2.WINDOW_NORMAL)\n",
    "cv2.setWindowProperty('image', cv2.WND_PROP_FULLSCREEN, cv2.WINDOW_FULLSCREEN)\n",
    "\n",
    "\n",
    "cnt = len(img_files)\n",
    "idx = 0\n",
    "\n",
    "while True:\n",
    "    img = cv2.imread(img_files[idx])\n",
    "    if img is None:\n",
    "        print('NONO')\n",
    "        break\n",
    "\n",
    "    cv2.imshow('image',img)\n",
    "\n",
    "    if cv2.waitKey(1000) == 27:\n",
    "        break\n",
    "\n",
    "\n",
    "    idx += 1\n",
    "    if idx >= cnt:\n",
    "        idx=0\n",
    "\n",
    "\n",
    "cv2.destroyAllWindows()"
   ]
  }
 ],
 "metadata": {
  "kernelspec": {
   "name": "pycharm-5e589b29",
   "language": "python",
   "display_name": "PyCharm (untitled2)"
  },
  "language_info": {
   "codemirror_mode": {
    "name": "ipython",
    "version": 3
   },
   "file_extension": ".py",
   "mimetype": "text/x-python",
   "name": "python",
   "nbconvert_exporter": "python",
   "pygments_lexer": "ipython3",
   "version": "3.7.6"
  }
 },
 "nbformat": 4,
 "nbformat_minor": 4
}