{
 "cells": [
  {
   "cell_type": "code",
   "execution_count": 16,
   "metadata": {
    "collapsed": true
   },
   "outputs": [],
   "source": [
    "import cv2\n",
    "import numpy as np\n",
    "import matplotlib.pyplot as plt\n",
    "import sys\n",
    "\n",
    "src = cv2.imread('cat.bmp')\n",
    "\n",
    "if src is None:\n",
    "    sys.exit()\n",
    "\n",
    "\n",
    "rc = (250, 120, 200,200)\n",
    "\n",
    "cpy = src.copy()\n",
    "cv2.rectangle(cpy, rc, (0,0,255),2)\n",
    "cv2.imshow('src',cpy)\n",
    "cv2.waitKey()\n",
    "\n",
    "for i in range  (1,4):\n",
    "    src = cv2.pyrDown(src)\n",
    "    cpy= src.copy()\n",
    "    cv2.rectangle(cpy, rc ,(0,0,255), 2,shift=i)\n",
    "    cv2.imshow('src' , cpy)\n",
    "    cv2.waitKey()\n",
    "    cv2.destroyWindow('src')\n",
    "\n",
    "cv2.destroyAllWindows()"
   ]
  },
  {
   "cell_type": "code",
   "execution_count": 17,
   "outputs": [],
   "source": [
    "import sys\n",
    "import numpy as np\n",
    "import cv2\n",
    "\n",
    "\n",
    "src = cv2.imread('tekapo.bmp')\n",
    "\n",
    "if src is None:\n",
    "    print('Image load failed!')\n",
    "    sys.exit()\n",
    "h, w = src.shape[:2]\n",
    "\n",
    "\n",
    "cv2.imshow('src', src)\n",
    "cv2.imshow('dst', dst)\n",
    "cv2.waitKey()\n",
    "cv2.destroyAllWindows()"
   ],
   "metadata": {
    "collapsed": false,
    "pycharm": {
     "name": "#%%\n"
    }
   }
  },
  {
   "cell_type": "code",
   "execution_count": 22,
   "outputs": [
    {
     "name": "stderr",
     "output_type": "stream",
     "text": [
      "UsageError: Line magic function `%##` not found.\n"
     ]
    }
   ],
   "source": [
    "import sys\n",
    "import numpy as np\n",
    "import cv2\n",
    "\n",
    "src = cv2.imread('sc.bmp')\n",
    "\n",
    "if src is None:\n",
    "    print('faild!')\n",
    "    sys.exit()\n",
    "\n",
    "h, w = src.shape[:2]\n",
    "map2, map1 = np.indices((h,w), dtype=np.float32)\n",
    "map2 = map2 +10 *np.sin(map1/32)\n",
    "\n",
    "dst = cv2.remap(src, map1,map2, cv2.INTER_CUBIC, borderMode=cv2.BORDER_DEFAULT)\n",
    "\n",
    "\n",
    "cv2.imshow('src',src)\n",
    "cv2.imshow('dst',dst)\n",
    "cv2.waitKey()\n",
    "cv2.destroyAllWindows()"
   ],
   "metadata": {
    "collapsed": false,
    "pycharm": {
     "name": "#%%\n"
    }
   }
  },
  {
   "cell_type": "code",
   "execution_count": 44,
   "outputs": [
    {
     "name": "stderr",
     "output_type": "stream",
     "text": [
      "<ipython-input-44-ec98eb8fa39f>:12: DeprecationWarning: an integer is required (got type numpy.float32).  Implicit conversion to integers using __int__ is deprecated, and may be removed in a future version of Python.\n",
      "  cv2.circle(cpy, tuple(pt), 25, c1, -1, cv2.LINE_AA,)\n",
      "<ipython-input-44-ec98eb8fa39f>:14: DeprecationWarning: an integer is required (got type numpy.float32).  Implicit conversion to integers using __int__ is deprecated, and may be removed in a future version of Python.\n",
      "  cv2.line(cpy, tuple(corners[0]),tuple(corners[1]),c2,2,cv2.LINE_AA)\n",
      "<ipython-input-44-ec98eb8fa39f>:15: DeprecationWarning: an integer is required (got type numpy.float32).  Implicit conversion to integers using __int__ is deprecated, and may be removed in a future version of Python.\n",
      "  cv2.line(cpy, tuple(corners[1]),tuple(corners[2]),c2,2,cv2.LINE_AA)\n",
      "<ipython-input-44-ec98eb8fa39f>:16: DeprecationWarning: an integer is required (got type numpy.float32).  Implicit conversion to integers using __int__ is deprecated, and may be removed in a future version of Python.\n",
      "  cv2.line(cpy, tuple(corners[2]),tuple(corners[3]),c2,2,cv2.LINE_AA)\n",
      "<ipython-input-44-ec98eb8fa39f>:17: DeprecationWarning: an integer is required (got type numpy.float32).  Implicit conversion to integers using __int__ is deprecated, and may be removed in a future version of Python.\n",
      "  cv2.line(cpy, tuple(corners[3]),tuple(corners[0]),c2,2,cv2.LINE_AA)\n"
     ]
    }
   ],
   "source": [
    "import sys\n",
    "import numpy as np\n",
    "import cv2\n",
    "\n",
    "def drawROI(img, corners):\n",
    "    cpy = img.copy()\n",
    "\n",
    "    c1 = (192, 192, 255)\n",
    "    c2 = (128, 128, 255)\n",
    "\n",
    "    for pt in corners:\n",
    "        cv2.circle(cpy, tuple(pt), 25, c1, -1, cv2.LINE_AA,)\n",
    "\n",
    "    cv2.line(cpy, tuple(corners[0]),tuple(corners[1]),c2,2,cv2.LINE_AA)\n",
    "    cv2.line(cpy, tuple(corners[1]),tuple(corners[2]),c2,2,cv2.LINE_AA)\n",
    "    cv2.line(cpy, tuple(corners[2]),tuple(corners[3]),c2,2,cv2.LINE_AA)\n",
    "    cv2.line(cpy, tuple(corners[3]),tuple(corners[0]),c2,2,cv2.LINE_AA)\n",
    "\n",
    "    disp = cv2.addWeighted(img, 0.3, cpy, 0.7, 0)\n",
    "    return disp\n",
    "\n",
    "\n",
    "def onMouse(event, x, y ,flags, param):\n",
    "    global srcQuad, dragSrc,ptOld,src\n",
    "\n",
    "    if event == cv2.EVENT_LBUTTONDOWN:\n",
    "        for i in range(4):\n",
    "            if cv2.norm(srcQuad[i]-(x,y)) < 25:\n",
    "                dragSrc[i] =True\n",
    "                ptOld = (x,y)\n",
    "                break\n",
    "    if event == cv2.EVENT_LBUTTONUP:\n",
    "        for i in range (4):\n",
    "            dragSrc[i] =False\n",
    "\n",
    "    if event == cv2.EVENT_MOUSEMOVE:\n",
    "        for i in range(4):\n",
    "            if dragSrc[i]:\n",
    "                dx = x -ptOld[0]\n",
    "                dy = y - ptOld[1]\n",
    "\n",
    "                srcQuad[i] += (dx, dy)\n",
    "\n",
    "                cpy=drawROI(src, srcQuad)\n",
    "                cv2.imshow('img',cpy)\n",
    "                ptOld=(x,y)\n",
    "                break\n",
    "\n",
    "src=cv2.imread('scanned.jpg')\n",
    "\n",
    "if src is None:\n",
    "    print('failed')\n",
    "    sys.exit()\n",
    "\n",
    "h, w =src.shape[:2]\n",
    "dw = 500\n",
    "dh = round(dw*297/210)\n",
    "\n",
    "srcQuad = np.array([[30,30], [30, h-30],[w-30, h-30],[w-30, 30]], np.float32)\n",
    "dstQuad = np.array([[0,0], [0, dh-1],[dw-1, dh-1],[dw-1, 0]], np.float32)\n",
    "\n",
    "dragSrc = [False, False, False, False]\n",
    "\n",
    "disp = drawROI(src, srcQuad)\n",
    "cv2.imshow('img', disp)\n",
    "\n",
    "cv2.setMouseCallback('img',onMouse)\n",
    "\n",
    "while True:\n",
    "    key= cv2.waitKey()\n",
    "    if key == 13:\n",
    "        break\n",
    "    elif key ==27:\n",
    "        cv2.destroyWindow('img')\n",
    "        sys.exit()\n",
    "\n",
    "pers = cv2.getPerspectiveTransform(srcQuad, dstQuad)\n",
    "dst = cv2.warpPerspective(src,pers, (dw,dh),flags=cv2.INTER_CUBIC)\n",
    "cv2.imshow('dst',dst)\n",
    "cv2.waitKey()\n",
    "\n",
    "cv2.destroyAllWindows()"
   ],
   "metadata": {
    "collapsed": false,
    "pycharm": {
     "name": "#%%\n"
    }
   }
  }
 ],
 "metadata": {
  "kernelspec": {
   "display_name": "Python 3",
   "language": "python",
   "name": "python3"
  },
  "language_info": {
   "codemirror_mode": {
    "name": "ipython",
    "version": 2
   },
   "file_extension": ".py",
   "mimetype": "text/x-python",
   "name": "python",
   "nbconvert_exporter": "python",
   "pygments_lexer": "ipython2",
   "version": "2.7.6"
  }
 },
 "nbformat": 4,
 "nbformat_minor": 0
}