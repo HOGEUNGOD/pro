{
 "cells": [
  {
   "cell_type": "code",
   "execution_count": 19,
   "outputs": [
    {
     "ename": "error",
     "evalue": "OpenCV(4.0.1) C:\\ci\\opencv-suite_1573470242804\\work\\modules\\imgproc\\src\\hough.cpp:1740: error: (-211:One of arguments' values is out of range) dp, min_dist, canny_threshold and acc_threshold must be all positive numbers in function 'cv::HoughCircles'\n",
     "output_type": "error",
     "traceback": [
      "\u001B[1;31m---------------------------------------------------------------------------\u001B[0m",
      "\u001B[1;31merror\u001B[0m                                     Traceback (most recent call last)",
      "\u001B[1;32m<ipython-input-19-9ba5033a766a>\u001B[0m in \u001B[0;36mon_trackbar\u001B[1;34m(pos)\u001B[0m\n\u001B[0;32m     20\u001B[0m     \u001B[0mth\u001B[0m \u001B[1;33m=\u001B[0m \u001B[0mcv2\u001B[0m\u001B[1;33m.\u001B[0m\u001B[0mgetTrackbarPos\u001B[0m\u001B[1;33m(\u001B[0m\u001B[1;34m'threshold'\u001B[0m\u001B[1;33m,\u001B[0m \u001B[1;34m'img'\u001B[0m\u001B[1;33m)\u001B[0m\u001B[1;33m\u001B[0m\u001B[1;33m\u001B[0m\u001B[0m\n\u001B[0;32m     21\u001B[0m \u001B[1;33m\u001B[0m\u001B[0m\n\u001B[1;32m---> 22\u001B[1;33m     circles = cv2.HoughCircles(blr, cv2.HOUGH_GRADIENT, 1, 50,\n\u001B[0m\u001B[0;32m     23\u001B[0m                                param1=120, param2=th, minRadius=rmin, maxRadius=rmax)\n\u001B[0;32m     24\u001B[0m \u001B[1;33m\u001B[0m\u001B[0m\n",
      "\u001B[1;31merror\u001B[0m: OpenCV(4.0.1) C:\\ci\\opencv-suite_1573470242804\\work\\modules\\imgproc\\src\\hough.cpp:1740: error: (-211:One of arguments' values is out of range) dp, min_dist, canny_threshold and acc_threshold must be all positive numbers in function 'cv::HoughCircles'\n"
     ]
    },
    {
     "ename": "error",
     "evalue": "OpenCV(4.0.1) C:\\ci\\opencv-suite_1573470242804\\work\\modules\\imgproc\\src\\hough.cpp:1740: error: (-211:One of arguments' values is out of range) dp, min_dist, canny_threshold and acc_threshold must be all positive numbers in function 'cv::HoughCircles'\n",
     "output_type": "error",
     "traceback": [
      "\u001B[1;31m---------------------------------------------------------------------------\u001B[0m",
      "\u001B[1;31merror\u001B[0m                                     Traceback (most recent call last)",
      "\u001B[1;32m<ipython-input-19-9ba5033a766a>\u001B[0m in \u001B[0;36mon_trackbar\u001B[1;34m(pos)\u001B[0m\n\u001B[0;32m     20\u001B[0m     \u001B[0mth\u001B[0m \u001B[1;33m=\u001B[0m \u001B[0mcv2\u001B[0m\u001B[1;33m.\u001B[0m\u001B[0mgetTrackbarPos\u001B[0m\u001B[1;33m(\u001B[0m\u001B[1;34m'threshold'\u001B[0m\u001B[1;33m,\u001B[0m \u001B[1;34m'img'\u001B[0m\u001B[1;33m)\u001B[0m\u001B[1;33m\u001B[0m\u001B[1;33m\u001B[0m\u001B[0m\n\u001B[0;32m     21\u001B[0m \u001B[1;33m\u001B[0m\u001B[0m\n\u001B[1;32m---> 22\u001B[1;33m     circles = cv2.HoughCircles(blr, cv2.HOUGH_GRADIENT, 1, 50,\n\u001B[0m\u001B[0;32m     23\u001B[0m                                param1=120, param2=th, minRadius=rmin, maxRadius=rmax)\n\u001B[0;32m     24\u001B[0m \u001B[1;33m\u001B[0m\u001B[0m\n",
      "\u001B[1;31merror\u001B[0m: OpenCV(4.0.1) C:\\ci\\opencv-suite_1573470242804\\work\\modules\\imgproc\\src\\hough.cpp:1740: error: (-211:One of arguments' values is out of range) dp, min_dist, canny_threshold and acc_threshold must be all positive numbers in function 'cv::HoughCircles'\n"
     ]
    },
    {
     "name": "stderr",
     "output_type": "stream",
     "text": [
      "<ipython-input-19-9ba5033a766a>:29: DeprecationWarning: an integer is required (got type numpy.float32).  Implicit conversion to integers using __int__ is deprecated, and may be removed in a future version of Python.\n",
      "  cv2.circle(dst, (cx, cy), radius, (0, 0, 255), 2, cv2.LINE_AA)\n"
     ]
    }
   ],
   "source": [
    "import sys\n",
    "import numpy as np\n",
    "import cv2\n",
    "\n",
    "\n",
    "# 입력 이미지 불러오기\n",
    "src = cv2.imread('dial.jpg')\n",
    "\n",
    "if src is None:\n",
    "    print('Image open failed!')\n",
    "    sys.exit()\n",
    "\n",
    "gray = cv2.cvtColor(src, cv2.COLOR_BGR2GRAY)\n",
    "blr = cv2.GaussianBlur(gray, (0, 0), 1.0)\n",
    "\n",
    "\n",
    "def on_trackbar(pos):\n",
    "    rmin = cv2.getTrackbarPos('minRadius', 'img')\n",
    "    rmax = cv2.getTrackbarPos('maxRadius', 'img')\n",
    "    th = cv2.getTrackbarPos('threshold', 'img')\n",
    "\n",
    "    circles = cv2.HoughCircles(blr, cv2.HOUGH_GRADIENT, 1, 50,\n",
    "                               param1=120, param2=th, minRadius=rmin, maxRadius=rmax)\n",
    "\n",
    "    dst = src.copy()\n",
    "    if circles is not None:\n",
    "        for i in range(circles.shape[1]):\n",
    "            cx, cy, radius = circles[0][i]\n",
    "            cv2.circle(dst, (cx, cy), radius, (0, 0, 255), 2, cv2.LINE_AA)\n",
    "\n",
    "    cv2.imshow('img', dst)\n",
    "\n",
    "\n",
    "# 트랙바 생성\n",
    "cv2.imshow('img', src)\n",
    "cv2.createTrackbar('minRadius', 'img', 0, 100, on_trackbar)\n",
    "cv2.createTrackbar('maxRadius', 'img', 0, 150, on_trackbar)\n",
    "cv2.createTrackbar('threshold', 'img', 0, 100, on_trackbar)\n",
    "cv2.setTrackbarPos('minRadius', 'img', 10)\n",
    "cv2.setTrackbarPos('maxRadius', 'img', 80)\n",
    "cv2.setTrackbarPos('threshold', 'img', 40)\n",
    "cv2.waitKey()\n",
    "\n",
    "cv2.destroyAllWindows()\n"
   ],
   "metadata": {
    "collapsed": false,
    "pycharm": {
     "name": "#%%\n"
    }
   }
  }
 ],
 "metadata": {
  "kernelspec": {
   "display_name": "Python 3",
   "language": "python",
   "name": "python3"
  },
  "language_info": {
   "codemirror_mode": {
    "name": "ipython",
    "version": 2
   },
   "file_extension": ".py",
   "mimetype": "text/x-python",
   "name": "python",
   "nbconvert_exporter": "python",
   "pygments_lexer": "ipython2",
   "version": "2.7.6"
  }
 },
 "nbformat": 4,
 "nbformat_minor": 0
}