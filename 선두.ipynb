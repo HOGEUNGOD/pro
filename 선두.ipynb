{
 "cells": [
  {
   "cell_type": "code",
   "execution_count": null,
   "outputs": [],
   "source": [
    "\"\"\"참고사항\"\"\"\n",
    "path = r''\n",
    "files = glob.glob(path+'./*.csv')\n",
    "if not files:\n",
    "    print(\"Chck Phath\")\n",
    "    sys.exit()\n",
    "for i in files:\n",
    "    im = pd.read_csv(path + '/' + i)\n"
   ],
   "metadata": {
    "collapsed": false,
    "pycharm": {
     "name": "#%%\n"
    }
   }
  },
  {
   "cell_type": "code",
   "execution_count": 95,
   "metadata": {
    "collapsed": true
   },
   "outputs": [
    {
     "data": {
      "text/plain": "<Figure size 432x288 with 1 Axes>",
      "image/png": "[encoded data removed]"
     },
     "metadata": {
      "needs_background": "light"
     },
     "output_type": "display_data"
    }
   ],
   "source": [
    "import numpy as np\n",
    "import pandas as pd\n",
    "import matplotlib.pyplot as plt\n",
    "from scipy.stats import linregress\n",
    "import os\n",
    "import glob\n",
    "\n",
    "dfa=pd.read_csv(r'C:/Users/ghrms/Documents\\카카오톡 받은 파일\\b.csv')\n",
    "pd.options.display.max_rows = 999\n",
    "\n",
    "dfa = dfa.loc[0:5000]  ## 자르는 파트\n",
    "\n",
    "plt.plot(dfa['Strain - %'], dfa['Stress - MPa'])\n",
    "plt.ylim(0,1120)\n",
    "plt.grid()"
   ]
  },
  {
   "cell_type": "code",
   "execution_count": null,
   "outputs": [],
   "source": [
    "stress_Al = dfa['Stress - MPa']\n",
    "strain_Al = dfa['Strain - %']\n",
    "\n",
    "E_stress = stress_Al[stress_Al.between(200,800)]  ## 힘 범위\n",
    "E_strain = strain_Al[stress_Al.between(200,800)]\n",
    "\n",
    "\"\"\"확대파트\"\"\"\n",
    "plt.plot(E_strain, E_stress)"
   ],
   "metadata": {
    "collapsed": false,
    "pycharm": {
     "name": "#%%\n"
    }
   }
  },
  {
   "cell_type": "code",
   "execution_count": 68,
   "outputs": [
    {
     "data": {
      "text/plain": "LinregressResult(slope=1149.9610154945387, intercept=-2.7952812511108505, rvalue=0.9999838680125808, pvalue=0.0, stderr=0.14064433206541574)"
     },
     "execution_count": 68,
     "metadata": {},
     "output_type": "execute_result"
    }
   ],
   "source": [
    "res = linregress(E_strain, E_stress)\n",
    "\n",
    "E_Al = res[0]\n",
    "\n",
    "stress_offset = E_Al*(strain_Al - 0.2)\n",
    "\n",
    "\"\"\"수동\"\"\"\n",
    "plt.plot(strain_Al, stress_Al, strain_Al, stress_offset)\n",
    "# plt.xlim(1,1.2)\n",
    "plt.show()\n"
   ],
   "metadata": {
    "collapsed": false,
    "pycharm": {
     "name": "#%%\n"
    }
   }
  },
  {
   "cell_type": "code",
   "execution_count": 90,
   "outputs": [
    {
     "name": "stdout",
     "output_type": "stream",
     "text": [
      "1.137\n",
      "1077.5134715183829\n",
      "1.14\n",
      "1080.9633545648664\n",
      "1.137\n",
      "1080.522\n",
      "1.14\n",
      "1080.525\n"
     ]
    }
   ],
   "source": [
    "\"\"\"자동\"\"\"\n",
    "\n",
    "for i in range(2, len(strain_Al)):\n",
    "    #when the offset line is first goes above the stress strain curve...\n",
    "    if stress_offset[i] > stress_Al[i]:\n",
    "        # pull out the points from the stress strain curve\n",
    "        sx1 = strain_Al[i-1]\n",
    "        sy1 = stress_Al[i-1]\n",
    "        sy2 = stress_Al[i]\n",
    "        sx2 = strain_Al[i]\n",
    "        # pull out the points from the 0.002 offset line\n",
    "        ox1 = strain_Al[i-1]\n",
    "        oy1 = stress_offset[i-1]\n",
    "        ox2 = strain_Al[i]\n",
    "        oy2 = stress_offset[i]\n",
    "        break\n",
    "\n",
    "print(ox1)\n",
    "print(oy1)\n",
    "print(ox2)\n",
    "print(oy2)\n",
    "print(sx1)\n",
    "print(sy1)\n",
    "print(sx2)\n",
    "print(sy2)"
   ],
   "metadata": {
    "collapsed": false,
    "pycharm": {
     "name": "#%%\n"
    }
   }
  },
  {
   "cell_type": "code",
   "execution_count": 91,
   "outputs": [
    {
     "data": {
      "text/plain": "1080.52461847745"
     },
     "execution_count": 91,
     "metadata": {},
     "output_type": "execute_result"
    }
   ],
   "source": [
    "# first set of two points, from the 0.002 offset line\n",
    "x1 = ox1\n",
    "y1 = oy1\n",
    "x2 = ox2\n",
    "y2 = oy2\n",
    "\n",
    "# second set of two points, from the stress strain curve\n",
    "x3 = sx1\n",
    "y3 = sy1\n",
    "x4 = sx2\n",
    "y4 = sy2\n",
    "# formula for the y corrdinate of the intersection two lines defined by two points\n",
    "YS = ( (x1*y2-y1*x2)*(y3-y4) - (y1-y2)*(x3*y4-y3*x4)  ) / ( ( (x1-x2) * (y3-y4) ) - ( (y1-y2)*(x3-x4) ))\n",
    "YS\n",
    "\n",
    "plt.savefig()\n",
    "plt.close()"
   ],
   "metadata": {
    "collapsed": false,
    "pycharm": {
     "name": "#%%\n"
    }
   }
  }
 ],
 "metadata": {
  "kernelspec": {
   "display_name": "Python 3",
   "language": "python",
   "name": "python3"
  },
  "language_info": {
   "codemirror_mode": {
    "name": "ipython",
    "version": 2
   },
   "file_extension": ".py",
   "mimetype": "text/x-python",
   "name": "python",
   "nbconvert_exporter": "python",
   "pygments_lexer": "ipython2",
   "version": "2.7.6"
  }
 },
 "nbformat": 4,
 "nbformat_minor": 0
}