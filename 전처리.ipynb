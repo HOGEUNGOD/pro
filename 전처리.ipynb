{
 "cells": [
  {
   "cell_type": "code",
   "execution_count": null,
   "outputs": [],
   "source": [
    "import numpy as np\n",
    "import matplotlib.pyplot as plt\n",
    "import pandas as pd\n",
    "import os\n",
    "import sys\n",
    "from scipy.signal import savgol_filter\n",
    "\n",
    "################path:엑셀파일 저장된 경로 , save_path: 그래프저장할경로, 그래프로 표시할 라인갯수#################################\n",
    "path = 'E:/'\n",
    "save_path = 'E:/'\n",
    "line_num = 16\n",
    "########################################################################################################################\n",
    "\n",
    "\n",
    "y = ['y0', 'y1', 'y2', 'y3', 'y4', 'y5', 'y6', 'y7', 'y8', 'y9', 'y10', 'y11', 'y12', 'y13', 'y14', 'y15'][0:line_num]\n",
    "file_list = os.listdir(path)\n",
    "if not file_list:\n",
    "    print('경로확인, 경로 지정안되었습니다.')\n",
    "    sys.exit()\n",
    "for file_name in file_list:\n",
    "    if file_name.endswith(\".csv\"):\n",
    "        df = pd.read_csv(os.path.join(path, file_name), sep='\\t', header=None)  # encoding='CP949', sep= ''\n",
    "        data = np.array(df)\n",
    "\n",
    "        if line_num+2 == data.shape[1]:\n",
    "            pass\n",
    "        else:\n",
    "            print('line 갯수를 확인해야합니다.\\n 시스템을 종료합니다')\n",
    "            sys.exit()\n",
    "\n",
    "        load = data[:, len(y):len(y)+1]\n",
    "        dis = data[:, len(y)+1:len(y)+2]\n",
    "\n",
    "        num = np.shape(data)[0]\n",
    "        x = np.arange(num)\n",
    "        if num%2==0:\n",
    "            win_length = num-1\n",
    "        else:\n",
    "            win_length = len(y[i])\n",
    "\n",
    "        fig, ax1 = plt.subplots()\n",
    "        ax2 = ax1.twinx()\n",
    "        for i in range(0, len(y)):\n",
    "            y[i] = data[:, i:i + 1]\n",
    "            # y[i] = savgol_filter(y[i].flatten(),win_length,1)\n",
    "            y[i] = savgol_filter(y[i].flatten(),201,1)\n",
    "\n",
    "            ax1.plot(x, y[i], label=i + 1, linewidth=0.1)\n",
    "        ax2.plot(x, load)\n",
    "        ax2.plot(x, dis)\n",
    "\n",
    "        ##그래프 설정 파트 #################################################\n",
    "        ax1.set_ylabel('Sample Voltage') #y1축 이름\n",
    "        ax2.set_ylabel('Load - Displacement') #y2축 이름\n",
    "        ax1.set_xlabel('Time')    # x 축 이름\n",
    "        ax1.set_ylim(6.8, 6.975)        #y축 스케일조절\n",
    "        ax2.set_ylim(-10, 0)      #y2축 스케일조절\n",
    "        # ax1.set_xlim(0,400)  # x축 스케일 조절\n",
    "\n",
    "        plt.savefig(save_path + '/' + file_name + '.png', dpi=300)\n",
    "        print(file_name, \"완료!\")\n",
    "        plt.close(fig)\n",
    "print('최종 끝')\n",
    "#######"
   ],
   "metadata": {
    "collapsed": false,
    "pycharm": {
     "name": "#%% 필터링하기\n"
    }
   }
  },
  {
   "cell_type": "code",
   "execution_count": null,
   "outputs": [],
   "source": [
    "\"\"\" macro 좌표 입력 \"\"\"\n",
    "\n",
    "import pyautogui\n",
    "import time\n",
    "start = time.time()\n",
    "\n",
    "print(pyautogui.size())\n",
    "print(pyautogui.position())\n",
    "\n",
    "time.time()-start"
   ],
   "metadata": {
    "collapsed": false,
    "pycharm": {
     "name": "#%% 해당 마우스지점 좌표구하기\n"
    }
   }
  },
  {
   "cell_type": "code",
   "execution_count": null,
   "outputs": [],
   "source": [
    "import pyautogui\n",
    "import time\n",
    "\n",
    "f = time.time()\n",
    "for i in range(5):\n",
    "    start = time.time()\n",
    "    pyautogui.click(x=547, y=228) ##창 클릭 후 마우스 커서 위치\n",
    "    pyautogui.press(['backspace']*(i+4))\n",
    "\n",
    "    pyautogui.write(str(i+1)+'.csv') ##파일이름 입력\n",
    "    pyautogui.click(x=61, y=55) ##시작 좌표\n",
    "\n",
    "    time.sleep(2)\n",
    "\n",
    "    pyautogui.click(x=619,y=321,clicks=2, interval=2)\n",
    "    time.sleep(5.3)\n",
    "\n",
    "    print(time.time()-start)\n",
    "\n",
    "print(time.time()-f)"
   ],
   "metadata": {
    "collapsed": false,
    "pycharm": {
     "name": "#%% 마우스매크로\n"
    }
   }
  },
  {
   "cell_type": "code",
   "execution_count": null,
   "outputs": [],
   "source": [
    "import numpy as np\n",
    "import matplotlib.pyplot as plt\n",
    "import pandas as pd\n",
    "import os\n",
    "from scipy.signal import find_peaks\n",
    "import sys\n",
    "import glob\n",
    "\n",
    "##################################################\n",
    "path = 'G:\\experiment data/a/'\n",
    "save_path = 'G:\\experiment data/b/'\n",
    "rate = 500 #받는속도\n",
    "range_front =  500 # 피크 앞뒤로 짜를 갯수\n",
    "range_back = 500#\n",
    "term = 10 #중간에 몇초쉬었는지\n",
    "##################################################\n",
    "\n",
    "\n",
    "file_list = os.listdir(path)\n",
    "count = 1\n",
    "if not file_list:\n",
    "    print('경로확인')\n",
    "    sys.exit()\n",
    "\n",
    "for file_name in file_list:\n",
    "\n",
    "    print(file_name, \"시작!\")\n",
    "    df = pd.read_csv(os.path.join(path, file_name), sep='\\t', header=None)  # encoding='CP949', sep= ''\n",
    "    data = np.array(df)\n",
    "\n",
    "    load = data[:, 8:9]\n",
    "    dis = data[:, 9:10]\n",
    "    x = np.arange(np.shape(load)[0])\n",
    "    block = dis.flatten() * -1   #displacement 로 피크 잡을시 dis변수사용  load사용하고 싶을시 load변수변경\n",
    "    peaks, _ = find_peaks(block, distance= term*rate) #peak 받아냄\n",
    "    peaks = np.delete(peaks,-1) #거리로하다보면 마지막 요소 생기는데 이거 삭제\n",
    "\n",
    "    for i in peaks[0:len(peaks)]: # 첫번째 그래프빼고싶으면 1:len~~\n",
    "        plt.axvspan(i - range_front, i + range_back, alpha=0.1, color='green')\n",
    "        result = data[i-range_front:i+range_back+1 ,:]\n",
    "        np.savetxt(save_path+file_name.split('.')[0]+'_'+str(count)+'.'+file_name.split('.')[1], result, delimiter='\\t', fmt='%4e')\n",
    "        count += 1\n",
    "    plt.plot(block*-1,c = 'black', linewidth=0.5)\n",
    "    plt.plot(peaks, block[peaks]*-1, \"x\", c='red')\n",
    "    plt.savefig(save_path+file_name.split('.')[0]+'check.png', dpi=300)\n",
    "print('끄으으으으으으으읕')"
   ],
   "metadata": {
    "collapsed": false,
    "pycharm": {
     "name": "#%% 피크사이 자르기\n"
    }
   }
  },
  {
   "cell_type": "code",
   "execution_count": null,
   "outputs": [],
   "source": [],
   "metadata": {
    "collapsed": false,
    "pycharm": {
     "name": "#%%\n"
    }
   }
  },
  {
   "cell_type": "code",
   "execution_count": 20,
   "outputs": [
    {
     "name": "stdout",
     "output_type": "stream",
     "text": [
      "filter(11,3)_3.csv 완료!\n",
      "filter(11,3)_4.csv 완료!\n",
      "filter(11,3)_6.csv 완료!\n",
      "filter(11,3)_7.csv 완료!\n",
      "filter(11,3)_8.csv 완료!\n",
      "최종 끝\n"
     ]
    },
    {
     "data": {
      "text/plain": "<Figure size 432x288 with 2 Axes>",
      "image/png": "[encoded data removed]"
     },
     "metadata": {
      "needs_background": "light"
     },
     "output_type": "display_data"
    }
   ],
   "source": [
    "import numpy as np\n",
    "import matplotlib.pyplot as plt\n",
    "import pandas as pd\n",
    "import os\n",
    "import sys\n",
    "from scipy.signal import find_peaks\n",
    "from scipy.signal import savgol_filter\n",
    "\n",
    "################path:엑셀파일 저장된 경로 , save_path: 그래프저장할경로, 그래프로 표시할 라인갯수#################################\n",
    "path = 'D:/experiment data\\kepyad_2/regression/practice'\n",
    "save_path = 'D:/experiment data\\kepyad_2/regression/practice_g'\n",
    "line_num = 16\n",
    "########################################################################################################################\n",
    "k=0\n",
    "\n",
    "y = ['y0', 'y1', 'y2', 'y3', 'y4', 'y5', 'y6', 'y7', 'y8', 'y9', 'y10', 'y11', 'y12', 'y13', 'y14', 'y15'][0:line_num]\n",
    "vx = ['vx0' ,'vx1', 'vx2', 'vx3', 'vx4']\n",
    "vl = ['vl0' ,'vl1', 'vl2', 'vl3', 'vl4']\n",
    "vd = ['vd0' ,'vd1', 'vd2', 'vd3', 'vd4']\n",
    "file_list = os.listdir(path)\n",
    "if not file_list:\n",
    "    print('경로확인, 경로 지정안되었습니다.')\n",
    "    sys.exit()\n",
    "for file_name in file_list:\n",
    "    value = np.array([])\n",
    "    if file_name.endswith(\".csv\"):\n",
    "        df = pd.read_csv(os.path.join(path, file_name), sep='\\t', header=None)  # encoding='CP949', sep= ''\n",
    "        data = np.array(df)\n",
    "\n",
    "        if line_num+2 == data.shape[1]:\n",
    "            pass\n",
    "        else:\n",
    "            print('line 갯수를 확인해야합니다.\\n 시스템을 종료합니다')\n",
    "            sys.exit()\n",
    "\n",
    "        load = data[:, len(y):len(y)+1]\n",
    "        dis = data[:, len(y)+1:len(y)+2]\n",
    "\n",
    "        num = np.shape(data)[0]\n",
    "        x = np.arange(8000)\n",
    "\n",
    "\n",
    "        fig, ax1 = plt.subplots()\n",
    "        ax2 = ax1.twinx()\n",
    "        for i in range(0, len(y)):\n",
    "            y[i] = data[:, i:i + 1]\n",
    "            value = np.append(value,np.max(y[i])-np.min(y[i]))\n",
    "            # y[i] = savgol_filter(y[i].flatten(),win_length,1)\n",
    "            # y[i] = savgol_filter(y[i].flatten(),201,1)\n",
    "        max_index = np.argmax(value)\n",
    "        yy = (y[max_index]-np.min(y[max_index]))/(np.max(y[max_index]-np.min(y[max_index])))\n",
    "\n",
    "        # ax1.plot(x, y[np.argmax(value)], label=i + 1, linewidth=0.1)\n",
    "        block = dis.flatten() * -1   #displacement 로 피크 잡을시 dis변수사용  load사용하고 싶을시 load변수변경\n",
    "        peaks, _ = find_peaks(block, distance= 2000, height= 1) #peak 받아냄# #거\n",
    "\n",
    "        vl[k] = load[int(peaks-2000):int(peaks+2000)]\n",
    "        vd[k] = dis[int(peaks-2000):int(peaks+2000)]\n",
    "        vx[k] = yy[int(peaks-2000):int(peaks+2000)]\n",
    "        ax1.plot(x, yy, label=i + 1, linewidth=0.1)\n",
    "        ax2.plot(x, load)\n",
    "        ax2.plot(x, dis)\n",
    "        ##그래프 설정 파트 #################################################\n",
    "        ax1.set_ylabel('Sample Voltage') #y1축 이름\n",
    "        ax2.set_ylabel('Load - Displacement') #y2축 이름\n",
    "        ax1.set_xlabel('Time')    # x 축 이름\n",
    "        # ax1.set_ylim(6.8, 6.975)        #y축 스케일조절\n",
    "        # ax2.set_ylim(-10, 0)      #y2축 스케일조절\n",
    "        # ax1.set_xlim(0,400)  # x축 스케일 조절\n",
    "        plt.savefig(save_path + '/' + file_name + '.png', dpi=300)\n",
    "        print(file_name, \"완료!\")\n",
    "        plt.close(fig)\n",
    "        k= k+1\n",
    "\n",
    "fig, ax1 = plt.subplots()\n",
    "ax2 = ax1.twinx()\n",
    "for i in range(0,5):\n",
    "    ax1.plot(np.arange(4000), vx[i], label=i + 1, linewidth=0.1)\n",
    "    ax2.plot(np.arange(4000), vl[i])\n",
    "    ax2.plot(np.arange(4000), vd[i])\n",
    "    ax1.set_ylabel('Sample Voltage') #y1축 이름\n",
    "    ax2.set_ylabel('Load - Displacement') #y2축 이름\n",
    "    ax1.set_xlabel('Time')\n",
    "    ax2.set_ylim(-10, 0)\n",
    "    ax1.set_ylim(0, 1.2)\n",
    "    plt.savefig(save_path + '/' + file_name + 'add.png', dpi=300)\n",
    "print('최종 끝')\n",
    "#######"
   ],
   "metadata": {
    "collapsed": false,
    "pycharm": {
     "name": "#%% 필터링하기\n"
    }
   }
  },
  {
   "cell_type": "code",
   "execution_count": 18,
   "outputs": [
    {
     "data": {
      "text/plain": "array([[0.016],\n       [0.001],\n       [0.001],\n       ...,\n       [0.001],\n       [0.026],\n       [0.006]])"
     },
     "execution_count": 18,
     "metadata": {},
     "output_type": "execute_result"
    }
   ],
   "source": [],
   "metadata": {
    "collapsed": false,
    "pycharm": {
     "name": "#%%\n"
    }
   }
  },
  {
   "cell_type": "code",
   "execution_count": null,
   "outputs": [],
   "source": [
    "\n",
    "\n",
    "\n",
    "\n"
   ],
   "metadata": {
    "collapsed": false,
    "pycharm": {
     "name": "#%%\n"
    }
   }
  }
 ],
 "metadata": {
  "kernelspec": {
   "display_name": "Python 3",
   "language": "python",
   "name": "python3"
  },
  "language_info": {
   "codemirror_mode": {
    "name": "ipython",
    "version": 2
   },
   "file_extension": ".py",
   "mimetype": "text/x-python",
   "name": "python",
   "nbconvert_exporter": "python",
   "pygments_lexer": "ipython2",
   "version": "2.7.6"
  }
 },
 "nbformat": 4,
 "nbformat_minor": 0
}