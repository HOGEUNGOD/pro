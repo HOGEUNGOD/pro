{
 "cells": [
  {
   "cell_type": "code",
   "execution_count": 54,
   "outputs": [
    {
     "name": "stdout",
     "output_type": "stream",
     "text": [
      "Size(width=1920, height=1080)\n",
      "Point(x=61, y=55)\n"
     ]
    },
    {
     "data": {
      "text/plain": "0.000997781753540039"
     },
     "execution_count": 54,
     "metadata": {},
     "output_type": "execute_result"
    }
   ],
   "source": [
    "\"\"\" macro 좌표 입력 \"\"\"\n",
    "\n",
    "import pyautogui\n",
    "import time\n",
    "start = time.time()\n",
    "\n",
    "print(pyautogui.size())\n",
    "print(pyautogui.position())\n",
    "\n",
    "time.time()-start"
   ],
   "metadata": {
    "collapsed": false,
    "pycharm": {
     "name": "#%%\n"
    }
   }
  },
  {
   "cell_type": "code",
   "execution_count": 65,
   "outputs": [
    {
     "name": "stdout",
     "output_type": "stream",
     "text": [
      "11.935286045074463\n",
      "11.896681547164917\n",
      "11.929229021072388\n",
      "11.907775163650513\n",
      "11.912458419799805\n",
      "59.58441877365112\n"
     ]
    }
   ],
   "source": [
    "import pyautogui\n",
    "import time\n",
    "\n",
    "f = time.time()\n",
    "for i in range(5):\n",
    "    start = time.time()\n",
    "    pyautogui.click(x=547, y=228) ##창 클릭 후 마우스 커서 위치\n",
    "    pyautogui.press(['backspace']*(i+4))\n",
    "\n",
    "    pyautogui.write(str(i+1)+'.csv') ##파일이름 입력\n",
    "    pyautogui.click(x=61, y=55) ##시작 좌표\n",
    "\n",
    "    time.sleep(2)\n",
    "\n",
    "    pyautogui.click(x=619,y=321,clicks=2, interval=2)\n",
    "    time.sleep(5.3)\n",
    "\n",
    "    print(time.time()-start)\n",
    "\n",
    "print(time.time()-f)\n"
   ],
   "metadata": {
    "collapsed": false,
    "pycharm": {
     "name": "#%%\n"
    }
   }
  }
 ],
 "metadata": {
  "kernelspec": {
   "display_name": "Python 3",
   "language": "python",
   "name": "python3"
  },
  "language_info": {
   "codemirror_mode": {
    "name": "ipython",
    "version": 2
   },
   "file_extension": ".py",
   "mimetype": "text/x-python",
   "name": "python",
   "nbconvert_exporter": "python",
   "pygments_lexer": "ipython2",
   "version": "2.7.6"
  }
 },
 "nbformat": 4,
 "nbformat_minor": 0
}