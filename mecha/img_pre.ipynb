{
 "cells": [
  {
   "cell_type": "code",
   "execution_count": 1,
   "metadata": {
    "collapsed": true
   },
   "outputs": [
    {
     "data": {
      "text/plain": "['C:\\\\Users\\\\Mechano_2',\n 'C:\\\\Users\\\\Mechano_2\\\\anaconda3\\\\envs\\\\final\\\\python37.zip',\n 'C:\\\\Users\\\\Mechano_2\\\\anaconda3\\\\envs\\\\final\\\\DLLs',\n 'C:\\\\Users\\\\Mechano_2\\\\anaconda3\\\\envs\\\\final\\\\lib',\n 'C:\\\\Users\\\\Mechano_2\\\\anaconda3\\\\envs\\\\final',\n '',\n 'C:\\\\Users\\\\Mechano_2\\\\anaconda3\\\\envs\\\\final\\\\lib\\\\site-packages',\n 'C:\\\\Users\\\\Mechano_2\\\\anaconda3\\\\envs\\\\final\\\\lib\\\\site-packages\\\\win32',\n 'C:\\\\Users\\\\Mechano_2\\\\anaconda3\\\\envs\\\\final\\\\lib\\\\site-packages\\\\win32\\\\lib',\n 'C:\\\\Users\\\\Mechano_2\\\\anaconda3\\\\envs\\\\final\\\\lib\\\\site-packages\\\\Pythonwin',\n 'C:\\\\Users\\\\Mechano_2\\\\anaconda3\\\\envs\\\\final\\\\lib\\\\site-packages\\\\IPython\\\\extensions',\n 'C:\\\\Users\\\\Mechano_2\\\\.ipython',\n 'C:\\\\Users\\\\Mechano_2\\\\PycharmProjects\\\\pro']"
     },
     "execution_count": 1,
     "metadata": {},
     "output_type": "execute_result"
    }
   ],
   "source": [
    "import sys\n",
    "sys.path.append(r'C:\\Users\\Mechano_2\\PycharmProjects\\pro')\n",
    "sys.path"
   ]
  },
  {
   "cell_type": "code",
   "execution_count": 79,
   "outputs": [
    {
     "data": {
      "text/plain": "<matplotlib.image.AxesImage at 0x27ca19f8c88>"
     },
     "execution_count": 79,
     "metadata": {},
     "output_type": "execute_result"
    },
    {
     "data": {
      "text/plain": "<Figure size 432x288 with 1 Axes>",
      "image/png": "[encoded data removed]"
     },
     "metadata": {
      "needs_background": "light"
     },
     "output_type": "display_data"
    }
   ],
   "source": [
    "import cv2\n",
    "import numpy as np\n",
    "import pandas as pd\n",
    "import matplotlib.pyplot as plt\n",
    "import tensorflow as tf\n",
    "from tensorflow import keras\n",
    "from tensorflow.keras import backend as K\n",
    "import skimage.measure\n",
    "\n",
    "\"\"\":parameter\"\"\"\n",
    "image = np.random.randint(0,255,(5,5)).astype('uint8')\n",
    "plt.imshow(image)"
   ],
   "metadata": {
    "collapsed": false,
    "pycharm": {
     "name": "#%%\n"
    }
   }
  },
  {
   "cell_type": "code",
   "execution_count": 87,
   "outputs": [
    {
     "name": "stdout",
     "output_type": "stream",
     "text": [
      "[[226 226 226 226 226 226 226]\n",
      " [226 185 138 211  90  20 226]\n",
      " [226  11 168 214   2 217 226]\n",
      " [226 157 172 184 177  34 226]\n",
      " [226 198  38  80 198  79 226]\n",
      " [226 155  83 226 174 112 226]\n",
      " [226 226 226 226 226 226 226]]\n",
      "[[11 11  2  2  2]\n",
      " [11 11  2  2  2]\n",
      " [11 11  2  2  2]\n",
      " [38 38 38 34 34]\n",
      " [38 38 38 79 79]]\n"
     ]
    }
   ],
   "source": [
    "import numpy as np\n",
    "from numpy.lib.stride_tricks import as_strided\n",
    "\n",
    "def pool2d(A, kernel_size, stride, pool_mode='max'):\n",
    "    '''\n",
    "    2D Pooling\n",
    "\n",
    "    Parameters:\n",
    "        A: input 2D array\n",
    "        kernel_size: int, the size of the window\n",
    "        stride: int, the stride of the window\n",
    "        padding: int, implicit zero paddings on both sides of the input\n",
    "        pool_mode: string, 'max' or 'avg'\n",
    "    '''\n",
    "    if pool_mode == 'min':\n",
    "        value = A.max()\n",
    "    else:\n",
    "        value = 0\n",
    "    # Padding\n",
    "    A = np.pad(A, kernel_size-2 , mode='constant', constant_values=value)\n",
    "    print(A)\n",
    "    # Window view of A\n",
    "    output_shape = ((A.shape[0] - kernel_size)//stride + 1,\n",
    "                    (A.shape[1] - kernel_size)//stride + 1)\n",
    "    kernel_size = (kernel_size, kernel_size)\n",
    "    A_w = as_strided(A, shape = output_shape + kernel_size,\n",
    "                        strides = (stride*A.strides[0],\n",
    "                                   stride*A.strides[1]) + A.strides)\n",
    "    A_w = A_w.reshape(-1, *kernel_size)\n",
    "\n",
    "    # Return the result of pooling\n",
    "    if pool_mode == 'max':\n",
    "        return A_w.max(axis=(1,2)).reshape(output_shape)\n",
    "    elif pool_mode == 'avg':\n",
    "        return A_w.mean(axis=(1,2)).reshape(output_shape)\n",
    "    elif pool_mode == 'min':\n",
    "        return A_w.min(axis=(1,2)).reshape(output_shape)\n",
    "\n",
    "b = pool2d(image, kernel_size=3,stride=1, pool_mode='min')\n",
    "print(b)"
   ],
   "metadata": {
    "collapsed": false,
    "pycharm": {
     "name": "#%%\n"
    }
   }
  }
 ],
 "metadata": {
  "kernelspec": {
   "display_name": "Python 3",
   "language": "python",
   "name": "python3"
  },
  "language_info": {
   "codemirror_mode": {
    "name": "ipython",
    "version": 2
   },
   "file_extension": ".py",
   "mimetype": "text/x-python",
   "name": "python",
   "nbconvert_exporter": "python",
   "pygments_lexer": "ipython2",
   "version": "2.7.6"
  }
 },
 "nbformat": 4,
 "nbformat_minor": 0
}